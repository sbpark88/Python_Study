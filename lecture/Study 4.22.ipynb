{
 "cells": [
  {
   "cell_type": "markdown",
   "metadata": {},
   "source": [
    "지난번 퀴즈 리뷰 (예외처리!) 스파크 퀴즈 크롤링"
   ]
  },
  {
   "cell_type": "code",
   "execution_count": 1,
   "metadata": {},
   "outputs": [],
   "source": [
    "from selenium import webdriver\n",
    "\n",
    "# Step 1. 크롬 드라이버 위치 설정.\n",
    "chr_driver_path = '/Applications/chromedriver'\n",
    "\n",
    "# Step 2. 크롬 드라이버가 사용할 크롬 브라우저의 옵션을 설정.\n",
    "options = webdriver.ChromeOptions()\n",
    "# options.add_argument('window-size=5120x2880') -> 작동이 안 된다.\n",
    "\n",
    "# Step 3. 위에 옵션을 활용하여 드라이버를 만든다.\n",
    "driver = webdriver.Chrome(chr_driver_path, options=options)\n",
    "# 혹시라도 창이 작아서 안 보이는 일이 없도록 최대화로 열기. -> 이걸 아래에 예외처리로 할거다.\n",
    "# driver = webdriver.Chrome(chr_driver_path)\n",
    "# driver.maximize_window()\n",
    "\n",
    "# Step 4. 스파크 홈페이지로 이동하기.\n",
    "spark_url = 'https://sparkkorea.com/'\n",
    "driver.get(spark_url)    # URL을 가지고 이동하는 방법. driver.get()\n",
    "# driver.current_url # 디버깅용."
   ]
  },
  {
   "cell_type": "code",
   "execution_count": 2,
   "metadata": {},
   "outputs": [
    {
     "name": "stdout",
     "output_type": "stream",
     "text": [
      "PC 접근\n"
     ]
    },
    {
     "data": {
      "text/plain": [
       "'https://sparkkorea.com/%ed%80%b4%ec%a6%88/'"
      ]
     },
     "execution_count": 2,
     "metadata": {},
     "output_type": "execute_result"
    }
   ],
   "source": [
    "# Step 5. 스파크 홈페이지 내에서 퀴즈로 이동하기.\n",
    "spark_main_xpath = '//*[@id=\"site-navigation\"]/button'\n",
    "spark_quiz_xpath = '//*[@id=\"menu-item-382\"]/a'\n",
    "\n",
    "try:\n",
    "    #(모바일 접속시 퀴즈 버튼이 바로 안 보임)\n",
    "    driver.find_element_by_xpath(spark_main_xpath).click()    # 메뉴를 먼저 찾고\n",
    "    driver.find_element_by_xpath(spark_quiz_xpath).click()    # 퀴즈 버튼을 찾아라\n",
    "    print(\"모바일 접근\")\n",
    "except Exception as e:\n",
    "    driver.find_element_by_xpath(spark_quiz_xpath).click()    # 퀴즈 버튼을 찾아라\n",
    "    print(\"PC 접근\")\n",
    "\n",
    "driver.current_url # 디버깅용."
   ]
  },
  {
   "cell_type": "markdown",
   "metadata": {},
   "source": [
    "# 공공 데이터 수집\n",
    "### 1. 파일 데이터 수집"
   ]
  },
  {
   "cell_type": "markdown",
   "metadata": {},
   "source": [
    "공공데이터포털에서 '주택금융관련 지수' - '지역별 PIR 및 LIR'을 불러와보자. '다운로드'를 누르면 csv파일이 다운로드가 되는데, 다운로드 누른 다음 그 다운로드 경로를 복사해 활용한다."
   ]
  },
  {
   "cell_type": "code",
   "execution_count": 21,
   "metadata": {},
   "outputs": [],
   "source": [
    "url = 'https://www.data.go.kr/cmm/cmm/fileDownload.do?atchFileId=FILE_000000001581679&fileDetailSn=1'\n",
    "\n",
    "import pandas as pd\n",
    "koreaPirLir = pd.read_csv(url, encoding='cp949')\n",
    "koreaPirLir\n",
    "\n",
    "# 어떤 지역 데이터가 있는지 컬럼 헤더를 조회해보자.\n",
    "koreaPirLir.columns\n",
    "\n",
    "# 서울 지역의 PIR 평균을 구해보자.\n",
    "import numpy as np\n",
    "np.average(koreaPirLir['서울PIR'])"
   ]
  },
  {
   "cell_type": "markdown",
   "metadata": {},
   "source": [
    "## 2. OpenAPI JSON 데이터 수집"
   ]
  },
  {
   "cell_type": "markdown",
   "metadata": {},
   "source": [
    "국가통계포털(KOSIS)에서 '행정구역(시군구)별, 성별 인구수'를 불러와보자. 활용 신청하고 URL 생성까지 해야한다."
   ]
  },
  {
   "cell_type": "markdown",
   "metadata": {},
   "source": [
    "### 방법 1. pd.json_normalize()"
   ]
  },
  {
   "cell_type": "code",
   "execution_count": 6,
   "metadata": {},
   "outputs": [
    {
     "data": {
      "text/html": [
       "<div>\n",
       "<style scoped>\n",
       "    .dataframe tbody tr th:only-of-type {\n",
       "        vertical-align: middle;\n",
       "    }\n",
       "\n",
       "    .dataframe tbody tr th {\n",
       "        vertical-align: top;\n",
       "    }\n",
       "\n",
       "    .dataframe thead th {\n",
       "        text-align: right;\n",
       "    }\n",
       "</style>\n",
       "<table border=\"1\" class=\"dataframe\">\n",
       "  <thead>\n",
       "    <tr style=\"text-align: right;\">\n",
       "      <th></th>\n",
       "      <th>TBL_NM</th>\n",
       "      <th>PRD_DE</th>\n",
       "      <th>TBL_ID</th>\n",
       "      <th>ITM_NM</th>\n",
       "      <th>ITM_NM_ENG</th>\n",
       "      <th>ITM_ID</th>\n",
       "      <th>UNIT_NM</th>\n",
       "      <th>ORG_ID</th>\n",
       "      <th>UNIT_NM_ENG</th>\n",
       "      <th>C1_OBJ_NM</th>\n",
       "      <th>C1_OBJ_NM_ENG</th>\n",
       "      <th>DT</th>\n",
       "      <th>PRD_SE</th>\n",
       "      <th>C1</th>\n",
       "      <th>C1_NM</th>\n",
       "      <th>C1_NM_ENG</th>\n",
       "    </tr>\n",
       "  </thead>\n",
       "  <tbody>\n",
       "    <tr>\n",
       "      <th>0</th>\n",
       "      <td>행정구역(시군구)별 성별 인구수</td>\n",
       "      <td>202004</td>\n",
       "      <td>DT_1B040A3</td>\n",
       "      <td>총인구수</td>\n",
       "      <td>Koreans (Total)</td>\n",
       "      <td>T20</td>\n",
       "      <td>명</td>\n",
       "      <td>101</td>\n",
       "      <td>Person</td>\n",
       "      <td>행정구역(시군구)별</td>\n",
       "      <td>By Administrative District</td>\n",
       "      <td>51842524</td>\n",
       "      <td>M</td>\n",
       "      <td>00</td>\n",
       "      <td>전국</td>\n",
       "      <td>Whole country</td>\n",
       "    </tr>\n",
       "    <tr>\n",
       "      <th>1</th>\n",
       "      <td>행정구역(시군구)별 성별 인구수</td>\n",
       "      <td>202004</td>\n",
       "      <td>DT_1B040A3</td>\n",
       "      <td>총인구수</td>\n",
       "      <td>Koreans (Total)</td>\n",
       "      <td>T20</td>\n",
       "      <td>명</td>\n",
       "      <td>101</td>\n",
       "      <td>Person</td>\n",
       "      <td>행정구역(시군구)별</td>\n",
       "      <td>By Administrative District</td>\n",
       "      <td>9726787</td>\n",
       "      <td>M</td>\n",
       "      <td>11</td>\n",
       "      <td>서울특별시</td>\n",
       "      <td>Seoul</td>\n",
       "    </tr>\n",
       "    <tr>\n",
       "      <th>2</th>\n",
       "      <td>행정구역(시군구)별 성별 인구수</td>\n",
       "      <td>202004</td>\n",
       "      <td>DT_1B040A3</td>\n",
       "      <td>총인구수</td>\n",
       "      <td>Koreans (Total)</td>\n",
       "      <td>T20</td>\n",
       "      <td>명</td>\n",
       "      <td>101</td>\n",
       "      <td>Person</td>\n",
       "      <td>행정구역(시군구)별</td>\n",
       "      <td>By Administrative District</td>\n",
       "      <td>3408347</td>\n",
       "      <td>M</td>\n",
       "      <td>26</td>\n",
       "      <td>부산광역시</td>\n",
       "      <td>Busan</td>\n",
       "    </tr>\n",
       "    <tr>\n",
       "      <th>3</th>\n",
       "      <td>행정구역(시군구)별 성별 인구수</td>\n",
       "      <td>202004</td>\n",
       "      <td>DT_1B040A3</td>\n",
       "      <td>총인구수</td>\n",
       "      <td>Koreans (Total)</td>\n",
       "      <td>T20</td>\n",
       "      <td>명</td>\n",
       "      <td>101</td>\n",
       "      <td>Person</td>\n",
       "      <td>행정구역(시군구)별</td>\n",
       "      <td>By Administrative District</td>\n",
       "      <td>2431523</td>\n",
       "      <td>M</td>\n",
       "      <td>27</td>\n",
       "      <td>대구광역시</td>\n",
       "      <td>Daegu</td>\n",
       "    </tr>\n",
       "    <tr>\n",
       "      <th>4</th>\n",
       "      <td>행정구역(시군구)별 성별 인구수</td>\n",
       "      <td>202004</td>\n",
       "      <td>DT_1B040A3</td>\n",
       "      <td>총인구수</td>\n",
       "      <td>Koreans (Total)</td>\n",
       "      <td>T20</td>\n",
       "      <td>명</td>\n",
       "      <td>101</td>\n",
       "      <td>Person</td>\n",
       "      <td>행정구역(시군구)별</td>\n",
       "      <td>By Administrative District</td>\n",
       "      <td>2950972</td>\n",
       "      <td>M</td>\n",
       "      <td>28</td>\n",
       "      <td>인천광역시</td>\n",
       "      <td>Incheon</td>\n",
       "    </tr>\n",
       "  </tbody>\n",
       "</table>\n",
       "</div>"
      ],
      "text/plain": [
       "              TBL_NM  PRD_DE      TBL_ID ITM_NM       ITM_NM_ENG ITM_ID  \\\n",
       "0  행정구역(시군구)별 성별 인구수  202004  DT_1B040A3   총인구수  Koreans (Total)    T20   \n",
       "1  행정구역(시군구)별 성별 인구수  202004  DT_1B040A3   총인구수  Koreans (Total)    T20   \n",
       "2  행정구역(시군구)별 성별 인구수  202004  DT_1B040A3   총인구수  Koreans (Total)    T20   \n",
       "3  행정구역(시군구)별 성별 인구수  202004  DT_1B040A3   총인구수  Koreans (Total)    T20   \n",
       "4  행정구역(시군구)별 성별 인구수  202004  DT_1B040A3   총인구수  Koreans (Total)    T20   \n",
       "\n",
       "  UNIT_NM ORG_ID UNIT_NM_ENG   C1_OBJ_NM               C1_OBJ_NM_ENG  \\\n",
       "0       명    101      Person  행정구역(시군구)별  By Administrative District   \n",
       "1       명    101      Person  행정구역(시군구)별  By Administrative District   \n",
       "2       명    101      Person  행정구역(시군구)별  By Administrative District   \n",
       "3       명    101      Person  행정구역(시군구)별  By Administrative District   \n",
       "4       명    101      Person  행정구역(시군구)별  By Administrative District   \n",
       "\n",
       "         DT PRD_SE  C1  C1_NM      C1_NM_ENG  \n",
       "0  51842524      M  00     전국  Whole country  \n",
       "1   9726787      M  11  서울특별시          Seoul  \n",
       "2   3408347      M  26  부산광역시          Busan  \n",
       "3   2431523      M  27  대구광역시          Daegu  \n",
       "4   2950972      M  28  인천광역시        Incheon  "
      ]
     },
     "execution_count": 6,
     "metadata": {},
     "output_type": "execute_result"
    }
   ],
   "source": [
    "jsonUrl = 'http://kosis.kr/openapi/statisticsData.do?method=getList&apiKey=OGM2N2RlYTNmMjQ2MGY3NWEyYzg5MGU2NmJjYTI4Zjg=&format=json&jsonVD=Y&userStatsId=ox8eb1f9/101/DT_1B040A3/2/1/20200505230018&prdSe=M&newEstPrdCnt=1'\n",
    "\n",
    "import pandas as pd\n",
    "import requests\n",
    "\n",
    "# 정상 여부 확인\n",
    "response = requests.get(jsonUrl)\n",
    "response\n",
    "\n",
    "# JSON 데이터 획득\n",
    "json = response.json()\n",
    "# json\n",
    "\n",
    "# 데이터프레임으로 저장\n",
    "population = pd.json_normalize(json)\n",
    "population.head()"
   ]
  },
  {
   "cell_type": "markdown",
   "metadata": {},
   "source": [
    "### 방법 2. pd.read_json()"
   ]
  },
  {
   "cell_type": "code",
   "execution_count": 4,
   "metadata": {},
   "outputs": [
    {
     "data": {
      "text/html": [
       "<div>\n",
       "<style scoped>\n",
       "    .dataframe tbody tr th:only-of-type {\n",
       "        vertical-align: middle;\n",
       "    }\n",
       "\n",
       "    .dataframe tbody tr th {\n",
       "        vertical-align: top;\n",
       "    }\n",
       "\n",
       "    .dataframe thead th {\n",
       "        text-align: right;\n",
       "    }\n",
       "</style>\n",
       "<table border=\"1\" class=\"dataframe\">\n",
       "  <thead>\n",
       "    <tr style=\"text-align: right;\">\n",
       "      <th></th>\n",
       "      <th>TBL_NM</th>\n",
       "      <th>PRD_DE</th>\n",
       "      <th>TBL_ID</th>\n",
       "      <th>ITM_NM</th>\n",
       "      <th>ITM_NM_ENG</th>\n",
       "      <th>ITM_ID</th>\n",
       "      <th>UNIT_NM</th>\n",
       "      <th>ORG_ID</th>\n",
       "      <th>UNIT_NM_ENG</th>\n",
       "      <th>C1_OBJ_NM</th>\n",
       "      <th>C1_OBJ_NM_ENG</th>\n",
       "      <th>DT</th>\n",
       "      <th>PRD_SE</th>\n",
       "      <th>C1</th>\n",
       "      <th>C1_NM</th>\n",
       "      <th>C1_NM_ENG</th>\n",
       "    </tr>\n",
       "  </thead>\n",
       "  <tbody>\n",
       "    <tr>\n",
       "      <th>0</th>\n",
       "      <td>행정구역(시군구)별 성별 인구수</td>\n",
       "      <td>202004</td>\n",
       "      <td>DT_1B040A3</td>\n",
       "      <td>총인구수</td>\n",
       "      <td>Koreans (Total)</td>\n",
       "      <td>T20</td>\n",
       "      <td>명</td>\n",
       "      <td>101</td>\n",
       "      <td>Person</td>\n",
       "      <td>행정구역(시군구)별</td>\n",
       "      <td>By Administrative District</td>\n",
       "      <td>51842524</td>\n",
       "      <td>M</td>\n",
       "      <td>0</td>\n",
       "      <td>전국</td>\n",
       "      <td>Whole country</td>\n",
       "    </tr>\n",
       "    <tr>\n",
       "      <th>1</th>\n",
       "      <td>행정구역(시군구)별 성별 인구수</td>\n",
       "      <td>202004</td>\n",
       "      <td>DT_1B040A3</td>\n",
       "      <td>총인구수</td>\n",
       "      <td>Koreans (Total)</td>\n",
       "      <td>T20</td>\n",
       "      <td>명</td>\n",
       "      <td>101</td>\n",
       "      <td>Person</td>\n",
       "      <td>행정구역(시군구)별</td>\n",
       "      <td>By Administrative District</td>\n",
       "      <td>9726787</td>\n",
       "      <td>M</td>\n",
       "      <td>11</td>\n",
       "      <td>서울특별시</td>\n",
       "      <td>Seoul</td>\n",
       "    </tr>\n",
       "    <tr>\n",
       "      <th>2</th>\n",
       "      <td>행정구역(시군구)별 성별 인구수</td>\n",
       "      <td>202004</td>\n",
       "      <td>DT_1B040A3</td>\n",
       "      <td>총인구수</td>\n",
       "      <td>Koreans (Total)</td>\n",
       "      <td>T20</td>\n",
       "      <td>명</td>\n",
       "      <td>101</td>\n",
       "      <td>Person</td>\n",
       "      <td>행정구역(시군구)별</td>\n",
       "      <td>By Administrative District</td>\n",
       "      <td>3408347</td>\n",
       "      <td>M</td>\n",
       "      <td>26</td>\n",
       "      <td>부산광역시</td>\n",
       "      <td>Busan</td>\n",
       "    </tr>\n",
       "    <tr>\n",
       "      <th>3</th>\n",
       "      <td>행정구역(시군구)별 성별 인구수</td>\n",
       "      <td>202004</td>\n",
       "      <td>DT_1B040A3</td>\n",
       "      <td>총인구수</td>\n",
       "      <td>Koreans (Total)</td>\n",
       "      <td>T20</td>\n",
       "      <td>명</td>\n",
       "      <td>101</td>\n",
       "      <td>Person</td>\n",
       "      <td>행정구역(시군구)별</td>\n",
       "      <td>By Administrative District</td>\n",
       "      <td>2431523</td>\n",
       "      <td>M</td>\n",
       "      <td>27</td>\n",
       "      <td>대구광역시</td>\n",
       "      <td>Daegu</td>\n",
       "    </tr>\n",
       "    <tr>\n",
       "      <th>4</th>\n",
       "      <td>행정구역(시군구)별 성별 인구수</td>\n",
       "      <td>202004</td>\n",
       "      <td>DT_1B040A3</td>\n",
       "      <td>총인구수</td>\n",
       "      <td>Koreans (Total)</td>\n",
       "      <td>T20</td>\n",
       "      <td>명</td>\n",
       "      <td>101</td>\n",
       "      <td>Person</td>\n",
       "      <td>행정구역(시군구)별</td>\n",
       "      <td>By Administrative District</td>\n",
       "      <td>2950972</td>\n",
       "      <td>M</td>\n",
       "      <td>28</td>\n",
       "      <td>인천광역시</td>\n",
       "      <td>Incheon</td>\n",
       "    </tr>\n",
       "  </tbody>\n",
       "</table>\n",
       "</div>"
      ],
      "text/plain": [
       "              TBL_NM  PRD_DE      TBL_ID ITM_NM       ITM_NM_ENG ITM_ID  \\\n",
       "0  행정구역(시군구)별 성별 인구수  202004  DT_1B040A3   총인구수  Koreans (Total)    T20   \n",
       "1  행정구역(시군구)별 성별 인구수  202004  DT_1B040A3   총인구수  Koreans (Total)    T20   \n",
       "2  행정구역(시군구)별 성별 인구수  202004  DT_1B040A3   총인구수  Koreans (Total)    T20   \n",
       "3  행정구역(시군구)별 성별 인구수  202004  DT_1B040A3   총인구수  Koreans (Total)    T20   \n",
       "4  행정구역(시군구)별 성별 인구수  202004  DT_1B040A3   총인구수  Koreans (Total)    T20   \n",
       "\n",
       "  UNIT_NM  ORG_ID UNIT_NM_ENG   C1_OBJ_NM               C1_OBJ_NM_ENG  \\\n",
       "0       명     101      Person  행정구역(시군구)별  By Administrative District   \n",
       "1       명     101      Person  행정구역(시군구)별  By Administrative District   \n",
       "2       명     101      Person  행정구역(시군구)별  By Administrative District   \n",
       "3       명     101      Person  행정구역(시군구)별  By Administrative District   \n",
       "4       명     101      Person  행정구역(시군구)별  By Administrative District   \n",
       "\n",
       "         DT PRD_SE  C1  C1_NM      C1_NM_ENG  \n",
       "0  51842524      M   0     전국  Whole country  \n",
       "1   9726787      M  11  서울특별시          Seoul  \n",
       "2   3408347      M  26  부산광역시          Busan  \n",
       "3   2431523      M  27  대구광역시          Daegu  \n",
       "4   2950972      M  28  인천광역시        Incheon  "
      ]
     },
     "execution_count": 4,
     "metadata": {},
     "output_type": "execute_result"
    }
   ],
   "source": [
    "jsonUrl = 'http://kosis.kr/openapi/statisticsData.do?method=getList&apiKey=OGM2N2RlYTNmMjQ2MGY3NWEyYzg5MGU2NmJjYTI4Zjg=&format=json&jsonVD=Y&userStatsId=ox8eb1f9/101/DT_1B040A3/2/1/20200505230018&prdSe=M&newEstPrdCnt=1'\n",
    "\n",
    "import pandas as pd\n",
    "import requests\n",
    "\n",
    "try:\n",
    "    response = requests.get(jsonUrl)\n",
    "    if response.status_code == 200:\n",
    "        population = pd.read_json(jsonUrl)\n",
    "    else:\n",
    "        response.close()\n",
    "except Exception as e:\n",
    "    print(e)\n",
    "\n",
    "population.head()"
   ]
  },
  {
   "cell_type": "markdown",
   "metadata": {},
   "source": [
    "## 3. OpenAPI XML 데이터 수집"
   ]
  },
  {
   "cell_type": "markdown",
   "metadata": {},
   "source": [
    "공공데이터포털에서 '아파트매매 실거래 상세 자료'를 불러와보자."
   ]
  },
  {
   "cell_type": "code",
   "execution_count": 7,
   "metadata": {},
   "outputs": [],
   "source": [
    "# EndPoint\n",
    "xmlUrl = 'http://openapi.molit.go.kr/OpenAPI_ToolInstallPackage/service/rest/RTMSOBJSvc/getRTMSDataSvcAptTradeDev?_wadl&type=xml'"
   ]
  },
  {
   "cell_type": "code",
   "execution_count": 1,
   "metadata": {},
   "outputs": [],
   "source": [
    "# Service URL\n",
    "xmlUrl = 'http://openapi.molit.go.kr/OpenAPI_ToolInstallPackage/service/rest/RTMSOBJSvc/getRTMSDataSvcAptTradeDev'"
   ]
  },
  {
   "cell_type": "markdown",
   "metadata": {},
   "source": [
    "### 일반 방법"
   ]
  },
  {
   "cell_type": "code",
   "execution_count": 2,
   "metadata": {},
   "outputs": [],
   "source": [
    "import requests, bs4\n",
    "import pandas as pd\n",
    "from lxml import html"
   ]
  },
  {
   "cell_type": "code",
   "execution_count": 3,
   "metadata": {},
   "outputs": [],
   "source": [
    "# xml 데이터 불러오기.\n",
    "response = requests.get(xmlUrl).text.encode('utf-8')\n",
    "xmlobj = bs4.BeautifulSoup(response, 'lxml-xml')    # 이번에는 'html.parser'가 아니라 'lxml-xml'이다.\n",
    "# xmlobj # 디버깅용."
   ]
  },
  {
   "cell_type": "markdown",
   "metadata": {},
   "source": [
    "### 파라미터 분리 방법"
   ]
  },
  {
   "cell_type": "code",
   "execution_count": 4,
   "metadata": {},
   "outputs": [],
   "source": [
    "from urllib.request import Request, urlopen\n",
    "from urllib.parse import urlencode, quote_plus, unquote"
   ]
  },
  {
   "cell_type": "code",
   "execution_count": 5,
   "metadata": {},
   "outputs": [],
   "source": [
    "# 파라미터 분리하기\n",
    "My_API_Key = unquote('Agq7hySmyMi1FFU9kYibP+EnxYepQ/B6Dn+w9lsYKVSCDjTwIdvpjmuhJrtyQrhipg3F3a4jbSq/LxHi/dUIoQ==')    # 사용자 인증키\n",
    "\n",
    "queryParams = '?' + urlencode(\n",
    "    {\n",
    "        quote_plus('ServiceKey') : My_API_Key,\n",
    "        quote_plus('LAWD_CD'): '11110',\n",
    "        quote_plus('DEAL_YMD'): '201512'\n",
    "     }\n",
    ")"
   ]
  },
  {
   "cell_type": "code",
   "execution_count": 6,
   "metadata": {},
   "outputs": [
    {
     "data": {
      "text/plain": [
       "<?xml version=\"1.0\" encoding=\"utf-8\"?>\n",
       "<response><header><resultCode>99</resultCode><resultMsg>INVALID REQUEST PARAMETER ERROR.</resultMsg></header></response>"
      ]
     },
     "execution_count": 6,
     "metadata": {},
     "output_type": "execute_result"
    }
   ],
   "source": [
    "xmlobj"
   ]
  },
  {
   "cell_type": "code",
   "execution_count": null,
   "metadata": {},
   "outputs": [],
   "source": [
    "http://openapi.molit.go.kr/OpenAPI_ToolInstallPackage/service/rest/RTMSOBJSvc/getRTMSDataSvcAptTradeDev\n",
    "    ?LAWD_CD=11110&DEAL_YMD=201512&serviceKey=AT33s775KYpJOkUBJu0dxkJuUeIfDIOJRzAH084EQS3JN%2BzFjErLHuk%2FGZa9L4gBTSGCzeA69tI9PwLp7B37IQ%3D%3D"
   ]
  },
  {
   "cell_type": "code",
   "execution_count": null,
   "metadata": {},
   "outputs": [],
   "source": [
    "API_Key = unquote('sjOpJdbWHR3lhq4f8w5Dg6lc6IDZPdXeue%2BzGqY47h4Jp4sKy8SE5wKtpoHT7yfpI1NMFLyMMYHSiY4MNP6dhQ%3D%3D')\n",
    "url = 'http://openapi.molit.go.kr/OpenAPI_ToolInstallPackage/service/rest/RTMSOBJSvc/getRTMSDataSvcAptTradeDev'"
   ]
  },
  {
   "cell_type": "code",
   "execution_count": null,
   "metadata": {},
   "outputs": [],
   "source": []
  },
  {
   "cell_type": "code",
   "execution_count": null,
   "metadata": {},
   "outputs": [],
   "source": [
    "한국환경공단_미세먼지 경보 발령 현황\n",
    "http://openapi.airkorea.or.kr/openapi/services/rest/UlfptcaAlarmInqireSvc"
   ]
  },
  {
   "cell_type": "code",
   "execution_count": null,
   "metadata": {},
   "outputs": [],
   "source": []
  },
  {
   "cell_type": "markdown",
   "metadata": {},
   "source": [
    "# 4.27 수업 분"
   ]
  },
  {
   "cell_type": "code",
   "execution_count": 11,
   "metadata": {},
   "outputs": [],
   "source": [
    "import pandas as pd"
   ]
  },
  {
   "cell_type": "code",
   "execution_count": 12,
   "metadata": {},
   "outputs": [],
   "source": [
    "population_url = 'https://www.data.go.kr/cmm/cmm/fileDownload.do?atchFileId=FILE_000000001581679&fileDetailSn=1'"
   ]
  },
  {
   "cell_type": "code",
   "execution_count": 13,
   "metadata": {},
   "outputs": [
    {
     "data": {
      "text/html": [
       "<div>\n",
       "<style scoped>\n",
       "    .dataframe tbody tr th:only-of-type {\n",
       "        vertical-align: middle;\n",
       "    }\n",
       "\n",
       "    .dataframe tbody tr th {\n",
       "        vertical-align: top;\n",
       "    }\n",
       "\n",
       "    .dataframe thead th {\n",
       "        text-align: right;\n",
       "    }\n",
       "</style>\n",
       "<table border=\"1\" class=\"dataframe\">\n",
       "  <thead>\n",
       "    <tr style=\"text-align: right;\">\n",
       "      <th></th>\n",
       "      <th>연도</th>\n",
       "      <th>월</th>\n",
       "      <th>전국PIR</th>\n",
       "      <th>서울PIR</th>\n",
       "      <th>부산PIR</th>\n",
       "      <th>대구PIR</th>\n",
       "      <th>인천PIR</th>\n",
       "      <th>광주PIR</th>\n",
       "      <th>대전PIR</th>\n",
       "      <th>울산PIR</th>\n",
       "      <th>...</th>\n",
       "      <th>세종LIR</th>\n",
       "      <th>경기LIR</th>\n",
       "      <th>강원LIR</th>\n",
       "      <th>충북LIR</th>\n",
       "      <th>충남LIR</th>\n",
       "      <th>전북LIR</th>\n",
       "      <th>전남LIR</th>\n",
       "      <th>경북LIR</th>\n",
       "      <th>경남LIR</th>\n",
       "      <th>제주LIR</th>\n",
       "    </tr>\n",
       "  </thead>\n",
       "  <tbody>\n",
       "    <tr>\n",
       "      <th>0</th>\n",
       "      <td>2004</td>\n",
       "      <td>3</td>\n",
       "      <td>4.21</td>\n",
       "      <td>4.89</td>\n",
       "      <td>3.95</td>\n",
       "      <td>3.73</td>\n",
       "      <td>4.65</td>\n",
       "      <td>2.81</td>\n",
       "      <td>4.68</td>\n",
       "      <td>2.66</td>\n",
       "      <td>...</td>\n",
       "      <td>-</td>\n",
       "      <td>2.42</td>\n",
       "      <td>1.44</td>\n",
       "      <td>1.53</td>\n",
       "      <td>1.21</td>\n",
       "      <td>1.90</td>\n",
       "      <td>1.42</td>\n",
       "      <td>1.31</td>\n",
       "      <td>2.06</td>\n",
       "      <td>1.28</td>\n",
       "    </tr>\n",
       "    <tr>\n",
       "      <th>1</th>\n",
       "      <td>2004</td>\n",
       "      <td>4</td>\n",
       "      <td>4.39</td>\n",
       "      <td>5.59</td>\n",
       "      <td>3.91</td>\n",
       "      <td>3.88</td>\n",
       "      <td>4.59</td>\n",
       "      <td>2.92</td>\n",
       "      <td>3.83</td>\n",
       "      <td>2.74</td>\n",
       "      <td>...</td>\n",
       "      <td>-</td>\n",
       "      <td>2.79</td>\n",
       "      <td>1.18</td>\n",
       "      <td>1.71</td>\n",
       "      <td>1.97</td>\n",
       "      <td>1.57</td>\n",
       "      <td>1.33</td>\n",
       "      <td>1.26</td>\n",
       "      <td>1.92</td>\n",
       "      <td>2.46</td>\n",
       "    </tr>\n",
       "    <tr>\n",
       "      <th>2</th>\n",
       "      <td>2004</td>\n",
       "      <td>5</td>\n",
       "      <td>4.19</td>\n",
       "      <td>5.14</td>\n",
       "      <td>4.90</td>\n",
       "      <td>3.83</td>\n",
       "      <td>4.78</td>\n",
       "      <td>3.41</td>\n",
       "      <td>4.19</td>\n",
       "      <td>2.93</td>\n",
       "      <td>...</td>\n",
       "      <td>-</td>\n",
       "      <td>2.22</td>\n",
       "      <td>1.44</td>\n",
       "      <td>1.72</td>\n",
       "      <td>1.85</td>\n",
       "      <td>1.75</td>\n",
       "      <td>1.31</td>\n",
       "      <td>1.50</td>\n",
       "      <td>1.85</td>\n",
       "      <td>2.14</td>\n",
       "    </tr>\n",
       "    <tr>\n",
       "      <th>3</th>\n",
       "      <td>2004</td>\n",
       "      <td>6</td>\n",
       "      <td>4.09</td>\n",
       "      <td>4.38</td>\n",
       "      <td>4.20</td>\n",
       "      <td>3.77</td>\n",
       "      <td>4.30</td>\n",
       "      <td>2.83</td>\n",
       "      <td>4.19</td>\n",
       "      <td>2.81</td>\n",
       "      <td>...</td>\n",
       "      <td>-</td>\n",
       "      <td>2.62</td>\n",
       "      <td>1.53</td>\n",
       "      <td>1.57</td>\n",
       "      <td>1.79</td>\n",
       "      <td>1.64</td>\n",
       "      <td>1.19</td>\n",
       "      <td>1.56</td>\n",
       "      <td>1.89</td>\n",
       "      <td>1.81</td>\n",
       "    </tr>\n",
       "    <tr>\n",
       "      <th>4</th>\n",
       "      <td>2004</td>\n",
       "      <td>7</td>\n",
       "      <td>4.29</td>\n",
       "      <td>5.88</td>\n",
       "      <td>4.43</td>\n",
       "      <td>4.28</td>\n",
       "      <td>4.81</td>\n",
       "      <td>3.32</td>\n",
       "      <td>4.35</td>\n",
       "      <td>2.54</td>\n",
       "      <td>...</td>\n",
       "      <td>-</td>\n",
       "      <td>2.41</td>\n",
       "      <td>1.68</td>\n",
       "      <td>1.91</td>\n",
       "      <td>2.15</td>\n",
       "      <td>1.64</td>\n",
       "      <td>1.36</td>\n",
       "      <td>1.50</td>\n",
       "      <td>1.93</td>\n",
       "      <td>2.63</td>\n",
       "    </tr>\n",
       "    <tr>\n",
       "      <th>...</th>\n",
       "      <td>...</td>\n",
       "      <td>...</td>\n",
       "      <td>...</td>\n",
       "      <td>...</td>\n",
       "      <td>...</td>\n",
       "      <td>...</td>\n",
       "      <td>...</td>\n",
       "      <td>...</td>\n",
       "      <td>...</td>\n",
       "      <td>...</td>\n",
       "      <td>...</td>\n",
       "      <td>...</td>\n",
       "      <td>...</td>\n",
       "      <td>...</td>\n",
       "      <td>...</td>\n",
       "      <td>...</td>\n",
       "      <td>...</td>\n",
       "      <td>...</td>\n",
       "      <td>...</td>\n",
       "      <td>...</td>\n",
       "      <td>...</td>\n",
       "    </tr>\n",
       "    <tr>\n",
       "      <th>157</th>\n",
       "      <td>2017</td>\n",
       "      <td>4</td>\n",
       "      <td>5.58</td>\n",
       "      <td>7.11</td>\n",
       "      <td>5.81</td>\n",
       "      <td>5.66</td>\n",
       "      <td>5.65</td>\n",
       "      <td>5.05</td>\n",
       "      <td>5.23</td>\n",
       "      <td>5.59</td>\n",
       "      <td>...</td>\n",
       "      <td>3.17</td>\n",
       "      <td>2.96</td>\n",
       "      <td>2.12</td>\n",
       "      <td>2.42</td>\n",
       "      <td>2.39</td>\n",
       "      <td>2.07</td>\n",
       "      <td>2.15</td>\n",
       "      <td>2.44</td>\n",
       "      <td>2.66</td>\n",
       "      <td>3.55</td>\n",
       "    </tr>\n",
       "    <tr>\n",
       "      <th>158</th>\n",
       "      <td>2017</td>\n",
       "      <td>5</td>\n",
       "      <td>5.69</td>\n",
       "      <td>7.13</td>\n",
       "      <td>5.73</td>\n",
       "      <td>5.93</td>\n",
       "      <td>5.58</td>\n",
       "      <td>5.18</td>\n",
       "      <td>5.45</td>\n",
       "      <td>5.24</td>\n",
       "      <td>...</td>\n",
       "      <td>3.17</td>\n",
       "      <td>2.99</td>\n",
       "      <td>2.22</td>\n",
       "      <td>2.25</td>\n",
       "      <td>2.39</td>\n",
       "      <td>2.31</td>\n",
       "      <td>2.08</td>\n",
       "      <td>2.18</td>\n",
       "      <td>2.80</td>\n",
       "      <td>3.23</td>\n",
       "    </tr>\n",
       "    <tr>\n",
       "      <th>159</th>\n",
       "      <td>2017</td>\n",
       "      <td>6</td>\n",
       "      <td>5.75</td>\n",
       "      <td>7.49</td>\n",
       "      <td>6.17</td>\n",
       "      <td>6.04</td>\n",
       "      <td>5.83</td>\n",
       "      <td>5.13</td>\n",
       "      <td>5.05</td>\n",
       "      <td>5.61</td>\n",
       "      <td>...</td>\n",
       "      <td>2.86</td>\n",
       "      <td>2.99</td>\n",
       "      <td>2.17</td>\n",
       "      <td>2.19</td>\n",
       "      <td>2.28</td>\n",
       "      <td>2.35</td>\n",
       "      <td>2.16</td>\n",
       "      <td>2.32</td>\n",
       "      <td>2.70</td>\n",
       "      <td>3.07</td>\n",
       "    </tr>\n",
       "    <tr>\n",
       "      <th>160</th>\n",
       "      <td>2017</td>\n",
       "      <td>7</td>\n",
       "      <td>5.79</td>\n",
       "      <td>7.87</td>\n",
       "      <td>6.13</td>\n",
       "      <td>5.91</td>\n",
       "      <td>5.83</td>\n",
       "      <td>4.94</td>\n",
       "      <td>5.10</td>\n",
       "      <td>5.24</td>\n",
       "      <td>...</td>\n",
       "      <td>3.25</td>\n",
       "      <td>3.09</td>\n",
       "      <td>2.49</td>\n",
       "      <td>2.14</td>\n",
       "      <td>2.21</td>\n",
       "      <td>2.33</td>\n",
       "      <td>1.90</td>\n",
       "      <td>2.60</td>\n",
       "      <td>2.54</td>\n",
       "      <td>2.86</td>\n",
       "    </tr>\n",
       "    <tr>\n",
       "      <th>161</th>\n",
       "      <td>2017</td>\n",
       "      <td>8</td>\n",
       "      <td>6.01</td>\n",
       "      <td>8.18</td>\n",
       "      <td>6.15</td>\n",
       "      <td>6.25</td>\n",
       "      <td>6.00</td>\n",
       "      <td>5.38</td>\n",
       "      <td>5.23</td>\n",
       "      <td>5.62</td>\n",
       "      <td>...</td>\n",
       "      <td>2.56</td>\n",
       "      <td>2.98</td>\n",
       "      <td>1.96</td>\n",
       "      <td>2.19</td>\n",
       "      <td>2.13</td>\n",
       "      <td>2.43</td>\n",
       "      <td>2.28</td>\n",
       "      <td>2.17</td>\n",
       "      <td>2.52</td>\n",
       "      <td>2.83</td>\n",
       "    </tr>\n",
       "  </tbody>\n",
       "</table>\n",
       "<p>162 rows × 38 columns</p>\n",
       "</div>"
      ],
      "text/plain": [
       "       연도  월  전국PIR  서울PIR  부산PIR  대구PIR  인천PIR  광주PIR  대전PIR  울산PIR  ...  \\\n",
       "0    2004  3   4.21   4.89   3.95   3.73   4.65   2.81   4.68   2.66  ...   \n",
       "1    2004  4   4.39   5.59   3.91   3.88   4.59   2.92   3.83   2.74  ...   \n",
       "2    2004  5   4.19   5.14   4.90   3.83   4.78   3.41   4.19   2.93  ...   \n",
       "3    2004  6   4.09   4.38   4.20   3.77   4.30   2.83   4.19   2.81  ...   \n",
       "4    2004  7   4.29   5.88   4.43   4.28   4.81   3.32   4.35   2.54  ...   \n",
       "..    ... ..    ...    ...    ...    ...    ...    ...    ...    ...  ...   \n",
       "157  2017  4   5.58   7.11   5.81   5.66   5.65   5.05   5.23   5.59  ...   \n",
       "158  2017  5   5.69   7.13   5.73   5.93   5.58   5.18   5.45   5.24  ...   \n",
       "159  2017  6   5.75   7.49   6.17   6.04   5.83   5.13   5.05   5.61  ...   \n",
       "160  2017  7   5.79   7.87   6.13   5.91   5.83   4.94   5.10   5.24  ...   \n",
       "161  2017  8   6.01   8.18   6.15   6.25   6.00   5.38   5.23   5.62  ...   \n",
       "\n",
       "    세종LIR  경기LIR  강원LIR  충북LIR  충남LIR  전북LIR  전남LIR  경북LIR  경남LIR  제주LIR  \n",
       "0       -   2.42   1.44   1.53   1.21   1.90   1.42   1.31   2.06   1.28  \n",
       "1       -   2.79   1.18   1.71   1.97   1.57   1.33   1.26   1.92   2.46  \n",
       "2       -   2.22   1.44   1.72   1.85   1.75   1.31   1.50   1.85   2.14  \n",
       "3       -   2.62   1.53   1.57   1.79   1.64   1.19   1.56   1.89   1.81  \n",
       "4       -   2.41   1.68   1.91   2.15   1.64   1.36   1.50   1.93   2.63  \n",
       "..    ...    ...    ...    ...    ...    ...    ...    ...    ...    ...  \n",
       "157  3.17   2.96   2.12   2.42   2.39   2.07   2.15   2.44   2.66   3.55  \n",
       "158  3.17   2.99   2.22   2.25   2.39   2.31   2.08   2.18   2.80   3.23  \n",
       "159  2.86   2.99   2.17   2.19   2.28   2.35   2.16   2.32   2.70   3.07  \n",
       "160  3.25   3.09   2.49   2.14   2.21   2.33   1.90   2.60   2.54   2.86  \n",
       "161  2.56   2.98   1.96   2.19   2.13   2.43   2.28   2.17   2.52   2.83  \n",
       "\n",
       "[162 rows x 38 columns]"
      ]
     },
     "execution_count": 13,
     "metadata": {},
     "output_type": "execute_result"
    }
   ],
   "source": [
    "pd.read_csv(population_url, encoding='cp949')"
   ]
  },
  {
   "cell_type": "markdown",
   "metadata": {},
   "source": [
    "공공데이터 포털 API 데이터 불러오기 (4-2 외부데이터 P.48)"
   ]
  },
  {
   "cell_type": "code",
   "execution_count": 14,
   "metadata": {},
   "outputs": [
    {
     "data": {
      "text/plain": [
       "['82,500', '2008']"
      ]
     },
     "execution_count": 14,
     "metadata": {},
     "output_type": "execute_result"
    }
   ],
   "source": [
    "rowList = []\n",
    "columnList = []\n",
    "\n",
    "columnList.append(\"82,500\")\n",
    "columnList.append(\"2008\")\n",
    "columnList"
   ]
  },
  {
   "cell_type": "code",
   "execution_count": 15,
   "metadata": {},
   "outputs": [
    {
     "data": {
      "text/plain": [
       "[['82,500', '2008']]"
      ]
     },
     "execution_count": 15,
     "metadata": {},
     "output_type": "execute_result"
    }
   ],
   "source": [
    "rowList.append(columnList)\n",
    "rowList"
   ]
  },
  {
   "cell_type": "code",
   "execution_count": 16,
   "metadata": {},
   "outputs": [],
   "source": [
    "columnList = [] # 다음 rows에 넣기 위해 비워준다."
   ]
  },
  {
   "cell_type": "code",
   "execution_count": 17,
   "metadata": {},
   "outputs": [
    {
     "data": {
      "text/plain": [
       "[['82,500', '2008'], ['60,000', '1982']]"
      ]
     },
     "execution_count": 17,
     "metadata": {},
     "output_type": "execute_result"
    }
   ],
   "source": [
    "columnList.append(\"60,000\")\n",
    "columnList.append(\"1982\")\n",
    "rowList.append(columnList)\n",
    "columnList = []\n",
    "rowList"
   ]
  },
  {
   "cell_type": "code",
   "execution_count": 18,
   "metadata": {},
   "outputs": [
    {
     "data": {
      "text/html": [
       "<div>\n",
       "<style scoped>\n",
       "    .dataframe tbody tr th:only-of-type {\n",
       "        vertical-align: middle;\n",
       "    }\n",
       "\n",
       "    .dataframe tbody tr th {\n",
       "        vertical-align: top;\n",
       "    }\n",
       "\n",
       "    .dataframe thead th {\n",
       "        text-align: right;\n",
       "    }\n",
       "</style>\n",
       "<table border=\"1\" class=\"dataframe\">\n",
       "  <thead>\n",
       "    <tr style=\"text-align: right;\">\n",
       "      <th></th>\n",
       "      <th>0</th>\n",
       "      <th>1</th>\n",
       "    </tr>\n",
       "  </thead>\n",
       "  <tbody>\n",
       "    <tr>\n",
       "      <th>0</th>\n",
       "      <td>82,500</td>\n",
       "      <td>2008</td>\n",
       "    </tr>\n",
       "    <tr>\n",
       "      <th>1</th>\n",
       "      <td>60,000</td>\n",
       "      <td>1982</td>\n",
       "    </tr>\n",
       "  </tbody>\n",
       "</table>\n",
       "</div>"
      ],
      "text/plain": [
       "        0     1\n",
       "0  82,500  2008\n",
       "1  60,000  1982"
      ]
     },
     "execution_count": 18,
     "metadata": {},
     "output_type": "execute_result"
    }
   ],
   "source": [
    "pd.DataFrame(rowList)"
   ]
  },
  {
   "cell_type": "markdown",
   "metadata": {},
   "source": [
    "P.49"
   ]
  },
  {
   "cell_type": "code",
   "execution_count": null,
   "metadata": {},
   "outputs": [],
   "source": [
    "# 수업 예제 URL\n",
    "http://openapi.molit.go.kr/OpenAPI_ToolInstallPackage/service/rest/RTMSOBJSvc\\\n",
    "/getRTMSDataSvcAptTradeDev?LAWD_CD=11110&DEAL_YMD=201512&serviceKey=AT33s775KYpJOkUBJu0dxkJuUeIfDIOJRzAH084EQS3JN%2BzFjErLHuk%2FGZa9L4gBTSGCzeA69tI9PwLp7B37IQ%3D%3D"
   ]
  },
  {
   "cell_type": "code",
   "execution_count": 20,
   "metadata": {},
   "outputs": [],
   "source": [
    "import requests\n",
    "from bs4 import BeautifulSoup\n",
    "import pandas as pd\n",
    "from lxml import html"
   ]
  },
  {
   "cell_type": "code",
   "execution_count": 21,
   "metadata": {},
   "outputs": [],
   "source": [
    "exampleUrl = 'http://openapi.molit.go.kr/OpenAPI_ToolInstallPackage/service/rest/RTMSOBJSvc\\\n",
    "/getRTMSDataSvcAptTradeDev?LAWD_CD=11110&DEAL_YMD=201512&serviceKey=AT33s775KYpJOkUBJu0dxkJuUeIfDIOJRzAH084EQS3JN%2BzFjErLHuk%2FGZa9L4gBTSGCzeA69tI9PwLp7B37IQ%3D%3D'"
   ]
  },
  {
   "cell_type": "code",
   "execution_count": 37,
   "metadata": {},
   "outputs": [],
   "source": [
    "response = requests.get(exampleUrl)\n",
    "response.encoding = 'utf-8'\n",
    "xmlobj = BeautifulSoup(response.text,\"lxml-xml\")\n",
    "# xmlobj # 디버깅용."
   ]
  },
  {
   "cell_type": "code",
   "execution_count": 38,
   "metadata": {},
   "outputs": [],
   "source": [
    "rowList = []\n",
    "columnList = []\n",
    "rows = xmlobj.findAll('item')\n",
    "# rows # 디버깅용."
   ]
  },
  {
   "cell_type": "code",
   "execution_count": 39,
   "metadata": {},
   "outputs": [
    {
     "data": {
      "text/plain": [
       "10"
      ]
     },
     "execution_count": 39,
     "metadata": {},
     "output_type": "execute_result"
    }
   ],
   "source": [
    "rowsLen = len(rows)\n",
    "rowsLen"
   ]
  },
  {
   "cell_type": "code",
   "execution_count": 40,
   "metadata": {},
   "outputs": [
    {
     "data": {
      "text/plain": [
       "[<거래금액>    82,500</거래금액>,\n",
       " <건축년도>2008</건축년도>,\n",
       " <년>2015</년>,\n",
       " <도로명>사직로8길</도로명>,\n",
       " <도로명건물본번호코드>00004</도로명건물본번호코드>,\n",
       " <도로명건물부번호코드>00000</도로명건물부번호코드>,\n",
       " <도로명시군구코드>11110</도로명시군구코드>,\n",
       " <도로명일련번호코드>03</도로명일련번호코드>,\n",
       " <도로명지상지하코드>0</도로명지상지하코드>,\n",
       " <도로명코드>4100135</도로명코드>,\n",
       " <법정동> 사직동</법정동>,\n",
       " <법정동본번코드>0009</법정동본번코드>,\n",
       " <법정동부번코드>0000</법정동부번코드>,\n",
       " <법정동시군구코드>11110</법정동시군구코드>,\n",
       " <법정동읍면동코드>11500</법정동읍면동코드>,\n",
       " <법정동지번코드>1</법정동지번코드>,\n",
       " <아파트>광화문풍림스페이스본(101동~105동)</아파트>,\n",
       " <월>12</월>,\n",
       " <일>10</일>,\n",
       " <일련번호>11110-2203</일련번호>,\n",
       " <전용면적>94.51</전용면적>,\n",
       " <지번>9</지번>,\n",
       " <지역코드>11110</지역코드>,\n",
       " <층>11</층>]"
      ]
     },
     "execution_count": 40,
     "metadata": {},
     "output_type": "execute_result"
    }
   ],
   "source": [
    "columns = rows[0].findAll()\n",
    "columns"
   ]
  },
  {
   "cell_type": "code",
   "execution_count": 41,
   "metadata": {},
   "outputs": [
    {
     "data": {
      "text/plain": [
       "'거래금액'"
      ]
     },
     "execution_count": 41,
     "metadata": {},
     "output_type": "execute_result"
    }
   ],
   "source": [
    "columns[0].name"
   ]
  },
  {
   "cell_type": "code",
   "execution_count": 42,
   "metadata": {},
   "outputs": [
    {
     "data": {
      "text/plain": [
       "'    82,500'"
      ]
     },
     "execution_count": 42,
     "metadata": {},
     "output_type": "execute_result"
    }
   ],
   "source": [
    "columns[0].text"
   ]
  },
  {
   "cell_type": "code",
   "execution_count": 44,
   "metadata": {},
   "outputs": [
    {
     "data": {
      "text/plain": [
       "'건축년도'"
      ]
     },
     "execution_count": 44,
     "metadata": {},
     "output_type": "execute_result"
    }
   ],
   "source": [
    "columns[1].name"
   ]
  },
  {
   "cell_type": "code",
   "execution_count": 45,
   "metadata": {},
   "outputs": [
    {
     "data": {
      "text/plain": [
       "'2008'"
      ]
     },
     "execution_count": 45,
     "metadata": {},
     "output_type": "execute_result"
    }
   ],
   "source": [
    "columns[1].text"
   ]
  },
  {
   "cell_type": "code",
   "execution_count": 46,
   "metadata": {},
   "outputs": [],
   "source": [
    "rowList = []\n",
    "columnList = []\n",
    "nameList = []"
   ]
  },
  {
   "cell_type": "code",
   "execution_count": 47,
   "metadata": {},
   "outputs": [],
   "source": [
    "for i in range(0, len(columns),):\n",
    "    # 1. 컬럼값 저장\n",
    "    columnList.append(columns[i].text)\n",
    "rowList.append(columnList)    "
   ]
  },
  {
   "cell_type": "code",
   "execution_count": 32,
   "metadata": {},
   "outputs": [
    {
     "data": {
      "text/html": [
       "<div>\n",
       "<style scoped>\n",
       "    .dataframe tbody tr th:only-of-type {\n",
       "        vertical-align: middle;\n",
       "    }\n",
       "\n",
       "    .dataframe tbody tr th {\n",
       "        vertical-align: top;\n",
       "    }\n",
       "\n",
       "    .dataframe thead th {\n",
       "        text-align: right;\n",
       "    }\n",
       "</style>\n",
       "<table border=\"1\" class=\"dataframe\">\n",
       "  <thead>\n",
       "    <tr style=\"text-align: right;\">\n",
       "      <th></th>\n",
       "      <th>0</th>\n",
       "      <th>1</th>\n",
       "      <th>2</th>\n",
       "      <th>3</th>\n",
       "      <th>4</th>\n",
       "      <th>5</th>\n",
       "      <th>6</th>\n",
       "      <th>7</th>\n",
       "      <th>8</th>\n",
       "      <th>9</th>\n",
       "      <th>...</th>\n",
       "      <th>14</th>\n",
       "      <th>15</th>\n",
       "      <th>16</th>\n",
       "      <th>17</th>\n",
       "      <th>18</th>\n",
       "      <th>19</th>\n",
       "      <th>20</th>\n",
       "      <th>21</th>\n",
       "      <th>22</th>\n",
       "      <th>23</th>\n",
       "    </tr>\n",
       "  </thead>\n",
       "  <tbody>\n",
       "    <tr>\n",
       "      <th>0</th>\n",
       "      <td>82,500</td>\n",
       "      <td>2008</td>\n",
       "      <td>2015</td>\n",
       "      <td>사직로8길</td>\n",
       "      <td>00004</td>\n",
       "      <td>00000</td>\n",
       "      <td>11110</td>\n",
       "      <td>03</td>\n",
       "      <td>0</td>\n",
       "      <td>4100135</td>\n",
       "      <td>...</td>\n",
       "      <td>11500</td>\n",
       "      <td>1</td>\n",
       "      <td>광화문풍림스페이스본(101동~105동)</td>\n",
       "      <td>12</td>\n",
       "      <td>10</td>\n",
       "      <td>11110-2203</td>\n",
       "      <td>94.51</td>\n",
       "      <td>9</td>\n",
       "      <td>11110</td>\n",
       "      <td>11</td>\n",
       "    </tr>\n",
       "  </tbody>\n",
       "</table>\n",
       "<p>1 rows × 24 columns</p>\n",
       "</div>"
      ],
      "text/plain": [
       "           0     1     2      3      4      5      6   7  8        9   ...  \\\n",
       "0      82,500  2008  2015  사직로8길  00004  00000  11110  03  0  4100135  ...   \n",
       "\n",
       "      14 15                     16  17  18          19     20 21     22  23  \n",
       "0  11500  1  광화문풍림스페이스본(101동~105동)  12  10  11110-2203  94.51  9  11110  11  \n",
       "\n",
       "[1 rows x 24 columns]"
      ]
     },
     "execution_count": 32,
     "metadata": {},
     "output_type": "execute_result"
    }
   ],
   "source": [
    "pd.DataFrame(rowList)"
   ]
  },
  {
   "cell_type": "code",
   "execution_count": 55,
   "metadata": {},
   "outputs": [],
   "source": [
    "for j in range(0, rowsLen):\n",
    "    columns = rows[j].findAll()\n",
    "    \n",
    "    for i in range(0, len(columns),):\n",
    "        # 첫 번째 행 데이터 값 수집 시에만 컬럼 값을 저장한다.\n",
    "        if j == 0:\n",
    "            nameList.append(columns[i].name)\n",
    "        # 1. 컬럼값 저장\n",
    "        columnList.append(columns[i].text)\n",
    "    rowList.append(columnList)\n",
    "    columnList = []"
   ]
  },
  {
   "cell_type": "code",
   "execution_count": 60,
   "metadata": {},
   "outputs": [
    {
     "data": {
      "text/html": [
       "<div>\n",
       "<style scoped>\n",
       "    .dataframe tbody tr th:only-of-type {\n",
       "        vertical-align: middle;\n",
       "    }\n",
       "\n",
       "    .dataframe tbody tr th {\n",
       "        vertical-align: top;\n",
       "    }\n",
       "\n",
       "    .dataframe thead th {\n",
       "        text-align: right;\n",
       "    }\n",
       "</style>\n",
       "<table border=\"1\" class=\"dataframe\">\n",
       "  <thead>\n",
       "    <tr style=\"text-align: right;\">\n",
       "      <th></th>\n",
       "      <th>0</th>\n",
       "      <th>1</th>\n",
       "      <th>2</th>\n",
       "      <th>3</th>\n",
       "      <th>4</th>\n",
       "      <th>5</th>\n",
       "      <th>6</th>\n",
       "      <th>7</th>\n",
       "      <th>8</th>\n",
       "      <th>9</th>\n",
       "      <th>...</th>\n",
       "      <th>38</th>\n",
       "      <th>39</th>\n",
       "      <th>40</th>\n",
       "      <th>41</th>\n",
       "      <th>42</th>\n",
       "      <th>43</th>\n",
       "      <th>44</th>\n",
       "      <th>45</th>\n",
       "      <th>46</th>\n",
       "      <th>47</th>\n",
       "    </tr>\n",
       "  </thead>\n",
       "  <tbody>\n",
       "    <tr>\n",
       "      <th>0</th>\n",
       "      <td>82,500</td>\n",
       "      <td>2008</td>\n",
       "      <td>2015</td>\n",
       "      <td>사직로8길</td>\n",
       "      <td>00004</td>\n",
       "      <td>00000</td>\n",
       "      <td>11110</td>\n",
       "      <td>03</td>\n",
       "      <td>0</td>\n",
       "      <td>4100135</td>\n",
       "      <td>...</td>\n",
       "      <td>11500</td>\n",
       "      <td>1</td>\n",
       "      <td>광화문풍림스페이스본(101동~105동)</td>\n",
       "      <td>12</td>\n",
       "      <td>10</td>\n",
       "      <td>11110-2203</td>\n",
       "      <td>94.51</td>\n",
       "      <td>9</td>\n",
       "      <td>11110</td>\n",
       "      <td>11</td>\n",
       "    </tr>\n",
       "    <tr>\n",
       "      <th>1</th>\n",
       "      <td>82,500</td>\n",
       "      <td>2008</td>\n",
       "      <td>2015</td>\n",
       "      <td>사직로8길</td>\n",
       "      <td>00004</td>\n",
       "      <td>00000</td>\n",
       "      <td>11110</td>\n",
       "      <td>03</td>\n",
       "      <td>0</td>\n",
       "      <td>4100135</td>\n",
       "      <td>...</td>\n",
       "      <td>11500</td>\n",
       "      <td>1</td>\n",
       "      <td>광화문풍림스페이스본(101동~105동)</td>\n",
       "      <td>12</td>\n",
       "      <td>10</td>\n",
       "      <td>11110-2203</td>\n",
       "      <td>94.51</td>\n",
       "      <td>9</td>\n",
       "      <td>11110</td>\n",
       "      <td>11</td>\n",
       "    </tr>\n",
       "    <tr>\n",
       "      <th>2</th>\n",
       "      <td>60,000</td>\n",
       "      <td>1981</td>\n",
       "      <td>2015</td>\n",
       "      <td>세종대로23길</td>\n",
       "      <td>00047</td>\n",
       "      <td>00000</td>\n",
       "      <td>11110</td>\n",
       "      <td>02</td>\n",
       "      <td>0</td>\n",
       "      <td>4100190</td>\n",
       "      <td>...</td>\n",
       "      <td>None</td>\n",
       "      <td>None</td>\n",
       "      <td>None</td>\n",
       "      <td>None</td>\n",
       "      <td>None</td>\n",
       "      <td>None</td>\n",
       "      <td>None</td>\n",
       "      <td>None</td>\n",
       "      <td>None</td>\n",
       "      <td>None</td>\n",
       "    </tr>\n",
       "    <tr>\n",
       "      <th>3</th>\n",
       "      <td>130,000</td>\n",
       "      <td>2004</td>\n",
       "      <td>2015</td>\n",
       "      <td>경희궁2길</td>\n",
       "      <td>00005</td>\n",
       "      <td>00005</td>\n",
       "      <td>11110</td>\n",
       "      <td>01</td>\n",
       "      <td>0</td>\n",
       "      <td>4100005</td>\n",
       "      <td>...</td>\n",
       "      <td>None</td>\n",
       "      <td>None</td>\n",
       "      <td>None</td>\n",
       "      <td>None</td>\n",
       "      <td>None</td>\n",
       "      <td>None</td>\n",
       "      <td>None</td>\n",
       "      <td>None</td>\n",
       "      <td>None</td>\n",
       "      <td>None</td>\n",
       "    </tr>\n",
       "    <tr>\n",
       "      <th>4</th>\n",
       "      <td>105,000</td>\n",
       "      <td>2004</td>\n",
       "      <td>2015</td>\n",
       "      <td>사직로8길</td>\n",
       "      <td>00024</td>\n",
       "      <td>00000</td>\n",
       "      <td>11110</td>\n",
       "      <td>05</td>\n",
       "      <td>0</td>\n",
       "      <td>4100135</td>\n",
       "      <td>...</td>\n",
       "      <td>None</td>\n",
       "      <td>None</td>\n",
       "      <td>None</td>\n",
       "      <td>None</td>\n",
       "      <td>None</td>\n",
       "      <td>None</td>\n",
       "      <td>None</td>\n",
       "      <td>None</td>\n",
       "      <td>None</td>\n",
       "      <td>None</td>\n",
       "    </tr>\n",
       "  </tbody>\n",
       "</table>\n",
       "<p>5 rows × 48 columns</p>\n",
       "</div>"
      ],
      "text/plain": [
       "           0     1     2        3      4      5      6   7  8        9   ...  \\\n",
       "0      82,500  2008  2015    사직로8길  00004  00000  11110  03  0  4100135  ...   \n",
       "1      82,500  2008  2015    사직로8길  00004  00000  11110  03  0  4100135  ...   \n",
       "2      60,000  1981  2015  세종대로23길  00047  00000  11110  02  0  4100190  ...   \n",
       "3     130,000  2004  2015    경희궁2길  00005  00005  11110  01  0  4100005  ...   \n",
       "4     105,000  2004  2015    사직로8길  00024  00000  11110  05  0  4100135  ...   \n",
       "\n",
       "      38    39                     40    41    42          43     44    45  \\\n",
       "0  11500     1  광화문풍림스페이스본(101동~105동)    12    10  11110-2203  94.51     9   \n",
       "1  11500     1  광화문풍림스페이스본(101동~105동)    12    10  11110-2203  94.51     9   \n",
       "2   None  None                   None  None  None        None   None  None   \n",
       "3   None  None                   None  None  None        None   None  None   \n",
       "4   None  None                   None  None  None        None   None  None   \n",
       "\n",
       "      46    47  \n",
       "0  11110    11  \n",
       "1  11110    11  \n",
       "2   None  None  \n",
       "3   None  None  \n",
       "4   None  None  \n",
       "\n",
       "[5 rows x 48 columns]"
      ]
     },
     "execution_count": 60,
     "metadata": {},
     "output_type": "execute_result"
    }
   ],
   "source": [
    "pd.DataFrame(rowList).head()"
   ]
  },
  {
   "cell_type": "code",
   "execution_count": 57,
   "metadata": {},
   "outputs": [],
   "source": [
    "for eachRow in rows:\n",
    "    columns = eachRow.findAll()\n",
    "    \n",
    "    for eachColumns in columns:\n",
    "        # 첫 번째 행 데이터 값 수집 시에만 컬럼 값을 저장한다.\n",
    "        if j == 0:\n",
    "            nameList.append(eachColumns.name)\n",
    "        # 1. 컬럼값 저장\n",
    "        columnList.append(eachColumns.text)\n",
    "    rowList.append(columnList)\n",
    "    columnList = []"
   ]
  },
  {
   "cell_type": "code",
   "execution_count": 59,
   "metadata": {},
   "outputs": [
    {
     "data": {
      "text/html": [
       "<div>\n",
       "<style scoped>\n",
       "    .dataframe tbody tr th:only-of-type {\n",
       "        vertical-align: middle;\n",
       "    }\n",
       "\n",
       "    .dataframe tbody tr th {\n",
       "        vertical-align: top;\n",
       "    }\n",
       "\n",
       "    .dataframe thead th {\n",
       "        text-align: right;\n",
       "    }\n",
       "</style>\n",
       "<table border=\"1\" class=\"dataframe\">\n",
       "  <thead>\n",
       "    <tr style=\"text-align: right;\">\n",
       "      <th></th>\n",
       "      <th>0</th>\n",
       "      <th>1</th>\n",
       "      <th>2</th>\n",
       "      <th>3</th>\n",
       "      <th>4</th>\n",
       "      <th>5</th>\n",
       "      <th>6</th>\n",
       "      <th>7</th>\n",
       "      <th>8</th>\n",
       "      <th>9</th>\n",
       "      <th>...</th>\n",
       "      <th>38</th>\n",
       "      <th>39</th>\n",
       "      <th>40</th>\n",
       "      <th>41</th>\n",
       "      <th>42</th>\n",
       "      <th>43</th>\n",
       "      <th>44</th>\n",
       "      <th>45</th>\n",
       "      <th>46</th>\n",
       "      <th>47</th>\n",
       "    </tr>\n",
       "  </thead>\n",
       "  <tbody>\n",
       "    <tr>\n",
       "      <th>0</th>\n",
       "      <td>82,500</td>\n",
       "      <td>2008</td>\n",
       "      <td>2015</td>\n",
       "      <td>사직로8길</td>\n",
       "      <td>00004</td>\n",
       "      <td>00000</td>\n",
       "      <td>11110</td>\n",
       "      <td>03</td>\n",
       "      <td>0</td>\n",
       "      <td>4100135</td>\n",
       "      <td>...</td>\n",
       "      <td>11500</td>\n",
       "      <td>1</td>\n",
       "      <td>광화문풍림스페이스본(101동~105동)</td>\n",
       "      <td>12</td>\n",
       "      <td>10</td>\n",
       "      <td>11110-2203</td>\n",
       "      <td>94.51</td>\n",
       "      <td>9</td>\n",
       "      <td>11110</td>\n",
       "      <td>11</td>\n",
       "    </tr>\n",
       "    <tr>\n",
       "      <th>1</th>\n",
       "      <td>82,500</td>\n",
       "      <td>2008</td>\n",
       "      <td>2015</td>\n",
       "      <td>사직로8길</td>\n",
       "      <td>00004</td>\n",
       "      <td>00000</td>\n",
       "      <td>11110</td>\n",
       "      <td>03</td>\n",
       "      <td>0</td>\n",
       "      <td>4100135</td>\n",
       "      <td>...</td>\n",
       "      <td>11500</td>\n",
       "      <td>1</td>\n",
       "      <td>광화문풍림스페이스본(101동~105동)</td>\n",
       "      <td>12</td>\n",
       "      <td>10</td>\n",
       "      <td>11110-2203</td>\n",
       "      <td>94.51</td>\n",
       "      <td>9</td>\n",
       "      <td>11110</td>\n",
       "      <td>11</td>\n",
       "    </tr>\n",
       "    <tr>\n",
       "      <th>2</th>\n",
       "      <td>60,000</td>\n",
       "      <td>1981</td>\n",
       "      <td>2015</td>\n",
       "      <td>세종대로23길</td>\n",
       "      <td>00047</td>\n",
       "      <td>00000</td>\n",
       "      <td>11110</td>\n",
       "      <td>02</td>\n",
       "      <td>0</td>\n",
       "      <td>4100190</td>\n",
       "      <td>...</td>\n",
       "      <td>None</td>\n",
       "      <td>None</td>\n",
       "      <td>None</td>\n",
       "      <td>None</td>\n",
       "      <td>None</td>\n",
       "      <td>None</td>\n",
       "      <td>None</td>\n",
       "      <td>None</td>\n",
       "      <td>None</td>\n",
       "      <td>None</td>\n",
       "    </tr>\n",
       "    <tr>\n",
       "      <th>3</th>\n",
       "      <td>130,000</td>\n",
       "      <td>2004</td>\n",
       "      <td>2015</td>\n",
       "      <td>경희궁2길</td>\n",
       "      <td>00005</td>\n",
       "      <td>00005</td>\n",
       "      <td>11110</td>\n",
       "      <td>01</td>\n",
       "      <td>0</td>\n",
       "      <td>4100005</td>\n",
       "      <td>...</td>\n",
       "      <td>None</td>\n",
       "      <td>None</td>\n",
       "      <td>None</td>\n",
       "      <td>None</td>\n",
       "      <td>None</td>\n",
       "      <td>None</td>\n",
       "      <td>None</td>\n",
       "      <td>None</td>\n",
       "      <td>None</td>\n",
       "      <td>None</td>\n",
       "    </tr>\n",
       "    <tr>\n",
       "      <th>4</th>\n",
       "      <td>105,000</td>\n",
       "      <td>2004</td>\n",
       "      <td>2015</td>\n",
       "      <td>사직로8길</td>\n",
       "      <td>00024</td>\n",
       "      <td>00000</td>\n",
       "      <td>11110</td>\n",
       "      <td>05</td>\n",
       "      <td>0</td>\n",
       "      <td>4100135</td>\n",
       "      <td>...</td>\n",
       "      <td>None</td>\n",
       "      <td>None</td>\n",
       "      <td>None</td>\n",
       "      <td>None</td>\n",
       "      <td>None</td>\n",
       "      <td>None</td>\n",
       "      <td>None</td>\n",
       "      <td>None</td>\n",
       "      <td>None</td>\n",
       "      <td>None</td>\n",
       "    </tr>\n",
       "  </tbody>\n",
       "</table>\n",
       "<p>5 rows × 48 columns</p>\n",
       "</div>"
      ],
      "text/plain": [
       "           0     1     2        3      4      5      6   7  8        9   ...  \\\n",
       "0      82,500  2008  2015    사직로8길  00004  00000  11110  03  0  4100135  ...   \n",
       "1      82,500  2008  2015    사직로8길  00004  00000  11110  03  0  4100135  ...   \n",
       "2      60,000  1981  2015  세종대로23길  00047  00000  11110  02  0  4100190  ...   \n",
       "3     130,000  2004  2015    경희궁2길  00005  00005  11110  01  0  4100005  ...   \n",
       "4     105,000  2004  2015    사직로8길  00024  00000  11110  05  0  4100135  ...   \n",
       "\n",
       "      38    39                     40    41    42          43     44    45  \\\n",
       "0  11500     1  광화문풍림스페이스본(101동~105동)    12    10  11110-2203  94.51     9   \n",
       "1  11500     1  광화문풍림스페이스본(101동~105동)    12    10  11110-2203  94.51     9   \n",
       "2   None  None                   None  None  None        None   None  None   \n",
       "3   None  None                   None  None  None        None   None  None   \n",
       "4   None  None                   None  None  None        None   None  None   \n",
       "\n",
       "      46    47  \n",
       "0  11110    11  \n",
       "1  11110    11  \n",
       "2   None  None  \n",
       "3   None  None  \n",
       "4   None  None  \n",
       "\n",
       "[5 rows x 48 columns]"
      ]
     },
     "execution_count": 59,
     "metadata": {},
     "output_type": "execute_result"
    }
   ],
   "source": [
    "pd.DataFrame(rowList).head()"
   ]
  },
  {
   "cell_type": "markdown",
   "metadata": {},
   "source": [
    "P.50"
   ]
  },
  {
   "cell_type": "code",
   "execution_count": 1,
   "metadata": {},
   "outputs": [],
   "source": [
    "# import requests, bs4\n",
    "import requests\n",
    "from bs4 import BeautifulSoup\n",
    "from lxml import html\n",
    "import pandas as pd\n",
    "from urllib.request import Request, urlopen\n",
    "from urllib.parse import urlencode, quote_plus, unquote"
   ]
  },
  {
   "cell_type": "code",
   "execution_count": 2,
   "metadata": {},
   "outputs": [],
   "source": [
    "API_Key = unquote('key')\n",
    "exampleUrl = 'http://openapi.molit.go.kr/OpenAPI_ToolInstallPackage/service/rest/RTMSOBJSvc\\\n",
    "/getRTMSDataSvcAptTradeDev?LAWD_CD=11110&DEAL_YMD=201512&serviceKey=AT33s775KYpJOkUBJu0dxkJuUeIfDIOJRzAH084EQS3JN%2BzFjErLHuk%2FGZa9L4gBTSGCzeA69tI9PwLp7B37IQ%3D%3D'\n",
    "\n",
    "queryParams = '?' + urlencode(    # ? 뒤에 urlencode를 딕셔너리로 붙여놓은거다.\n",
    "    {\n",
    "        quote_plus('ServiceKye'):API_Key,\n",
    "        quote_plus('LAWD_CD'):'11110',\n",
    "        quote_plus('DEAL_YMD'):'201512'    \n",
    "    }\n",
    ")"
   ]
  },
  {
   "cell_type": "code",
   "execution_count": 3,
   "metadata": {},
   "outputs": [
    {
     "data": {
      "text/plain": [
       "<?xml version=\"1.0\" encoding=\"utf-8\"?>\n",
       "<response><header><resultCode>99</resultCode><resultMsg>SERVICE KEY IS NOT REGISTERED ERROR.</resultMsg></header></response>"
      ]
     },
     "execution_count": 3,
     "metadata": {},
     "output_type": "execute_result"
    }
   ],
   "source": [
    "response = requests.get(exampleUrl + queryParams)\n",
    "response.encoding = 'UTF-8'\n",
    "xmlobj = BeautifulSoup(response.text,'lxml-xml')\n",
    "# xmlobj = bs4.BeautifulSoup(response.text,'lxml-xml')\n",
    "xmlobj"
   ]
  },
  {
   "cell_type": "code",
   "execution_count": 66,
   "metadata": {},
   "outputs": [
    {
     "ename": "NameError",
     "evalue": "name 'resp' is not defined",
     "output_type": "error",
     "traceback": [
      "\u001b[0;31m---------------------------------------------------------------------------\u001b[0m",
      "\u001b[0;31mNameError\u001b[0m                                 Traceback (most recent call last)",
      "\u001b[0;32m<ipython-input-66-f117f7330504>\u001b[0m in \u001b[0;36m<module>\u001b[0;34m\u001b[0m\n\u001b[1;32m     15\u001b[0m \u001b[0mresponse\u001b[0m \u001b[0;34m=\u001b[0m \u001b[0mrequests\u001b[0m\u001b[0;34m.\u001b[0m\u001b[0mget\u001b[0m\u001b[0;34m(\u001b[0m\u001b[0murl\u001b[0m\u001b[0;34m+\u001b[0m\u001b[0mqueryParams\u001b[0m\u001b[0;34m)\u001b[0m\u001b[0;34m\u001b[0m\u001b[0;34m\u001b[0m\u001b[0m\n\u001b[1;32m     16\u001b[0m \u001b[0mresponse\u001b[0m\u001b[0;34m.\u001b[0m\u001b[0mencoding\u001b[0m\u001b[0;34m=\u001b[0m\u001b[0;34m'utf-8'\u001b[0m\u001b[0;34m\u001b[0m\u001b[0;34m\u001b[0m\u001b[0m\n\u001b[0;32m---> 17\u001b[0;31m \u001b[0mxmlobj\u001b[0m \u001b[0;34m=\u001b[0m \u001b[0mBeautifulSoup\u001b[0m\u001b[0;34m(\u001b[0m\u001b[0mresp\u001b[0m\u001b[0;34m.\u001b[0m\u001b[0mtext\u001b[0m\u001b[0;34m,\u001b[0m\u001b[0;34m\"lxml-xml\"\u001b[0m\u001b[0;34m)\u001b[0m\u001b[0;34m\u001b[0m\u001b[0;34m\u001b[0m\u001b[0m\n\u001b[0m",
      "\u001b[0;31mNameError\u001b[0m: name 'resp' is not defined"
     ]
    }
   ],
   "source": [
    "from urllib.request import Request, urlopen\n",
    "from urllib.parse import urlencode, quote_plus, unquote\n",
    "from bs4 import BeautifulSoup\n",
    "\n",
    "API_Key = unquote('sjOpJdbWHR3lhq4f8w5Dg6lc6IDZPdXeue%2BzGqY47h4Jp4sKy8SE5wKtpoHT7yfpI1NMFLyMMYHSiY4MNP6dhQ%3D%3D')\n",
    "url = 'http://openapi.molit.go.kr/OpenAPI_ToolInstallPackage/service/rest/RTMSOBJSvc/getRTMSDataSvcAptTradeDev'\n",
    "queryParams = '?' + urlencode(\n",
    "    {\n",
    "        quote_plus('ServiceKey') : API_Key,\n",
    "        quote_plus('LAWD_CD'): '11110',\n",
    "        quote_plus('DEAL_YMD'): '201512'\n",
    "     }\n",
    ")\n",
    "\n",
    "response = requests.get(url+queryParams)\n",
    "response.encoding='utf-8'\n",
    "xmlobj = BeautifulSoup(resp.text,\"lxml-xml\")"
   ]
  },
  {
   "cell_type": "code",
   "execution_count": 4,
   "metadata": {},
   "outputs": [],
   "source": [
    "rowList = []\n",
    "columnList = []\n",
    "rows = xmlobj.findAll('item')\n",
    "# rows # 디버깅용."
   ]
  },
  {
   "cell_type": "code",
   "execution_count": 5,
   "metadata": {},
   "outputs": [
    {
     "ename": "IndexError",
     "evalue": "list index out of range",
     "output_type": "error",
     "traceback": [
      "\u001b[0;31m---------------------------------------------------------------------------\u001b[0m",
      "\u001b[0;31mIndexError\u001b[0m                                Traceback (most recent call last)",
      "\u001b[0;32m<ipython-input-5-1dc73cc2460c>\u001b[0m in \u001b[0;36m<module>\u001b[0;34m\u001b[0m\n\u001b[0;32m----> 1\u001b[0;31m \u001b[0mcolumns\u001b[0m \u001b[0;34m=\u001b[0m \u001b[0mrows\u001b[0m\u001b[0;34m[\u001b[0m\u001b[0;36m3\u001b[0m\u001b[0;34m]\u001b[0m\u001b[0;34m.\u001b[0m\u001b[0mfindAll\u001b[0m\u001b[0;34m(\u001b[0m\u001b[0;34m)\u001b[0m\u001b[0;34m\u001b[0m\u001b[0;34m\u001b[0m\u001b[0m\n\u001b[0m\u001b[1;32m      2\u001b[0m \u001b[0mcolumns\u001b[0m\u001b[0;34m\u001b[0m\u001b[0;34m\u001b[0m\u001b[0m\n",
      "\u001b[0;31mIndexError\u001b[0m: list index out of range"
     ]
    }
   ],
   "source": [
    "columns = rows[3].findAll()\n",
    "columns"
   ]
  },
  {
   "cell_type": "code",
   "execution_count": 9,
   "metadata": {},
   "outputs": [
    {
     "ename": "NameError",
     "evalue": "name 'columns' is not defined",
     "output_type": "error",
     "traceback": [
      "\u001b[0;31m---------------------------------------------------------------------------\u001b[0m",
      "\u001b[0;31mNameError\u001b[0m                                 Traceback (most recent call last)",
      "\u001b[0;32m<ipython-input-9-1262526b3c49>\u001b[0m in \u001b[0;36m<module>\u001b[0;34m\u001b[0m\n\u001b[0;32m----> 1\u001b[0;31m \u001b[0;32mfor\u001b[0m \u001b[0mi\u001b[0m \u001b[0;32min\u001b[0m \u001b[0mrange\u001b[0m\u001b[0;34m(\u001b[0m\u001b[0;36m0\u001b[0m\u001b[0;34m,\u001b[0m \u001b[0mlen\u001b[0m \u001b[0;34m(\u001b[0m\u001b[0mcolumns\u001b[0m\u001b[0;34m)\u001b[0m\u001b[0;34m)\u001b[0m\u001b[0;34m:\u001b[0m\u001b[0;34m\u001b[0m\u001b[0;34m\u001b[0m\u001b[0m\n\u001b[0m\u001b[1;32m      2\u001b[0m     \u001b[0mrowList\u001b[0m\u001b[0;34m.\u001b[0m\u001b[0mappend\u001b[0m\u001b[0;34m(\u001b[0m\u001b[0mcolumns\u001b[0m\u001b[0;34m[\u001b[0m\u001b[0mi\u001b[0m\u001b[0;34m]\u001b[0m\u001b[0;34m.\u001b[0m\u001b[0mname\u001b[0m\u001b[0;34m)\u001b[0m\u001b[0;34m\u001b[0m\u001b[0;34m\u001b[0m\u001b[0m\n\u001b[1;32m      3\u001b[0m     \u001b[0mcolumnList\u001b[0m\u001b[0;34m.\u001b[0m\u001b[0mappend\u001b[0m\u001b[0;34m(\u001b[0m\u001b[0mcolumns\u001b[0m\u001b[0;34m[\u001b[0m\u001b[0mi\u001b[0m\u001b[0;34m]\u001b[0m\u001b[0;34m.\u001b[0m\u001b[0mtext\u001b[0m\u001b[0;34m)\u001b[0m\u001b[0;34m\u001b[0m\u001b[0;34m\u001b[0m\u001b[0m\n\u001b[1;32m      4\u001b[0m     \u001b[0mrowList\u001b[0m \u001b[0;34m=\u001b[0m \u001b[0mrowList\u001b[0m\u001b[0;34m.\u001b[0m\u001b[0mappend\u001b[0m\u001b[0;34m(\u001b[0m\u001b[0mcolumnList\u001b[0m\u001b[0;34m)\u001b[0m\u001b[0;34m\u001b[0m\u001b[0;34m\u001b[0m\u001b[0m\n",
      "\u001b[0;31mNameError\u001b[0m: name 'columns' is not defined"
     ]
    }
   ],
   "source": [
    "for i in range(0, len (columns)):\n",
    "    rowList.append(columns[i].name)\n",
    "    columnList.append(columns[i].text)\n",
    "    rowList = rowList.append(columnList)"
   ]
  },
  {
   "cell_type": "code",
   "execution_count": null,
   "metadata": {},
   "outputs": [],
   "source": []
  }
 ],
 "metadata": {
  "kernelspec": {
   "display_name": "Python 3",
   "language": "python",
   "name": "python3"
  },
  "language_info": {
   "codemirror_mode": {
    "name": "ipython",
    "version": 3
   },
   "file_extension": ".py",
   "mimetype": "text/x-python",
   "name": "python",
   "nbconvert_exporter": "python",
   "pygments_lexer": "ipython3",
   "version": "3.8.2"
  }
 },
 "nbformat": 4,
 "nbformat_minor": 4
}
