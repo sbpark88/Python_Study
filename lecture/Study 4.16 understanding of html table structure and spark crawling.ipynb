{
 "cells": [
  {
   "cell_type": "markdown",
   "metadata": {},
   "source": [
    "# 목차\n",
    "## 1. 지난번 수업 find_all에 limit 옵션 응용법.\n",
    "## 2. HTML 테이블 구조를 이해하고, 이걸 파이썬에서 requests, bs4, pandas를 이용해 뽑아내보자.\n",
    "## 3. 셀레니움.\n",
    "## 4. 퀴즈."
   ]
  },
  {
   "cell_type": "markdown",
   "metadata": {},
   "source": [
    "## 1. 지난번 수업 find_all에 limit 옵션 응용법.\n",
    "find_all(name = \"\", limit = 5) 이런식으로 응용할 수 있다."
   ]
  },
  {
   "cell_type": "code",
   "execution_count": 30,
   "metadata": {},
   "outputs": [],
   "source": [
    "import requests, bs4    # 비슷한 애들 끼리는 콤마(,)로 한 번에 선언해도 된다. requests : 웹페이지 긁어옴. bs4 : 파이썬의 IDE\n",
    "import pandas as pd     # 얘도 한 번에 선언할 수는 있지만 그러면 가독성이 떨어진다.\n",
    "\n",
    "# Step 1. requests 모듈로 웹페이지 긁어와 저장하기.\n",
    "spark_url = \"https://www.sparkkorea.com/퀴즈\"\n",
    "response = requests.get(spark_url)    # requests 함수를 이용해 서버를 get(얻어낸다)!\n",
    "response.encoding = 'UTF-8'\n",
    "\n",
    "# Step 2. bs4(BeautifulSoup) 모듈로 웹페이지를 예쁘게 담기.\n",
    "spark_html = response.text    # spark_html이란 변수에 위에서 불러온 response를 text로 담아라.\n",
    "spark_html_bs = bs4.BeautifulSoup(spark_html, \"html.parser\")    # spark_html에 대해서 \"html.parser\" 파싱하겠다. (\"html.parser\"는 안 써도 잘 돌아가긴 한다.)\n",
    "# spark_html_bs라는 변수에 bs4(BeautifulSoup)모듈의 BeautifulSoup 함수를 이용해 예쁘게 담아라.\n",
    "# 우리가 코드를 짤 때 IDE(이클립스, 아톰 등)을 사용하듯이 BeautifulSoup가 파이썬 내에서 코드를 예쁘게 보여준다.\n",
    "# 앞으로 모든것은 bs4를 이용해 담은 이 'spark_html_bs'를 이용해 bs4의 다른 함수를 이용해 분석할거다.\n",
    "# spark_html_bs # 디버깅용.\n",
    "\n",
    "# Step 3. (범위 좁히기) 수많은 'div 태그' 구역 중 원하는 구역의 'div 태그' 구역만 골라서 추출해보자. (개발자 도구로 미리 확인하기.)\n",
    "# div 태그 : 속성 (i.e. id, class, etc...) 별로 구역을 나눈다. 이를 이용해 특정 구역에 특정 조건을 넣어 검색할 수 있다.\n",
    "# name = \"태그명\", attrs = {\"속성명\":\"속성값\"} 으로 찾는다. 여기서 attrs(파라미터)는 \"id명\":\"id값\" 또는 \"class명\":\"class값\"이다.\n",
    "# divTags_including_aTags에 spark_html_bs에서 찾아라.\n",
    "# 태그 이름이 div인데 그 중에서 {}\"속성명\":\"속성값\"}은 {\"class\":\"class_spark_quiz\", \"id\":\"id_spark_quiz\"}다.\n",
    "divTags_including_aTags = spark_html_bs.find\\\n",
    "(name = \"div\", attrs = {\"class\":\"class_spark_quiz\", \"id\":\"id_spark_quiz\"}) # find_all도 가능.\n",
    "# divTags_including_aTags # 디버깅용.\n",
    "\n",
    "# Step 4. (범위 좁히기) 추출한 'div 태그' 구역 중 원하는 'a 태그'만 다시 추출하자.\n",
    "aTags = divTags_including_aTags.find_all(name = \"a\", limit = 2)\n",
    "# aTags # 디버깅용. (리스트는 아니지만 인덱스를 가져 리스트처럼 사용할 수 있다.)\n",
    "\n",
    "# Step 5. 태그 범위 좁히기가 완료되면 원하는 요소만 뽑아서 매트릭스 리스트로 담아보자.\n",
    "rowList = []    # 행을 만들어줄 바깥 리스트 생성하기.\n",
    "\n",
    "aTagsLen = len(aTags)\n",
    "for i in range(0, aTagsLen,):\n",
    "    eachText = aTags[i].text               # i번째 객체 데이터에 넣을 'spark 퀴즈 타이틀'을 추출.\n",
    "    eachTitle = aTags[i].attrs[\"href\"]     # i번째 객체 데이터에 넣을 'spark 퀴즈 링크'을 추출.\n",
    "        \n",
    "    # [eachText,eachTitle]을 하나의 객체 데이터 리스트로 만들어 바깥 리스트(rowList)에 넣어 매트릭스 만들기.\n",
    "    rowList.append([eachText,eachTitle])\n",
    "    \n",
    "# Step 6. 위에서 만든 매트릭스 리스트를 DataFrame으로 만들어보자.\n",
    "rowList_DF = pd.DataFrame(rowList, columns = [\"spark 퀴즈 타이틀\",\"spark 퀴즈 링크\"])\n",
    "rowList_DF"
   ]
  },
  {
   "cell_type": "markdown",
   "metadata": {},
   "source": [
    "## 2. HTML 테이블 구조를 이해하고, 이걸 파이썬에서 requests, bs4, pandas를 이용해 뽑아내보자."
   ]
  },
  {
   "cell_type": "code",
   "execution_count": 1,
   "metadata": {},
   "outputs": [],
   "source": [
    "# 1 ) HTML에서 테이블의 구조를 이해하기.\n",
    "rowList = []"
   ]
  },
  {
   "cell_type": "code",
   "execution_count": 2,
   "metadata": {},
   "outputs": [],
   "source": [
    "columnList1 = [\"101\",\"김효관\"]\n",
    "columnList2 = [\"102\",\"이순신\"]\n",
    "columnList3 = [\"103\",\"김어진\"]"
   ]
  },
  {
   "cell_type": "code",
   "execution_count": 3,
   "metadata": {},
   "outputs": [
    {
     "data": {
      "text/plain": [
       "[['101', '김효관'], ['102', '이순신'], ['103', '김어진']]"
      ]
     },
     "execution_count": 3,
     "metadata": {},
     "output_type": "execute_result"
    }
   ],
   "source": [
    "rowList.append(columnList1)\n",
    "rowList.append(columnList2)\n",
    "rowList.append(columnList3)\n",
    "rowList"
   ]
  },
  {
   "cell_type": "code",
   "execution_count": 4,
   "metadata": {},
   "outputs": [
    {
     "data": {
      "text/html": [
       "<div>\n",
       "<style scoped>\n",
       "    .dataframe tbody tr th:only-of-type {\n",
       "        vertical-align: middle;\n",
       "    }\n",
       "\n",
       "    .dataframe tbody tr th {\n",
       "        vertical-align: top;\n",
       "    }\n",
       "\n",
       "    .dataframe thead th {\n",
       "        text-align: right;\n",
       "    }\n",
       "</style>\n",
       "<table border=\"1\" class=\"dataframe\">\n",
       "  <thead>\n",
       "    <tr style=\"text-align: right;\">\n",
       "      <th></th>\n",
       "      <th>0</th>\n",
       "      <th>1</th>\n",
       "    </tr>\n",
       "  </thead>\n",
       "  <tbody>\n",
       "    <tr>\n",
       "      <th>0</th>\n",
       "      <td>101</td>\n",
       "      <td>김효관</td>\n",
       "    </tr>\n",
       "    <tr>\n",
       "      <th>1</th>\n",
       "      <td>102</td>\n",
       "      <td>이순신</td>\n",
       "    </tr>\n",
       "    <tr>\n",
       "      <th>2</th>\n",
       "      <td>103</td>\n",
       "      <td>김어진</td>\n",
       "    </tr>\n",
       "  </tbody>\n",
       "</table>\n",
       "</div>"
      ],
      "text/plain": [
       "     0    1\n",
       "0  101  김효관\n",
       "1  102  이순신\n",
       "2  103  김어진"
      ]
     },
     "execution_count": 4,
     "metadata": {},
     "output_type": "execute_result"
    }
   ],
   "source": [
    "import pandas as pd\n",
    "pd.DataFrame(rowList)    # 매트릭스 구조를 그대로 가져옴."
   ]
  },
  {
   "cell_type": "code",
   "execution_count": 5,
   "metadata": {},
   "outputs": [
    {
     "data": {
      "text/html": [
       "<div>\n",
       "<style scoped>\n",
       "    .dataframe tbody tr th:only-of-type {\n",
       "        vertical-align: middle;\n",
       "    }\n",
       "\n",
       "    .dataframe tbody tr th {\n",
       "        vertical-align: top;\n",
       "    }\n",
       "\n",
       "    .dataframe thead th {\n",
       "        text-align: right;\n",
       "    }\n",
       "</style>\n",
       "<table border=\"1\" class=\"dataframe\">\n",
       "  <thead>\n",
       "    <tr style=\"text-align: right;\">\n",
       "      <th></th>\n",
       "      <th>0</th>\n",
       "      <th>1</th>\n",
       "      <th>2</th>\n",
       "    </tr>\n",
       "  </thead>\n",
       "  <tbody>\n",
       "    <tr>\n",
       "      <th>0</th>\n",
       "      <td>101</td>\n",
       "      <td>102</td>\n",
       "      <td>103</td>\n",
       "    </tr>\n",
       "    <tr>\n",
       "      <th>1</th>\n",
       "      <td>김효관</td>\n",
       "      <td>이순신</td>\n",
       "      <td>김어진</td>\n",
       "    </tr>\n",
       "  </tbody>\n",
       "</table>\n",
       "</div>"
      ],
      "text/plain": [
       "     0    1    2\n",
       "0  101  102  103\n",
       "1  김효관  이순신  김어진"
      ]
     },
     "execution_count": 5,
     "metadata": {},
     "output_type": "execute_result"
    }
   ],
   "source": [
    "pd.DataFrame(zip(columnList1,columnList2,columnList3)) # 위에와 차이를 이해하자! 리스트를 그냥 그대로 붙여버림."
   ]
  },
  {
   "cell_type": "code",
   "execution_count": 31,
   "metadata": {},
   "outputs": [],
   "source": [
    "# pd.concat([columnList1,columnList2])   불가능하다! 왜냐하면 concat은 이미 판다스가 DataFrame으로 만든 것을 합치는 것!</br>\n",
    "#                                        즉, DataFrame + DataFrame의 병합시 사용하는 명령어!!"
   ]
  },
  {
   "cell_type": "markdown",
   "metadata": {},
   "source": [
    "## 3. 셀레니움"
   ]
  },
  {
   "cell_type": "code",
   "execution_count": 12,
   "metadata": {},
   "outputs": [],
   "source": [
    "from selenium import webdriver\n",
    "import requests, bs4\n",
    "import pandas as pd"
   ]
  },
  {
   "cell_type": "code",
   "execution_count": 13,
   "metadata": {},
   "outputs": [],
   "source": [
    "driver_loc = \"/Applications/chromedriver\"\n",
    "options = webdriver.ChromeOptions()\n",
    "options.add_argument(\"window-size=1920x1080\")\n",
    "driver = webdriver.Chrome(driver_loc, options=options)"
   ]
  },
  {
   "cell_type": "code",
   "execution_count": 5,
   "metadata": {},
   "outputs": [],
   "source": [
    "baseUrl = \"https://sparkkorea.com\"\n",
    "driver.get(baseUrl)"
   ]
  },
  {
   "cell_type": "code",
   "execution_count": 6,
   "metadata": {},
   "outputs": [
    {
     "data": {
      "text/plain": [
       "'https://sparkkorea.com/'"
      ]
     },
     "execution_count": 6,
     "metadata": {},
     "output_type": "execute_result"
    }
   ],
   "source": [
    "driver.current_url"
   ]
  },
  {
   "cell_type": "code",
   "execution_count": 7,
   "metadata": {},
   "outputs": [],
   "source": [
    "quizurl = '//*[@id=\"menu-item-382\"]/a'\n",
    "driver.find_element_by_xpath(quizurl).click()"
   ]
  },
  {
   "cell_type": "code",
   "execution_count": 14,
   "metadata": {},
   "outputs": [],
   "source": [
    "from selenium.webdriver.common.action_chains import ActionChains"
   ]
  },
  {
   "cell_type": "code",
   "execution_count": 15,
   "metadata": {},
   "outputs": [],
   "source": [
    "coupangUrl = 'http://www.coupang.com'\n",
    "driver.get(coupangUrl)"
   ]
  },
  {
   "cell_type": "code",
   "execution_count": 22,
   "metadata": {},
   "outputs": [],
   "source": [
    "mainMenu = '//*[@id=\"header\"]/div/a'\n",
    "main = driver.find_element_by_xpath(mainMenu)\n",
    "subMenu = '//*[@id=\"gnbAnalytics\"]/ul[1]/li[4]a'\n",
    "sub = driver.find_element_by_xpath(subMenu)"
   ]
  },
  {
   "cell_type": "code",
   "execution_count": 23,
   "metadata": {},
   "outputs": [],
   "source": [
    "ActionChains(driver).move_to_element(main).click(sub).perform()"
   ]
  },
  {
   "cell_type": "code",
   "execution_count": null,
   "metadata": {},
   "outputs": [],
   "source": []
  },
  {
   "cell_type": "code",
   "execution_count": null,
   "metadata": {},
   "outputs": [],
   "source": []
  },
  {
   "cell_type": "markdown",
   "metadata": {},
   "source": [
    "## 4. 퀴즈 1"
   ]
  },
  {
   "cell_type": "raw",
   "metadata": {},
   "source": [
    "sparkkorea.com/테스트\n",
    "표 데이터 외에 컬럼도 크롤링 해서 생성한다.\n",
    "\n",
    "예)\n",
    "columnList = 크롤링 한 값 (리스트)\n",
    "pd.Dataframe(rowList, columns=columnList)"
   ]
  },
  {
   "cell_type": "code",
   "execution_count": 8,
   "metadata": {},
   "outputs": [
    {
     "data": {
      "text/html": [
       "<div>\n",
       "<style scoped>\n",
       "    .dataframe tbody tr th:only-of-type {\n",
       "        vertical-align: middle;\n",
       "    }\n",
       "\n",
       "    .dataframe tbody tr th {\n",
       "        vertical-align: top;\n",
       "    }\n",
       "\n",
       "    .dataframe thead th {\n",
       "        text-align: right;\n",
       "    }\n",
       "</style>\n",
       "<table border=\"1\" class=\"dataframe\">\n",
       "  <thead>\n",
       "    <tr style=\"text-align: right;\">\n",
       "      <th></th>\n",
       "      <th>학번</th>\n",
       "      <th>이름</th>\n",
       "    </tr>\n",
       "  </thead>\n",
       "  <tbody>\n",
       "    <tr>\n",
       "      <th>0</th>\n",
       "      <td>101</td>\n",
       "      <td>김효관</td>\n",
       "    </tr>\n",
       "    <tr>\n",
       "      <th>1</th>\n",
       "      <td>102</td>\n",
       "      <td>이순신</td>\n",
       "    </tr>\n",
       "    <tr>\n",
       "      <th>2</th>\n",
       "      <td>103</td>\n",
       "      <td>김어진</td>\n",
       "    </tr>\n",
       "  </tbody>\n",
       "</table>\n",
       "</div>"
      ],
      "text/plain": [
       "    학번   이름\n",
       "0  101  김효관\n",
       "1  102  이순신\n",
       "2  103  김어진"
      ]
     },
     "execution_count": 8,
     "metadata": {},
     "output_type": "execute_result"
    }
   ],
   "source": [
    "import requests, bs4\n",
    "import pandas as pd\n",
    "\n",
    "# Step 1. 페이지 긁어오기.\n",
    "spark_url = 'http://www.sparkkorea.com/테스트'\n",
    "response = requests.get(spark_url)\n",
    "response.encoding = 'UTF-8'\n",
    "\n",
    "# Step 2. 페이지 예쁘게 담아내기.\n",
    "spark_html = response.text\n",
    "spark_bs = bs4.BeautifulSoup(spark_html, \"html.parser\")\n",
    "# spark_bs # 디버깅용\n",
    "\n",
    "# Step 3. 테이블 찾기\n",
    "tableTags = spark_bs.find(\"table\")\n",
    "# tableTags # 디버깅용\n",
    "\n",
    "# Step 3.1 범위 좁히기\n",
    "trTags = tableTags.find_all(\"tr\")\n",
    "# trTags # 디버깅용\n",
    "\n",
    "# Step 4. 각각의 데이터 담아내기.\n",
    "columnHeadList = []    # 헤더.\n",
    "rowList = []           # 본문.\n",
    "totalRowList = []        # 헤더 + 본문.\n",
    "\n",
    "trLen = len(trTags)    # 전체를 돌려줄 바깥 for문\n",
    "for i in range(0,trLen,):\n",
    "    thTags = trTags[i].find_all(\"th\")\n",
    "    thLen = len(thTags)    # 한 번에 다 못 돌려서 2중 for문 돌려야 함.\n",
    "    if (thLen != 0):       # th 태그가 있는 경우만 실행.\n",
    "        for j in range(0,thLen,):\n",
    "            eachText = thTags[j].text\n",
    "            columnHeadList.append(eachText)\n",
    "    else:\n",
    "        pass\n",
    "        \n",
    "    tdTags = trTags[i].find_all(\"td\")\n",
    "    tdLen = len(tdTags)    # 한 번에 다 못 돌려서 2중 for문 돌려야 함.\n",
    "    if (tdLen != 0):       # td 태그가 있는 경우만 실행.\n",
    "        for j in range(0, tdLen,):\n",
    "            eachText = tdTags[j].text\n",
    "            rowList.append(eachText)    # 안쪽 리스트에 column이 될 각각의 데이터 넣어주기.\n",
    "        totalRowList.append(rowList)    # 바깥쪽 리스트에 안쪽 리스트를 하나씩 추가하기. 얘는 for문 밖으로 빼줘야한다. 안에 있으면 [['101'], ['김효관'], ['102'], ['이순신'], ['103'], ['김어진']] 로 들어감.\n",
    "        rowList = []                    # 안쪽 리스트 비워주기.\n",
    "    else:\n",
    "        pass\n",
    "    \n",
    "# columnHeadList # 디버깅용.\n",
    "# totalRowList # 디버깅용.\n",
    "\n",
    "result = pd.DataFrame(totalRowList, columns = columnHeadList)\n",
    "result"
   ]
  },
  {
   "cell_type": "markdown",
   "metadata": {},
   "source": [
    "### 방법 2."
   ]
  },
  {
   "cell_type": "code",
   "execution_count": 10,
   "metadata": {},
   "outputs": [
    {
     "data": {
      "text/html": [
       "<div>\n",
       "<style scoped>\n",
       "    .dataframe tbody tr th:only-of-type {\n",
       "        vertical-align: middle;\n",
       "    }\n",
       "\n",
       "    .dataframe tbody tr th {\n",
       "        vertical-align: top;\n",
       "    }\n",
       "\n",
       "    .dataframe thead th {\n",
       "        text-align: right;\n",
       "    }\n",
       "</style>\n",
       "<table border=\"1\" class=\"dataframe\">\n",
       "  <thead>\n",
       "    <tr style=\"text-align: right;\">\n",
       "      <th></th>\n",
       "      <th>학번</th>\n",
       "      <th>이름</th>\n",
       "    </tr>\n",
       "  </thead>\n",
       "  <tbody>\n",
       "    <tr>\n",
       "      <th>0</th>\n",
       "      <td>101</td>\n",
       "      <td>김효관</td>\n",
       "    </tr>\n",
       "    <tr>\n",
       "      <th>1</th>\n",
       "      <td>102</td>\n",
       "      <td>이순신</td>\n",
       "    </tr>\n",
       "    <tr>\n",
       "      <th>2</th>\n",
       "      <td>103</td>\n",
       "      <td>김어진</td>\n",
       "    </tr>\n",
       "  </tbody>\n",
       "</table>\n",
       "</div>"
      ],
      "text/plain": [
       "    학번   이름\n",
       "0  101  김효관\n",
       "1  102  이순신\n",
       "2  103  김어진"
      ]
     },
     "execution_count": 10,
     "metadata": {},
     "output_type": "execute_result"
    }
   ],
   "source": [
    "import requests, bs4\n",
    "import pandas as pd\n",
    "\n",
    "# 1. 코드 담아내고 영역 분리.\n",
    "url = \"https://sparkkorea.com/테스트/\"\n",
    "response = requests.get(url).text.encode('utf-8')\n",
    "response = bs4.BeautifulSoup(response, 'html.parser')\n",
    "\n",
    "target = response.find('table', {'id':'test_table', 'class':'type07'})\n",
    "# target # 디버깅용.\n",
    "\n",
    "# 2. 컬럼헤더 분리.\n",
    "thead = target.find_all('th')\n",
    "\n",
    "theadList = []\n",
    "\n",
    "theadLen = len(thead)\n",
    "for i in range(0,theadLen):\n",
    "    thead = target.find_all('th')[i].text\n",
    "    theadList.append(thead)\n",
    "    \n",
    "# theadList # 디버깅용.\n",
    "\n",
    "# 3. body 데이터 분리.\n",
    "tbody = target.find('tbody')\n",
    "# tbody # 디버깅용.\n",
    "trData = tbody.find_all('tr')\n",
    "# trData # 디버깅용.\n",
    "tdData = trData[0].find_all('td')\n",
    "# tdData # 디버깅용.\n",
    "# tdData[0] # 디버깅용.\n",
    "\n",
    "rowList = []\n",
    "columnList = []\n",
    "\n",
    "trDataLen = len(trData)\n",
    "for i in range(0,trDataLen):\n",
    "    tdData = trData[i].find_all('td')\n",
    "    \n",
    "    tdDataLen = len(tdData)\n",
    "    for j in range(0,tdDataLen):\n",
    "        element = tdData[j].text\n",
    "        columnList.append(element)\n",
    "\n",
    "    rowList.append(columnList)\n",
    "    columnList = []\n",
    "    \n",
    "# rowList # 디버깅용. # [['101', '김효관'], ['102', '이순신'], ['103', '김어진']]\n",
    "\n",
    "# 4. 데이터프레임 만들기.\n",
    "result = pd.DataFrame(rowList, columns=theadList)\n",
    "result"
   ]
  },
  {
   "cell_type": "markdown",
   "metadata": {},
   "source": [
    "### 방법 3."
   ]
  },
  {
   "cell_type": "code",
   "execution_count": 9,
   "metadata": {},
   "outputs": [
    {
     "data": {
      "text/html": [
       "<div>\n",
       "<style scoped>\n",
       "    .dataframe tbody tr th:only-of-type {\n",
       "        vertical-align: middle;\n",
       "    }\n",
       "\n",
       "    .dataframe tbody tr th {\n",
       "        vertical-align: top;\n",
       "    }\n",
       "\n",
       "    .dataframe thead th {\n",
       "        text-align: right;\n",
       "    }\n",
       "</style>\n",
       "<table border=\"1\" class=\"dataframe\">\n",
       "  <thead>\n",
       "    <tr style=\"text-align: right;\">\n",
       "      <th></th>\n",
       "      <th>학번</th>\n",
       "      <th>이름</th>\n",
       "    </tr>\n",
       "  </thead>\n",
       "  <tbody>\n",
       "    <tr>\n",
       "      <th>0</th>\n",
       "      <td>101</td>\n",
       "      <td>김효관</td>\n",
       "    </tr>\n",
       "    <tr>\n",
       "      <th>1</th>\n",
       "      <td>102</td>\n",
       "      <td>이순신</td>\n",
       "    </tr>\n",
       "    <tr>\n",
       "      <th>2</th>\n",
       "      <td>103</td>\n",
       "      <td>김어진</td>\n",
       "    </tr>\n",
       "  </tbody>\n",
       "</table>\n",
       "</div>"
      ],
      "text/plain": [
       "    학번   이름\n",
       "0  101  김효관\n",
       "1  102  이순신\n",
       "2  103  김어진"
      ]
     },
     "execution_count": 9,
     "metadata": {},
     "output_type": "execute_result"
    }
   ],
   "source": [
    "import requests, bs4\n",
    "import pandas as pd\n",
    "\n",
    "# 1. 코드 담아내고 영역 분리.\n",
    "url = \"https://sparkkorea.com/테스트/\"\n",
    "response = requests.get(url).text.encode('utf-8')\n",
    "response = bs4.BeautifulSoup(response, 'html.parser')\n",
    "\n",
    "target = response.find('table', {'id':'test_table', 'class':'type07'})\n",
    "# target # 디버깅용.\n",
    "\n",
    "# 2. 컬럼헤더 분리\n",
    "thead = target.find_all('th')\n",
    "\n",
    "theadList = []\n",
    "\n",
    "theadLen = len(thead)\n",
    "for i in range(0,theadLen):\n",
    "    thead = target.find_all('th')[i].text\n",
    "    theadList.append(thead)\n",
    "    \n",
    "# theadList # 디버깅용.\n",
    "\n",
    "# 3. body 데이터 분리\n",
    "tdTags = target.find_all('td')\n",
    "# tdTags # 디버깅용.\n",
    "\n",
    "rowList = []\n",
    "columnList =[]\n",
    "\n",
    "tdTagsLen = len(tdTags)\n",
    "for i in range(0,tdTagsLen):\n",
    "    element = tdTags[i].text\n",
    "    columnList.append(element)\n",
    "    if i % 2 == 1:\n",
    "        rowList.append(columnList)\n",
    "        columnList = []\n",
    "    \n",
    "rowList\n",
    "    \n",
    "# rowList # 디버깅용. # [['101', '김효관'], ['102', '이순신'], ['103', '김어진']]\n",
    "\n",
    "# 4. 데이터프레임 만들기.\n",
    "result = pd.DataFrame(rowList, columns=theadList)\n",
    "result"
   ]
  },
  {
   "cell_type": "markdown",
   "metadata": {},
   "source": [
    "## 4. 퀴즈 2"
   ]
  },
  {
   "cell_type": "raw",
   "metadata": {},
   "source": [
    "selenium 활용 \n",
    "퀴즈 페이지 내 퀴즈 제목, 링크 정보를\n",
    "크롤링 하세요!"
   ]
  },
  {
   "cell_type": "code",
   "execution_count": 13,
   "metadata": {},
   "outputs": [],
   "source": [
    "import requests, bs4\n",
    "import pandas as pd\n",
    "from selenium import webdriver\n",
    "\n",
    "# 1. 셀레니움을 이용해 목적지로 이동하기.\n",
    "\n",
    "from selenium import webdriver\n",
    "\n",
    "# Step 1. 크롬 드라이버 위치 설정.\n",
    "chr_driver_path = '/Applications/chromedriver'\n",
    "\n",
    "# Step 2. 크롬 드라이버가 사용할 크롬 브라우저의 옵션을 설정.\n",
    "options = webdriver.ChromeOptions()\n",
    "options.add_argument('window-size=5120x2880')\n",
    "\n",
    "# Step 3. 위에 옵션을 활용하여 드라이버를 만든다.\n",
    "driver = webdriver.Chrome(chr_driver_path, options=options)\n",
    "# 혹시라도 창이 작아서 안 보이는 일이 없도록 최대화로 열기.\n",
    "# driver = webdriver.Chrome(chr_driver_path)\n",
    "# driver.maximize_window()\n",
    "\n",
    "# Step 4. 스파크 홈페이지로 이동하기.\n",
    "spark_url = 'https://sparkkorea.com/'\n",
    "driver.get(spark_url)    # URL을 가지고 이동하는 방법. driver.get()\n",
    "# driver.current_url # 디버깅용.\n",
    "\n",
    "# Step 5. 스파크 홈페이지 내에서 퀴즈로 이동하기.\n",
    "spark_quiz_xpath = '//*[@id=\"menu-item-382\"]/a'\n",
    "# xpath 요소를 가지고 마우스 클릭을 통해 이동하는 방법. driver.find_element_by_xpath().click()\n",
    "driver.find_element_by_xpath(spark_quiz_xpath).click()\n",
    "# driver.currunt_url # 디버깅용.\n",
    "\n",
    "# 2. requests, bs4를 이용해 원하는 요소를 추출해서 pandas를 이용해 담아내기.\n",
    "\n",
    "# Step 1. requests 모듈로 웹페이지 긁어와 저장하기.\n",
    "response = requests.get(driver.current_url)   # requests 함수를 이용해 서버를 get(얻어낸다)!\n",
    "response.encoding = 'UTF-8'\n",
    "\n",
    "# Step 2. bs4(BeautifulSoup) 모듈로 웹페이지를 예쁘게 담기.\n",
    "spark_html = response.text    # spark_html이란 변수에 위에서 불러온 response를 text로 담아라.\n",
    "spark_html_bs = bs4.BeautifulSoup(spark_html, \"html.parser\")    # spark_html에 대해서 \"html.parser\" 파싱하겠다. (\"html.parser\"는 안 써도 잘 돌아가긴 한다.)\n",
    "# spark_html_bs라는 변수에 bs4(BeautifulSoup)모듈의 BeautifulSoup 함수를 이용해 예쁘게 담아라.\n",
    "# 우리가 코드를 짤 때 IDE(이클립스, 아톰 등)을 사용하듯이 BeautifulSoup가 파이썬 내에서 코드를 예쁘게 보여준다.\n",
    "# 앞으로 모든것은 bs4를 이용해 담은 이 'spark_html_bs'를 이용해 bs4의 다른 함수를 이용해 분석할거다.\n",
    "# spark_html_bs # 디버깅용.\n",
    "\n",
    "# Step 3. (범위 좁히기) 수많은 'div 태그' 구역 중 원하는 구역의 'div 태그' 구역만 골라서 추출해보자. (개발자 도구로 미리 확인하기.)\n",
    "# div 태그 : 속성 (i.e. id, class, etc...) 별로 구역을 나눈다. 이를 이용해 특정 구역에 특정 조건을 넣어 검색할 수 있다.\n",
    "# name = \"태그명\", attrs = {\"속성명\":\"속성값\"} 으로 찾는다. 여기서 attrs(파라미터)는 \"id명\":\"id값\" 또는 \"class명\":\"class값\"이다.\n",
    "# divTags_including_aTags에 spark_html_bs에서 찾아라.\n",
    "# 태그 이름이 div인데 그 중에서 {}\"속성명\":\"속성값\"}은 {\"class\":\"class_spark_quiz\", \"id\":\"id_spark_quiz\"}다.\n",
    "divTags_including_aTags = spark_html_bs.find\\\n",
    "(name = \"div\", attrs = {\"class\":\"class_spark_quiz\", \"id\":\"id_spark_quiz\"}) # find_all도 가능.\n",
    "# divTags_including_aTags # 디버깅용.\n",
    "\n",
    "# Step 4. (범위 좁히기) 추출한 'div 태그' 구역 중 원하는 'a 태그'만 다시 추출하자.\n",
    "aTags = divTags_including_aTags.find_all(name = \"a\")\n",
    "# aTags # 디버깅용. (리스트는 아니지만 인덱스를 가져 리스트처럼 사용할 수 있다.)\n",
    "\n",
    "# Step 5. 태그 범위 좁히기가 완료되면 원하는 요소만 뽑아서 매트릭스 리스트로 담아보자.\n",
    "rowList = []    # 행을 만들어줄 바깥 리스트 생성하기.\n",
    "\n",
    "aTagsLen = len(aTags)\n",
    "for i in range(0, aTagsLen,):\n",
    "    eachText = aTags[i].text               # i번째 객체 데이터에 넣을 'spark 퀴즈 타이틀'을 추출.\n",
    "    eachTitle = aTags[i].attrs[\"href\"]     # i번째 객체 데이터에 넣을 'spark 퀴즈 링크'을 추출.\n",
    "        \n",
    "    # [eachText,eachTitle]을 하나의 객체 데이터 리스트로 만들어 바깥 리스트(rowList)에 넣어 매트릭스 만들기.\n",
    "    rowList.append([eachText,eachTitle])\n",
    "    \n",
    "# Step 6. 위에서 만든 매트릭스 리스트를 DataFrame으로 만들어보자.\n",
    "rowList_DF = pd.DataFrame(rowList, columns = [\"spark 퀴즈 타이틀\",\"spark 퀴즈 링크\"])\n",
    "# rowList_DF # 디버깅용.\n",
    "\n",
    "rowList_DF.to_csv(\"./QuizScrap_JHP.csv\", index=False)"
   ]
  },
  {
   "cell_type": "markdown",
   "metadata": {},
   "source": [
    "## 반응형 웹 예외처리 적용 버전"
   ]
  },
  {
   "cell_type": "code",
   "execution_count": null,
   "metadata": {},
   "outputs": [],
   "source": [
    "import requests, bs4\n",
    "import pandas as pd\n",
    "from selenium import webdriver\n",
    "\n",
    "# 1. 셀레니움을 이용해 목적지로 이동하기.\n",
    "\n",
    "from selenium import webdriver\n",
    "\n",
    "# Step 1. 크롬 드라이버 위치 설정.\n",
    "chr_driver_path = '/Applications/chromedriver'\n",
    "\n",
    "# Step 2. 크롬 드라이버가 사용할 크롬 브라우저의 옵션을 설정.\n",
    "options = webdriver.ChromeOptions()\n",
    "options.add_argument('window-size=5120x2880')\n",
    "\n",
    "# Step 3. 위에 옵션을 활용하여 드라이버를 만든다.\n",
    "driver = webdriver.Chrome(chr_driver_path, options=options)\n",
    "# 혹시라도 창이 작아서 안 보이는 일이 없도록 최대화로 열기. -> 이걸 아래에 예외처리로 할거다.\n",
    "# driver = webdriver.Chrome(chr_driver_path)\n",
    "# driver.maximize_window()\n",
    "\n",
    "# Step 4. 스파크 홈페이지로 이동하기.\n",
    "spark_url = 'https://sparkkorea.com/'\n",
    "driver.get(spark_url)    # URL을 가지고 이동하는 방법. driver.get()\n",
    "# driver.current_url # 디버깅용.\n",
    "\n",
    "# Step 5. 스파크 홈페이지 내에서 퀴즈로 이동하기. (반응형 웹 예외처리 적용 버전)\n",
    "spark_main_xpath = '//*[@id=\"site-navigation\"]/button'\n",
    "spark_quiz_xpath = '//*[@id=\"menu-item-382\"]/a'\n",
    "# xpath 요소를 가지고 마우스 클릭을 통해 이동하는 방법. driver.find_element_by_xpath().click()\n",
    "try:\n",
    "    #(모바일 접속시 퀴즈 버튼이 바로 안 보임)\n",
    "    driver.find_element_by_xpath(spark_main_xpath).click()    # 메뉴를 먼저 찾고\n",
    "    driver.find_element_by_xpath(spark_quiz_xpath).click()    # 퀴즈 버튼을 찾아라\n",
    "    print(\"모바일 접근\")\n",
    "except Exception as e:\n",
    "    driver.find_element_by_xpath(spark_quiz_xpath).click()    # 퀴즈 버튼을 찾아라\n",
    "    print(\"PC 접근\")\n",
    "\n",
    "# driver.current_url # 디버깅용.\n",
    "\n",
    "# 2. requests, bs4를 이용해 원하는 요소를 추출해서 pandas를 이용해 담아내기.\n",
    "\n",
    "# Step 1. requests 모듈로 웹페이지 긁어와 저장하기.\n",
    "response = requests.get(driver.current_url)   # requests 함수를 이용해 서버를 get(얻어낸다)!\n",
    "response.encoding = 'UTF-8'\n",
    "\n",
    "# Step 2. bs4(BeautifulSoup) 모듈로 웹페이지를 예쁘게 담기.\n",
    "spark_html = response.text    # spark_html이란 변수에 위에서 불러온 response를 text로 담아라.\n",
    "spark_html_bs = bs4.BeautifulSoup(spark_html, \"html.parser\")    # spark_html에 대해서 \"html.parser\" 파싱하겠다. (\"html.parser\"는 안 써도 잘 돌아가긴 한다.)\n",
    "# spark_html_bs라는 변수에 bs4(BeautifulSoup)모듈의 BeautifulSoup 함수를 이용해 예쁘게 담아라.\n",
    "# 우리가 코드를 짤 때 IDE(이클립스, 아톰 등)을 사용하듯이 BeautifulSoup가 파이썬 내에서 코드를 예쁘게 보여준다.\n",
    "# 앞으로 모든것은 bs4를 이용해 담은 이 'spark_html_bs'를 이용해 bs4의 다른 함수를 이용해 분석할거다.\n",
    "# spark_html_bs # 디버깅용.\n",
    "\n",
    "# Step 3. (범위 좁히기) 수많은 'div 태그' 구역 중 원하는 구역의 'div 태그' 구역만 골라서 추출해보자. (개발자 도구로 미리 확인하기.)\n",
    "# div 태그 : 속성 (i.e. id, class, etc...) 별로 구역을 나눈다. 이를 이용해 특정 구역에 특정 조건을 넣어 검색할 수 있다.\n",
    "# name = \"태그명\", attrs = {\"속성명\":\"속성값\"} 으로 찾는다. 여기서 attrs(파라미터)는 \"id명\":\"id값\" 또는 \"class명\":\"class값\"이다.\n",
    "# divTags_including_aTags에 spark_html_bs에서 찾아라.\n",
    "# 태그 이름이 div인데 그 중에서 {}\"속성명\":\"속성값\"}은 {\"class\":\"class_spark_quiz\", \"id\":\"id_spark_quiz\"}다.\n",
    "divTags_including_aTags = spark_html_bs.find\\\n",
    "(name = \"div\", attrs = {\"class\":\"class_spark_quiz\", \"id\":\"id_spark_quiz\"}) # find_all도 가능.\n",
    "# divTags_including_aTags # 디버깅용.\n",
    "\n",
    "# Step 4. (범위 좁히기) 추출한 'div 태그' 구역 중 원하는 'a 태그'만 다시 추출하자.\n",
    "aTags = divTags_including_aTags.find_all(name = \"a\")\n",
    "# aTags # 디버깅용. (리스트는 아니지만 인덱스를 가져 리스트처럼 사용할 수 있다.)\n",
    "\n",
    "# Step 5. 태그 범위 좁히기가 완료되면 원하는 요소만 뽑아서 매트릭스 리스트로 담아보자.\n",
    "rowList = []    # 행을 만들어줄 바깥 리스트 생성하기.\n",
    "\n",
    "aTagsLen = len(aTags)\n",
    "for i in range(0, aTagsLen,):\n",
    "    eachText = aTags[i].text               # i번째 객체 데이터에 넣을 'spark 퀴즈 타이틀'을 추출.\n",
    "    eachTitle = aTags[i].attrs[\"href\"]     # i번째 객체 데이터에 넣을 'spark 퀴즈 링크'을 추출.\n",
    "        \n",
    "    # [eachText,eachTitle]을 하나의 객체 데이터 리스트로 만들어 바깥 리스트(rowList)에 넣어 매트릭스 만들기.\n",
    "    rowList.append([eachText,eachTitle])\n",
    "    \n",
    "# Step 6. 위에서 만든 매트릭스 리스트를 DataFrame으로 만들어보자.\n",
    "rowList_DF = pd.DataFrame(rowList, columns = [\"spark 퀴즈 타이틀\",\"spark 퀴즈 링크\"])\n",
    "# rowList_DF # 디버깅용.\n",
    "\n",
    "rowList_DF.to_csv(\"./QuizScrap.csv\", index=False)"
   ]
  }
 ],
 "metadata": {
  "kernelspec": {
   "display_name": "Python 3",
   "language": "python",
   "name": "python3"
  },
  "language_info": {
   "codemirror_mode": {
    "name": "ipython",
    "version": 3
   },
   "file_extension": ".py",
   "mimetype": "text/x-python",
   "name": "python",
   "nbconvert_exporter": "python",
   "pygments_lexer": "ipython3",
   "version": "3.8.2"
  }
 },
 "nbformat": 4,
 "nbformat_minor": 4
}
