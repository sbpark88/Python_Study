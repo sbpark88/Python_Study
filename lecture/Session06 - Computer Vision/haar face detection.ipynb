{
 "cells": [
  {
   "cell_type": "code",
   "execution_count": 1,
   "metadata": {},
   "outputs": [
    {
     "name": "stderr",
     "output_type": "stream",
     "text": [
      "Using TensorFlow backend.\n"
     ]
    }
   ],
   "source": [
    "import warnings\n",
    "warnings.filterwarnings(\"ignore\")\n",
    "\n",
    "from keras.models import model_from_json\n",
    "import numpy as np\n",
    "\n",
    "\n",
    "EMOTIONS_LIST = [\"Angry\", \"Disgust\", \"Fear\", \"Happy\",\"Neutral\", \"Sad\", \"Surprise\"]\n",
    "\n",
    "model_json_file =\"./model3.json\"\n",
    "model_weights_file = \"./model_weights5.h5\"\n",
    "with open(model_json_file, \"r\") as json_file:\n",
    "    loaded_model_json = json_file.read()\n",
    "    loaded_model = model_from_json(loaded_model_json)\n",
    "\n",
    "# load weights into the new model\n",
    "loaded_model.load_weights(model_weights_file)\n",
    "#loaded_model._make_predict_function()"
   ]
  },
  {
   "cell_type": "markdown",
   "metadata": {},
   "source": [
    "### 1. 예측 haar 실습"
   ]
  },
  {
   "cell_type": "code",
   "execution_count": 2,
   "metadata": {},
   "outputs": [],
   "source": [
    "import cv2\n",
    "import sys\n",
    "\n",
    "font = cv2.FONT_HERSHEY_SIMPLEX\n",
    "faceCascade = cv2.CascadeClassifier('haarcascade_frontalface_default.xml')\n",
    "\n",
    "video_capture = cv2.VideoCapture(0)\n",
    "\n",
    "# img_counter = 0\n",
    "\n",
    "while video_capture.isOpened:\n",
    "\n",
    "    ret, frame = video_capture.read()\n",
    "    gray = cv2.cvtColor(frame, cv2.COLOR_BGR2GRAY)\n",
    "    k = cv2.waitKey(33)\n",
    "    faces = faceCascade.detectMultiScale(\n",
    "        gray, scaleFactor=1.5, minNeighbors=5,\n",
    "        #         minSize=(30, 30),\n",
    "        flags=cv2.CASCADE_SCALE_IMAGE\n",
    "    )\n",
    "\n",
    "    # 획득 이미지 회색컬러로 변경\n",
    "    gray_fr = cv2.cvtColor(frame, cv2.COLOR_BGR2GRAY)\n",
    "    \n",
    "    # 인식된 얼굴 주위에 사각형 영역 표시\n",
    "    # haar cascading 통해 face 이미지 추출 후 좌표활용)\n",
    "    for (x, y, w, h) in faces:\n",
    "        fc = gray_fr[y:y+h, x:x+w]\n",
    "\n",
    "        # 획득 이미지 크기조절 및 딥러닝 입력 형태로 변환\n",
    "        roi = cv2.resize(fc, (48, 48))\n",
    "        roip = roi.reshape(1,48,48,1)\n",
    "             \n",
    "        # 예측\n",
    "        predict = loaded_model.predict(roip)\n",
    "        # 예측결과 리턴\n",
    "        pred = EMOTIONS_LIST[np.argmax(predict)]\n",
    "        # 예측결과 화면 시연 및 사각형 영역 표시\n",
    "        cv2.putText(frame, pred, (x, y), font, 1, (255, 255, 0), 2)\n",
    "        cv2.rectangle(frame, (x, y), (x+w, y+h), (0, 255, 0), 2)\n",
    "\n",
    "    # 화면 출력\n",
    "    cv2.imshow('FaceDetection', frame)\n",
    "\n",
    "    if k == 27: #ESC Pressed\n",
    "        break\n",
    "#     elif k == 32:\n",
    "#         # SPACE pressed\n",
    "#         img_name = \"facedetect_webcam.png\"\n",
    "#         cv2.imwrite(img_name, frame)\n",
    "        \n",
    "\n",
    "# 종료 후 캡쳐 릴리즈 및 윈도우 종료\n",
    "video_capture.release()\n",
    "cv2.destroyAllWindows()"
   ]
  },
  {
   "cell_type": "markdown",
   "metadata": {},
   "source": [
    "### 2. 일반 haar 실습"
   ]
  },
  {
   "cell_type": "code",
   "execution_count": 4,
   "metadata": {},
   "outputs": [],
   "source": [
    "import cv2\n",
    "import sys\n",
    "\n",
    "faceCascade = cv2.CascadeClassifier('haarcascade_frontalface_default.xml')\n",
    "\n",
    "video_capture = cv2.VideoCapture(0)\n",
    "\n",
    "# img_counter = 0\n",
    "\n",
    "while video_capture.isOpened:\n",
    "\n",
    "    ret, frame = video_capture.read()\n",
    "    gray = cv2.cvtColor(frame, cv2.COLOR_BGR2GRAY)\n",
    "    k = cv2.waitKey(33)\n",
    "    faces = faceCascade.detectMultiScale(\n",
    "        gray, scaleFactor=1.5, minNeighbors=5,\n",
    "        minSize=(30, 30),\n",
    "        flags=cv2.CASCADE_SCALE_IMAGE\n",
    "    )\n",
    "\n",
    "    # 인식된 얼굴 주위에 사각형 영역 표시\n",
    "    for (x, y, w, h) in faces:\n",
    "        cv2.rectangle(frame, (x, y), (x+w, y+h), (0, 255, 0), 2)\n",
    "\n",
    "    # 화면 출력\n",
    "    cv2.imshow('FaceDetection', frame)\n",
    "\n",
    "    if k == 27: #ESC Pressed\n",
    "        break\n",
    "    elif k == 32:\n",
    "        # SPACE pressed\n",
    "        img_name = \"facedetect_webcam.png\"\n",
    "        cv2.imwrite(img_name, frame)\n",
    "        img_counter += 1\n",
    "        \n",
    "\n",
    "# 종료 후 캡쳐 릴리즈 및 윈도우 종료\n",
    "video_capture.release()\n",
    "cv2.destroyAllWindows()"
   ]
  },
  {
   "cell_type": "code",
   "execution_count": null,
   "metadata": {},
   "outputs": [],
   "source": []
  }
 ],
 "metadata": {
  "kernelspec": {
   "display_name": "Python 3",
   "language": "python",
   "name": "python3"
  },
  "language_info": {
   "codemirror_mode": {
    "name": "ipython",
    "version": 3
   },
   "file_extension": ".py",
   "mimetype": "text/x-python",
   "name": "python",
   "nbconvert_exporter": "python",
   "pygments_lexer": "ipython3",
   "version": "3.7.6"
  }
 },
 "nbformat": 4,
 "nbformat_minor": 4
}
