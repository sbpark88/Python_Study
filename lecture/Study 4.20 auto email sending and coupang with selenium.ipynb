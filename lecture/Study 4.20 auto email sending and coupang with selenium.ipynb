{
 "cells": [
  {
   "cell_type": "markdown",
   "metadata": {},
   "source": [
    "# 목록\n",
    "## 1. 참조 메일전송 자동화\n",
    "## 2. 퀴즈\n",
    "셀레니움 활용 quiz 페이지 스크랩 후</br>\n",
    "(제목, 링크)</br>\n",
    "스크랩 정보를 haiteam@kopo.ac.kr로 전송하세요"
   ]
  },
  {
   "cell_type": "markdown",
   "metadata": {},
   "source": [
    "## 1. 참조. 메일전송 자동화"
   ]
  },
  {
   "cell_type": "markdown",
   "metadata": {},
   "source": [
    "[필수] 사전준비 GMAIL 앱 비밀번호 생성"
   ]
  },
  {
   "cell_type": "markdown",
   "metadata": {},
   "source": [
    "### 1. 메일 전송 라이브러리 선언"
   ]
  },
  {
   "cell_type": "code",
   "execution_count": 1,
   "metadata": {},
   "outputs": [],
   "source": [
    "# SMTP 프로토콜 로드\n",
    "import smtplib\n",
    "\n",
    "# 이메일을 간단하게 보낼수 있는 라이브러리 로드\n",
    "from email.message import EmailMessage"
   ]
  },
  {
   "cell_type": "code",
   "execution_count": 2,
   "metadata": {},
   "outputs": [],
   "source": [
    "# import pickle\n",
    "# pw = \"password\"    \n",
    "# pickle.dump(pw, open(\"pw.pickle\", 'wb'))\n",
    "# pw = pickle.load(open('pw.pickle', 'rb'))"
   ]
  },
  {
   "cell_type": "markdown",
   "metadata": {},
   "source": [
    "import smtplib를 활용하는 부분"
   ]
  },
  {
   "cell_type": "code",
   "execution_count": 3,
   "metadata": {},
   "outputs": [
    {
     "data": {
      "text/plain": [
       "(220, b'2.0.0 Ready to start TLS')"
      ]
     },
     "execution_count": 3,
     "metadata": {},
     "output_type": "execute_result"
    }
   ],
   "source": [
    "# GMAIL 메일 설정\n",
    "smtp_gmail = smtplib.SMTP('smtp.gmail.com', 587)\n",
    "\n",
    "# 서버 연결을 설정하는 단계\n",
    "smtp_gmail.ehlo()\n",
    " \n",
    "# 연결을 암호화\n",
    "smtp_gmail.starttls()"
   ]
  },
  {
   "cell_type": "code",
   "execution_count": 4,
   "metadata": {},
   "outputs": [],
   "source": [
    "#로그인 아이디 / 앱 비밀번호 (설정 -> 보안 -> 앱 비밀번호)\n",
    "userid = \"xxx@gmail.com\""
   ]
  },
  {
   "cell_type": "code",
   "execution_count": 5,
   "metadata": {},
   "outputs": [],
   "source": [
    "import getpass"
   ]
  },
  {
   "cell_type": "code",
   "execution_count": 6,
   "metadata": {},
   "outputs": [
    {
     "name": "stdin",
     "output_type": "stream",
     "text": [
      " ················\n"
     ]
    }
   ],
   "source": [
    "userpw = getpass.getpass()"
   ]
  },
  {
   "cell_type": "code",
   "execution_count": 9,
   "metadata": {},
   "outputs": [],
   "source": [
    "# userpw    # 입력할 때만 안 보이는거다... 값은 그냥 담겨서 보여짐."
   ]
  },
  {
   "cell_type": "code",
   "execution_count": 7,
   "metadata": {},
   "outputs": [
    {
     "data": {
      "text/plain": [
       "(235, b'2.7.0 Accepted')"
      ]
     },
     "execution_count": 7,
     "metadata": {},
     "output_type": "execute_result"
    }
   ],
   "source": [
    "smtp_gmail.login(userid, userpw)"
   ]
  },
  {
   "cell_type": "markdown",
   "metadata": {},
   "source": [
    "### 3. 수신자 목록 정의 및 불러오기"
   ]
  },
  {
   "cell_type": "code",
   "execution_count": 10,
   "metadata": {},
   "outputs": [],
   "source": [
    "# 저장된 csv 파일 불러오기\n",
    "# emaillist = pd.read_csv(\"./emailaddress.csv\", encoding='ms949')\n",
    "# emaillist\n",
    "# 이메일 주소정보 리스트 변환\n",
    "# to = emaillist['이메일'].tolist()\n",
    "# to\n",
    "\n",
    "to = [\"haiteam@kopo.ac.kr\", \"haiteam@naver.com\"]"
   ]
  },
  {
   "cell_type": "markdown",
   "metadata": {},
   "source": [
    "### 4. 메일전송"
   ]
  },
  {
   "cell_type": "markdown",
   "metadata": {},
   "source": [
    "from email.message import EmailMessage 를 활용하는 부분"
   ]
  },
  {
   "cell_type": "code",
   "execution_count": 120,
   "metadata": {},
   "outputs": [],
   "source": [
    "msg=EmailMessage()\n",
    " \n",
    "# 제목 입력\n",
    "msg['Subject']=\"퀴즈 정보\"\n",
    " \n",
    "# 내용 입력\n",
    "msg.set_content(\"퀴즈정보\")\n",
    " \n",
    "# 보내는 사람\n",
    "msg['From']='haiteamm@gmail.com'\n",
    " \n",
    "# 받는 사람\n",
    "msg['To'] = \",\".join(to)"
   ]
  },
  {
   "cell_type": "code",
   "execution_count": 120,
   "metadata": {},
   "outputs": [],
   "source": [
    "# 첨부파일 추가\n",
    "file=''\n",
    "fp = open(file,'rb')\n",
    "file_data=fp.read()"
   ]
  },
  {
   "cell_type": "code",
   "execution_count": 120,
   "metadata": {},
   "outputs": [],
   "source": [
    "msg.add_attachment(file_data,\n",
    "                   maintype='text',\n",
    "                   subtype='plain',\n",
    "                   filename=file)\n",
    "file2='link_scraping_result.csv'\n",
    "fp = open(file,'rb')\n",
    "file_data=fp.read()\n",
    "msg.add_attachment(file_data,\n",
    "                   maintype='text',\n",
    "                   subtype='plain',\n",
    "                   filename=file2)\n",
    "# 메일 전송\n",
    "smtp_gmail.send_message(msg)\n",
    "smtp_gmail.close()"
   ]
  },
  {
   "cell_type": "markdown",
   "metadata": {},
   "source": [
    "# 참조. 프로젝트 실습"
   ]
  },
  {
   "cell_type": "markdown",
   "metadata": {},
   "source": [
    "### 2.크롬 브라우저 설정"
   ]
  },
  {
   "cell_type": "markdown",
   "metadata": {},
   "source": [
    "### 3. 네이버 로그인"
   ]
  },
  {
   "cell_type": "markdown",
   "metadata": {},
   "source": [
    "### 4. 카페 접속"
   ]
  },
  {
   "cell_type": "markdown",
   "metadata": {},
   "source": [
    "### 5. 검색어 타입 및 프레임 전환"
   ]
  },
  {
   "cell_type": "markdown",
   "metadata": {},
   "source": [
    "### 6. 페이지 크롤링"
   ]
  },
  {
   "cell_type": "markdown",
   "metadata": {},
   "source": [
    "# [실습] 쿠팡 셀레니움 실습"
   ]
  },
  {
   "cell_type": "markdown",
   "metadata": {},
   "source": [
    "## 2. 퀴즈\n",
    "셀레니움 활용 quiz 페이지 스크랩 후</br>\n",
    "(제목, 링크)</br>\n",
    "스크랩 정보를 haiteam@kopo.ac.kr로 전송하세요"
   ]
  },
  {
   "cell_type": "code",
   "execution_count": 10,
   "metadata": {},
   "outputs": [],
   "source": [
    "import requests, bs4\n",
    "import pandas as pd\n",
    "from selenium import webdriver"
   ]
  },
  {
   "cell_type": "markdown",
   "metadata": {},
   "source": [
    "1. 셀레니움을 이용해 목적지로 이동하기."
   ]
  },
  {
   "cell_type": "code",
   "execution_count": 1,
   "metadata": {},
   "outputs": [],
   "source": [
    "from selenium import webdriver\n",
    "\n",
    "# Step 1. 크롬 드라이버 위치 설정.\n",
    "chr_driver_path = '/Applications/chromedriver'\n",
    "\n",
    "# Step 2. 크롬 드라이버가 사용할 크롬 브라우저의 옵션을 설정.\n",
    "options = webdriver.ChromeOptions()\n",
    "options.add_argument('window-size=5120x2880')\n",
    "\n",
    "# Step 3. 위에 옵션을 활용하여 드라이버를 만든다.\n",
    "driver = webdriver.Chrome(chr_driver_path, options=options)\n",
    "# 혹시라도 창이 작아서 안 보이는 일이 없도록 최대화로 열기.\n",
    "# driver = webdriver.Chrome(chr_driver_path)\n",
    "# driver.maximize_window()\n",
    "\n",
    "# Step 4. 스파크 홈페이지로 이동하기.\n",
    "spark_url = 'https://sparkkorea.com/'\n",
    "driver.get(spark_url)    # URL을 가지고 이동하는 방법. driver.get()\n",
    "# driver.current_url # 디버깅용.\n",
    "\n",
    "# Step 5. 스파크 홈페이지 내에서 퀴즈로 이동하기.\n",
    "spark_quiz_xpath = '//*[@id=\"menu-item-382\"]/a'\n",
    "# xpath 요소를 가지고 마우스 클릭을 통해 이동하는 방법. driver.find_element_by_xpath().click()\n",
    "driver.find_element_by_xpath(spark_quiz_xpath).click()\n",
    "# driver.current_url # 디버깅용."
   ]
  },
  {
   "cell_type": "markdown",
   "metadata": {},
   "source": [
    "2. requests, bs4를 이용해 원하는 요소를 추출해서 pandas를 이용해 담아내기."
   ]
  },
  {
   "cell_type": "code",
   "execution_count": 2,
   "metadata": {},
   "outputs": [],
   "source": [
    "import requests, bs4\n",
    "import pandas as pd\n",
    "\n",
    "# Step 1. requests 모듈로 웹페이지 긁어와 저장하기.\n",
    "response = requests.get(driver.current_url)   # requests 함수를 이용해 서버를 get(얻어낸다)!\n",
    "response.encoding = 'UTF-8'\n",
    "\n",
    "# Step 2. bs4(BeautifulSoup) 모듈로 웹페이지를 예쁘게 담기.\n",
    "spark_html = response.text    # spark_html이란 변수에 위에서 불러온 response를 text로 담아라.\n",
    "spark_html_bs = bs4.BeautifulSoup(spark_html, \"html.parser\")    # spark_html에 대해서 \"html.parser\" 파싱하겠다. (\"html.parser\"는 안 써도 잘 돌아가긴 한다.)\n",
    "# spark_html_bs라는 변수에 bs4(BeautifulSoup)모듈의 BeautifulSoup 함수를 이용해 예쁘게 담아라.\n",
    "# 우리가 코드를 짤 때 IDE(이클립스, 아톰 등)을 사용하듯이 BeautifulSoup가 파이썬 내에서 코드를 예쁘게 보여준다.\n",
    "# 앞으로 모든것은 bs4를 이용해 담은 이 'spark_html_bs'를 이용해 bs4의 다른 함수를 이용해 분석할거다.\n",
    "# spark_html_bs # 디버깅용.\n",
    "\n",
    "# Step 3. (범위 좁히기) 수많은 'div 태그' 구역 중 원하는 구역의 'div 태그' 구역만 골라서 추출해보자. (개발자 도구로 미리 확인하기.)\n",
    "# div 태그 : 속성 (i.e. id, class, etc...) 별로 구역을 나눈다. 이를 이용해 특정 구역에 특정 조건을 넣어 검색할 수 있다.\n",
    "# name = \"태그명\", attrs = {\"속성명\":\"속성값\"} 으로 찾는다. 여기서 attrs(파라미터)는 \"id명\":\"id값\" 또는 \"class명\":\"class값\"이다.\n",
    "# divTags_including_aTags에 spark_html_bs에서 찾아라.\n",
    "# 태그 이름이 div인데 그 중에서 {}\"속성명\":\"속성값\"}은 {\"class\":\"class_spark_quiz\", \"id\":\"id_spark_quiz\"}다.\n",
    "divTags_including_aTags = spark_html_bs.find\\\n",
    "(name = \"div\", attrs = {\"class\":\"class_spark_quiz\", \"id\":\"id_spark_quiz\"}) # find_all도 가능.\n",
    "# divTags_including_aTags # 디버깅용.\n",
    "\n",
    "# Step 4. (범위 좁히기) 추출한 'div 태그' 구역 중 원하는 'a 태그'만 다시 추출하자.\n",
    "aTags = divTags_including_aTags.find_all(name = \"a\")\n",
    "# aTags # 디버깅용. (리스트는 아니지만 인덱스를 가져 리스트처럼 사용할 수 있다.)\n",
    "\n",
    "# Step 5. 태그 범위 좁히기가 완료되면 원하는 요소만 뽑아서 매트릭스 리스트로 담아보자.\n",
    "rowList = []    # 행을 만들어줄 바깥 리스트 생성하기.\n",
    "\n",
    "aTagsLen = len(aTags)\n",
    "for i in range(0, aTagsLen,):\n",
    "    eachText = aTags[i].text               # i번째 객체 데이터에 넣을 'spark 퀴즈 타이틀'을 추출.\n",
    "    eachTitle = aTags[i].attrs[\"href\"]     # i번째 객체 데이터에 넣을 'spark 퀴즈 링크'을 추출.\n",
    "        \n",
    "    # [eachText,eachTitle]을 하나의 객체 데이터 리스트로 만들어 바깥 리스트(rowList)에 넣어 매트릭스 만들기.\n",
    "    rowList.append([eachText,eachTitle])\n",
    "    \n",
    "# Step 6. 위에서 만든 매트릭스 리스트를 DataFrame으로 만들어보자.\n",
    "rowList_DF = pd.DataFrame(rowList, columns = [\"spark 퀴즈 타이틀\",\"spark 퀴즈 링크\"])\n",
    "# rowList_DF # 디버깅용.\n",
    "\n",
    "rowList_DF.to_csv(\"./QuizScrap_JHP.csv\")"
   ]
  },
  {
   "cell_type": "markdown",
   "metadata": {},
   "source": [
    "3. 만들어낸 데이터를 이메일로 발송하기."
   ]
  },
  {
   "cell_type": "code",
   "execution_count": 1,
   "metadata": {},
   "outputs": [],
   "source": [
    "# SMTP 프로토콜 로드\n",
    "import smtplib\n",
    "\n",
    "# 이메일을 간단하게 보낼수 있는 라이브러리 로드\n",
    "from email.message import EmailMessage"
   ]
  },
  {
   "cell_type": "code",
   "execution_count": 2,
   "metadata": {},
   "outputs": [],
   "source": [
    "import pickle    # 파이썬에 있는 자료를 저장하고 내보내고 하게 해줌.\n",
    "pw = \"password\"\n",
    "pickle.dump(pw, open(\"pw.pickle\", 'wb'))\n",
    "pw = pickle.load(open('pw.pickle', 'rb'))"
   ]
  },
  {
   "cell_type": "markdown",
   "metadata": {},
   "source": [
    "import smtplib를 활용하는 부분"
   ]
  },
  {
   "cell_type": "code",
   "execution_count": 3,
   "metadata": {},
   "outputs": [
    {
     "data": {
      "text/plain": [
       "(220, b'2.0.0 Ready to start TLS')"
      ]
     },
     "execution_count": 3,
     "metadata": {},
     "output_type": "execute_result"
    }
   ],
   "source": [
    "# GMAIL 메일 설정\n",
    "smtp_gmail = smtplib.SMTP('smtp.gmail.com', 587)\n",
    "\n",
    "# 서버 연결을 설정하는 단계\n",
    "smtp_gmail.ehlo()\n",
    " \n",
    "# 연결을 암호화\n",
    "smtp_gmail.starttls()"
   ]
  },
  {
   "cell_type": "code",
   "execution_count": 4,
   "metadata": {},
   "outputs": [],
   "source": [
    "#로그인 아이디 / 앱 비밀번호\n",
    "userid = \"xxx@gmail.com\""
   ]
  },
  {
   "cell_type": "code",
   "execution_count": 5,
   "metadata": {},
   "outputs": [],
   "source": [
    "import getpass"
   ]
  },
  {
   "cell_type": "code",
   "execution_count": 7,
   "metadata": {},
   "outputs": [
    {
     "name": "stdin",
     "output_type": "stream",
     "text": [
      " ················\n"
     ]
    }
   ],
   "source": [
    "userpw = getpass.getpass()"
   ]
  },
  {
   "cell_type": "code",
   "execution_count": 9,
   "metadata": {},
   "outputs": [],
   "source": [
    "# userpw    # 입력할 때만 안 보이는거다... 값은 그냥 담겨서 보여짐."
   ]
  },
  {
   "cell_type": "code",
   "execution_count": 8,
   "metadata": {},
   "outputs": [
    {
     "data": {
      "text/plain": [
       "(235, b'2.7.0 Accepted')"
      ]
     },
     "execution_count": 8,
     "metadata": {},
     "output_type": "execute_result"
    }
   ],
   "source": [
    "smtp_gmail.login(userid, userpw)"
   ]
  },
  {
   "cell_type": "markdown",
   "metadata": {},
   "source": [
    "### 3. 수신자 목록 정의 및 불러오기"
   ]
  },
  {
   "cell_type": "code",
   "execution_count": 11,
   "metadata": {},
   "outputs": [
    {
     "data": {
      "text/html": [
       "<div>\n",
       "<style scoped>\n",
       "    .dataframe tbody tr th:only-of-type {\n",
       "        vertical-align: middle;\n",
       "    }\n",
       "\n",
       "    .dataframe tbody tr th {\n",
       "        vertical-align: top;\n",
       "    }\n",
       "\n",
       "    .dataframe thead th {\n",
       "        text-align: right;\n",
       "    }\n",
       "</style>\n",
       "<table border=\"1\" class=\"dataframe\">\n",
       "  <thead>\n",
       "    <tr style=\"text-align: right;\">\n",
       "      <th></th>\n",
       "      <th>이름</th>\n",
       "      <th>이메일</th>\n",
       "    </tr>\n",
       "  </thead>\n",
       "  <tbody>\n",
       "    <tr>\n",
       "      <th>0</th>\n",
       "      <td>김효관</td>\n",
       "      <td>haiteam@kopo.ac.kr</td>\n",
       "    </tr>\n",
       "    <tr>\n",
       "      <th>1</th>\n",
       "      <td>김효관2</td>\n",
       "      <td>haiteam@naver.com</td>\n",
       "    </tr>\n",
       "  </tbody>\n",
       "</table>\n",
       "</div>"
      ],
      "text/plain": [
       "     이름                 이메일\n",
       "0   김효관  haiteam@kopo.ac.kr\n",
       "1  김효관2   haiteam@naver.com"
      ]
     },
     "execution_count": 11,
     "metadata": {},
     "output_type": "execute_result"
    }
   ],
   "source": [
    "# 저장된 csv 파일 불러오기\n",
    "emaillist = pd.read_csv(\"./emailaddress.csv\", encoding='utf-8')\n",
    "emaillist"
   ]
  },
  {
   "cell_type": "code",
   "execution_count": 12,
   "metadata": {},
   "outputs": [
    {
     "data": {
      "text/plain": [
       "['haiteam@kopo.ac.kr', 'haiteam@naver.com']"
      ]
     },
     "execution_count": 12,
     "metadata": {},
     "output_type": "execute_result"
    }
   ],
   "source": [
    "# 이메일 주소정보 리스트 변환\n",
    "to = emaillist['이메일'].tolist()\n",
    "to"
   ]
  },
  {
   "cell_type": "markdown",
   "metadata": {},
   "source": [
    "### 4. 메일전송"
   ]
  },
  {
   "cell_type": "markdown",
   "metadata": {},
   "source": [
    "from email.message import EmailMessage 를 활용하는 부분"
   ]
  },
  {
   "cell_type": "code",
   "execution_count": 13,
   "metadata": {},
   "outputs": [],
   "source": [
    "# from email.message import EmailMessage 를 msg로 이름을 지정.\n",
    "msg = EmailMessage()"
   ]
  },
  {
   "cell_type": "markdown",
   "metadata": {},
   "source": [
    "이메일 작성에 필요한 내용"
   ]
  },
  {
   "cell_type": "code",
   "execution_count": 14,
   "metadata": {},
   "outputs": [],
   "source": [
    "# 제목 입력\n",
    "msg['Subject']=\"퀴즈 정보\"\n",
    " \n",
    "# 내용 입력\n",
    "msg.set_content(\"퀴즈정보\")\n",
    " \n",
    "# 보내는 사람\n",
    "msg['From']='xxx@gmail.com'\n",
    " \n",
    "# 받는 사람\n",
    "msg['To'] = \",\".join(to)"
   ]
  },
  {
   "cell_type": "code",
   "execution_count": 17,
   "metadata": {},
   "outputs": [],
   "source": [
    "# 첨부파일 추가\n",
    "file = 'QuizScrap_JHP.csv'\n",
    "fp = open(file,'rb')     # read binary. open() : 파일을 실제로 읽어오는건 아님. 파일을 선택하는 것.\n",
    "# fp 디버깅용."
   ]
  },
  {
   "cell_type": "code",
   "execution_count": 18,
   "metadata": {},
   "outputs": [],
   "source": [
    "file_data = fp.read()    # read() : 파일을 읽어옴.\n",
    "# file_data"
   ]
  },
  {
   "cell_type": "code",
   "execution_count": 19,
   "metadata": {},
   "outputs": [],
   "source": [
    "# 파일을 첨부한다. (파일에 대한 옵션)\n",
    "msg.add_attachment(file_data,\n",
    "                   maintype = 'text',\n",
    "                   subtype = 'plain',\n",
    "                   filename = file)"
   ]
  },
  {
   "cell_type": "code",
   "execution_count": 20,
   "metadata": {},
   "outputs": [],
   "source": [
    "# file2='link_scraping_result.csv'\n",
    "# fp = open(file,'rb')\n",
    "# file_data=fp.read()\n",
    "# msg.add_attachment(file_data,\n",
    "#                    maintype='text',\n",
    "#                    subtype='plain',\n",
    "#                    filename=file2)\n",
    "# 메일 전송\n",
    "smtp_gmail.send_message(msg)\n",
    "smtp_gmail.close()"
   ]
  }
 ],
 "metadata": {
  "kernelspec": {
   "display_name": "Python 3",
   "language": "python",
   "name": "python3"
  },
  "language_info": {
   "codemirror_mode": {
    "name": "ipython",
    "version": 3
   },
   "file_extension": ".py",
   "mimetype": "text/x-python",
   "name": "python",
   "nbconvert_exporter": "python",
   "pygments_lexer": "ipython3",
   "version": "3.8.2"
  }
 },
 "nbformat": 4,
 "nbformat_minor": 4
}
