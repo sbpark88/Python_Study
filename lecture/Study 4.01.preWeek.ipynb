{
 "cells": [
  {
   "cell_type": "markdown",
   "metadata": {},
   "source": [
    "# 목차\n",
    "### 숫자, 문자 타입에 상관 없이 리스트의 합을 구하는 함수.\n",
    "### preWeek 문제 과거 주차 구하기."
   ]
  },
  {
   "cell_type": "code",
   "execution_count": 2,
   "metadata": {},
   "outputs": [],
   "source": [
    "sampleList = [\"11\",\"22\",\"33\"]"
   ]
  },
  {
   "cell_type": "code",
   "execution_count": 3,
   "metadata": {},
   "outputs": [],
   "source": [
    "# 내용 : 함수는 타입에 상관 없이 list내 합계를 구함\n",
    "# 파라미터 : sampleList : List\n",
    "# 목적 : 문자열이든 숫자든 상관 없이 합계 산출용\n",
    "# Step 1: 합계 산출할 변수 선언\n",
    "# Step 2: 반복문을 통해 리스트 내 아이템 값을 누적함\n",
    "# Step 3: 누적 결과 리턴\n",
    "def listSum (sampleList):\n",
    "    # sampleList = [\"11\",\"22\",\"33\"] 디버깅용\n",
    "    sampleListLen = len(sampleList)\n",
    "\n",
    "    totalSum = 0\n",
    "\n",
    "    for i in range(0, sampleListLen):\n",
    "        eachItem = sampleList[i]\n",
    "        totalSum = totalSum + int(eachItem)\n",
    "    return totalSum"
   ]
  },
  {
   "cell_type": "code",
   "execution_count": 4,
   "metadata": {},
   "outputs": [
    {
     "data": {
      "text/plain": [
       "66"
      ]
     },
     "execution_count": 4,
     "metadata": {},
     "output_type": "execute_result"
    }
   ],
   "source": [
    "listSum(sampleList)"
   ]
  },
  {
   "cell_type": "markdown",
   "metadata": {},
   "source": [
    "### (퀴즈) 년도주차 정보와 과거로 돌아갈 주차 정보 2가지를 입력 받아 과거에 몇년도 몇주차인지를 출력하는 함수를 만들어라.\n",
    "i.e. preWeek(201713,10) 을 하면 2017년도 13주차의 10주전 '201703'를 출력"
   ]
  },
  {
   "cell_type": "markdown",
   "metadata": {},
   "source": [
    "다이어그램 주소 : https://bit.ly/2w5c7px"
   ]
  },
  {
   "cell_type": "code",
   "execution_count": 12,
   "metadata": {},
   "outputs": [],
   "source": [
    "# 내용 : 기준이 되는 년도주차 정보와 과거로 돌아갈 주차를 입력 받아 계산한다.\n",
    "# 파라미터 : fromWeeks, weeksAgo (int 타입, str 타입 무관하게 입력 받음)\n",
    "# 목적 : i.e (201704,20) 2017년 4주차로부터 20주 전은 언제인가를 계산할 수 있다.\n",
    "\n",
    "# Step 0: isoweek 모듈을 불러온다.\n",
    "# Step 1: 입력 받은 년도주차 정보와 과거주 정보를 문자 캐스팅 해서 분리한 다음 계산을 위해 다시 int 캐스팅.\n",
    "# Step 2: 과거 년도로 돌아가지 않는 경우를 분리하여 계산.\n",
    "# Step 3: 주차 자릿수가 1자리로 줄어드는 경우에 대한 보정 로직.\n",
    "# Step 4: 과거 년도로 돌아가는 경우를 분리하여 계산.\n",
    "# Step 5: 1년 더 과거로 가야할 지 계산. 조건을 만족하지 않을 때까지 1년씩 과거로 이동.\n",
    "# Step 6: 위 Step 3.에서 했던 보정을 동일하게 적용하여 결과 산출.\n",
    "# Step 7: 최종 결과 result 값을 반환.\n",
    "\n",
    "# cf. Step 3 은 if문 없이 str(inputWeeks - weeksAgo).zfill(2)로 자릿수 보정 가능. Step 7도 마찬가지.\n",
    "\n",
    "def preWeek(fromWeek,weeksAgo):\n",
    "    #fromWeek = 201720\n",
    "    #weeksAgo = 100 # 10이면 201710, 20이면 201652, 21이면 201651, 71이면 201601, 72면 201553, 124면 201501\n",
    "                    # 125면 201452, 176이면 201401, 177이면 201352, 228이면 201301, 229면 201252, 1000이면 199812\n",
    "                    # 가 나오면 된다.\n",
    "\n",
    "    # Step 0. isoweek 모듈을 불러온다.\n",
    "    from isoweek import Week\n",
    "    # Step 1. 년도, 주차 분리를 위해 문자 캐스팅 해서 분리한 다음 모든 변수 int 캐스팅\n",
    "    inputYear = int(str(fromWeek)[:4])\n",
    "    inputWeeks = int(str(fromWeek)[4:])\n",
    "    weeksAgo = int(weeksAgo)\n",
    "\n",
    "    # Step 2. 기준 주차 > 과거로 돌아가려는 주 (년도가 바뀌지 않는 경우임.)\n",
    "    if inputWeeks - weeksAgo > 0:\n",
    "        # Step 3. (기준 주차 - 과거 주) >= 10이면 연도와 (기준 주차 - 과거 주)를 문자열 캐스팅 한 다음 더한다.\n",
    "        if inputWeeks - weeksAgo >= 10:\n",
    "            result = str(inputYear) + str(inputWeeks - weeksAgo)\n",
    "        else: # Step 3.1 계산한 주차가 한자리수로 작아질 경우 앞에 0을 붙여서 보정한다.\n",
    "            result = str(inputYear) + \"0\" + str(inputWeeks - weeksAgo)\n",
    "\n",
    "    # Step 4. 과거 년도로 가는 경우.\n",
    "    else:\n",
    "        remainWeeks = weeksAgo - inputWeeks    # 마이너스 인덱싱 타임머신 여행할 횟수 계산.\n",
    "        inputYear -= 1    # inputWeeks만큼 빼고 1년 전으로 이동했으니 -1년을 해주고 시작.\n",
    "        maxWeeks = Week.last_week_of_year(inputYear).week    # 해당 년도에 주차가 몇이나 되는지 확인.\n",
    "\n",
    "        while remainWeeks >= maxWeeks:   # Step 5. 과거로 돌아갈 횟수가 해당 년도 주차보다 크다면 1년씩 반복해 과거로 이동.\n",
    "            remainWeeks -= maxWeeks\n",
    "            inputYear -= 1\n",
    "            maxWeeks = Week.last_week_of_year(inputYear).week\n",
    "        else:\n",
    "            pass\n",
    "\n",
    "        maxWeeks -= remainWeeks    # 과거로 이동이 끝난 주차가 계산됨.\n",
    "\n",
    "        # Step 6. Step 3.1 에서 했던 주차 자릿수 보정을 동일하게 해준다.\n",
    "        if maxWeeks >= 10:\n",
    "                result = str(inputYear) + str(maxWeeks)\n",
    "        else:\n",
    "            result = str(inputYear) + \"0\" + str(maxWeeks)\n",
    "    \n",
    "    # Step 7. 최종 결과 반환\n",
    "    return result"
   ]
  },
  {
   "cell_type": "code",
   "execution_count": 9,
   "metadata": {},
   "outputs": [
    {
     "data": {
      "text/plain": [
       "'201644'"
      ]
     },
     "execution_count": 9,
     "metadata": {},
     "output_type": "execute_result"
    }
   ],
   "source": [
    "preWeek(201720,28)"
   ]
  },
  {
   "cell_type": "code",
   "execution_count": 10,
   "metadata": {},
   "outputs": [
    {
     "data": {
      "text/plain": [
       "'201525'"
      ]
     },
     "execution_count": 10,
     "metadata": {},
     "output_type": "execute_result"
    }
   ],
   "source": [
    "preWeek(201720,100)"
   ]
  },
  {
   "cell_type": "code",
   "execution_count": 11,
   "metadata": {},
   "outputs": [
    {
     "data": {
      "text/plain": [
       "'199812'"
      ]
     },
     "execution_count": 11,
     "metadata": {},
     "output_type": "execute_result"
    }
   ],
   "source": [
    "preWeek(201720,1000)"
   ]
  },
  {
   "cell_type": "markdown",
   "metadata": {},
   "source": [
    "### 깔끔한 예제 추가... 그냥 마이너스를 더한다고 생각했으면 더 쉬웠을걸 왜 생각 못 했지... ㅠㅠ"
   ]
  },
  {
   "cell_type": "code",
   "execution_count": 11,
   "metadata": {},
   "outputs": [],
   "source": [
    "def preWeek(yearWeek, preWeek):    # preWeek 이전 주차를 반환하는 함수\n",
    "    from isoweek import Week\n",
    "    yeardigit = -2\n",
    "    inputYear = int(str(yearWeek)[:yeardigit]) #년도만 잘라서 저장\n",
    "    inputWeek = int(str(yearWeek)[yeardigit:]) #주차만 잘라서 저장\n",
    "    resultWeek = inputWeek - preWeek           #현 주차 - 뒤로 갈 주차 계산결과\n",
    "    \n",
    "    \n",
    "    while(resultWeek<=0):       # 주차가 0 이하라면\n",
    "        inputYear = inputYear-1    # 년도가 하나 줄어듭니다\n",
    "        calcWeek = Week.last_week_of_year(inputYear).week  #줄어든 년도의 총 주차수\n",
    "        resultWeek = calcWeek + resultWeek \n",
    "        #총 주차수에 resultWeek 을 더해줍니다. (0 또는 음수일테니까)\n",
    "        #더했는데도 0 또는 음수라면 양수가 될 때까지 반복됩니다.\n",
    "    \n",
    "#     if(resultWeek<10):\n",
    "#         resultWeek = \"0\"+str(resultWeek) #1자리수면 앞에 0을 붙여줌 -> zfill()로 처리.\n",
    "    \n",
    "    result = str(inputYear)+str(resultWeek).zfill(2) #년도와 주차를 문자열로 더해서 출력\n",
    "    \n",
    "    return result"
   ]
  },
  {
   "cell_type": "code",
   "execution_count": 14,
   "metadata": {},
   "outputs": [
    {
     "data": {
      "text/plain": [
       "'201709'"
      ]
     },
     "execution_count": 14,
     "metadata": {},
     "output_type": "execute_result"
    }
   ],
   "source": [
    "preWeek(201720,11)"
   ]
  },
  {
   "cell_type": "code",
   "execution_count": 6,
   "metadata": {},
   "outputs": [],
   "source": [
    "def postWeek(yearWeek, postWeek):  #postWeek 이후 주차를 반환하는 함수\n",
    "    from isoweek import Week\n",
    "    yeardigit = -2\n",
    "    inputYear = int(str(yearWeek)[:yeardigit]) #년도만 잘라서 저장\n",
    "    inputWeek = int(str(yearWeek)[yeardigit:]) #주차만 잘라서 저장\n",
    "    resultWeek = inputWeek + postWeek           #현 주차 + 뒤로 갈 주차 계산결과\n",
    "    calcWeek = Week.last_week_of_year(inputYear).week\n",
    "    \n",
    "    while(resultWeek>calcWeek):       # 주차가 넘어간다면\n",
    "        inputYear = inputYear+1    # 년도가 하나 늘어납니다\n",
    "        calcWeek = Week.last_week_of_year(inputYear).week  #늘어난 년도의 총 주차수\n",
    "        resultWeek = resultWeek - calcWeek\n",
    "        #resultWeek 에서 총 주차를 빼줍니다\n",
    "        #결과가 아직도 총 주차보다 크다면 작아질때까지계속 반복\n",
    "    \n",
    "#     if(resultWeek<10):\n",
    "#         resultWeek = \"0\"+str(resultWeek) #1자리수면 앞에 0을 붙여줌 -> zfill()로 처리.\n",
    "        \n",
    "    result = str(inputYear)+str(resultWeek).zfill(2) #년도와 주차를 문자열로 더해서 출력\n",
    "    \n",
    "    return result"
   ]
  },
  {
   "cell_type": "code",
   "execution_count": 7,
   "metadata": {},
   "outputs": [
    {
     "data": {
      "text/plain": [
       "'203629'"
      ]
     },
     "execution_count": 7,
     "metadata": {},
     "output_type": "execute_result"
    }
   ],
   "source": [
    "postWeek(201720,1000)"
   ]
  },
  {
   "cell_type": "code",
   "execution_count": null,
   "metadata": {},
   "outputs": [],
   "source": []
  }
 ],
 "metadata": {
  "kernelspec": {
   "display_name": "Python 3",
   "language": "python",
   "name": "python3"
  },
  "language_info": {
   "codemirror_mode": {
    "name": "ipython",
    "version": 3
   },
   "file_extension": ".py",
   "mimetype": "text/x-python",
   "name": "python",
   "nbconvert_exporter": "python",
   "pygments_lexer": "ipython3",
   "version": "3.8.2"
  }
 },
 "nbformat": 4,
 "nbformat_minor": 4
}
