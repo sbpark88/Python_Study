{
 "cells": [
  {
   "cell_type": "markdown",
   "metadata": {},
   "source": [
    "### kopo_producr_volume 0~2 파일을 에러업이 읽어서 리스트에 저장한다(단, 1번은 제외하고 읽는다)"
   ]
  },
  {
   "cell_type": "code",
   "execution_count": 4,
   "metadata": {},
   "outputs": [
    {
     "data": {
      "text/plain": [
       "[    REGIONID PRODUCTGROUP  YEARWEEK  VOLUME\n",
       " 0        A01       ST0001    201415  810144\n",
       " 1        A01       ST0002    201415  128999\n",
       " 2        A01       ST0001    201418  671464\n",
       " 3        A01       ST0002    201418  134467\n",
       " 4        A01       ST0001    201413  470040\n",
       " ..       ...          ...       ...     ...\n",
       " 260      A01       ST0002    201614  148835\n",
       " 261      A01       ST0001    201641  746061\n",
       " 262      A01       ST0002    201412  151750\n",
       " 263      A01       ST0001    201420  645626\n",
       " 264      A01       ST0002    201420  125863\n",
       " \n",
       " [265 rows x 4 columns],\n",
       "     REGIONID PRODUCTGROUP  YEARWEEK  VOLUME\n",
       " 0        A01       ST0001    201415  810144\n",
       " 1        A01       ST0002    201415  128999\n",
       " 2        A01       ST0001    201418  671464\n",
       " 3        A01       ST0002    201418  134467\n",
       " 4        A01       ST0001    201413  470040\n",
       " ..       ...          ...       ...     ...\n",
       " 260      A01       ST0002    201614  148835\n",
       " 261      A01       ST0001    201641  746061\n",
       " 262      A01       ST0002    201412  151750\n",
       " 263      A01       ST0001    201420  645626\n",
       " 264      A01       ST0002    201420  125863\n",
       " \n",
       " [265 rows x 4 columns]]"
      ]
     },
     "execution_count": 4,
     "metadata": {},
     "output_type": "execute_result"
    }
   ],
   "source": [
    "import pandas as pd    # 판다스를 불러온다.\n",
    "dataSum = []    # 데이터를 불러와 담을 빈 리스트 생성.\n",
    "dataFolder = \"/Users/saebyul/pywork/dataset/\"    # 폴더의 주소를 preFix로 선언.\n",
    "targetFile = \"kopo_product_volume{}.csv\"\n",
    "\n",
    "for i in range(0, 3):\n",
    "    if i == 1:\n",
    "        continue\n",
    "    else:\n",
    "        dataSum.append(pd.read_csv(dataFolder + targetFile.format(i)))\n",
    "        \n",
    "dataSum"
   ]
  },
  {
   "cell_type": "markdown",
   "metadata": {},
   "source": [
    "### try 활용하기 : 예외 발생 가능한 로직에 사용"
   ]
  },
  {
   "cell_type": "code",
   "execution_count": 9,
   "metadata": {},
   "outputs": [
    {
     "name": "stdout",
     "output_type": "stream",
     "text": [
      "[Errno 2] File /Users/saebyul/pywork/dataset/kopo_product_volume1.csv does not exist: '/Users/saebyul/pywork/dataset/kopo_product_volume1.csv'\n",
      "/Users/saebyul/pywork/dataset/kopo_product_volume1.csv\n"
     ]
    },
    {
     "data": {
      "text/plain": [
       "[    REGIONID PRODUCTGROUP  YEARWEEK  VOLUME\n",
       " 0        A01       ST0001    201415  810144\n",
       " 1        A01       ST0002    201415  128999\n",
       " 2        A01       ST0001    201418  671464\n",
       " 3        A01       ST0002    201418  134467\n",
       " 4        A01       ST0001    201413  470040\n",
       " ..       ...          ...       ...     ...\n",
       " 260      A01       ST0002    201614  148835\n",
       " 261      A01       ST0001    201641  746061\n",
       " 262      A01       ST0002    201412  151750\n",
       " 263      A01       ST0001    201420  645626\n",
       " 264      A01       ST0002    201420  125863\n",
       " \n",
       " [265 rows x 4 columns],\n",
       "     REGIONID PRODUCTGROUP  YEARWEEK  VOLUME\n",
       " 0        A01       ST0001    201415  810144\n",
       " 1        A01       ST0002    201415  128999\n",
       " 2        A01       ST0001    201418  671464\n",
       " 3        A01       ST0002    201418  134467\n",
       " 4        A01       ST0001    201413  470040\n",
       " ..       ...          ...       ...     ...\n",
       " 260      A01       ST0002    201614  148835\n",
       " 261      A01       ST0001    201641  746061\n",
       " 262      A01       ST0002    201412  151750\n",
       " 263      A01       ST0001    201420  645626\n",
       " 264      A01       ST0002    201420  125863\n",
       " \n",
       " [265 rows x 4 columns]]"
      ]
     },
     "execution_count": 9,
     "metadata": {},
     "output_type": "execute_result"
    }
   ],
   "source": [
    "import pandas as pd    # 판다스를 불러온다.\n",
    "dataSum = []    # 데이터를 불러와 담을 빈 리스트 생성.\n",
    "dataFolder = \"/Users/saebyul/pywork/dataset/\"    # 폴더의 주소를 preFix로 선언.\n",
    "targetFile = \"kopo_product_volume{}.csv\"\n",
    "\n",
    "for i in range(0, 3):\n",
    "    # 예외 발생 가능한 로직.\n",
    "    try:\n",
    "        # 데이터파일을 리스트에 추가.\n",
    "        targetFileAddress = dataFolder + targetFile.format(i)\n",
    "        load = pd.read_csv(targetFileAddress)\n",
    "        dataSum.append(load)\n",
    "    # 예외 발생시 로직.\n",
    "    except Exception as e:    # 그냥 except pass만 해도 되는데 이 경우 어떤게 오류 났느니는 알 수가 없다.\n",
    "        print(e)\n",
    "        print(targetFileAddress)\n",
    "        pass\n",
    "dataSum"
   ]
  },
  {
   "cell_type": "markdown",
   "metadata": {},
   "source": [
    "#### python execption 검색해서 한 번씩 보면 좋다."
   ]
  },
  {
   "cell_type": "code",
   "execution_count": null,
   "metadata": {},
   "outputs": [],
   "source": []
  }
 ],
 "metadata": {
  "kernelspec": {
   "display_name": "Python 3",
   "language": "python",
   "name": "python3"
  },
  "language_info": {
   "codemirror_mode": {
    "name": "ipython",
    "version": 3
   },
   "file_extension": ".py",
   "mimetype": "text/x-python",
   "name": "python",
   "nbconvert_exporter": "python",
   "pygments_lexer": "ipython3",
   "version": "3.8.2"
  }
 },
 "nbformat": 4,
 "nbformat_minor": 4
}
