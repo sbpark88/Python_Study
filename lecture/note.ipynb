{
 "cells": [
  {
   "cell_type": "markdown",
   "metadata": {},
   "source": [
    "# 기본서\n",
    "### 단축키, 자료형과 사용법\n",
    "### 몇 가지 예제, 짝수 인덱스, 홀수 인덱스 뽑아내기"
   ]
  },
  {
   "cell_type": "markdown",
   "metadata": {},
   "source": [
    "### 값 정의하고 더하기"
   ]
  },
  {
   "cell_type": "code",
   "execution_count": 1,
   "metadata": {},
   "outputs": [
    {
     "data": {
      "text/plain": [
       "8"
      ]
     },
     "execution_count": 1,
     "metadata": {},
     "output_type": "execute_result"
    }
   ],
   "source": [
    "a=3   # a에 숫자 3을 정의\n",
    "b=5   # b에 숫자 5를 정의\n",
    "a+b   # 계산식에 a+b= 이라고 명령 내리지 않는다. '='은 정의를 내리는 명령어다."
   ]
  },
  {
   "cell_type": "code",
   "execution_count": 2,
   "metadata": {},
   "outputs": [
    {
     "name": "stdout",
     "output_type": "stream",
     "text": [
      "14\n",
      "5\n",
      "-5\n"
     ]
    }
   ],
   "source": [
    "a = 7\n",
    "b = 2\n",
    "print(a*b)\n",
    "print(a-b)\n",
    "print(b-a)"
   ]
  },
  {
   "cell_type": "markdown",
   "metadata": {},
   "source": [
    "### ESC키를 누르면 명령(Command)모드로 전환\n",
    "### Return키를 누르면 편집(Edit)모드로 전환\n",
    "\n",
    "### ESC키를 눌러 명령모드로 전환된 상태에서 'M'키를 누르면 Markdown 상태가 되어 제목이나 메모를 기록할 수 있다. (M : Markdown, Y : Code)"
   ]
  },
  {
   "cell_type": "code",
   "execution_count": 3,
   "metadata": {},
   "outputs": [],
   "source": [
    "# This is a H1\n",
    "## This is a H2\n",
    "### This is a H3\n",
    "#### This is a H4\n",
    "##### This is a H5\n",
    "###### This is a H6 를 마크다운 상태에서 입력하면 아래와 같다."
   ]
  },
  {
   "cell_type": "markdown",
   "metadata": {},
   "source": [
    "# This is a H1\n",
    "## This is a H2\n",
    "### This is a H3\n",
    "#### This is a H4\n",
    "##### This is a H5\n",
    "###### This is a H6"
   ]
  },
  {
   "cell_type": "code",
   "execution_count": 4,
   "metadata": {},
   "outputs": [],
   "source": [
    "# Markdown 상태에서는 #이 글씨 크기를 설정하지만 Code 상태에서는 #이 코드에 포함되지 않는 메모 역할을 한다.\n",
    "# shift + return키로 코드를 실행 후 아래 셀로 이동 된 상태에서 바로 숫자 1~6을 입력하면 자동으로 # 갯수가 포함된 마크다운 상태가 된다."
   ]
  },
  {
   "cell_type": "markdown",
   "metadata": {},
   "source": [
    "### 명령모드(Command) 단축키\n",
    "\n",
    "a : above (위에 셀 추가하기) <br>\n",
    "b : bottom (아래 셀 추가하기) <br>\n",
    "d+d : delete + delete (셀 삭제하기) <br>\n",
    "shift + l : line (셀 줄번호 표시하기) <br>\n",
    "shift + m : merger (셀 병합)"
   ]
  },
  {
   "cell_type": "markdown",
   "metadata": {},
   "source": [
    "### 편집모드(Edit) 단축키\n",
    "\n",
    "control + Return : 셀 실행 <br>\n",
    "shift + Return : 셀 실행 후 아래 셀로 이동 <br>\n",
    "shift + Tab : 도움말 <br>\n",
    "Tab : 자동 완성 <br>\n",
    "control + / : 코드 주석 처리 (해당 코드라인 가장 앞에 #을 넣는 기능) <br>\n",
    "control + shift + - : 셀 나누기     /  shift + m 병합하기와 반대 기능"
   ]
  },
  {
   "cell_type": "markdown",
   "metadata": {},
   "source": [
    "### 단계별 실습하며 배우는 빅데이터 프로그래밍 P.29 10번 문제\n",
    "\n",
    "데이터를 코드와 같은 폴더에 저장한 후 kopo_customerdata.csv 파일을 \"보기\"코드를 활용하여 불러온 후 최소, 최댓값을 뺀 평균을 구하세요.\n",
    "\n",
    "            < 보기 >\n",
    "import pandas as pd\n",
    "\n",
    "customerData = pd.read_csv(\"../dataset/kopo_customerdata.csv\") <br>\n",
    "custoemrTotalList = customerData[\"TOTAL_AMOUNT\"].tolist()"
   ]
  },
  {
   "cell_type": "code",
   "execution_count": 1,
   "metadata": {},
   "outputs": [],
   "source": [
    "import pandas as pd"
   ]
  },
  {
   "cell_type": "code",
   "execution_count": 2,
   "metadata": {},
   "outputs": [],
   "source": [
    "customerData = pd.read_csv(\"/Users/saebyul/pywork/dataset/kopo_customerdata.csv\")\n",
    "# customerData를 해당 csv 파일로 정의한다."
   ]
  },
  {
   "cell_type": "code",
   "execution_count": 3,
   "metadata": {},
   "outputs": [],
   "source": [
    "customerTotalList = customerData[\"TOTAL_AMOUNT\"].tolist()\n",
    "# 엑셀 파일에 보면 TOTAL_AMOUNT라는 열이 있다.\n",
    "# customerTotalList를 customerData 내에 있는 TOTAL_AMOUT 열의 값을 tolist 함수를 이용해 리스트를 정의한다.     "
   ]
  },
  {
   "cell_type": "code",
   "execution_count": 4,
   "metadata": {},
   "outputs": [
    {
     "name": "stdout",
     "output_type": "stream",
     "text": [
      "3103500\n",
      "0\n"
     ]
    }
   ],
   "source": [
    "maximum = max(customerTotalList)              # 최댓값을 max 명령어를 이용해 customerTotalList 에서 찾는다.\n",
    "minimum = min(customerTotalList)              # 최솟값을 min 명령어를 이용해 customerTotalList 에서 찾는다.\n",
    "print(maximum)\n",
    "print(minimum)"
   ]
  },
  {
   "cell_type": "code",
   "execution_count": 5,
   "metadata": {},
   "outputs": [
    {
     "name": "stdout",
     "output_type": "stream",
     "text": [
      "1\n",
      "256\n"
     ]
    }
   ],
   "source": [
    "maximum_duplication = customerTotalList.count(maximum)\n",
    "# maximum.duplication 라고 정의하면 duplication이라는 함수를 인식하는 것 처럼 작동하니 가급적 _ 로 구분한다.\n",
    "# maximum_duplication 최댓값의 갯수를 구하기 위해 다음과 같이 정의한다.\n",
    "# 'customerTotalList로 정의한 리스트'에 count 함수를 사용해 위에서 구한 maximum(=3103500) 값의 갯수를 구한다.\n",
    "# 그냥 conunt(maximum) 라고 함수를 사용하면 어디에서 count 할 것인지가 정의되지 않는다. 엑셀과 달리 반드시 앞에 리스트를 입력한다.\n",
    "\n",
    "minimum_duplication = customerTotalList.count(minimum)\n",
    "print(maximum_duplication)\n",
    "print(minimum_duplication)"
   ]
  },
  {
   "cell_type": "code",
   "execution_count": 6,
   "metadata": {},
   "outputs": [
    {
     "name": "stdout",
     "output_type": "stream",
     "text": [
      "300000\n"
     ]
    }
   ],
   "source": [
    "print(len(customerTotalList))                           # len 함수를 이용해 전체 리스트 갯수를 구함."
   ]
  },
  {
   "cell_type": "code",
   "execution_count": 7,
   "metadata": {},
   "outputs": [],
   "source": [
    "while maximum_duplication >= 1:\n",
    "        # remove 함수는 처음 발견한 값 하나만을 지우기 때문에 중복값이 n개면 n회 반복해야한다.\n",
    "        # while 함수에서 반복 실행할 구간을 정한 후 마지막에 : 으로 마무리 한다. 이걸 안 넣으면 에러 발생.\n",
    "        customerTotalList.remove(maximum)\n",
    "        # 'customerTotalList로 정의한 리스트'에 remove 함수를 사용해 위에서 구한 maximum(=3103500) 값을 제거한다.\n",
    "        maximum_duplication = maximum_duplication - 1"
   ]
  },
  {
   "cell_type": "code",
   "execution_count": 8,
   "metadata": {},
   "outputs": [
    {
     "name": "stdout",
     "output_type": "stream",
     "text": [
      "299999\n"
     ]
    }
   ],
   "source": [
    "print(len(customerTotalList))            # 중복된 최댓값 1개가 전체 리스트에서 사라진 것을 확인."
   ]
  },
  {
   "cell_type": "code",
   "execution_count": 9,
   "metadata": {},
   "outputs": [
    {
     "name": "stdout",
     "output_type": "stream",
     "text": [
      "0\n"
     ]
    }
   ],
   "source": [
    "print(maximum_duplication)               # 더이상 최댓값(=3103500)이 리스트에 없음을 확인."
   ]
  },
  {
   "cell_type": "code",
   "execution_count": 10,
   "metadata": {},
   "outputs": [],
   "source": [
    "while minimum_duplication >= 1:\n",
    "        customerTotalList.remove(minimum)\n",
    "        minimum_duplication = minimum_duplication - 1"
   ]
  },
  {
   "cell_type": "code",
   "execution_count": 11,
   "metadata": {},
   "outputs": [
    {
     "name": "stdout",
     "output_type": "stream",
     "text": [
      "299743\n"
     ]
    }
   ],
   "source": [
    "print(len(customerTotalList))            # 중복된 최솟값 256개가 전체 리스트에서 사라진 것을 확인."
   ]
  },
  {
   "cell_type": "code",
   "execution_count": 12,
   "metadata": {},
   "outputs": [
    {
     "name": "stdout",
     "output_type": "stream",
     "text": [
      "0\n"
     ]
    }
   ],
   "source": [
    "print(minimum_duplication)               # 더이상 최솟값(=0)이 리스트에 없음을 확인."
   ]
  },
  {
   "cell_type": "code",
   "execution_count": 13,
   "metadata": {},
   "outputs": [
    {
     "name": "stdout",
     "output_type": "stream",
     "text": [
      "35248.91490376756\n"
     ]
    }
   ],
   "source": [
    "print(sum(customerTotalList)/len(customerTotalList))"
   ]
  },
  {
   "cell_type": "markdown",
   "metadata": {},
   "source": [
    "반복문 함수 없이 풀기"
   ]
  },
  {
   "cell_type": "code",
   "execution_count": 1,
   "metadata": {},
   "outputs": [],
   "source": [
    "import pandas as pd\n",
    "\n",
    "customerData = pd.read_csv(\"/Users/saebyul/pywork/dataset/kopo_customerdata.csv\")\n",
    "customerTotalList = customerData[\"TOTAL_AMOUNT\"].tolist()"
   ]
  },
  {
   "cell_type": "code",
   "execution_count": 2,
   "metadata": {},
   "outputs": [],
   "source": [
    "maximum = max(customerTotalList)                         # 최댓값을 정의.\n",
    "minimum = min(customerTotalList)                         # 최솟값을 정의."
   ]
  },
  {
   "cell_type": "code",
   "execution_count": 3,
   "metadata": {},
   "outputs": [],
   "source": [
    "maximum_duplication = customerTotalList.count(maximum)   # 최댓값의 개수를 정의.\n",
    "minimum_duplication = customerTotalList.count(minimum)   # 최솟값의 개수를 정의."
   ]
  },
  {
   "cell_type": "code",
   "execution_count": 4,
   "metadata": {},
   "outputs": [
    {
     "name": "stdout",
     "output_type": "stream",
     "text": [
      "35248.91490376756\n"
     ]
    }
   ],
   "source": [
    "# (전체합 - n개의 최댓값의 합 - m개의 최솟값의 합) / (전체 개수 - 최댓값 n개 - 최솟값 m개)\n",
    "print((sum(customerTotalList) - maximum*maximum_duplication - minimum*minimum_duplication)\\\n",
    "      /(len(customerTotalList) - maximum_duplication - minimum_duplication))"
   ]
  },
  {
   "cell_type": "markdown",
   "metadata": {},
   "source": [
    "반복문 함수 없이 풀기 2 (정렬 이용)"
   ]
  },
  {
   "cell_type": "code",
   "execution_count": null,
   "metadata": {},
   "outputs": [],
   "source": [
    "import pandas as pd\n",
    "\n",
    "customerData = pd.read_csv(\"/Users/saebyul/pywork/dataset/kopo_customerdata.csv\")\n",
    "customerTotalList = customerData[\"TOTAL_AMOUNT\"].tolist()"
   ]
  },
  {
   "cell_type": "code",
   "execution_count": 2,
   "metadata": {},
   "outputs": [],
   "source": [
    "# 오름차순으로 정렬시키기\n",
    "customerTotalList.sort()"
   ]
  },
  {
   "cell_type": "code",
   "execution_count": 3,
   "metadata": {},
   "outputs": [],
   "source": [
    "# 전체 개수와 최솟값과 최댓값의 개수 구하기\n",
    "total_len = len(customerTotalList)\n",
    "minimum = min(customerTotalList)\n",
    "maximum = max(customerTotalList)\n",
    "minimum_duplication = customerTotalList.count(minimum)\n",
    "maximum_duplication = customerTotalList.count(maximum)"
   ]
  },
  {
   "cell_type": "code",
   "execution_count": 4,
   "metadata": {},
   "outputs": [],
   "source": [
    "# 최솟값과 최댓값을 모두 뺀 리스트 생성. 최솟값 중복이 n개, 최댓값 중복이 m개면 n+1 번째부터 시작해 뒤에 m개가 빠찜.\n",
    "customerTotalList = customerTotalList[minimum_duplication : total_len - maximum_duplication ]"
   ]
  },
  {
   "cell_type": "code",
   "execution_count": 5,
   "metadata": {},
   "outputs": [
    {
     "data": {
      "text/plain": [
       "35248.91490376756"
      ]
     },
     "execution_count": 5,
     "metadata": {},
     "output_type": "execute_result"
    }
   ],
   "source": [
    "average = sum(customerTotalList) / len(customerTotalList)\n",
    "average"
   ]
  },
  {
   "cell_type": "markdown",
   "metadata": {},
   "source": [
    "반복문 함수 이용해 풀기(while)"
   ]
  },
  {
   "cell_type": "code",
   "execution_count": 1,
   "metadata": {},
   "outputs": [],
   "source": [
    "import pandas as pd\n",
    "\n",
    "customerData = pd.read_csv(\"/Users/saebyul/pywork/dataset/kopo_customerdata.csv\")\n",
    "customerTotalList = customerData[\"TOTAL_AMOUNT\"].tolist()"
   ]
  },
  {
   "cell_type": "code",
   "execution_count": 2,
   "metadata": {},
   "outputs": [],
   "source": [
    "maximum = max(customerTotalList)                         # 최댓값을 정의.\n",
    "minimum = min(customerTotalList)                         # 최솟값을 정의."
   ]
  },
  {
   "cell_type": "code",
   "execution_count": 3,
   "metadata": {},
   "outputs": [],
   "source": [
    "while customerTotalList.count(maximum) > 0:\n",
    "    customerTotalList.remove(maximum)"
   ]
  },
  {
   "cell_type": "code",
   "execution_count": 4,
   "metadata": {},
   "outputs": [],
   "source": [
    "while customerTotalList.count(minimum) > 0:\n",
    "    customerTotalList.remove(minimum)"
   ]
  },
  {
   "cell_type": "code",
   "execution_count": 5,
   "metadata": {},
   "outputs": [
    {
     "name": "stdout",
     "output_type": "stream",
     "text": [
      "35248.91490376756\n"
     ]
    }
   ],
   "source": [
    "print(sum(customerTotalList)/len(customerTotalList))"
   ]
  },
  {
   "cell_type": "code",
   "execution_count": 7,
   "metadata": {},
   "outputs": [],
   "source": [
    "# 반복문을 사용하는 것이 무조건 좋은 것은 아니다. 오히려 코드는 길어지고 반복문이 30만번씩 돌면 시간도 더 걸린다."
   ]
  },
  {
   "cell_type": "markdown",
   "metadata": {},
   "source": [
    "for문 이용하는거는 최댓값"
   ]
  },
  {
   "cell_type": "markdown",
   "metadata": {},
   "source": [
    "### 파이썬의 자료형 5가지\n",
    "\n",
    "1. 수(Number)           :     일반 숫자 정의      :   정수(int), 실수(float) <br>\n",
    "2. 문자열(String)        :    홑/겹 따옴표로 정의   :   \"Python is my favorite\" <br>\n",
    "3. 리스트(List)          : 생성, 삭제, 수정 가능한 집합 :   [1, 2, 3, 4, 5] <br>\n",
    "4. 튜플(Tuple)          :  생성, 삭제만 가능한 집합  :   (1, 2, 3, 4, 5) <br>\n",
    "5. 딕셔너리(Dictionary)  :    Key-Value 정의     :   {\"product_name\" : \"led\", \"product_price\" : 100}"
   ]
  },
  {
   "cell_type": "markdown",
   "metadata": {},
   "source": [
    "1. 수(Number)"
   ]
  },
  {
   "cell_type": "code",
   "execution_count": 1,
   "metadata": {},
   "outputs": [
    {
     "data": {
      "text/plain": [
       "13"
      ]
     },
     "execution_count": 1,
     "metadata": {},
     "output_type": "execute_result"
    }
   ],
   "source": [
    "stringValue = \"10\"            # stringValue를 문자열(\"\") 10으로 정의\n",
    "intValue = 3                  # intValue를 숫자 3으로 정의\n",
    "int(stringValue) + intValue   # stingValue의 문자 10을 숫자로 변환하여 intValue의 숫자값과 더하기"
   ]
  },
  {
   "cell_type": "code",
   "execution_count": 2,
   "metadata": {},
   "outputs": [
    {
     "ename": "TypeError",
     "evalue": "can only concatenate str (not \"int\") to str",
     "output_type": "error",
     "traceback": [
      "\u001b[0;31m---------------------------------------------------------------------------\u001b[0m",
      "\u001b[0;31mTypeError\u001b[0m                                 Traceback (most recent call last)",
      "\u001b[0;32m<ipython-input-2-15134ed6a364>\u001b[0m in \u001b[0;36m<module>\u001b[0;34m\u001b[0m\n\u001b[0;32m----> 1\u001b[0;31m \u001b[0mstringValue\u001b[0m \u001b[0;34m+\u001b[0m \u001b[0mintValue\u001b[0m        \u001b[0;31m# 그냥 계산하면 stringValue(문자열) + intValue(숫자)로 자료형이 일치하지 않아 에러 발생!\u001b[0m\u001b[0;34m\u001b[0m\u001b[0;34m\u001b[0m\u001b[0m\n\u001b[0m",
      "\u001b[0;31mTypeError\u001b[0m: can only concatenate str (not \"int\") to str"
     ]
    }
   ],
   "source": [
    "stringValue + intValue        # 그냥 계산하면 stringValue(문자열) + intValue(숫자)로 자료형이 일치하지 않아 에러 발생!"
   ]
  },
  {
   "cell_type": "code",
   "execution_count": 3,
   "metadata": {},
   "outputs": [],
   "source": [
    "# 값 정의하기\n",
    "integer_value = 123\n",
    "float_value = 12.345\n",
    "float_value2 = 12.654"
   ]
  },
  {
   "cell_type": "code",
   "execution_count": 4,
   "metadata": {},
   "outputs": [
    {
     "name": "stdout",
     "output_type": "stream",
     "text": [
      "12\n",
      "12\n"
     ]
    }
   ],
   "source": [
    "# 1) 실수를 정수로 변환\n",
    "print(int(float_value))    # int는 반올림 하지 않는다. 내림!\n",
    "print(int(float_value2))   # int는 반올림 하지 않는다. 내림!"
   ]
  },
  {
   "cell_type": "code",
   "execution_count": 5,
   "metadata": {},
   "outputs": [
    {
     "name": "stdout",
     "output_type": "stream",
     "text": [
      "135.345\n"
     ]
    }
   ],
   "source": [
    "# 2) 더하기 연산\n",
    "sumation = integer_value + float_value\n",
    "print(sumation)"
   ]
  },
  {
   "cell_type": "code",
   "execution_count": 6,
   "metadata": {},
   "outputs": [
    {
     "name": "stdout",
     "output_type": "stream",
     "text": [
      "1518.4350000000002\n"
     ]
    }
   ],
   "source": [
    "# 3) 곱하기 연산\n",
    "multiple = integer_value * float_value\n",
    "print(multiple)"
   ]
  },
  {
   "cell_type": "code",
   "execution_count": 7,
   "metadata": {},
   "outputs": [
    {
     "name": "stdout",
     "output_type": "stream",
     "text": [
      "9.963547995139733\n"
     ]
    }
   ],
   "source": [
    "# 4) 나누기 연산\n",
    "division = integer_value / float_value\n",
    "print(division)"
   ]
  },
  {
   "cell_type": "code",
   "execution_count": 8,
   "metadata": {},
   "outputs": [
    {
     "name": "stdout",
     "output_type": "stream",
     "text": [
      "144\n"
     ]
    }
   ],
   "source": [
    "# 5) 제곱 연산\n",
    "integer_value2 = int(float_value)\n",
    "square = integer_value2**2           # WolframAlpha 에서는 숫자^2 지만 파이썬에서는 ^을 **로 입력한다.\n",
    "print(square)"
   ]
  },
  {
   "cell_type": "code",
   "execution_count": 9,
   "metadata": {},
   "outputs": [
    {
     "name": "stdout",
     "output_type": "stream",
     "text": [
      "1728\n"
     ]
    }
   ],
   "source": [
    "# 6) 세제곱 연산\n",
    "cube = integer_value2**3             # 세제곱이라고 ***가 아니다. ^을 **로 정의내린 것 뿐이다.\n",
    "print(cube)"
   ]
  },
  {
   "cell_type": "code",
   "execution_count": 10,
   "metadata": {},
   "outputs": [
    {
     "name": "stdout",
     "output_type": "stream",
     "text": [
      "3\n"
     ]
    }
   ],
   "source": [
    "# 7) 나머지 연산\n",
    "mod = integer_value % int(float_value)\n",
    "print(mod)"
   ]
  },
  {
   "cell_type": "markdown",
   "metadata": {},
   "source": [
    "2. 문자열(String)"
   ]
  },
  {
   "cell_type": "code",
   "execution_count": 1,
   "metadata": {},
   "outputs": [
    {
     "ename": "SyntaxError",
     "evalue": "invalid syntax (<ipython-input-1-34c789b01a7f>, line 1)",
     "output_type": "error",
     "traceback": [
      "\u001b[0;36m  File \u001b[0;32m\"<ipython-input-1-34c789b01a7f>\"\u001b[0;36m, line \u001b[0;32m1\u001b[0m\n\u001b[0;31m    print(This is 'String' value.)        # 문자열이 아니다. This 앞과, value. 뒤에 따옴표가 와야 한다.\u001b[0m\n\u001b[0m                           ^\u001b[0m\n\u001b[0;31mSyntaxError\u001b[0m\u001b[0;31m:\u001b[0m invalid syntax\n"
     ]
    }
   ],
   "source": [
    "print(This is 'String' value.)        # 문자열이 아니다. This 앞과, value. 뒤에 따옴표가 와야 한다."
   ]
  },
  {
   "cell_type": "code",
   "execution_count": 2,
   "metadata": {},
   "outputs": [
    {
     "name": "stdout",
     "output_type": "stream",
     "text": [
      "This is 'String' value.\n"
     ]
    }
   ],
   "source": [
    "print(\"This is 'String' value.\")      # 가장 무난함."
   ]
  },
  {
   "cell_type": "code",
   "execution_count": 3,
   "metadata": {},
   "outputs": [
    {
     "name": "stdout",
     "output_type": "stream",
     "text": [
      "This is \"String\" value.\n"
     ]
    }
   ],
   "source": [
    "print('This is \"String\" value.')      # 가능함."
   ]
  },
  {
   "cell_type": "code",
   "execution_count": 4,
   "metadata": {},
   "outputs": [
    {
     "name": "stdout",
     "output_type": "stream",
     "text": [
      "This is 'String' value.\n"
     ]
    }
   ],
   "source": [
    "print(\"\"\"This is 'String' value.\"\"\")  # 맨 앞 뒤 따옴표 형태만 맞추면 됨."
   ]
  },
  {
   "cell_type": "code",
   "execution_count": 5,
   "metadata": {},
   "outputs": [
    {
     "name": "stdout",
     "output_type": "stream",
     "text": [
      "smart analytics\n"
     ]
    }
   ],
   "source": [
    "# 1) 문자열 더하기\n",
    "head = \"smart\"                     # head를 문자열(\" \") smart로 정의\n",
    "tail = \"analytics\"                 # tail를 문자열(\" \") analytics로 정의\n",
    "fullString = head + \" \" + tail     # 문자 + (공백 하나가 들어간)문자 + 문자\n",
    "print(fullString)"
   ]
  },
  {
   "cell_type": "code",
   "execution_count": 6,
   "metadata": {},
   "outputs": [
    {
     "name": "stdout",
     "output_type": "stream",
     "text": [
      "AAAAA\n"
     ]
    }
   ],
   "source": [
    "# 2) 문자열 곱하기\n",
    "print(\"A\"*5)"
   ]
  },
  {
   "cell_type": "code",
   "execution_count": 7,
   "metadata": {},
   "outputs": [
    {
     "name": "stdout",
     "output_type": "stream",
     "text": [
      "1\n",
      "2\n",
      "7\n"
     ]
    }
   ],
   "source": [
    "# 3) 문자열 인덱싱 (0부터 시작!!!! 따라서 인덱싱 n번째는 실제로 n+1번째 값이다.)\n",
    "yearweek = \"1234567\"        # yearweek는 8자리지만 7자리만 정의했다.\n",
    "print(yearweek[0])          # 0+1 번째 문자열 'y'에 정의된 값 1\n",
    "print(yearweek[1])          # 1+1 번째 문자열 'e'에 정의된 값 2\n",
    "print(yearweek[6])          # 6+1 번째 문자열 'e'에 정의된 값 7"
   ]
  },
  {
   "cell_type": "code",
   "execution_count": 8,
   "metadata": {},
   "outputs": [
    {
     "name": "stdout",
     "output_type": "stream",
     "text": [
      "123\n",
      "4567\n",
      "23\n"
     ]
    }
   ],
   "source": [
    "# [a:b] 는 a+1 번째 문자열 ~ b+1 번째 문자열 전까지를 정의한다.\n",
    "print(yearweek[:3])         # 3+1 번째 문자열 전까지 'yea'에 정의된 값 123\n",
    "print(yearweek[3:])         # 3+1 번째 문자열 부터 끝까지 'rweek'에 정의된 값 4567\n",
    "print(yearweek[1:3])        # 1+1 번째 문자열 ~ 3+1 번째 문자열 전까지. 즉, 2번째 문자열 ~ 4번째 문자열 전까지.\n",
    "                            # 즉, 3번째 문자열 ~ 3번째 문자열 'ea'에 정의된 값 23"
   ]
  },
  {
   "cell_type": "code",
   "execution_count": 9,
   "metadata": {},
   "outputs": [
    {
     "ename": "NameError",
     "evalue": "name 'wearweek' is not defined",
     "output_type": "error",
     "traceback": [
      "\u001b[0;31m---------------------------------------------------------------------------\u001b[0m",
      "\u001b[0;31mNameError\u001b[0m                                 Traceback (most recent call last)",
      "\u001b[0;32m<ipython-input-9-ae262936d5fb>\u001b[0m in \u001b[0;36m<module>\u001b[0;34m\u001b[0m\n\u001b[0;32m----> 1\u001b[0;31m \u001b[0mprint\u001b[0m\u001b[0;34m(\u001b[0m\u001b[0mwearweek\u001b[0m\u001b[0;34m[\u001b[0m\u001b[0;36m7\u001b[0m\u001b[0;34m]\u001b[0m\u001b[0;34m)\u001b[0m          \u001b[0;31m# 위에서 yearweek는 8자리지만 7자리만 정의해서 7+1번째에 정의된 값이 없으므로 에러 발생.\u001b[0m\u001b[0;34m\u001b[0m\u001b[0;34m\u001b[0m\u001b[0m\n\u001b[0m\u001b[1;32m      2\u001b[0m                             \u001b[0;31m# 만약 yearweek = \"12345678\"로 정의했다면 7+1번째 정의된 문자값 8이 나왔을 것이다.\u001b[0m\u001b[0;34m\u001b[0m\u001b[0;34m\u001b[0m\u001b[0;34m\u001b[0m\u001b[0m\n",
      "\u001b[0;31mNameError\u001b[0m: name 'wearweek' is not defined"
     ]
    }
   ],
   "source": [
    "print(wearweek[7])          # 위에서 yearweek는 8자리지만 7자리만 정의해서 7+1번째에 정의된 값이 없으므로 에러 발생.\n",
    "                            # 만약 yearweek = \"12345678\"로 정의했다면 7+1번째 정의된 문자값 8이 나왔을 것이다."
   ]
  },
  {
   "cell_type": "code",
   "execution_count": 10,
   "metadata": {},
   "outputs": [
    {
     "name": "stdout",
     "output_type": "stream",
     "text": [
      "1\n",
      "0\n"
     ]
    }
   ],
   "source": [
    "# 4) 문자열 개수 세기 (count)\n",
    "yearweek = \"2017W28\"\n",
    "print(yearweek.count(\"W\"))       # 대소문자 구분으로 대문자 W는 1개가 된다.\n",
    "print(yearweek.count(\"w\"))       # 대소문자 구분으로 소문자 w는 0개가 된다."
   ]
  },
  {
   "cell_type": "code",
   "execution_count": 11,
   "metadata": {
    "collapsed": true,
    "jupyter": {
     "outputs_hidden": true
    }
   },
   "outputs": [
    {
     "name": "stdout",
     "output_type": "stream",
     "text": [
      "4\n",
      "201728\n"
     ]
    }
   ],
   "source": [
    "# 5) 문자열 위치 확인 (index)\n",
    "print(yearweek.index(\"W\"))              # W값이 2017W28에서 5번째에 위치하므로 n+1=5 니까 n=4 이다.\n",
    "delimeter = yearweek.index(\"W\")         # 따라서 delimeter를 상수 4로 정의한다.\n",
    "newYearweek = yearweek[:delimeter] + yearweek[delimeter + 1:]\n",
    "# newYearweek는 'yearweek의 4+1 번째 전까지' + 'yearweek의 (4+1)+1 번째 부터 끝까지'\n",
    "# 즉, '2017' + '28'\n",
    "print(newYearweek)"
   ]
  },
  {
   "cell_type": "code",
   "execution_count": 12,
   "metadata": {},
   "outputs": [
    {
     "name": "stdout",
     "output_type": "stream",
     "text": [
      "LED_TV\n",
      "led_tv\n"
     ]
    }
   ],
   "source": [
    "# 6) 대소문자 구별 함수 (upper/lower)\n",
    "letters = \"LeD_tv\"                # letters를 \"LeD_tv\" 로 정의한다.\n",
    "print(letters.upper())            # letters를 모두 대문자로 바꾼다.\n",
    "print(letters.lower())            # letters를 모두 소문자로 바꾼다.\n",
    "# upper() 함수나 lower() 함수는 뒤에 값을 () 공백으로 넣어야 작동한다. 안에 upper(e) 또는 upper(\"e\")는 에러 발생."
   ]
  },
  {
   "cell_type": "code",
   "execution_count": 13,
   "metadata": {},
   "outputs": [
    {
     "name": "stdout",
     "output_type": "stream",
     "text": [
      "2017_28\n"
     ]
    }
   ],
   "source": [
    "# 7) 문자 치환 (replace)\n",
    "repLetters = \"2017W28\"               # repLetters를 \"2017W28\"로 정의한다.\n",
    "print(repLetters.replace(\"W\",\"_\"))   # repLetters의 \"W\" 문자를 \"_\" 문자로 치환한다."
   ]
  },
  {
   "cell_type": "code",
   "execution_count": 14,
   "metadata": {},
   "outputs": [
    {
     "name": "stdout",
     "output_type": "stream",
     "text": [
      "['2017', '28']\n"
     ]
    }
   ],
   "source": [
    "# 8) 문자 분리 (split)\n",
    "yearweek_list = yearweek.split(\"W\")   # yearweek를 \"W\"문자를 기준으로 n개의 '리스트'로 분리한다.\n",
    "print(yearweek_list)"
   ]
  },
  {
   "cell_type": "code",
   "execution_count": 15,
   "metadata": {},
   "outputs": [
    {
     "name": "stdout",
     "output_type": "stream",
     "text": [
      "['Bear', 'Tiger', 'Duck', 'Chicken', 'Cow']\n"
     ]
    }
   ],
   "source": [
    "animal = \"Bear@Tiger@Duck@Chicken@Cow\"   # split 함수를 이용해 n개의 '리스트'로 분리하는 것을 실험하기 정의한다.\n",
    "animal_list = animal.split(\"@\")          # animal을 \"@\" 문자를 기준으로 n 개의 '리스트'로 분리한다.\n",
    "print(animal_list)"
   ]
  },
  {
   "cell_type": "code",
   "execution_count": 16,
   "metadata": {},
   "outputs": [
    {
     "name": "stdout",
     "output_type": "stream",
     "text": [
      "<class 'int'>\n",
      "<class 'float'>\n"
     ]
    }
   ],
   "source": [
    "# 9) 자료형의 변환\n",
    "# 문자 -> 수(정수)\n",
    "intValue = 1234                  # \"1234\" 또는 '1234' 처럼 문자열로 정의하지 않으면 기본적으로 숫자는 정수나 실수로 포맷된다.\n",
    "floatValue = 123.456\n",
    "print(type(intValue))            # 1234로 입력하여 정수로 포맷됐다.\n",
    "print(type(floatValue))          # 123.456으로 입력하여 실수로 포맷됐다."
   ]
  },
  {
   "cell_type": "code",
   "execution_count": 17,
   "metadata": {},
   "outputs": [
    {
     "name": "stdout",
     "output_type": "stream",
     "text": [
      "<class 'int'>\n"
     ]
    }
   ],
   "source": [
    "strValue = \"1234\"                # \"1234\"로 입력하여 문자열(String)로 포맷됐다.\n",
    "cvIntValue = int(strValue)       # strValue를 int 함수를 이용해 정수 포맷으로 변경.\n",
    "print(type(cvIntValue))"
   ]
  },
  {
   "cell_type": "code",
   "execution_count": 18,
   "metadata": {},
   "outputs": [
    {
     "name": "stdout",
     "output_type": "stream",
     "text": [
      "<class 'float'>\n"
     ]
    }
   ],
   "source": [
    "# 문자 -> 수(실수)\n",
    "strValue = \"1234\"                # \"1234\"로 입력하여 문자열(String)로 포맷됐다.\n",
    "cvFloatValue = float(strValue)   # strValue를 float 함수를 이용해 실수 포맷으로 변경.\n",
    "print(type(cvFloatValue))"
   ]
  },
  {
   "cell_type": "code",
   "execution_count": 19,
   "metadata": {},
   "outputs": [
    {
     "name": "stdout",
     "output_type": "stream",
     "text": [
      "<class 'str'>\n"
     ]
    }
   ],
   "source": [
    "# 숫자 -> 문자\n",
    "numberValue = 1234               # 1234로 입력하여 정수로 포맷됐다.\n",
    "cvStrValue = str(numberValue)    # numberValue를 str 함수를 이용해 문자열(String) 포맷으로 변경.\n",
    "print(type(cvStrValue))"
   ]
  },
  {
   "cell_type": "markdown",
   "metadata": {},
   "source": [
    "3. 리스트(List) : 생성, 삭제, 수정 가능한 집합"
   ]
  },
  {
   "cell_type": "code",
   "execution_count": 1,
   "metadata": {},
   "outputs": [],
   "source": [
    "# 빈 리스트 생성\n",
    "emptyList = []\n",
    "# 가격 집합 리스트 생성\n",
    "priceList = [120,130,150,200,180]\n",
    "# 복합 리스트 생성\n",
    "secinfo = [\"SEC\",120,130,[201712,201313]]"
   ]
  },
  {
   "cell_type": "code",
   "execution_count": 2,
   "metadata": {},
   "outputs": [
    {
     "name": "stdout",
     "output_type": "stream",
     "text": [
      "['SEC', 120, 130, 201712, 201713]\n"
     ]
    }
   ],
   "source": [
    "# 1) 리스트 연산\n",
    "stockName = [\"SEC\"]                               # 문자열은 반드시 \" \"로 정의한다. stockName = [SEC]는 오류 발생.\n",
    "priceList = [120,130]\n",
    "dateList = [201712,201713]\n",
    "\n",
    "secinfo = stockName + priceList + dateList        # 아래 수식과 결과값을 비교해본다.\n",
    "print(secinfo)"
   ]
  },
  {
   "cell_type": "code",
   "execution_count": 3,
   "metadata": {},
   "outputs": [
    {
     "name": "stdout",
     "output_type": "stream",
     "text": [
      "['SEC', 120, 130, [201712, 201713]]\n"
     ]
    }
   ],
   "source": [
    "secinfo = stockName + priceList + [dateList]      # 위 수식과 결과값을 비교해본다.\n",
    "print(secinfo)"
   ]
  },
  {
   "cell_type": "code",
   "execution_count": 4,
   "metadata": {},
   "outputs": [
    {
     "name": "stdout",
     "output_type": "stream",
     "text": [
      "120\n",
      "[201712, 201713]\n"
     ]
    }
   ],
   "source": [
    "# 2) 리스트 인덱싱\n",
    "secinfo = [\"SEC\",120,130,[201712,201713]]\n",
    "# 문자열은 반드시 \" \"로 정의. secinfo를 1개의 문자열, 2개의 숫자, 1개의 리스트로 구성된 4개의 값을 가진 리스트로 정의.\n",
    "print(secinfo[1])              # secinfo리스트의 1+1번째 값 120을 출력.\n",
    "print(secinfo[3])              # secinfo리스트의 3+1번째 값 [201712, 201713]을 출력."
   ]
  },
  {
   "cell_type": "code",
   "execution_count": 5,
   "metadata": {},
   "outputs": [
    {
     "name": "stdout",
     "output_type": "stream",
     "text": [
      "201712\n",
      "C\n",
      "SEC 130\n",
      "['SEC', 120, 130]\n"
     ]
    },
    {
     "ename": "TypeError",
     "evalue": "'int' object is not subscriptable",
     "output_type": "error",
     "traceback": [
      "\u001b[0;31m---------------------------------------------------------------------------\u001b[0m",
      "\u001b[0;31mTypeError\u001b[0m                                 Traceback (most recent call last)",
      "\u001b[0;32m<ipython-input-5-3aa2a0b543c8>\u001b[0m in \u001b[0;36m<module>\u001b[0;34m\u001b[0m\n\u001b[1;32m      9\u001b[0m                                \u001b[0;31m# 범위로 불러올 경우 값이 아닌 리스트를 불러오게 된다.\u001b[0m\u001b[0;34m\u001b[0m\u001b[0;34m\u001b[0m\u001b[0;34m\u001b[0m\u001b[0m\n\u001b[1;32m     10\u001b[0m \u001b[0;34m\u001b[0m\u001b[0m\n\u001b[0;32m---> 11\u001b[0;31m \u001b[0mprint\u001b[0m\u001b[0;34m(\u001b[0m\u001b[0msecinfo\u001b[0m\u001b[0;34m[\u001b[0m\u001b[0;36m1\u001b[0m\u001b[0;34m]\u001b[0m\u001b[0;34m[\u001b[0m\u001b[0;36m1\u001b[0m\u001b[0;34m]\u001b[0m\u001b[0;34m)\u001b[0m           \u001b[0;31m# secinfo리스트의 1+1번째 값 120은 숫자로 리스트나 문자열이 아니다.\u001b[0m\u001b[0;34m\u001b[0m\u001b[0;34m\u001b[0m\u001b[0m\n\u001b[0m\u001b[1;32m     12\u001b[0m                                \u001b[0;31m# 따라서 숫자 120의 1+1번째 값은 없다. 에러 발생\u001b[0m\u001b[0;34m\u001b[0m\u001b[0;34m\u001b[0m\u001b[0;34m\u001b[0m\u001b[0m\n",
      "\u001b[0;31mTypeError\u001b[0m: 'int' object is not subscriptable"
     ]
    }
   ],
   "source": [
    "print(secinfo[3][0])           # secinfo리스트의 3+1번째 값 [201712,201713]리스트의 0+1번째 값 201712를 출력.\n",
    "print(secinfo[0][2])           # secinfo리스트의 0+1번째 값 \"SEC\" 문자열의 2+1번째 값 C를 출력.\n",
    "                               # 따라서 0+1번 값과 2+1번 값을 구하고 싶다면 아래와 같이 입력한다.\n",
    "print(secinfo[0],secinfo[2])   # 리스트는 한번에 하나의 값 또는 리스트를 반환한다.\n",
    "                               # 따라서 서로 떨어진 값을 출력하려면 print 함수 내에 리스트를 호출을 n번 사용한다.\n",
    "                               # 이는 조건문을 이용해 반복시킬 수도 있다.\n",
    "                               # 여기서는 0+1번째 값 \"SEC\"와 2+1번째 값 130을 출력한다.\n",
    "print(secinfo[0:3])            # secinfo리스트의 0+1번째 ~ 3+1번째 값 전까지 [\"SEC\", 120, 130] 리스트로 출력.\n",
    "                               # 범위로 불러올 경우 값이 아닌 리스트를 불러오게 된다.\n",
    "\n",
    "print(secinfo[1][1])           # secinfo리스트의 1+1번째 값 120은 숫자로 리스트나 문자열이 아니다.\n",
    "                               # 따라서 숫자 120의 1+1번째 값은 없다. 에러 발생"
   ]
  },
  {
   "cell_type": "code",
   "execution_count": 6,
   "metadata": {},
   "outputs": [
    {
     "name": "stdout",
     "output_type": "stream",
     "text": [
      "a,b,c,d,e\n"
     ]
    }
   ],
   "source": [
    "testList = [\"a,b,c,d,e\"]                     # testList를 \"a,b,c,d,e\"라는 문자열 1개의 값을 가진 리스트로 정의.\n",
    "print(testList[0])"
   ]
  },
  {
   "cell_type": "code",
   "execution_count": 7,
   "metadata": {},
   "outputs": [
    {
     "name": "stdout",
     "output_type": "stream",
     "text": [
      "a\n",
      "<class 'str'>\n",
      "['a', 'b', 'c', 'd', 'e']\n",
      "<class 'list'>\n",
      "['a', 'b']\n",
      "<class 'list'>\n",
      "a c\n",
      "<class 'str'>\n",
      "<class 'str'>\n"
     ]
    }
   ],
   "source": [
    "testList = [\"a\",\"b\",\"c\",\"d\",\"e\"]          # testList를 a~e까지 각 문자열 하나씩 5개의 값을 가진 리스트로 정의.\n",
    "print(testList[0])                        # testList리스트의 0+1번째 값 a를 출력.\n",
    "print(type(testList[0]))                  # 단일값 호출로 문자열 포맷.\n",
    "print(testList[0:])                       # testList리스트의 0+1번째 값부터 끝까지 [a, b, c, d, e] 리스트로 출력.\n",
    "print(type(testList[0:]))                 # 범위값 호출로 리스트 포맷.\n",
    "print(testList[0:2])                      # testList리스트의 0+1번째 ~ 2+1번째 전까지 [a, b] 리스트로 출력.\n",
    "print(type(testList[0:2]))                # 범위값 호출로 리스트 포맷.\n",
    "print(testList[0],testList[2])            # testList리스트의 0+1번째 값 a와 2+1번째 값 c를 출력.\n",
    "print(type(testList[0]))                  # 각각의 단일값 2개의 호출로 각각의 문자열 포맷.\n",
    "print(type(testList[2]))"
   ]
  },
  {
   "cell_type": "code",
   "execution_count": 8,
   "metadata": {},
   "outputs": [
    {
     "ename": "NameError",
     "evalue": "name 'a' is not defined",
     "output_type": "error",
     "traceback": [
      "\u001b[0;31m---------------------------------------------------------------------------\u001b[0m",
      "\u001b[0;31mNameError\u001b[0m                                 Traceback (most recent call last)",
      "\u001b[0;32m<ipython-input-8-88011255f1d5>\u001b[0m in \u001b[0;36m<module>\u001b[0;34m\u001b[0m\n\u001b[0;32m----> 1\u001b[0;31m \u001b[0mtestList\u001b[0m \u001b[0;34m=\u001b[0m \u001b[0;34m[\u001b[0m\u001b[0ma\u001b[0m\u001b[0;34m,\u001b[0m\u001b[0mb\u001b[0m\u001b[0;34m,\u001b[0m\u001b[0mc\u001b[0m\u001b[0;34m,\u001b[0m\u001b[0md\u001b[0m\u001b[0;34m,\u001b[0m\u001b[0me\u001b[0m\u001b[0;34m]\u001b[0m                       \u001b[0;31m# 문자열로 정의되지 않아서 에러 발생. 반드시 \" \" 빼먹지 말자.\u001b[0m\u001b[0;34m\u001b[0m\u001b[0;34m\u001b[0m\u001b[0m\n\u001b[0m\u001b[1;32m      2\u001b[0m \u001b[0mprint\u001b[0m\u001b[0;34m(\u001b[0m\u001b[0mtestList\u001b[0m\u001b[0;34m[\u001b[0m\u001b[0;36m0\u001b[0m\u001b[0;34m]\u001b[0m\u001b[0;34m)\u001b[0m\u001b[0;34m\u001b[0m\u001b[0;34m\u001b[0m\u001b[0m\n",
      "\u001b[0;31mNameError\u001b[0m: name 'a' is not defined"
     ]
    }
   ],
   "source": [
    "testList = [a,b,c,d,e]                       # 문자열로 정의되지 않아서 에러 발생. 반드시 \" \" 빼먹지 말자.\n",
    "print(testList[0])"
   ]
  },
  {
   "cell_type": "code",
   "execution_count": 10,
   "metadata": {},
   "outputs": [
    {
     "name": "stdout",
     "output_type": "stream",
     "text": [
      "[120, 130, 140, 170, 140]\n",
      "[120, 130, 150, 170, 140]\n",
      "[120, 320, 470, 130, 140]\n"
     ]
    }
   ],
   "source": [
    "# 3) 리스트 값 업데이트 하기\n",
    "updateList = [120,130,140,170,140]   # 숫자로 이루어진 리스트 생성.\n",
    "print(updateList)                    # 초기 리스트 출력.\n",
    "updateList[2] = 150                  # updateList의 2+1번째 값을 150으로 업데이트.\n",
    "print(updateList)                    # 업데이트 된 새 리스트 출력.\n",
    "updateList[1:4] = [320,470,130]      # updateList의 1+1 ~ 4 번째 값을 320,470,130으로 업데이트.\n",
    "print(updateList)"
   ]
  },
  {
   "cell_type": "code",
   "execution_count": 11,
   "metadata": {},
   "outputs": [
    {
     "name": "stdout",
     "output_type": "stream",
     "text": [
      "[110, 120, 210, 170, 160, 120, 130, 150, 180, 110]\n"
     ]
    }
   ],
   "source": [
    "# 4) 리스트 값 삭제하기\n",
    "updateList = [110,130,120,210,170,160,120,130,150,180,110]\n",
    "updateList.remove(130)           # updateList에서 remove 명령어를 사용해 가장 앞에서 발견된 130을 삭제.\n",
    "print(updateList)                # [110,120,210,170,160,120,130,150,180,110]을 출력."
   ]
  },
  {
   "cell_type": "code",
   "execution_count": 3,
   "metadata": {},
   "outputs": [
    {
     "name": "stdout",
     "output_type": "stream",
     "text": [
      "[110, 120, 210, 160, 120, 130, 150, 180, 110]\n"
     ]
    }
   ],
   "source": [
    "del updateList[3]               # updateList에서 del 명령어를 사용해 3+1번째 170을 삭제.\n",
    "print(updateList)                # [110, 120, 210, 160, 120, 130, 150, 180, 110]을 출력."
   ]
  },
  {
   "cell_type": "code",
   "execution_count": 4,
   "metadata": {},
   "outputs": [
    {
     "name": "stdout",
     "output_type": "stream",
     "text": [
      "[110, 120, 210, 160, 120, 130, 150, 180]\n"
     ]
    }
   ],
   "source": [
    "# 5) 리스트 값 끄집어내기\n",
    "updateList.pop()                # 맨 마지막 값 110을 반환 후 리스트에서 삭제한다.\n",
    "print(updateList)               # [110, 120, 210, 160, 120, 130, 150, 180] 출력."
   ]
  },
  {
   "cell_type": "code",
   "execution_count": 5,
   "metadata": {},
   "outputs": [
    {
     "name": "stdout",
     "output_type": "stream",
     "text": [
      "120\n",
      "[110, 120, 210, 160, 130, 150, 180]\n"
     ]
    }
   ],
   "source": [
    "print(updateList.pop(4))\n",
    "# 4+1번째 값 120을 반환 후 리스트에서 삭제한다. 이 값 120을 출력.\n",
    "# pop 함수는 값을 반환하기 때문에 print(.pop()) 형태로 사용 가능하다. remove, del 함수는 값을 반환하지 않고 삭제하기 때문에 불가능.\n",
    "print(updateList)               # [110, 120, 210, 160, 130, 150, 180] 출력."
   ]
  },
  {
   "cell_type": "code",
   "execution_count": 6,
   "metadata": {},
   "outputs": [
    {
     "name": "stdout",
     "output_type": "stream",
     "text": [
      "[110, 510, 610, 320, 170]\n"
     ]
    }
   ],
   "source": [
    "# 6) 리스트 구간 데이터 삭제하기\n",
    "updateList = [110,120,150,130,210,510,610,320,170]\n",
    "updateList[1:5] = []             # updateList에서 1+1번째 ~ 5+1번째 전까지 모두 삭제. 즉, 2~5번째 값 삭제.\n",
    "print(updateList)                # [110,510,610,320,170]을 출력."
   ]
  },
  {
   "cell_type": "code",
   "execution_count": 7,
   "metadata": {},
   "outputs": [
    {
     "name": "stdout",
     "output_type": "stream",
     "text": [
      "[120, 130, 140, 150, 100]\n"
     ]
    }
   ],
   "source": [
    "# 7) 리스트에 값 추가하기\n",
    "functionList = [120,130,140,150]   # 4개의 숫자 값을 가진 리스트 생성.\n",
    "functionList.append(100)\n",
    "# functionList 리스트 마지막에 100이란 값을 뒤에 덧붙인다.\n",
    "# append 명령어는 'functionList.append(object, /)' 구조로 인덱스 기능을 사용할 수 없다. \n",
    "print(functionList)                # [120, 130, 140, 150, 100]을 출력."
   ]
  },
  {
   "cell_type": "code",
   "execution_count": 8,
   "metadata": {},
   "outputs": [
    {
     "name": "stdout",
     "output_type": "stream",
     "text": [
      "[120, 130, 140, 200, 150, 100]\n"
     ]
    }
   ],
   "source": [
    "functionList.insert(3,200)\n",
    "# 3+1번째 인덱스에 200이란 값을 삽입한다. 3번째가 아니라 3+1번째임에 유의한다.\n",
    "# insert 명령어는 'functionList.insert(index, object, /)' 구조로 반드시 인덱스와 값이라는 2가지가 포함되어야 한다.\n",
    "print(functionList)                # [120, 130, 140, 200, 150, 100]을 출력."
   ]
  },
  {
   "cell_type": "code",
   "execution_count": 9,
   "metadata": {},
   "outputs": [
    {
     "name": "stdout",
     "output_type": "stream",
     "text": [
      "[120, 130, 140, 200, 150, 100, 11, 12]\n",
      "[120, 130, 140, 200, 150, 100, 11, 12, 13, 14]\n"
     ]
    }
   ],
   "source": [
    "functionList.extend([11,12])\n",
    "# 리스트에 다른 리스트 [11,12]를 연장한다. append, insert와 달리 하나의 값이 아닌 리스트를 통째로 연장한다.\n",
    "# extend 명령어는 리스트를 이어붙일 때 사용한다.\n",
    "print(functionList)\n",
    "functionList = functionList + [13,14]\n",
    "# extend 명령어 대신 리스트 + 리스트는 같은 포맷이기 때문에 리스트 연산으로도 처리 가능하다.\n",
    "print(functionList)"
   ]
  },
  {
   "cell_type": "code",
   "execution_count": 10,
   "metadata": {},
   "outputs": [
    {
     "name": "stdout",
     "output_type": "stream",
     "text": [
      "[11, 12, 13, 14, 100, 120, 130, 140, 150, 200]\n",
      "[11, 12, 13, 14, 100, 120, 130, 140, 150, 200]\n",
      "[200, 150, 140, 130, 120, 100, 14, 13, 12, 11]\n"
     ]
    }
   ],
   "source": [
    "# 8) 리스트 정렬하기\n",
    "functionList.sort()                  # 아무것도 입력하지 않을 경우 기본적으로 오름차순 정렬이 된다.   \n",
    "print(functionList)\n",
    "functionList.sort(reverse = False)   # 오름차순 정렬. 반드시 False로 입력한다. false로 입력하면 오류 발생.\n",
    "print(functionList)\n",
    "functionList.sort(reverse = True)    # 내림차순 정렬. 반드시 True로 입력한다. true로 입력하면 오류 발생.\n",
    "print(functionList)"
   ]
  },
  {
   "cell_type": "code",
   "execution_count": 11,
   "metadata": {},
   "outputs": [
    {
     "name": "stdout",
     "output_type": "stream",
     "text": [
      "1\n"
     ]
    }
   ],
   "source": [
    "# 9) 값으로 인덱스 가져오기\n",
    "print(functionList.index(150))        # 150은 1+1번째에 있으니 인덱스는 1을 출력."
   ]
  },
  {
   "cell_type": "code",
   "execution_count": 12,
   "metadata": {},
   "outputs": [
    {
     "name": "stdout",
     "output_type": "stream",
     "text": [
      "10\n"
     ]
    }
   ],
   "source": [
    "# 10) 리스트의 길이(length). 값의 개수 구하기.\n",
    "print(len(functionList))   # len(obj, /) 형태로 Return the number of items in a container. 즉, 값의 갯수를 반환."
   ]
  },
  {
   "cell_type": "code",
   "execution_count": 13,
   "metadata": {},
   "outputs": [
    {
     "name": "stdout",
     "output_type": "stream",
     "text": [
      "2\n"
     ]
    }
   ],
   "source": [
    "# 11) 리스트에서 특정 값의 개수 구하기.\n",
    "functionList = [11,13,21,46,22,13,23,64]\n",
    "print(functionList.count(13))"
   ]
  },
  {
   "cell_type": "code",
   "execution_count": 1,
   "metadata": {},
   "outputs": [
    {
     "name": "stdout",
     "output_type": "stream",
     "text": [
      "11\n",
      "64\n",
      "213\n",
      "26.625\n"
     ]
    }
   ],
   "source": [
    "# 12) 그 외 자주 사용되는 함수\n",
    "functionList = [11,13,21,46,22,13,23,64]\n",
    "print(min(functionList))                          # 리스트 최솟값 11을 출력.\n",
    "print(max(functionList))                          # 리스트 최댓값 64를 출력.\n",
    "print(sum(functionList))                          # 리스트 합 213을 출력.\n",
    "average = sum(functionList) / len(functionList)   # average를 리스트 합(213) / 리스트 개수(8) = 62.625\n",
    "print(average)                                    # average 값 26.625를 출력."
   ]
  },
  {
   "cell_type": "markdown",
   "metadata": {},
   "source": [
    "4. 튜플(Tuple) : 생성, 삭제는 가능하지만 수정은 불가능한 집합"
   ]
  },
  {
   "cell_type": "code",
   "execution_count": 1,
   "metadata": {},
   "outputs": [],
   "source": [
    "# 빈 튜플 생성\n",
    "emptyTuple = (0)\n",
    "# 시간정보 생성\n",
    "timeTuple = (1,2,3,4,5,6)"
   ]
  },
  {
   "cell_type": "code",
   "execution_count": 2,
   "metadata": {},
   "outputs": [
    {
     "name": "stdout",
     "output_type": "stream",
     "text": [
      "2\n",
      "4\n",
      "(1, 2, 3)\n"
     ]
    }
   ],
   "source": [
    "# 1) 튜플 인덱싱\n",
    "timeTuple = (1,2,3,4,5,6)\n",
    "\n",
    "print(timeTuple[1])        # timeTurple 튜플에서 1+1번째 값 2를 출력.\n",
    "print(timeTuple[3])        # timeTurple 튜플에서 3+1번째 값 4를 출력.\n",
    "print(timeTuple[0:3])      # timeTurple 튜플에서 0+1번째 ~ 3+1번째 값 (1,2,3)을 출력."
   ]
  },
  {
   "cell_type": "code",
   "execution_count": 3,
   "metadata": {},
   "outputs": [
    {
     "name": "stdout",
     "output_type": "stream",
     "text": [
      "6\n"
     ]
    }
   ],
   "source": [
    "# 2) 튜플의 길이(length). 값의 개수 구하기.\n",
    "print(len(timeTuple))"
   ]
  },
  {
   "cell_type": "markdown",
   "metadata": {},
   "source": [
    "5. 딕셔너리(Dictionary) : {Key:Value} 형태로 특정 Key를 요청하면 Value를 불러올 수 있는 집합"
   ]
  },
  {
   "cell_type": "code",
   "execution_count": 1,
   "metadata": {},
   "outputs": [
    {
     "name": "stdout",
     "output_type": "stream",
     "text": [
      "{'name': 'sec', 'id': '300000', 'address': 'suwon'}\n",
      "sec\n"
     ]
    }
   ],
   "source": [
    "# 딕셔너리 생성\n",
    "dic = {\"name\":\"sec\",\n",
    "       \"id\":\"300000\",\n",
    "       \"address\":\"suwon\"}\n",
    "print(dic)               # 딕셔너리 전체를 출력.\n",
    "print(dic[\"name\"])\n",
    "# 딕셔너리에서 Key값과 Value값은 1:1로 대응한다.\n",
    "# 딕셔너리에서 특정 Key값을 호출하면 대응되는 Value값이 반환된다.\n",
    "# 딕셔너리에서 \"name\" Key값을 호출했으니 대응되는 Value값 \"sec\"을 반환한다.\n",
    "# 리스트와 차이점은 리스트에서는 특정 값을 호출할 때 n번째 값을 호출하는 방식이지만, 딕셔너리에선 Key값 자체를 호출한다."
   ]
  },
  {
   "cell_type": "code",
   "execution_count": 2,
   "metadata": {},
   "outputs": [
    {
     "name": "stdout",
     "output_type": "stream",
     "text": [
      "{'name': 'sec2', 'id': '300000', 'address': 'suwon', 'stock': 'yes'}\n",
      "yes\n"
     ]
    }
   ],
   "source": [
    "# 딕셔너리 Key Value 추가/변경\n",
    "dic[\"name\"] = \"sec2\"   # 기존 Key 리스트 값이 있기 때문에 업데이트한다.\n",
    "dic[\"stock\"] = \"yes\"   # 기존 Key 리스트 값이 없기 때문에 추가한다.\n",
    "print(dic)\n",
    "print(dic[\"stock\"])"
   ]
  },
  {
   "cell_type": "code",
   "execution_count": 3,
   "metadata": {},
   "outputs": [
    {
     "name": "stdout",
     "output_type": "stream",
     "text": [
      "{'name': 'sec2', 'address': 'suwon', 'stock': 'yes'}\n"
     ]
    }
   ],
   "source": [
    "# 딕셔너리 값 삭제하기\n",
    "del dic[\"id\"]             # \"id\" Key 값과 그에 대응하는 Value 값을 딕셔너리에서 삭제한다.\n",
    "print(dic)                # {'name': 'sec2', 'address': 'suwon', 'stock': 'yes'} 출력."
   ]
  },
  {
   "cell_type": "code",
   "execution_count": 4,
   "metadata": {},
   "outputs": [
    {
     "name": "stdout",
     "output_type": "stream",
     "text": [
      "sec2\n",
      "{'address': 'suwon', 'stock': 'yes'}\n"
     ]
    }
   ],
   "source": [
    "# 딕셔너리 값 끄집어내기\n",
    "print(dic.pop(\"name\"))    # \"name\" Key 값을 호출하며 이에 대응되는 \"sec2\"값을 반환 후 딕셔너리에서 삭제한다.\n",
    "print(dic)                # {'address': 'suwon', 'stock': 'yes'}출력."
   ]
  },
  {
   "cell_type": "code",
   "execution_count": 14,
   "metadata": {},
   "outputs": [],
   "source": [
    "# 딕셔너리 안에 리스트를 넣을 수도 있다.\n",
    "testDict = {\"REGIONID\" : [\"A01\",\"A02\"],\n",
    "           \"QTY\" : [1,2]}"
   ]
  },
  {
   "cell_type": "code",
   "execution_count": 15,
   "metadata": {},
   "outputs": [
    {
     "name": "stdout",
     "output_type": "stream",
     "text": [
      "['A01', 'A02']\n",
      "[1, 2]\n"
     ]
    }
   ],
   "source": [
    "print(testDict[\"REGIONID\"])\n",
    "print(testDict[\"QTY\"])"
   ]
  },
  {
   "cell_type": "markdown",
   "metadata": {},
   "source": [
    "### 리스트 번호 쉽게 계산하기"
   ]
  },
  {
   "cell_type": "code",
   "execution_count": 1,
   "metadata": {},
   "outputs": [],
   "source": [
    "testList = [11, 12, 13, 14, 100, 120, 130, 140, 150, 200]    # Length = 10 인 리스트를 하나 생성"
   ]
  },
  {
   "cell_type": "code",
   "execution_count": 2,
   "metadata": {},
   "outputs": [
    {
     "name": "stdout",
     "output_type": "stream",
     "text": [
      "[14, 100, 120, 130]\n",
      "[100, 120, 130, 140]\n"
     ]
    }
   ],
   "source": [
    "# [m:n]    m+1번째부터 n+1번째 전까지니까, m+1번째부터 n번째까지다.\n",
    "print(testList[3:7])          # 호출에서 리스트로 갈 때는 앞에만 +1 하여 리스트의 4~7번째 [14, 100, 120, 130]를 호출.\n",
    "# 리스트에서 5~8번째 값[100, 120, 130, 140]을 출력하려면 앞에만 -1 하여 리스트에서 호출로 [4:8]을 보냄.\n",
    "print(testList[4:8])\n",
    "\n",
    "# 이를 정리하면\n",
    "# 호출 -> 리스트로 갈 때는 [m:n] 이 m+1 ~ n 이 된다. 즉, [3:7]를 호출하면 앞에 +1 하여 리스트에서 4~7번째 리스트를 호출.\n",
    "# 리스트 -> 호출로 갈 때는 m' ~ n' 이 [m-1:n] 이 된다. 즉, 리스트에서 5~8번째를 호출하려면 앞에 -1 하여 [4:8]를 호출."
   ]
  },
  {
   "cell_type": "markdown",
   "metadata": {},
   "source": [
    "### 반복문"
   ]
  },
  {
   "cell_type": "markdown",
   "metadata": {},
   "source": [
    "for문은 범위가 주어지고, 그 범위가 끝날 때까지 구문을 반복 후 종료.<br>\n",
    "while문은 특정 조건이 주어지고, 참인 경우에만 구문을 반복. 거짓인 경우는 종료."
   ]
  },
  {
   "cell_type": "markdown",
   "metadata": {},
   "source": [
    "for문"
   ]
  },
  {
   "cell_type": "code",
   "execution_count": 5,
   "metadata": {},
   "outputs": [
    {
     "name": "stdout",
     "output_type": "stream",
     "text": [
      "['LEDTV_UN40EN001', 'LEDTV_UN40EN002', 'LEDTV_UN40EN003', 'LEDTV_UN40EN004']\n"
     ]
    }
   ],
   "source": [
    "tvList = [\"UN40EN001\",\"UN40EN002\",\\\n",
    "          \"UN40EN003\",\"UN40EN004\"]\n",
    "\n",
    "preFix = \"LEDTV_\"\n",
    "\n",
    "for i in range(0,4,):          # range(start, stop[, step]) 구조로 step은 비워둘 경우 기본값 1이 된다.\n",
    "                               # 반복문은 반드시 : 을 붙여야 작동한다.\n",
    "                               # 또한 작동시킬 구문은 반드시 탭 들여쓰기를 한다.\n",
    "                               # 리스트의 1~4번째 값을 호출로 보내니까 앞에를 -1 하여 [0:4]가 된다.\n",
    "    tvList[i] = preFix + tvList[i]\n",
    "    \n",
    "print(tvList)"
   ]
  },
  {
   "cell_type": "code",
   "execution_count": 4,
   "metadata": {},
   "outputs": [
    {
     "name": "stdout",
     "output_type": "stream",
     "text": [
      "['LEDTV_UN40EN001', 'LEDTV_UN40EN002', 'LEDTV_UN40EN003', 'LEDTV_UN40EN004']\n"
     ]
    }
   ],
   "source": [
    "tvList = [\"UN40EN001\",\"UN40EN002\",\"UN40EN003\",\"UN40EN004\"]\n",
    "\n",
    "preFix = \"LEDTV_\"\n",
    "\n",
    "for i in range(0,len(tvList),):   # len 함수를 이용하여 자동으로 마지막 값을 입력.\n",
    "    tvList[i] = preFix + tvList[i]\n",
    "    \n",
    "print(tvList)"
   ]
  },
  {
   "cell_type": "code",
   "execution_count": 8,
   "metadata": {},
   "outputs": [],
   "source": [
    "TestList = [\"한국\",\"A01\",\"프랑스\",\"A02\",\"독일\",\"A03\"]"
   ]
  },
  {
   "cell_type": "code",
   "execution_count": 9,
   "metadata": {},
   "outputs": [
    {
     "name": "stdout",
     "output_type": "stream",
     "text": [
      "i = 0 일 때\n",
      "한국\n",
      "pass\n",
      "TestList = ['한국', 'A01', '프랑스', 'A02', '독일', 'A03']\n",
      "i = 1 일 때\n",
      "A01\n",
      "del\n",
      "TestList = ['한국', '프랑스', 'A02', '독일', 'A03']\n",
      "i = 2 일 때\n",
      "A02\n",
      "del\n",
      "TestList = ['한국', '프랑스', '독일', 'A03']\n",
      "i = 3 일 때\n",
      "A03\n",
      "del\n",
      "TestList = ['한국', '프랑스', '독일']\n",
      "\n",
      "최종결과 TestList = ['한국', '프랑스', '독일']\n"
     ]
    }
   ],
   "source": [
    "for i in range(0,4,):\n",
    "    A_count = TestList[i].count(\"A\")\n",
    "    if A_count > 0:\n",
    "        print(\"i =\",i,\"일 때\")\n",
    "        print(TestList[i])\n",
    "        print(\"del\")\n",
    "        del TestList[i]\n",
    "        print(\"TestList =\",TestList)\n",
    "    else:\n",
    "        print(\"i =\",i,\"일 때\")\n",
    "        print(TestList[i])\n",
    "        print(\"pass\")\n",
    "        print(\"TestList =\",TestList)        \n",
    "print(\"\\n최종결과 TestList =\",TestList)  "
   ]
  },
  {
   "cell_type": "markdown",
   "metadata": {},
   "source": [
    "\n",
    "for문을 사용할 때 range 함수에서 범위를 리스트 호출하던 것이랑 헷갈릴 수 있어 주의해야한다.\n",
    "for i in range(0,4,) 가 얼핏 보면 리스트 호출처럼 0+1 ~ 4+1번째 전. 1~4번째인 것으로 헷갈릴 수 있으나 이는 큰 오류다.\n",
    "위 for문에서 i는 단지 변수값을 준 것이고 그 i라는 변수의 범위는 range 함수에 의해 정해진다.\n",
    "따라서 이를 혼동하지 않으려면 반드시 range 함수에 대한 이해가 필요하다."
   ]
  },
  {
   "cell_type": "code",
   "execution_count": 6,
   "metadata": {},
   "outputs": [],
   "source": [
    "# range(start, stop[, step])\n",
    "# 구조로 range(a,b,c)는 a에서 시작해 b이상이면 멈춰라. 등차는 c다.\n",
    "# range(a,b,c) = cn + a >= b 면 멈춰라.\n",
    "# 즉, a <= cn + a < b"
   ]
  },
  {
   "cell_type": "code",
   "execution_count": 1,
   "metadata": {},
   "outputs": [
    {
     "name": "stdout",
     "output_type": "stream",
     "text": [
      "0\n",
      "1\n",
      "2\n",
      "3\n"
     ]
    }
   ],
   "source": [
    "for i in range(0,4,):   # i = 0 에서 시작해 4 이상 나오면 멈춰라. +1씩 증가시켜라.\n",
    "    print(i)            # 0,1,2,3,4 => 정지 버림. 결과는 0,1,2,3"
   ]
  },
  {
   "cell_type": "code",
   "execution_count": 2,
   "metadata": {},
   "outputs": [
    {
     "name": "stdout",
     "output_type": "stream",
     "text": [
      "1\n",
      "2\n",
      "3\n"
     ]
    }
   ],
   "source": [
    "for i in range(1,4,):   # i = 1 에서 시작해 4 이상 나오면 멈춰라. +1씩 증가시켜라.\n",
    "    print(i)            # 1,2,3,4 => 정지 버림. 결과는 1,2,3"
   ]
  },
  {
   "cell_type": "code",
   "execution_count": 3,
   "metadata": {},
   "outputs": [
    {
     "name": "stdout",
     "output_type": "stream",
     "text": [
      "2\n",
      "3\n",
      "4\n"
     ]
    }
   ],
   "source": [
    "for i in range(2,5,):   # i = 2 에서 시작해 5 이상 나오면 멈춰라. +1씩 증가시켜라.\n",
    "    print(i)            # 2,3,4,5 => 정비 버림. 결과는 2,3,4"
   ]
  },
  {
   "cell_type": "code",
   "execution_count": 4,
   "metadata": {},
   "outputs": [
    {
     "name": "stdout",
     "output_type": "stream",
     "text": [
      "1\n",
      "3\n",
      "5\n"
     ]
    }
   ],
   "source": [
    "for i in range(1,7,2):  # i = 1 에서 시작해 7 이상 나오면 멈춰라. +2씩 증가시켜라.\n",
    "    print(i)            # 1,3,5,7 => 정지 버림. 결과는 1,3,5"
   ]
  },
  {
   "cell_type": "code",
   "execution_count": 5,
   "metadata": {},
   "outputs": [
    {
     "name": "stdout",
     "output_type": "stream",
     "text": [
      "1\n",
      "3\n",
      "5\n",
      "7\n"
     ]
    }
   ],
   "source": [
    "for i in range(1,8,2):  # i = 1 에서 시작해 8 이상 나오면 멈춰라. +2씩 증가시켜라.\n",
    "    print(i)            # 1,3,5,7,9 => 정지 버림. 결과는 1,3,5,7"
   ]
  },
  {
   "cell_type": "code",
   "execution_count": 6,
   "metadata": {},
   "outputs": [
    {
     "name": "stdout",
     "output_type": "stream",
     "text": [
      "1\n",
      "4\n"
     ]
    }
   ],
   "source": [
    "for i in range(1,7,3):  # i = 1 에서 시작해 7 이상 나오면 멈춰라. +3씩 증가시켜라.\n",
    "    print(i)            # 1,4,7 => 정지 버림. 결과는 1,4"
   ]
  },
  {
   "cell_type": "code",
   "execution_count": 7,
   "metadata": {},
   "outputs": [
    {
     "name": "stdout",
     "output_type": "stream",
     "text": [
      "1\n",
      "4\n",
      "7\n"
     ]
    }
   ],
   "source": [
    "for i in range(1,8,3):  # i = 1 에서 시작해 8 이상 나오면 멈춰라. +3씩 증가시켜라.\n",
    "    print(i)            # 1,3,7,11 => 정지 버림. 결과는 1,3,7"
   ]
  },
  {
   "cell_type": "markdown",
   "metadata": {},
   "source": [
    "while문"
   ]
  },
  {
   "cell_type": "code",
   "execution_count": 3,
   "metadata": {},
   "outputs": [
    {
     "name": "stdout",
     "output_type": "stream",
     "text": [
      "['LEDTV_UN40EN001', 'LEDTV_UN40EN002', 'LEDTV_UN40EN003', 'LEDTV_UN40EN004']\n"
     ]
    }
   ],
   "source": [
    "tvList = [\"UN40EN001\",\"UN40EN002\",\"UN40EN003\",\"UN40EN004\"]\n",
    "\n",
    "preFix = \"LEDTV_\"\n",
    "\n",
    "i = 0                                # 상수 i 를 정의. 리스트의 1번째부터 호출할거니까 -1 해서 0으로 보냄.\n",
    "listLength = len(tvList)             # 리스트의 마지막까지 반복할거니까 리스트의 값의 개수를 정의.\n",
    "\n",
    "while i < listLength:                # 조건을 정의. 반드시 : 을 붙이고 작동시킬 구문은 탭 들여쓰기를 한다.\n",
    "    tvList[i] = preFix + tvList[i]\n",
    "    i = i + 1\n",
    "\n",
    "print(tvList)"
   ]
  },
  {
   "cell_type": "code",
   "execution_count": 4,
   "metadata": {},
   "outputs": [
    {
     "name": "stdout",
     "output_type": "stream",
     "text": [
      "['LEDTV_UN40EN001', 'LEDTV_UN40EN002', 'LEDTV_UN40EN003', 'LEDTV_UN40EN004']\n"
     ]
    }
   ],
   "source": [
    "tvList = [\"UN40EN001\",\"UN40EN002\",\"UN40EN003\",\"UN40EN004\"]\n",
    "\n",
    "preFix = \"LEDTV_\"\n",
    "\n",
    "i = 0\n",
    "\n",
    "while i < len(tvList):                # for문에서와 마찬가지로 len 함수를 조건에서 바로 이용해도 된다.\n",
    "    tvList[i] = preFix + tvList[i]\n",
    "    i = i + 1\n",
    "\n",
    "print(tvList)"
   ]
  },
  {
   "cell_type": "markdown",
   "metadata": {},
   "source": [
    "### 조건문"
   ]
  },
  {
   "cell_type": "markdown",
   "metadata": {},
   "source": [
    "if문"
   ]
  },
  {
   "cell_type": "code",
   "execution_count": null,
   "metadata": {},
   "outputs": [],
   "source": []
  },
  {
   "cell_type": "code",
   "execution_count": null,
   "metadata": {},
   "outputs": [],
   "source": []
  },
  {
   "cell_type": "code",
   "execution_count": null,
   "metadata": {},
   "outputs": [],
   "source": []
  },
  {
   "cell_type": "code",
   "execution_count": null,
   "metadata": {},
   "outputs": [],
   "source": []
  },
  {
   "cell_type": "code",
   "execution_count": null,
   "metadata": {},
   "outputs": [],
   "source": []
  },
  {
   "cell_type": "code",
   "execution_count": null,
   "metadata": {},
   "outputs": [],
   "source": []
  },
  {
   "cell_type": "code",
   "execution_count": null,
   "metadata": {},
   "outputs": [],
   "source": []
  },
  {
   "cell_type": "markdown",
   "metadata": {},
   "source": [
    "### 홀수값, 짝수값 뽑아내기"
   ]
  },
  {
   "cell_type": "markdown",
   "metadata": {},
   "source": [
    "홀수값만 뽑아내기"
   ]
  },
  {
   "cell_type": "code",
   "execution_count": 1,
   "metadata": {},
   "outputs": [],
   "source": [
    "TestList = [\"한국\",\"A01\",\"프랑스\",\"A02\",\"독일\",\"A03\"]\n",
    "TestList2 = []\n",
    "TestList3 = []"
   ]
  },
  {
   "cell_type": "code",
   "execution_count": 2,
   "metadata": {},
   "outputs": [
    {
     "name": "stdout",
     "output_type": "stream",
     "text": [
      "['한국', '프랑스', '독일']\n"
     ]
    }
   ],
   "source": [
    "# 반복문 사용하지 않기\n",
    "print(TestList[0::2])"
   ]
  },
  {
   "cell_type": "code",
   "execution_count": 3,
   "metadata": {},
   "outputs": [
    {
     "name": "stdout",
     "output_type": "stream",
     "text": [
      "['한국', '프랑스', '독일']\n"
     ]
    }
   ],
   "source": [
    "# for문 사용하기\n",
    "for i in range(0,len(TestList),2):\n",
    "    TestList2.append(TestList[i])\n",
    "print(TestList2)"
   ]
  },
  {
   "cell_type": "code",
   "execution_count": 4,
   "metadata": {},
   "outputs": [
    {
     "name": "stdout",
     "output_type": "stream",
     "text": [
      "['한국', '프랑스', '독일']\n"
     ]
    }
   ],
   "source": [
    "# while문 사용하기\n",
    "i = 0\n",
    "while i < len(TestList):   ## len 함수는 개수를 반환. 리스트의 index가 0에서 시작해 <= 가 아니라 < 를 넣어야 한다.\n",
    "    TestList3.append(TestList[i])\n",
    "    i += 2\n",
    "print(TestList3)"
   ]
  },
  {
   "cell_type": "code",
   "execution_count": 5,
   "metadata": {},
   "outputs": [],
   "source": [
    "TestList = [\"한국\",\"A01\",\"프랑스\",\"A02\",\"독일\",\"A03\",\"스페인\"]\n",
    "TestList2 = []\n",
    "TestList3 = []"
   ]
  },
  {
   "cell_type": "code",
   "execution_count": 6,
   "metadata": {},
   "outputs": [
    {
     "name": "stdout",
     "output_type": "stream",
     "text": [
      "['한국', '프랑스', '독일', '스페인']\n"
     ]
    }
   ],
   "source": [
    "# 반복문 사용하지 않기\n",
    "print(TestList[0::2])"
   ]
  },
  {
   "cell_type": "code",
   "execution_count": 7,
   "metadata": {},
   "outputs": [
    {
     "name": "stdout",
     "output_type": "stream",
     "text": [
      "['한국', '프랑스', '독일', '스페인']\n"
     ]
    }
   ],
   "source": [
    "# for문 사용하기\n",
    "for i in range(0,len(TestList),2):\n",
    "    TestList2.append(TestList[i])\n",
    "print(TestList2)"
   ]
  },
  {
   "cell_type": "code",
   "execution_count": 8,
   "metadata": {},
   "outputs": [
    {
     "name": "stdout",
     "output_type": "stream",
     "text": [
      "['한국', '프랑스', '독일', '스페인']\n"
     ]
    }
   ],
   "source": [
    "# while문 사용하기\n",
    "i = 0\n",
    "while i < len(TestList):   ## len 함수는 개수를 반환. 리스트의 index가 0에서 시작해 <= 가 아니라 < 를 넣어야 한다.\n",
    "    TestList3.append(TestList[i])\n",
    "    i += 2\n",
    "print(TestList3)"
   ]
  },
  {
   "cell_type": "markdown",
   "metadata": {},
   "source": [
    "짝수값만 뽑아내기"
   ]
  },
  {
   "cell_type": "code",
   "execution_count": 9,
   "metadata": {},
   "outputs": [],
   "source": [
    "TestList = [\"한국\",\"A01\",\"프랑스\",\"A02\",\"독일\",\"A03\"]\n",
    "TestList2 = []\n",
    "TestList3 = []"
   ]
  },
  {
   "cell_type": "code",
   "execution_count": 10,
   "metadata": {},
   "outputs": [
    {
     "name": "stdout",
     "output_type": "stream",
     "text": [
      "['A01', 'A02', 'A03']\n"
     ]
    }
   ],
   "source": [
    "# 반복문 사용하지 않기\n",
    "print(TestList[1::2])"
   ]
  },
  {
   "cell_type": "code",
   "execution_count": 11,
   "metadata": {},
   "outputs": [
    {
     "name": "stdout",
     "output_type": "stream",
     "text": [
      "['A01', 'A02', 'A03']\n"
     ]
    }
   ],
   "source": [
    "# for문 사용하기\n",
    "for i in range(1,len(TestList),2):\n",
    "    TestList2.append(TestList[i])\n",
    "print(TestList2)"
   ]
  },
  {
   "cell_type": "code",
   "execution_count": 12,
   "metadata": {},
   "outputs": [
    {
     "name": "stdout",
     "output_type": "stream",
     "text": [
      "['A01', 'A02', 'A03']\n"
     ]
    }
   ],
   "source": [
    "# while문 사용하기\n",
    "i = 1\n",
    "while i < len(TestList):   ## len 함수는 개수를 반환. 리스트의 index가 0에서 시작해 <= 가 아니라 < 를 넣어야 한다.\n",
    "    TestList3.append(TestList[i])\n",
    "    i += 2\n",
    "print(TestList3)"
   ]
  },
  {
   "cell_type": "code",
   "execution_count": 13,
   "metadata": {},
   "outputs": [],
   "source": [
    "TestList = [\"한국\",\"A01\",\"프랑스\",\"A02\",\"독일\",\"A03\",\"스페인\"]\n",
    "TestList2 = []\n",
    "TestList3 = []"
   ]
  },
  {
   "cell_type": "code",
   "execution_count": 14,
   "metadata": {},
   "outputs": [
    {
     "name": "stdout",
     "output_type": "stream",
     "text": [
      "['A01', 'A02', 'A03']\n"
     ]
    }
   ],
   "source": [
    "# 반복문 사용하지 않기\n",
    "print(TestList[1::2])"
   ]
  },
  {
   "cell_type": "code",
   "execution_count": 15,
   "metadata": {},
   "outputs": [
    {
     "name": "stdout",
     "output_type": "stream",
     "text": [
      "['A01', 'A02', 'A03']\n"
     ]
    }
   ],
   "source": [
    "# for문 사용하기\n",
    "for i in range(1,len(TestList),2):\n",
    "    TestList2.append(TestList[i])\n",
    "print(TestList2)"
   ]
  },
  {
   "cell_type": "code",
   "execution_count": 16,
   "metadata": {},
   "outputs": [
    {
     "name": "stdout",
     "output_type": "stream",
     "text": [
      "['A01', 'A02', 'A03']\n"
     ]
    }
   ],
   "source": [
    "# while문 사용하기\n",
    "i = 1\n",
    "while i < len(TestList):   ## len 함수는 개수를 반환. 리스트의 index가 0에서 시작해 <= 가 아니라 < 를 넣어야 한다.\n",
    "    TestList3.append(TestList[i])\n",
    "    i += 2\n",
    "print(TestList3)"
   ]
  },
  {
   "cell_type": "markdown",
   "metadata": {},
   "source": [
    "### 1-1-b. 파이썬 프로그래밍 기초 (사용법 및 자료형) 3/23 수업본"
   ]
  },
  {
   "cell_type": "code",
   "execution_count": 1,
   "metadata": {},
   "outputs": [],
   "source": [
    "import datetime   ## as 로 이름을 붙여주지 않아도 사용할 수 있다.\n",
    "## datetime은 파이썬 내에서 시스템 현재 시간을 알려주는 모듈이다."
   ]
  },
  {
   "cell_type": "code",
   "execution_count": 2,
   "metadata": {},
   "outputs": [
    {
     "data": {
      "text/plain": [
       "datetime.datetime(2020, 3, 24, 1, 8, 0, 577731)"
      ]
     },
     "execution_count": 2,
     "metadata": {},
     "output_type": "execute_result"
    }
   ],
   "source": [
    "datetime.datetime.now()   ## datetime.datetime.now()는 통으로 외우자."
   ]
  },
  {
   "cell_type": "code",
   "execution_count": 1,
   "metadata": {},
   "outputs": [],
   "source": [
    "import datetime as dt   ## import 가져와라 datetime 모듈을 as 로써 dt 라는 이름으로\n",
    "## 이름을 붙여주면 코딩이 더 쉬워진다."
   ]
  },
  {
   "cell_type": "markdown",
   "metadata": {},
   "source": [
    "Init signature: dt.datetime(self, /, *args, **kwargs)\n",
    "Docstring:     \n",
    "datetime(year, month, day[, hour[, minute[, second[, microsecond[,tzinfo]]]]])"
   ]
  },
  {
   "cell_type": "code",
   "execution_count": 2,
   "metadata": {},
   "outputs": [
    {
     "data": {
      "text/plain": [
       "datetime.datetime(2020, 4, 1, 12, 39, 25, 587574)"
      ]
     },
     "execution_count": 2,
     "metadata": {},
     "output_type": "execute_result"
    }
   ],
   "source": [
    "dt.datetime.now()   # dt(datetime)모듈에서 datetime.now() 함수를 실행하라."
   ]
  },
  {
   "cell_type": "code",
   "execution_count": 8,
   "metadata": {},
   "outputs": [
    {
     "data": {
      "text/plain": [
       "12"
      ]
     },
     "execution_count": 8,
     "metadata": {},
     "output_type": "execute_result"
    }
   ],
   "source": [
    "dt.datetime.now().hour"
   ]
  },
  {
   "cell_type": "code",
   "execution_count": 7,
   "metadata": {},
   "outputs": [
    {
     "data": {
      "text/plain": [
       "40"
      ]
     },
     "execution_count": 7,
     "metadata": {},
     "output_type": "execute_result"
    }
   ],
   "source": [
    "dt.datetime.now().minute"
   ]
  },
  {
   "cell_type": "code",
   "execution_count": 12,
   "metadata": {},
   "outputs": [],
   "source": [
    "currentDate = dt.datetime.now()    # 더 편하게 쓰기 위해서 dt.datetime.now() 전체를 currentDate로 정의한다."
   ]
  },
  {
   "cell_type": "code",
   "execution_count": 13,
   "metadata": {},
   "outputs": [
    {
     "data": {
      "text/plain": [
       "13"
      ]
     },
     "execution_count": 13,
     "metadata": {},
     "output_type": "execute_result"
    }
   ],
   "source": [
    "currentDate.hour"
   ]
  },
  {
   "cell_type": "code",
   "execution_count": 11,
   "metadata": {},
   "outputs": [
    {
     "data": {
      "text/plain": [
       "41"
      ]
     },
     "execution_count": 11,
     "metadata": {},
     "output_type": "execute_result"
    }
   ],
   "source": [
    "currentDate.minute"
   ]
  },
  {
   "cell_type": "code",
   "execution_count": 21,
   "metadata": {},
   "outputs": [
    {
     "data": {
      "text/plain": [
       "25"
      ]
     },
     "execution_count": 21,
     "metadata": {},
     "output_type": "execute_result"
    }
   ],
   "source": [
    "answer = currentDate.hour + currentDate.minute\n",
    "answer"
   ]
  },
  {
   "cell_type": "code",
   "execution_count": 7,
   "metadata": {},
   "outputs": [
    {
     "data": {
      "text/plain": [
       "int"
      ]
     },
     "execution_count": 7,
     "metadata": {},
     "output_type": "execute_result"
    }
   ],
   "source": [
    "type(answer)\n",
    "type(currentDate.hour)\n",
    "type(currentDate.minute)"
   ]
  },
  {
   "cell_type": "markdown",
   "metadata": {},
   "source": [
    "### 실습 1. “SEC 20180212 250” 문자열 생성 후 stock_name, date, value로 각각 의미하는 문자열을 생성하세요."
   ]
  },
  {
   "cell_type": "code",
   "execution_count": 1,
   "metadata": {},
   "outputs": [],
   "source": [
    "## 1~3번째니까 앞애 -1 해서 [0:3], 5~11번째니까 앞에 -1 해서 [4:12], 13~번째니까 앞에 -1해서 [12:]로 일일히 끊어도 되지만\n",
    "## 좀 더 세련되게 끊어보자."
   ]
  },
  {
   "cell_type": "code",
   "execution_count": 2,
   "metadata": {},
   "outputs": [],
   "source": [
    "stringData1 = \"SEC 2018W28 250\"   ## 구조를 보면 끊으려는 구간에 동일한 문자(\" \")가 들어가있다!!"
   ]
  },
  {
   "cell_type": "code",
   "execution_count": 3,
   "metadata": {},
   "outputs": [],
   "source": [
    "splitter = \" \""
   ]
  },
  {
   "cell_type": "code",
   "execution_count": 4,
   "metadata": {},
   "outputs": [],
   "source": [
    "answer1 = stringData1.split(splitter)   ## split(\" \")로 해도 되지만 변수를 선언했으니 splitter를 넣자."
   ]
  },
  {
   "cell_type": "code",
   "execution_count": 5,
   "metadata": {},
   "outputs": [
    {
     "name": "stdout",
     "output_type": "stream",
     "text": [
      "SEC 2018W28 250\n"
     ]
    }
   ],
   "source": [
    "stock_name = answer1[0]\n",
    "date = answer1[1]\n",
    "value = answer1[2]\n",
    "print(stock_name,date,value)"
   ]
  },
  {
   "cell_type": "markdown",
   "metadata": {},
   "source": [
    "### 실습 2. “Sec 2018W28 250” 문자열 생성 후 stock_name, date, value로 각각 의미하는 문자열을 생성하세요\n",
    "(단 모두 대문자여야 하며, ‘W’를 삭제해야함)"
   ]
  },
  {
   "cell_type": "code",
   "execution_count": 1,
   "metadata": {},
   "outputs": [],
   "source": [
    "## 두 가지 조건이 붙었다. 1) 대문자로 바꿔라. 2) 'W'를 삭제하라."
   ]
  },
  {
   "cell_type": "code",
   "execution_count": 2,
   "metadata": {},
   "outputs": [],
   "source": [
    "stringData2 = \"Sec 2018W28 250\"   ## 위에꺼를 응용하자."
   ]
  },
  {
   "cell_type": "code",
   "execution_count": 3,
   "metadata": {},
   "outputs": [],
   "source": [
    "splitter = \" \""
   ]
  },
  {
   "cell_type": "code",
   "execution_count": 4,
   "metadata": {},
   "outputs": [],
   "source": [
    "answer2 = stringData2.split(splitter)"
   ]
  },
  {
   "cell_type": "code",
   "execution_count": 5,
   "metadata": {},
   "outputs": [
    {
     "name": "stdout",
     "output_type": "stream",
     "text": [
      "SEC 201828 250\n"
     ]
    }
   ],
   "source": [
    "stock_name = answer2[0].upper()\n",
    "date = answer2[1].replace(\"W\",\"\")\n",
    "value = answer2[2]\n",
    "print(stock_name,date,value)"
   ]
  },
  {
   "cell_type": "markdown",
   "metadata": {},
   "source": [
    "실습 3. [120,150,300,500,1000,100,2000] 값에서 최소 최대 값을 뺀 평균을 average 이름의 변수에 담으세요."
   ]
  },
  {
   "cell_type": "code",
   "execution_count": 1,
   "metadata": {},
   "outputs": [],
   "source": [
    "testData = [120,150,300,500,1000,100,2000]"
   ]
  },
  {
   "cell_type": "code",
   "execution_count": 2,
   "metadata": {},
   "outputs": [],
   "source": [
    "## 방법 1. 변수 선언 없이 풀기."
   ]
  },
  {
   "cell_type": "code",
   "execution_count": 3,
   "metadata": {},
   "outputs": [
    {
     "data": {
      "text/plain": [
       "414.0"
      ]
     },
     "execution_count": 3,
     "metadata": {},
     "output_type": "execute_result"
    }
   ],
   "source": [
    "## 평균 = (전체합 - 최댓값합 - 최솟값합) / (전체개수 - 최댓값수 - 최솟값수)\n",
    "## 수식을 보면 아 이런거구나 하고 알 수 있게 주석을 달아주는게 좋다.\n",
    "average1 = (sum(testData) - max(testData)*testData.count(max(testData)) - min(testData)*testData.count(min(testData)))\\\n",
    "            / (len(testData) - testData.count(max(testData)) - testData.count(min(testData)))\n",
    "average1"
   ]
  },
  {
   "cell_type": "code",
   "execution_count": 4,
   "metadata": {},
   "outputs": [],
   "source": [
    "## 방법 2. 변수를 선언하고 풀기."
   ]
  },
  {
   "cell_type": "code",
   "execution_count": 5,
   "metadata": {},
   "outputs": [],
   "source": [
    "maximum = max(testData)\n",
    "minimum = min(testData)\n",
    "maximum_duplication = testData.count(maximum)\n",
    "minimum_duplication = testData.count(minimum)"
   ]
  },
  {
   "cell_type": "code",
   "execution_count": 6,
   "metadata": {},
   "outputs": [
    {
     "data": {
      "text/plain": [
       "414.0"
      ]
     },
     "execution_count": 6,
     "metadata": {},
     "output_type": "execute_result"
    }
   ],
   "source": [
    "## 평균 = (전체합 - 최댓값합 - 최솟값합) / (전체개수 - 최댓값수 - 최솟값수)\n",
    "average2 = (sum(testData) - maximum*maximum_duplication - minimum*minimum_duplication)\\\n",
    "            / (len(testData) - maximum_duplication - minimum_duplication)\n",
    "average2"
   ]
  },
  {
   "cell_type": "markdown",
   "metadata": {},
   "source": [
    "변수를 선언하면 메모리를 더 차지하고 느려지지만 가독성이 훨씬 뛰어나다. <br>\n",
    "변수를 무분별하게 생성하는 것은 나쁘지만 조금 느려지더라도 어느정도 선언하고 가독성을 높이는게 더 좋다."
   ]
  },
  {
   "cell_type": "markdown",
   "metadata": {},
   "source": [
    "#### 나누기 연산은 분모가 0이 되는 경우를 고려하여 항상 조건문으로 분모가 0인 경우(if), 0이 아닌 경우(else)를 해야한다!!!"
   ]
  },
  {
   "cell_type": "code",
   "execution_count": null,
   "metadata": {},
   "outputs": [],
   "source": []
  }
 ],
 "metadata": {
  "kernelspec": {
   "display_name": "Python 3",
   "language": "python",
   "name": "python3"
  },
  "language_info": {
   "codemirror_mode": {
    "name": "ipython",
    "version": 3
   },
   "file_extension": ".py",
   "mimetype": "text/x-python",
   "name": "python",
   "nbconvert_exporter": "python",
   "pygments_lexer": "ipython3",
   "version": "3.8.2"
  }
 },
 "nbformat": 4,
 "nbformat_minor": 4
}
