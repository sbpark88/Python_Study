{
 "cells": [
  {
   "cell_type": "code",
   "execution_count": 1,
   "metadata": {},
   "outputs": [
    {
     "data": {
      "text/html": [
       "<div>\n",
       "<style scoped>\n",
       "    .dataframe tbody tr th:only-of-type {\n",
       "        vertical-align: middle;\n",
       "    }\n",
       "\n",
       "    .dataframe tbody tr th {\n",
       "        vertical-align: top;\n",
       "    }\n",
       "\n",
       "    .dataframe thead th {\n",
       "        text-align: right;\n",
       "    }\n",
       "</style>\n",
       "<table border=\"1\" class=\"dataframe\">\n",
       "  <thead>\n",
       "    <tr style=\"text-align: right;\">\n",
       "      <th></th>\n",
       "      <th>언어</th>\n",
       "      <th>좋아하는순위</th>\n",
       "    </tr>\n",
       "  </thead>\n",
       "  <tbody>\n",
       "    <tr>\n",
       "      <th>0</th>\n",
       "      <td>파이썬</td>\n",
       "      <td>1</td>\n",
       "    </tr>\n",
       "    <tr>\n",
       "      <th>1</th>\n",
       "      <td>자바</td>\n",
       "      <td>2</td>\n",
       "    </tr>\n",
       "    <tr>\n",
       "      <th>2</th>\n",
       "      <td>씨샵</td>\n",
       "      <td>3</td>\n",
       "    </tr>\n",
       "  </tbody>\n",
       "</table>\n",
       "</div>"
      ],
      "text/plain": [
       "    언어  좋아하는순위\n",
       "0  파이썬       1\n",
       "1   자바       2\n",
       "2   씨샵       3"
      ]
     },
     "execution_count": 1,
     "metadata": {},
     "output_type": "execute_result"
    }
   ],
   "source": [
    "import pandas as pd\n",
    "favorite = ['파이썬','자바','씨샵']\n",
    "favorite2 = [1,2,3]\n",
    "\n",
    "favorite_df = pd.DataFrame(favorite, columns=['언어'])\n",
    "favorite_df2 = pd.DataFrame(favorite2, columns=['좋아하는순위'])\n",
    "\n",
    "final = pd.concat([favorite_df, favorite_df2], axis = 1)\n",
    "final"
   ]
  },
  {
   "cell_type": "code",
   "execution_count": 4,
   "metadata": {},
   "outputs": [
    {
     "data": {
      "text/html": [
       "<div>\n",
       "<style scoped>\n",
       "    .dataframe tbody tr th:only-of-type {\n",
       "        vertical-align: middle;\n",
       "    }\n",
       "\n",
       "    .dataframe tbody tr th {\n",
       "        vertical-align: top;\n",
       "    }\n",
       "\n",
       "    .dataframe thead th {\n",
       "        text-align: right;\n",
       "    }\n",
       "</style>\n",
       "<table border=\"1\" class=\"dataframe\">\n",
       "  <thead>\n",
       "    <tr style=\"text-align: right;\">\n",
       "      <th></th>\n",
       "      <th>수학</th>\n",
       "      <th>영어</th>\n",
       "      <th>역사</th>\n",
       "    </tr>\n",
       "  </thead>\n",
       "  <tbody>\n",
       "    <tr>\n",
       "      <th>0</th>\n",
       "      <td>70</td>\n",
       "      <td>85</td>\n",
       "      <td>70</td>\n",
       "    </tr>\n",
       "    <tr>\n",
       "      <th>1</th>\n",
       "      <td>80</td>\n",
       "      <td>80</td>\n",
       "      <td>90</td>\n",
       "    </tr>\n",
       "    <tr>\n",
       "      <th>2</th>\n",
       "      <td>60</td>\n",
       "      <td>90</td>\n",
       "      <td>100</td>\n",
       "    </tr>\n",
       "    <tr>\n",
       "      <th>3</th>\n",
       "      <td>100</td>\n",
       "      <td>80</td>\n",
       "      <td>90</td>\n",
       "    </tr>\n",
       "    <tr>\n",
       "      <th>4</th>\n",
       "      <td>95</td>\n",
       "      <td>100</td>\n",
       "      <td>90</td>\n",
       "    </tr>\n",
       "  </tbody>\n",
       "</table>\n",
       "</div>"
      ],
      "text/plain": [
       "    수학   영어   역사\n",
       "0   70   85   70\n",
       "1   80   80   90\n",
       "2   60   90  100\n",
       "3  100   80   90\n",
       "4   95  100   90"
      ]
     },
     "execution_count": 4,
     "metadata": {},
     "output_type": "execute_result"
    }
   ],
   "source": [
    "import pandas as pd\n",
    "\n",
    "\n",
    "math = ['70', '80', '60', '100','95']\n",
    "english = ['85', '80', '90', '80','100']\n",
    "history = ['70', '90','100', '90', '90']\n",
    "\n",
    "math_df = pd.DataFrame(math, columns=[\"수학\"])\n",
    "english_df = pd.DataFrame(english, columns=[\"영어\"])\n",
    "history_df = pd.DataFrame(history, columns=[\"역사\"])\n",
    "\n",
    "total = pd.concat([math_df,english_df,history_df], axis =1)\n",
    "total"
   ]
  },
  {
   "cell_type": "code",
   "execution_count": 7,
   "metadata": {},
   "outputs": [
    {
     "data": {
      "text/html": [
       "<div>\n",
       "<style scoped>\n",
       "    .dataframe tbody tr th:only-of-type {\n",
       "        vertical-align: middle;\n",
       "    }\n",
       "\n",
       "    .dataframe tbody tr th {\n",
       "        vertical-align: top;\n",
       "    }\n",
       "\n",
       "    .dataframe thead th {\n",
       "        text-align: right;\n",
       "    }\n",
       "</style>\n",
       "<table border=\"1\" class=\"dataframe\">\n",
       "  <thead>\n",
       "    <tr style=\"text-align: right;\">\n",
       "      <th></th>\n",
       "      <th>나라</th>\n",
       "      <th>산</th>\n",
       "    </tr>\n",
       "  </thead>\n",
       "  <tbody>\n",
       "    <tr>\n",
       "      <th>0</th>\n",
       "      <td>한국</td>\n",
       "      <td>설악산</td>\n",
       "    </tr>\n",
       "    <tr>\n",
       "      <th>1</th>\n",
       "      <td>캐나다</td>\n",
       "      <td>백두산</td>\n",
       "    </tr>\n",
       "    <tr>\n",
       "      <th>2</th>\n",
       "      <td>프랑스</td>\n",
       "      <td>한라산</td>\n",
       "    </tr>\n",
       "    <tr>\n",
       "      <th>3</th>\n",
       "      <td>호주</td>\n",
       "      <td>에베레스트</td>\n",
       "    </tr>\n",
       "    <tr>\n",
       "      <th>4</th>\n",
       "      <td>독일</td>\n",
       "      <td>안나푸르나</td>\n",
       "    </tr>\n",
       "  </tbody>\n",
       "</table>\n",
       "</div>"
      ],
      "text/plain": [
       "    나라      산\n",
       "0   한국    설악산\n",
       "1  캐나다    백두산\n",
       "2  프랑스    한라산\n",
       "3   호주  에베레스트\n",
       "4   독일  안나푸르나"
      ]
     },
     "execution_count": 7,
     "metadata": {},
     "output_type": "execute_result"
    }
   ],
   "source": [
    "import pandas as pd\n",
    "\n",
    "country = ['한국','캐나다','프랑스','호주','독일']\n",
    "mountain = ['설악산','백두산','한라산','에베레스트','안나푸르나']\n",
    "\n",
    "country_df = pd.DataFrame(country, columns=['나라'])\n",
    "mountain_df = pd.DataFrame(mountain, columns=['산'])\n",
    "\n",
    "result = pd.concat([country_df,mountain_df], axis = 1)\n",
    "result"
   ]
  },
  {
   "cell_type": "markdown",
   "metadata": {},
   "source": [
    "### 딕셔너리 활용"
   ]
  },
  {
   "cell_type": "code",
   "execution_count": 1,
   "metadata": {},
   "outputs": [],
   "source": [
    "turple1 = (\"미국\",\"LEDTV\",\"01\")\n",
    "turple2 = (\"미국\",\"LEDTV\",\"02\")\n",
    "\n",
    "dic = {turple1 : 2.5, turple2 : 1.2}"
   ]
  },
  {
   "cell_type": "code",
   "execution_count": 2,
   "metadata": {},
   "outputs": [
    {
     "data": {
      "text/plain": [
       "{('미국', 'LEDTV', '01'): 2.5, ('미국', 'LEDTV', '02'): 1.2}"
      ]
     },
     "execution_count": 2,
     "metadata": {},
     "output_type": "execute_result"
    }
   ],
   "source": [
    "dic"
   ]
  },
  {
   "cell_type": "code",
   "execution_count": 3,
   "metadata": {},
   "outputs": [
    {
     "data": {
      "text/plain": [
       "2.5"
      ]
     },
     "execution_count": 3,
     "metadata": {},
     "output_type": "execute_result"
    }
   ],
   "source": [
    "dic[\"미국\",\"LEDTV\",\"01\"]"
   ]
  },
  {
   "cell_type": "markdown",
   "metadata": {},
   "source": [
    "### dic = {\"name\":\"sec\",\"id\":\"300000\",\"address\":\"suwon\"} 에서 \"id\":\"300000\" 삭제하여 출력하세요."
   ]
  },
  {
   "cell_type": "code",
   "execution_count": 5,
   "metadata": {},
   "outputs": [],
   "source": [
    "dic = {\"name\":\"sec\",\"id\":\"300000\",\"address\":\"suwon\"}"
   ]
  },
  {
   "cell_type": "code",
   "execution_count": 7,
   "metadata": {},
   "outputs": [
    {
     "data": {
      "text/plain": [
       "{'name': 'sec', 'address': 'suwon'}"
      ]
     },
     "execution_count": 7,
     "metadata": {},
     "output_type": "execute_result"
    }
   ],
   "source": [
    "del dic[\"id\"]\n",
    "dic"
   ]
  },
  {
   "cell_type": "markdown",
   "metadata": {},
   "source": [
    "### Pandas DataFrame : 행렬구조에 가장 많이 활용되는 자료구조 형태(파이썬의 엑셀)"
   ]
  },
  {
   "cell_type": "code",
   "execution_count": 8,
   "metadata": {},
   "outputs": [],
   "source": [
    "import pandas as pd"
   ]
  },
  {
   "cell_type": "code",
   "execution_count": 18,
   "metadata": {},
   "outputs": [
    {
     "data": {
      "text/html": [
       "<div>\n",
       "<style scoped>\n",
       "    .dataframe tbody tr th:only-of-type {\n",
       "        vertical-align: middle;\n",
       "    }\n",
       "\n",
       "    .dataframe tbody tr th {\n",
       "        vertical-align: top;\n",
       "    }\n",
       "\n",
       "    .dataframe thead th {\n",
       "        text-align: right;\n",
       "    }\n",
       "</style>\n",
       "<table border=\"1\" class=\"dataframe\">\n",
       "  <thead>\n",
       "    <tr style=\"text-align: right;\">\n",
       "      <th></th>\n",
       "      <th>name</th>\n",
       "      <th>age</th>\n",
       "      <th>stock_age</th>\n",
       "    </tr>\n",
       "  </thead>\n",
       "  <tbody>\n",
       "    <tr>\n",
       "      <th>0</th>\n",
       "      <td>A고객</td>\n",
       "      <td>27</td>\n",
       "      <td>2</td>\n",
       "    </tr>\n",
       "    <tr>\n",
       "      <th>1</th>\n",
       "      <td>B고객</td>\n",
       "      <td>40</td>\n",
       "      <td>10</td>\n",
       "    </tr>\n",
       "    <tr>\n",
       "      <th>2</th>\n",
       "      <td>C고객</td>\n",
       "      <td>33</td>\n",
       "      <td>5</td>\n",
       "    </tr>\n",
       "    <tr>\n",
       "      <th>3</th>\n",
       "      <td>D고객</td>\n",
       "      <td>29</td>\n",
       "      <td>1</td>\n",
       "    </tr>\n",
       "  </tbody>\n",
       "</table>\n",
       "</div>"
      ],
      "text/plain": [
       "  name  age  stock_age\n",
       "0  A고객   27          2\n",
       "1  B고객   40         10\n",
       "2  C고객   33          5\n",
       "3  D고객   29          1"
      ]
     },
     "execution_count": 18,
     "metadata": {},
     "output_type": "execute_result"
    }
   ],
   "source": [
    "# 딕셔너리를 활용한 데이터프레임 생성\n",
    "data = {'name':['A고객','B고객','C고객','D고객'],'age':[27,40,33,29],'stock_age':[2,10,5,1]}\n",
    "# 딕셔너리의 Key가 DataFrame의 row의 제목이 되고, 리스트 Value가 row의 값들이 되어 엑셀 시트가 만들어진다.\n",
    "\n",
    "dataFrame = pd.DataFrame(data)\n",
    "dataFrame"
   ]
  },
  {
   "cell_type": "code",
   "execution_count": 12,
   "metadata": {},
   "outputs": [
    {
     "data": {
      "text/html": [
       "<div>\n",
       "<style scoped>\n",
       "    .dataframe tbody tr th:only-of-type {\n",
       "        vertical-align: middle;\n",
       "    }\n",
       "\n",
       "    .dataframe tbody tr th {\n",
       "        vertical-align: top;\n",
       "    }\n",
       "\n",
       "    .dataframe thead th {\n",
       "        text-align: right;\n",
       "    }\n",
       "</style>\n",
       "<table border=\"1\" class=\"dataframe\">\n",
       "  <thead>\n",
       "    <tr style=\"text-align: right;\">\n",
       "      <th></th>\n",
       "      <th>0</th>\n",
       "    </tr>\n",
       "  </thead>\n",
       "  <tbody>\n",
       "    <tr>\n",
       "      <th>0</th>\n",
       "      <td>10</td>\n",
       "    </tr>\n",
       "    <tr>\n",
       "      <th>1</th>\n",
       "      <td>100</td>\n",
       "    </tr>\n",
       "    <tr>\n",
       "      <th>2</th>\n",
       "      <td>1000</td>\n",
       "    </tr>\n",
       "    <tr>\n",
       "      <th>3</th>\n",
       "      <td>10000</td>\n",
       "    </tr>\n",
       "  </tbody>\n",
       "</table>\n",
       "</div>"
      ],
      "text/plain": [
       "       0\n",
       "0     10\n",
       "1    100\n",
       "2   1000\n",
       "3  10000"
      ]
     },
     "execution_count": 12,
     "metadata": {},
     "output_type": "execute_result"
    }
   ],
   "source": [
    "# 리스트를 활용한 데이터 분석을 위한 자료구조 생성\n",
    "test = [10,100,1000,10000]\n",
    "testDf = pd.DataFrame(test)\n",
    "testDf"
   ]
  },
  {
   "cell_type": "code",
   "execution_count": 46,
   "metadata": {},
   "outputs": [
    {
     "data": {
      "text/html": [
       "<div>\n",
       "<style scoped>\n",
       "    .dataframe tbody tr th:only-of-type {\n",
       "        vertical-align: middle;\n",
       "    }\n",
       "\n",
       "    .dataframe tbody tr th {\n",
       "        vertical-align: top;\n",
       "    }\n",
       "\n",
       "    .dataframe thead th {\n",
       "        text-align: right;\n",
       "    }\n",
       "</style>\n",
       "<table border=\"1\" class=\"dataframe\">\n",
       "  <thead>\n",
       "    <tr style=\"text-align: right;\">\n",
       "      <th></th>\n",
       "      <th>test</th>\n",
       "    </tr>\n",
       "  </thead>\n",
       "  <tbody>\n",
       "    <tr>\n",
       "      <th>0</th>\n",
       "      <td>10</td>\n",
       "    </tr>\n",
       "    <tr>\n",
       "      <th>1</th>\n",
       "      <td>100</td>\n",
       "    </tr>\n",
       "    <tr>\n",
       "      <th>2</th>\n",
       "      <td>1000</td>\n",
       "    </tr>\n",
       "    <tr>\n",
       "      <th>3</th>\n",
       "      <td>10000</td>\n",
       "    </tr>\n",
       "  </tbody>\n",
       "</table>\n",
       "</div>"
      ],
      "text/plain": [
       "    test\n",
       "0     10\n",
       "1    100\n",
       "2   1000\n",
       "3  10000"
      ]
     },
     "execution_count": 46,
     "metadata": {},
     "output_type": "execute_result"
    }
   ],
   "source": [
    "# column 제목을 빼먹었을 경우 추가하기\n",
    "testDf.columns = ['test']\n",
    "testDf.rows = ['되나','되나2','되나3','되나4'] # row 제목은 못 적을까?\n",
    "testDf"
   ]
  },
  {
   "cell_type": "code",
   "execution_count": 25,
   "metadata": {},
   "outputs": [
    {
     "data": {
      "text/html": [
       "<div>\n",
       "<style scoped>\n",
       "    .dataframe tbody tr th:only-of-type {\n",
       "        vertical-align: middle;\n",
       "    }\n",
       "\n",
       "    .dataframe tbody tr th {\n",
       "        vertical-align: top;\n",
       "    }\n",
       "\n",
       "    .dataframe thead th {\n",
       "        text-align: right;\n",
       "    }\n",
       "</style>\n",
       "<table border=\"1\" class=\"dataframe\">\n",
       "  <thead>\n",
       "    <tr style=\"text-align: right;\">\n",
       "      <th></th>\n",
       "      <th>rename</th>\n",
       "    </tr>\n",
       "  </thead>\n",
       "  <tbody>\n",
       "    <tr>\n",
       "      <th>0</th>\n",
       "      <td>10</td>\n",
       "    </tr>\n",
       "    <tr>\n",
       "      <th>1</th>\n",
       "      <td>100</td>\n",
       "    </tr>\n",
       "    <tr>\n",
       "      <th>2</th>\n",
       "      <td>1000</td>\n",
       "    </tr>\n",
       "    <tr>\n",
       "      <th>3</th>\n",
       "      <td>10000</td>\n",
       "    </tr>\n",
       "  </tbody>\n",
       "</table>\n",
       "</div>"
      ],
      "text/plain": [
       "   rename\n",
       "0      10\n",
       "1     100\n",
       "2    1000\n",
       "3   10000"
      ]
     },
     "execution_count": 25,
     "metadata": {},
     "output_type": "execute_result"
    }
   ],
   "source": [
    "testDf = pd.DataFrame(test, columns=['rename'])\n",
    "testDf"
   ]
  },
  {
   "cell_type": "code",
   "execution_count": 31,
   "metadata": {},
   "outputs": [],
   "source": [
    "# 2개의 리스트를 데이터프레임으로 바꾸고 하나로 합치기\n",
    "date = ['16.02.29', '16.02.26', '16.02.25', '16.02.24', '16.02.23']\n",
    "date2 = ['17.02.29', '17.02.26', '17.02.25', '17.02.24', '17.02.23']\n",
    "\n",
    "# 각각의 리스트를 데이터프레임으로 바꾸기\n",
    "date_df = pd.DataFrame(date, columns = ['date2'])\n",
    "date2_df = pd.DataFrame(date2, columns = ['date23'])"
   ]
  },
  {
   "cell_type": "code",
   "execution_count": 32,
   "metadata": {},
   "outputs": [
    {
     "name": "stdout",
     "output_type": "stream",
     "text": [
      "      date2\n",
      "0  16.02.29\n",
      "1  16.02.26\n",
      "2  16.02.25\n",
      "3  16.02.24\n",
      "4  16.02.23\n",
      "     date23\n",
      "0  17.02.29\n",
      "1  17.02.26\n",
      "2  17.02.25\n",
      "3  17.02.24\n",
      "4  17.02.23\n"
     ]
    }
   ],
   "source": [
    "print(date_df)\n",
    "print(date2_df)"
   ]
  },
  {
   "cell_type": "code",
   "execution_count": 35,
   "metadata": {},
   "outputs": [
    {
     "data": {
      "text/html": [
       "<div>\n",
       "<style scoped>\n",
       "    .dataframe tbody tr th:only-of-type {\n",
       "        vertical-align: middle;\n",
       "    }\n",
       "\n",
       "    .dataframe tbody tr th {\n",
       "        vertical-align: top;\n",
       "    }\n",
       "\n",
       "    .dataframe thead th {\n",
       "        text-align: right;\n",
       "    }\n",
       "</style>\n",
       "<table border=\"1\" class=\"dataframe\">\n",
       "  <thead>\n",
       "    <tr style=\"text-align: right;\">\n",
       "      <th></th>\n",
       "      <th>date2</th>\n",
       "      <th>date23</th>\n",
       "    </tr>\n",
       "  </thead>\n",
       "  <tbody>\n",
       "    <tr>\n",
       "      <th>0</th>\n",
       "      <td>16.02.29</td>\n",
       "      <td>NaN</td>\n",
       "    </tr>\n",
       "    <tr>\n",
       "      <th>1</th>\n",
       "      <td>16.02.26</td>\n",
       "      <td>NaN</td>\n",
       "    </tr>\n",
       "    <tr>\n",
       "      <th>2</th>\n",
       "      <td>16.02.25</td>\n",
       "      <td>NaN</td>\n",
       "    </tr>\n",
       "    <tr>\n",
       "      <th>3</th>\n",
       "      <td>16.02.24</td>\n",
       "      <td>NaN</td>\n",
       "    </tr>\n",
       "    <tr>\n",
       "      <th>4</th>\n",
       "      <td>16.02.23</td>\n",
       "      <td>NaN</td>\n",
       "    </tr>\n",
       "    <tr>\n",
       "      <th>0</th>\n",
       "      <td>NaN</td>\n",
       "      <td>17.02.29</td>\n",
       "    </tr>\n",
       "    <tr>\n",
       "      <th>1</th>\n",
       "      <td>NaN</td>\n",
       "      <td>17.02.26</td>\n",
       "    </tr>\n",
       "    <tr>\n",
       "      <th>2</th>\n",
       "      <td>NaN</td>\n",
       "      <td>17.02.25</td>\n",
       "    </tr>\n",
       "    <tr>\n",
       "      <th>3</th>\n",
       "      <td>NaN</td>\n",
       "      <td>17.02.24</td>\n",
       "    </tr>\n",
       "    <tr>\n",
       "      <th>4</th>\n",
       "      <td>NaN</td>\n",
       "      <td>17.02.23</td>\n",
       "    </tr>\n",
       "  </tbody>\n",
       "</table>\n",
       "</div>"
      ],
      "text/plain": [
       "      date2    date23\n",
       "0  16.02.29       NaN\n",
       "1  16.02.26       NaN\n",
       "2  16.02.25       NaN\n",
       "3  16.02.24       NaN\n",
       "4  16.02.23       NaN\n",
       "0       NaN  17.02.29\n",
       "1       NaN  17.02.26\n",
       "2       NaN  17.02.25\n",
       "3       NaN  17.02.24\n",
       "4       NaN  17.02.23"
      ]
     },
     "execution_count": 35,
     "metadata": {},
     "output_type": "execute_result"
    }
   ],
   "source": [
    "# 각각의 데이터프레임을 하나로 합치기\n",
    "final = pd.concat([date_df,date2_df])\n",
    "final"
   ]
  },
  {
   "cell_type": "code",
   "execution_count": 36,
   "metadata": {},
   "outputs": [
    {
     "data": {
      "text/html": [
       "<div>\n",
       "<style scoped>\n",
       "    .dataframe tbody tr th:only-of-type {\n",
       "        vertical-align: middle;\n",
       "    }\n",
       "\n",
       "    .dataframe tbody tr th {\n",
       "        vertical-align: top;\n",
       "    }\n",
       "\n",
       "    .dataframe thead th {\n",
       "        text-align: right;\n",
       "    }\n",
       "</style>\n",
       "<table border=\"1\" class=\"dataframe\">\n",
       "  <thead>\n",
       "    <tr style=\"text-align: right;\">\n",
       "      <th></th>\n",
       "      <th>date2</th>\n",
       "      <th>date23</th>\n",
       "    </tr>\n",
       "  </thead>\n",
       "  <tbody>\n",
       "    <tr>\n",
       "      <th>0</th>\n",
       "      <td>16.02.29</td>\n",
       "      <td>17.02.29</td>\n",
       "    </tr>\n",
       "    <tr>\n",
       "      <th>1</th>\n",
       "      <td>16.02.26</td>\n",
       "      <td>17.02.26</td>\n",
       "    </tr>\n",
       "    <tr>\n",
       "      <th>2</th>\n",
       "      <td>16.02.25</td>\n",
       "      <td>17.02.25</td>\n",
       "    </tr>\n",
       "    <tr>\n",
       "      <th>3</th>\n",
       "      <td>16.02.24</td>\n",
       "      <td>17.02.24</td>\n",
       "    </tr>\n",
       "    <tr>\n",
       "      <th>4</th>\n",
       "      <td>16.02.23</td>\n",
       "      <td>17.02.23</td>\n",
       "    </tr>\n",
       "  </tbody>\n",
       "</table>\n",
       "</div>"
      ],
      "text/plain": [
       "      date2    date23\n",
       "0  16.02.29  17.02.29\n",
       "1  16.02.26  17.02.26\n",
       "2  16.02.25  17.02.25\n",
       "3  16.02.24  17.02.24\n",
       "4  16.02.23  17.02.23"
      ]
     },
     "execution_count": 36,
     "metadata": {},
     "output_type": "execute_result"
    }
   ],
   "source": [
    "final = pd.concat([date_df, date2_df], axis = 1)\n",
    "final"
   ]
  },
  {
   "cell_type": "code",
   "execution_count": 38,
   "metadata": {},
   "outputs": [
    {
     "data": {
      "text/html": [
       "<div>\n",
       "<style scoped>\n",
       "    .dataframe tbody tr th:only-of-type {\n",
       "        vertical-align: middle;\n",
       "    }\n",
       "\n",
       "    .dataframe tbody tr th {\n",
       "        vertical-align: top;\n",
       "    }\n",
       "\n",
       "    .dataframe thead th {\n",
       "        text-align: right;\n",
       "    }\n",
       "</style>\n",
       "<table border=\"1\" class=\"dataframe\">\n",
       "  <thead>\n",
       "    <tr style=\"text-align: right;\">\n",
       "      <th></th>\n",
       "      <th>date2</th>\n",
       "      <th>date23</th>\n",
       "    </tr>\n",
       "  </thead>\n",
       "  <tbody>\n",
       "    <tr>\n",
       "      <th>0</th>\n",
       "      <td>16.02.29</td>\n",
       "      <td>NaN</td>\n",
       "    </tr>\n",
       "    <tr>\n",
       "      <th>1</th>\n",
       "      <td>16.02.26</td>\n",
       "      <td>NaN</td>\n",
       "    </tr>\n",
       "    <tr>\n",
       "      <th>2</th>\n",
       "      <td>16.02.25</td>\n",
       "      <td>NaN</td>\n",
       "    </tr>\n",
       "    <tr>\n",
       "      <th>3</th>\n",
       "      <td>16.02.24</td>\n",
       "      <td>NaN</td>\n",
       "    </tr>\n",
       "    <tr>\n",
       "      <th>4</th>\n",
       "      <td>16.02.23</td>\n",
       "      <td>NaN</td>\n",
       "    </tr>\n",
       "    <tr>\n",
       "      <th>0</th>\n",
       "      <td>NaN</td>\n",
       "      <td>17.02.29</td>\n",
       "    </tr>\n",
       "    <tr>\n",
       "      <th>1</th>\n",
       "      <td>NaN</td>\n",
       "      <td>17.02.26</td>\n",
       "    </tr>\n",
       "    <tr>\n",
       "      <th>2</th>\n",
       "      <td>NaN</td>\n",
       "      <td>17.02.25</td>\n",
       "    </tr>\n",
       "    <tr>\n",
       "      <th>3</th>\n",
       "      <td>NaN</td>\n",
       "      <td>17.02.24</td>\n",
       "    </tr>\n",
       "    <tr>\n",
       "      <th>4</th>\n",
       "      <td>NaN</td>\n",
       "      <td>17.02.23</td>\n",
       "    </tr>\n",
       "  </tbody>\n",
       "</table>\n",
       "</div>"
      ],
      "text/plain": [
       "      date2    date23\n",
       "0  16.02.29       NaN\n",
       "1  16.02.26       NaN\n",
       "2  16.02.25       NaN\n",
       "3  16.02.24       NaN\n",
       "4  16.02.23       NaN\n",
       "0       NaN  17.02.29\n",
       "1       NaN  17.02.26\n",
       "2       NaN  17.02.25\n",
       "3       NaN  17.02.24\n",
       "4       NaN  17.02.23"
      ]
     },
     "execution_count": 38,
     "metadata": {},
     "output_type": "execute_result"
    }
   ],
   "source": [
    "final = pd.concat([date_df, date2_df], axis = 0)\n",
    "final"
   ]
  },
  {
   "cell_type": "code",
   "execution_count": 39,
   "metadata": {},
   "outputs": [
    {
     "ename": "ValueError",
     "evalue": "No axis named 2 for object type <class 'pandas.core.frame.DataFrame'>",
     "output_type": "error",
     "traceback": [
      "\u001b[0;31m---------------------------------------------------------------------------\u001b[0m",
      "\u001b[0;31mValueError\u001b[0m                                Traceback (most recent call last)",
      "\u001b[0;32m<ipython-input-39-57b5ee376b3e>\u001b[0m in \u001b[0;36m<module>\u001b[0;34m\u001b[0m\n\u001b[0;32m----> 1\u001b[0;31m \u001b[0mfinal\u001b[0m \u001b[0;34m=\u001b[0m \u001b[0mpd\u001b[0m\u001b[0;34m.\u001b[0m\u001b[0mconcat\u001b[0m\u001b[0;34m(\u001b[0m\u001b[0;34m[\u001b[0m\u001b[0mdate_df\u001b[0m\u001b[0;34m,\u001b[0m \u001b[0mdate2_df\u001b[0m\u001b[0;34m]\u001b[0m\u001b[0;34m,\u001b[0m \u001b[0maxis\u001b[0m \u001b[0;34m=\u001b[0m \u001b[0;36m2\u001b[0m\u001b[0;34m)\u001b[0m\u001b[0;34m\u001b[0m\u001b[0;34m\u001b[0m\u001b[0m\n\u001b[0m\u001b[1;32m      2\u001b[0m \u001b[0mfinal\u001b[0m\u001b[0;34m\u001b[0m\u001b[0;34m\u001b[0m\u001b[0m\n",
      "\u001b[0;32m/Library/Frameworks/Python.framework/Versions/3.8/lib/python3.8/site-packages/pandas/core/reshape/concat.py\u001b[0m in \u001b[0;36mconcat\u001b[0;34m(objs, axis, join, ignore_index, keys, levels, names, verify_integrity, sort, copy)\u001b[0m\n\u001b[1;32m    269\u001b[0m     \u001b[0mValueError\u001b[0m\u001b[0;34m:\u001b[0m \u001b[0mIndexes\u001b[0m \u001b[0mhave\u001b[0m \u001b[0moverlapping\u001b[0m \u001b[0mvalues\u001b[0m\u001b[0;34m:\u001b[0m \u001b[0;34m[\u001b[0m\u001b[0;34m'a'\u001b[0m\u001b[0;34m]\u001b[0m\u001b[0;34m\u001b[0m\u001b[0;34m\u001b[0m\u001b[0m\n\u001b[1;32m    270\u001b[0m     \"\"\"\n\u001b[0;32m--> 271\u001b[0;31m     op = _Concatenator(\n\u001b[0m\u001b[1;32m    272\u001b[0m         \u001b[0mobjs\u001b[0m\u001b[0;34m,\u001b[0m\u001b[0;34m\u001b[0m\u001b[0;34m\u001b[0m\u001b[0m\n\u001b[1;32m    273\u001b[0m         \u001b[0maxis\u001b[0m\u001b[0;34m=\u001b[0m\u001b[0maxis\u001b[0m\u001b[0;34m,\u001b[0m\u001b[0;34m\u001b[0m\u001b[0;34m\u001b[0m\u001b[0m\n",
      "\u001b[0;32m/Library/Frameworks/Python.framework/Versions/3.8/lib/python3.8/site-packages/pandas/core/reshape/concat.py\u001b[0m in \u001b[0;36m__init__\u001b[0;34m(self, objs, axis, join, keys, levels, names, ignore_index, verify_integrity, copy, sort)\u001b[0m\n\u001b[1;32m    393\u001b[0m             \u001b[0maxis\u001b[0m \u001b[0;34m=\u001b[0m \u001b[0mDataFrame\u001b[0m\u001b[0;34m.\u001b[0m\u001b[0m_get_axis_number\u001b[0m\u001b[0;34m(\u001b[0m\u001b[0maxis\u001b[0m\u001b[0;34m)\u001b[0m\u001b[0;34m\u001b[0m\u001b[0;34m\u001b[0m\u001b[0m\n\u001b[1;32m    394\u001b[0m         \u001b[0;32melse\u001b[0m\u001b[0;34m:\u001b[0m\u001b[0;34m\u001b[0m\u001b[0;34m\u001b[0m\u001b[0m\n\u001b[0;32m--> 395\u001b[0;31m             \u001b[0maxis\u001b[0m \u001b[0;34m=\u001b[0m \u001b[0msample\u001b[0m\u001b[0;34m.\u001b[0m\u001b[0m_get_axis_number\u001b[0m\u001b[0;34m(\u001b[0m\u001b[0maxis\u001b[0m\u001b[0;34m)\u001b[0m\u001b[0;34m\u001b[0m\u001b[0;34m\u001b[0m\u001b[0m\n\u001b[0m\u001b[1;32m    396\u001b[0m \u001b[0;34m\u001b[0m\u001b[0m\n\u001b[1;32m    397\u001b[0m         \u001b[0;31m# Need to flip BlockManager axis in the DataFrame special case\u001b[0m\u001b[0;34m\u001b[0m\u001b[0;34m\u001b[0m\u001b[0;34m\u001b[0m\u001b[0m\n",
      "\u001b[0;32m/Library/Frameworks/Python.framework/Versions/3.8/lib/python3.8/site-packages/pandas/core/generic.py\u001b[0m in \u001b[0;36m_get_axis_number\u001b[0;34m(cls, axis)\u001b[0m\n\u001b[1;32m    405\u001b[0m             \u001b[0;32mexcept\u001b[0m \u001b[0mKeyError\u001b[0m\u001b[0;34m:\u001b[0m\u001b[0;34m\u001b[0m\u001b[0;34m\u001b[0m\u001b[0m\n\u001b[1;32m    406\u001b[0m                 \u001b[0;32mpass\u001b[0m\u001b[0;34m\u001b[0m\u001b[0;34m\u001b[0m\u001b[0m\n\u001b[0;32m--> 407\u001b[0;31m         \u001b[0;32mraise\u001b[0m \u001b[0mValueError\u001b[0m\u001b[0;34m(\u001b[0m\u001b[0;34mf\"No axis named {axis} for object type {cls}\"\u001b[0m\u001b[0;34m)\u001b[0m\u001b[0;34m\u001b[0m\u001b[0;34m\u001b[0m\u001b[0m\n\u001b[0m\u001b[1;32m    408\u001b[0m \u001b[0;34m\u001b[0m\u001b[0m\n\u001b[1;32m    409\u001b[0m     \u001b[0;34m@\u001b[0m\u001b[0mclassmethod\u001b[0m\u001b[0;34m\u001b[0m\u001b[0;34m\u001b[0m\u001b[0m\n",
      "\u001b[0;31mValueError\u001b[0m: No axis named 2 for object type <class 'pandas.core.frame.DataFrame'>"
     ]
    }
   ],
   "source": [
    "final = pd.concat([date_df, date2_df], axis = 2)\n",
    "final"
   ]
  },
  {
   "cell_type": "markdown",
   "metadata": {},
   "source": [
    "### 리스트 3개 이상을 합치는거 해보기. 파이썬 패키지 부분 공부하기."
   ]
  },
  {
   "cell_type": "code",
   "execution_count": 40,
   "metadata": {},
   "outputs": [],
   "source": [
    "# 3개의 리스트를 데이터프레임으로 바꾸고 하나로 합치기\n",
    "date = ['16.02.29', '16.02.26', '16.02.25', '16.02.24', '16.02.23']\n",
    "date2 = ['17.02.29', '17.02.26', '17.02.25', '17.02.24', '17.02.23']\n",
    "date3 = ['18.02.14', '18.03.05', '18.04.09', '18.09.11', '18.12.31']\n",
    "\n",
    "# 각각의 리스트를 데이터프레임으로 바꾸기\n",
    "date_df = pd.DataFrame(date, columns = ['16년도'])\n",
    "date2_df = pd.DataFrame(date2, columns = ['17년도'])\n",
    "date3_df = pd.DataFrame(date3, columns = ['18년도'])"
   ]
  },
  {
   "cell_type": "code",
   "execution_count": null,
   "metadata": {},
   "outputs": [],
   "source": []
  },
  {
   "cell_type": "code",
   "execution_count": 1,
   "metadata": {},
   "outputs": [],
   "source": []
  },
  {
   "cell_type": "code",
   "execution_count": 6,
   "metadata": {},
   "outputs": [],
   "source": [
    "# 내용 : 기준이 되는 년도주차 정보와 과거로 돌아갈 주차를 입력 받아 계산한다.\n",
    "# 파라미터 : fromWeeks, weeksAgo (int 타입, str 타입 무관하게 입력 받음)\n",
    "# 목적 : i.e (201704,20) 2017년 4주차로부터 20주 전은 언제인가를 계산할 수 있다.\n",
    "\n",
    "# Step 0: isoweek 모듈을 불러온다.\n",
    "# Step 1: 입력 받은 년도주차 정보와 과거주 정보를 문자 캐스팅 해서 분리한 다음 계산을 위해 다시 int 캐스팅.\n",
    "# Step 2: 과거 년도로 돌아가지 않는 경우를 분리하여 계산.\n",
    "# Step 3: 주차 자릿수가 1자리로 줄어드는 경우에 대한 보정 로직.\n",
    "# Step 4: 과거 년도로 돌아가는 경우를 분리하여 계산.\n",
    "# Step 5: 1년 더 과거로 가야할 지 계산. 조건을 만족하지 않을 때까지 1년씩 과거로 이동.\n",
    "# Step 6: 위 Step 3.에서 했던 보정을 동일하게 적용하여 결과 산출.\n",
    "# Step 7: 최종 결과 result 값을 반환.\n",
    "\n",
    "# cf. Step 3 은 if문 없이 str(inputWeeks - weeksAgo).zfill(2)로 자릿수 보정 가능. Step 7도 마찬가지.\n",
    "\n",
    "def preWeek(fromWeek,weeksAgo):\n",
    "    #fromWeek = 201720\n",
    "    #weeksAgo = 100 # 10이면 201710, 20이면 201652, 21이면 201651, 71이면 201601, 72면 201553, 124면 201501\n",
    "                    # 125면 201452, 176이면 201401, 177이면 201352, 228이면 201301, 229면 201252, 1000이면 199812\n",
    "                    # 가 나오면 된다.\n",
    "\n",
    "    # Step 0. isoweek 모듈을 불러온다.\n",
    "    from isoweek import Week\n",
    "    # Step 1. 년도, 주차 분리를 위해 문자 캐스팅 해서 분리한 다음 모든 변수 int 캐스팅\n",
    "    inputYear = int(str(fromWeek)[:4])\n",
    "    inputWeeks = int(str(fromWeek)[4:])\n",
    "    weeksAgo = int(weeksAgo)\n",
    "    maxWeeks = Week.last_week_of_year(inputYear).week\n",
    "\n",
    "    # Step 2. 기준 주차 > 과거로 돌아가려는 주 인가? (년도가 바뀌지 않는 경우임.)\n",
    "    if inputWeeks - weeksAgo > 0:\n",
    "        # Step 3. (기준 주차 - 과거 주) >= 10이면 연도와 (기준 주차 - 과거 주)를 문자열 캐스팅 한 다음 더한다.\n",
    "        if inputWeeks - weeksAgo >= 10:\n",
    "            result = str(inputYear) + str(inputWeeks - weeksAgo)\n",
    "        else: # Step 3.1 계산한 주차가 한자리수로 작아질 경우 앞에 0을 붙여서 보정한다.\n",
    "            result = str(inputYear) + \"0\" + str(inputWeeks - weeksAgo)\n",
    "\n",
    "    # Step 4. 과거 년도로 가는 경우.\n",
    "    else:\n",
    "        remainWeeks = weeksAgo - inputWeeks    # 마이너스 인덱싱 타임머신 여행할 횟수 계산.\n",
    "        inputYear -= 1    # inputWeeks만큼 빼고 1년 전으로 이동했으니 -1년을 해주고 시작.\n",
    "        maxWeeks = Week.last_week_of_year(inputYear).week    # 해당 년도에 주차가 몇이나 되는지 확인.\n",
    "\n",
    "        while remainWeeks >= maxWeeks:   # Step 5. 과거로 돌아갈 횟수가 해당 년도 주차보다 더 크다면 1년 더 과거로 이동.\n",
    "            remainWeeks -= maxWeeks\n",
    "            inputYear -= 1\n",
    "            maxWeeks = Week.last_week_of_year(inputYear).week\n",
    "        else:\n",
    "            pass\n",
    "\n",
    "        maxWeeks -= remainWeeks    # 과거로 이동이 끝난 주차가 계산됨.\n",
    "\n",
    "        # Step 6. Step 3.1 에서 했던 주차 자릿수 보정을 동일하게 해준다.\n",
    "        if maxWeeks >= 10:\n",
    "                result = str(inputYear) + str(maxWeeks)\n",
    "        else:\n",
    "            result = str(inputYear) + \"0\" + str(maxWeeks)\n",
    "    \n",
    "    # Step 7. 최종 결과 반환\n",
    "    return result"
   ]
  },
  {
   "cell_type": "code",
   "execution_count": 7,
   "metadata": {},
   "outputs": [
    {
     "data": {
      "text/plain": [
       "'201437'"
      ]
     },
     "execution_count": 7,
     "metadata": {},
     "output_type": "execute_result"
    }
   ],
   "source": [
    "preWeek(201720,140)"
   ]
  },
  {
   "cell_type": "code",
   "execution_count": 23,
   "metadata": {},
   "outputs": [
    {
     "ename": "NameError",
     "evalue": "name 'ragne' is not defined",
     "output_type": "error",
     "traceback": [
      "\u001b[0;31m---------------------------------------------------------------------------\u001b[0m",
      "\u001b[0;31mNameError\u001b[0m                                 Traceback (most recent call last)",
      "\u001b[0;32m<ipython-input-23-b8bbb680a554>\u001b[0m in \u001b[0;36m<module>\u001b[0;34m\u001b[0m\n\u001b[0;32m----> 1\u001b[0;31m \u001b[0mpreWeek\u001b[0m\u001b[0;34m(\u001b[0m\u001b[0;36m201720\u001b[0m\u001b[0;34m,\u001b[0m\u001b[0;36m20\u001b[0m\u001b[0;34m)\u001b[0m\u001b[0;34m\u001b[0m\u001b[0;34m\u001b[0m\u001b[0m\n\u001b[0m",
      "\u001b[0;32m<ipython-input-21-d32b434126dc>\u001b[0m in \u001b[0;36mpreWeek\u001b[0;34m(fromWeek, weeksAgo)\u001b[0m\n\u001b[1;32m     47\u001b[0m \u001b[0;34m\u001b[0m\u001b[0m\n\u001b[1;32m     48\u001b[0m         \u001b[0;31m# Step 5. 아직 남아있는 빼야 할 과거주가 그 년도의 최대 주차보다 큰지 확인해서 계속 1주씩 과거로 간다.\u001b[0m\u001b[0;34m\u001b[0m\u001b[0;34m\u001b[0m\u001b[0;34m\u001b[0m\u001b[0m\n\u001b[0;32m---> 49\u001b[0;31m         \u001b[0;32mfor\u001b[0m \u001b[0mi\u001b[0m \u001b[0;32min\u001b[0m \u001b[0mragne\u001b[0m\u001b[0;34m(\u001b[0m\u001b[0;36m0\u001b[0m\u001b[0;34m,\u001b[0m\u001b[0mremainWeeks\u001b[0m\u001b[0;34m,\u001b[0m\u001b[0;34m)\u001b[0m\u001b[0;34m:\u001b[0m\u001b[0;34m\u001b[0m\u001b[0;34m\u001b[0m\u001b[0m\n\u001b[0m\u001b[1;32m     50\u001b[0m             \u001b[0mmaxWeeks\u001b[0m \u001b[0;34m-=\u001b[0m \u001b[0;36m1\u001b[0m\u001b[0;34m\u001b[0m\u001b[0;34m\u001b[0m\u001b[0m\n\u001b[1;32m     51\u001b[0m \u001b[0;34m\u001b[0m\u001b[0m\n",
      "\u001b[0;31mNameError\u001b[0m: name 'ragne' is not defined"
     ]
    }
   ],
   "source": [
    "preWeek(201720,20)"
   ]
  },
  {
   "cell_type": "code",
   "execution_count": 13,
   "metadata": {},
   "outputs": [
    {
     "name": "stdout",
     "output_type": "stream",
     "text": [
      "inputYear 2016\n",
      "maxWeeks 52\n",
      "현재주차 1\n",
      "remainWeeks 51\n",
      "\n"
     ]
    },
    {
     "data": {
      "text/plain": [
       "'201601'"
      ]
     },
     "execution_count": 13,
     "metadata": {},
     "output_type": "execute_result"
    }
   ],
   "source": [
    "preWeek(201720,71)"
   ]
  },
  {
   "cell_type": "code",
   "execution_count": 14,
   "metadata": {},
   "outputs": [
    {
     "name": "stdout",
     "output_type": "stream",
     "text": [
      "inputYear 2016\n",
      "maxWeeks 52\n",
      "현재주차 0\n",
      "remainWeeks 52\n",
      "\n"
     ]
    },
    {
     "data": {
      "text/plain": [
       "'201600'"
      ]
     },
     "execution_count": 14,
     "metadata": {},
     "output_type": "execute_result"
    }
   ],
   "source": [
    "preWeek(201720,72)"
   ]
  },
  {
   "cell_type": "code",
   "execution_count": 15,
   "metadata": {},
   "outputs": [
    {
     "name": "stdout",
     "output_type": "stream",
     "text": [
      "inputYear 2016\n",
      "maxWeeks 52\n",
      "현재주차 -1\n",
      "remainWeeks 53\n",
      "\n"
     ]
    },
    {
     "data": {
      "text/plain": [
       "'20160-1'"
      ]
     },
     "execution_count": 15,
     "metadata": {},
     "output_type": "execute_result"
    }
   ],
   "source": [
    "preWeek(201720,73)"
   ]
  },
  {
   "cell_type": "code",
   "execution_count": 16,
   "metadata": {},
   "outputs": [
    {
     "name": "stdout",
     "output_type": "stream",
     "text": [
      "inputYear 2016\n",
      "maxWeeks 52\n",
      "현재주차 -2\n",
      "remainWeeks 54\n",
      "\n",
      "inputYear 2015\n",
      "maxWeeks 53\n",
      "remainWeeks 1\n"
     ]
    },
    {
     "data": {
      "text/plain": [
       "'201552'"
      ]
     },
     "execution_count": 16,
     "metadata": {},
     "output_type": "execute_result"
    }
   ],
   "source": [
    "preWeek(201720,74)"
   ]
  },
  {
   "cell_type": "code",
   "execution_count": 17,
   "metadata": {},
   "outputs": [
    {
     "name": "stdout",
     "output_type": "stream",
     "text": [
      "inputYear 2016\n",
      "maxWeeks 52\n",
      "현재주차 -28\n",
      "remainWeeks 80\n",
      "\n",
      "inputYear 2015\n",
      "maxWeeks 53\n",
      "remainWeeks 27\n"
     ]
    },
    {
     "data": {
      "text/plain": [
       "'201526'"
      ]
     },
     "execution_count": 17,
     "metadata": {},
     "output_type": "execute_result"
    }
   ],
   "source": [
    "preWeek(201720,100)"
   ]
  },
  {
   "cell_type": "code",
   "execution_count": null,
   "metadata": {},
   "outputs": [],
   "source": []
  },
  {
   "cell_type": "code",
   "execution_count": null,
   "metadata": {},
   "outputs": [],
   "source": []
  },
  {
   "cell_type": "code",
   "execution_count": null,
   "metadata": {},
   "outputs": [],
   "source": []
  },
  {
   "cell_type": "code",
   "execution_count": 35,
   "metadata": {},
   "outputs": [],
   "source": [
    "from isoweek import Week"
   ]
  },
  {
   "cell_type": "code",
   "execution_count": 100,
   "metadata": {},
   "outputs": [],
   "source": [
    "fromWeek = 201720\n",
    "weeksAgo = 1000"
   ]
  },
  {
   "cell_type": "code",
   "execution_count": 119,
   "metadata": {},
   "outputs": [],
   "source": [
    "# 내용 : 기준이 되는 년도주차 정보와 과거로 돌아갈 주차를 입력 받아 계산한다.\n",
    "# 파라미터 : fromWeeks, weeksAgo (int 타입, str 타입 무관하게 입력 받음)\n",
    "# 목적 : i.e (201704,20) 2017년 4주차로부터 20주 전은 언제인가를 계산할 수 있다.\n",
    "\n",
    "# Step 0: isoweek 모듈을 불러온다.\n",
    "# Step 1: 입력 받은 년도주차 정보와 과거주 정보를 문자 캐스팅 해서 분리한 다음 계산을 위해 다시 int 캐스팅.\n",
    "# Step 2: 과거 년도로 돌아가지 않는 경우를 분리하여 계산.\n",
    "# Step 3: 주차 자릿수가 1자리로 줄어드는 경우에 대한 보정 로직.\n",
    "# Step 4: 과거 년도로 돌아가는 경우를 분리하여 계산.\n",
    "# Step 5: 1년 더 과거로 가야할 지 계산. 조건을 만족하지 않을 때까지 1년씩 과거로 이동.\n",
    "# Step 6: 위 Step 3.에서 했던 보정을 동일하게 적용하여 결과 산출.\n",
    "# Step 7: 최종 결과 result 값을 반환.\n",
    "\n",
    "# cf. Step 3 은 if문 없이 str(inputWeeks - weeksAgo).zfill(2)로 자릿수 보정 가능. Step 7도 마찬가지.\n",
    "\n",
    "def preWeek(fromWeek,weeksAgo):\n",
    "    #fromWeek = 201720\n",
    "    #weeksAgo = 100 # 10이면 201710, 20이면 201652, 21이면 201651, 71이면 201601, 72면 201553, 124면 201501\n",
    "                    # 125면 201452, 176이면 201401, 177이면 201352, 228이면 201301, 229면 201252, 1000이면 199812\n",
    "                    # 가 나오면 된다.\n",
    "\n",
    "    # Step 0. isoweek 모듈을 불러온다.\n",
    "    from isoweek import Week\n",
    "    # Step 1. 년도, 주차 분리를 위해 문자 캐스팅 해서 분리한 다음 모든 변수 int 캐스팅\n",
    "    inputYear = int(str(fromWeek)[:4])\n",
    "    inputWeeks = int(str(fromWeek)[4:])\n",
    "    weeksAgo = int(weeksAgo)\n",
    "    maxWeeks = Week.last_week_of_year(inputYear).week\n",
    "\n",
    "    # Step 2. 기준 주차 > 과거로 돌아가려는 주 인가? (년도가 바뀌지 않는 경우임.)\n",
    "    if inputWeeks - weeksAgo > 0:\n",
    "        # Step 3. (기준 주차 - 과거 주) >= 10이면 연도와 (기준 주차 - 과거 주)를 문자열 캐스팅 한 다음 더한다.\n",
    "        if inputWeeks - weeksAgo >= 10:\n",
    "            result = str(inputYear) + str(inputWeeks - weeksAgo)\n",
    "        else: # Step 3.1 계산한 주차가 한자리수로 작아질 경우 앞에 0을 붙여서 보정한다.\n",
    "            result = str(inputYear) + \"0\" + str(inputWeeks - weeksAgo)\n",
    "\n",
    "    # Step 4. 과거 년도로 가는 경우.\n",
    "    else:\n",
    "        remainWeeks = weeksAgo - inputWeeks    # 마이너스 인덱싱 타임머신 여행할 횟수 계산.\n",
    "        inputYear -= 1    # inputWeeks만큼 빼고 1년 전으로 이동했으니 -1년을 해주고 시작.\n",
    "        maxWeeks = Week.last_week_of_year(inputYear).week    # 해당 년도에 주차가 몇이나 되는지 확인.\n",
    "\n",
    "        while remainWeeks >= maxWeeks:   # Step 5. 과거로 돌아갈 횟수가 해당 년도 주차보다 더 크다면 1년 더 과거로 이동.\n",
    "            remainWeeks -= maxWeeks\n",
    "            inputYear -= 1\n",
    "            maxWeeks = Week.last_week_of_year(inputYear).week\n",
    "        else:\n",
    "            pass\n",
    "\n",
    "        maxWeeks -= remainWeeks    # 과거로 이동이 끝난 주차가 계산됨.\n",
    "\n",
    "        # Step 6. Step 3.1 에서 했던 주차 자릿수 보정을 동일하게 해준다.\n",
    "        if maxWeeks >= 10:\n",
    "                result = str(inputYear) + str(maxWeeks)\n",
    "        else:\n",
    "            result = str(inputYear) + \"0\" + str(maxWeeks)\n",
    "    \n",
    "    # Step 7. 최종 결과 반환\n",
    "    return result"
   ]
  },
  {
   "cell_type": "code",
   "execution_count": 120,
   "metadata": {},
   "outputs": [
    {
     "data": {
      "text/plain": [
       "'199812'"
      ]
     },
     "execution_count": 120,
     "metadata": {},
     "output_type": "execute_result"
    }
   ],
   "source": [
    "preWeek(201720,1000)"
   ]
  },
  {
   "cell_type": "code",
   "execution_count": 207,
   "metadata": {},
   "outputs": [
    {
     "data": {
      "text/plain": [
       "105"
      ]
     },
     "execution_count": 207,
     "metadata": {},
     "output_type": "execute_result"
    }
   ],
   "source": [
    "remainWeeks = weeksAgo - inputWeeks\n",
    "remainWeeks"
   ]
  },
  {
   "cell_type": "code",
   "execution_count": 208,
   "metadata": {},
   "outputs": [
    {
     "data": {
      "text/plain": [
       "2016"
      ]
     },
     "execution_count": 208,
     "metadata": {},
     "output_type": "execute_result"
    }
   ],
   "source": [
    "inputYear -= 1\n",
    "inputYear"
   ]
  },
  {
   "cell_type": "code",
   "execution_count": 209,
   "metadata": {},
   "outputs": [
    {
     "data": {
      "text/plain": [
       "52"
      ]
     },
     "execution_count": 209,
     "metadata": {},
     "output_type": "execute_result"
    }
   ],
   "source": [
    "maxWeeks"
   ]
  },
  {
   "cell_type": "code",
   "execution_count": 210,
   "metadata": {},
   "outputs": [
    {
     "data": {
      "text/plain": [
       "True"
      ]
     },
     "execution_count": 210,
     "metadata": {},
     "output_type": "execute_result"
    }
   ],
   "source": [
    "remainWeeks >= maxWeeks"
   ]
  },
  {
   "cell_type": "code",
   "execution_count": 211,
   "metadata": {},
   "outputs": [],
   "source": [
    "while remainWeeks >= maxWeeks:\n",
    "    if maxWeeks - remainWeeks <= 0 :\n",
    "        remainWeeks -= maxWeeks\n",
    "        inputYear -= 1\n",
    "        maxWeeks = Week.last_week_of_year(inputYear).week\n",
    "    else:\n",
    "        pass\n",
    "maxWeeks -= remainWeeks"
   ]
  },
  {
   "cell_type": "code",
   "execution_count": 212,
   "metadata": {},
   "outputs": [
    {
     "data": {
      "text/plain": [
       "2014"
      ]
     },
     "execution_count": 212,
     "metadata": {},
     "output_type": "execute_result"
    }
   ],
   "source": [
    "inputYear"
   ]
  },
  {
   "cell_type": "code",
   "execution_count": 213,
   "metadata": {},
   "outputs": [
    {
     "data": {
      "text/plain": [
       "52"
      ]
     },
     "execution_count": 213,
     "metadata": {},
     "output_type": "execute_result"
    }
   ],
   "source": [
    "maxWeeks"
   ]
  },
  {
   "cell_type": "code",
   "execution_count": 58,
   "metadata": {},
   "outputs": [],
   "source": []
  },
  {
   "cell_type": "code",
   "execution_count": 3,
   "metadata": {},
   "outputs": [],
   "source": [
    "# 내용 : 기준이 되는 년도주차 정보와 과거로 돌아갈 주차를 입력 받아 계산한다.\n",
    "# 파라미터 : fromWeeks, weeksAgo (int 타입, str 타입 무관하게 입력 받음)\n",
    "# 목적 : i.e (201704,20) 2017년 4주차로부터 20주 전은 언제인가를 계산할 수 있다.\n",
    "\n",
    "# Step 0: isoweek 모듈을 불러온다.\n",
    "# Step 1: 입력 받은 년도주차 정보와 과거주 정보를 문자 캐스팅 해서 분리한 다음 계산을 위해 다시 int 캐스팅.\n",
    "# Step 2: 과거 년도로 돌아가지 않는 경우를 분리하여 계산.\n",
    "# Step 3: 주차 자릿수가 1자리로 줄어드는 경우에 대한 보정 로직.\n",
    "# Step 4: 과거 년도로 돌아가는 경우를 분리하여 계산.\n",
    "# Step 5: 1년 더 과거로 가야할 지 계산. 조건을 만족하지 않을 때까지 1년씩 과거로 이동.\n",
    "# Step 6: 위 Step 3.에서 했던 보정을 동일하게 적용하여 결과 산출.\n",
    "# Step 7: 최종 결과 result 값을 반환.\n",
    "\n",
    "# cf. Step 3 은 if문 없이 str(inputWeeks - weeksAgo).zfill(2)로 자릿수 보정 가능. Step 7도 마찬가지.\n",
    "\n",
    "def preWeek(fromWeek,weeksAgo):\n",
    "    #fromWeek = 201720\n",
    "    #weeksAgo = 100 # 10이면 201710, 20이면 201652, 21이면 201651, 71이면 201601, 72면 201553, 124면 201501\n",
    "                    # 125면 201452, 176이면 201401, 177이면 201352, 228이면 201301, 229면 201252, 1000이면 199812\n",
    "                    # 가 나오면 된다.\n",
    "\n",
    "    # Step 0. isoweek 모듈을 불러온다.\n",
    "    from isoweek import Week\n",
    "    # Step 1. 년도, 주차 분리를 위해 문자 캐스팅 해서 분리한 다음 모든 변수 int 캐스팅\n",
    "    inputYear = int(str(fromWeek)[:4])\n",
    "    inputWeeks = int(str(fromWeek)[4:])\n",
    "    weeksAgo = int(weeksAgo)\n",
    "\n",
    "    # Step 2. 기준 주차 > 과거로 돌아가려는 주 (년도가 바뀌지 않는 경우임.)\n",
    "    if inputWeeks - weeksAgo > 0:\n",
    "        # Step 3. (기준 주차 - 과거 주) >= 10이면 연도와 (기준 주차 - 과거 주)를 문자열 캐스팅 한 다음 더한다.\n",
    "        if inputWeeks - weeksAgo >= 10:\n",
    "            result = str(inputYear) + str(inputWeeks - weeksAgo)\n",
    "        else: # Step 3.1 계산한 주차가 한자리수로 작아질 경우 앞에 0을 붙여서 보정한다.\n",
    "            result = str(inputYear) + \"0\" + str(inputWeeks - weeksAgo)\n",
    "\n",
    "    # Step 4. 과거 년도로 가는 경우.\n",
    "    else:\n",
    "        remainWeeks = weeksAgo - (inputWeeks - 1)    # 마이너스 인덱싱 타임머신 여행할 횟수 계산.\n",
    "        inputYear -= 1    # inputWeeks만큼 빼고 1년 전으로 이동했으니 -1년을 해주고 시작.\n",
    "        maxWeeks = Week.last_week_of_year(inputYear).week    # 해당 년도에 주차가 몇이나 되는지 확인.\n",
    "\n",
    "        while remainWeeks >= maxWeeks:   # Step 5. 과거로 돌아갈 횟수가 해당 년도 주차보다 크다면 1년씩 반복해 과거로 이동.\n",
    "            remainWeeks -= maxWeeks\n",
    "            inputYear -= 1\n",
    "            maxWeeks = Week.last_week_of_year(inputYear).week\n",
    "        else:\n",
    "            pass\n",
    "\n",
    "        maxWeeks -= remainWeeks    # 과거로 이동이 끝난 주차가 계산됨.\n",
    "\n",
    "        # Step 6. Step 3.1 에서 했던 주차 자릿수 보정을 동일하게 해준다.\n",
    "        if maxWeeks >= 10:\n",
    "                result = str(inputYear) + str(maxWeeks + 1)\n",
    "        else:\n",
    "            result = str(inputYear) + \"0\" + str(maxWeeks + 1)\n",
    "    \n",
    "    # Step 7. 최종 결과 반환\n",
    "    return result"
   ]
  },
  {
   "cell_type": "code",
   "execution_count": 7,
   "metadata": {},
   "outputs": [
    {
     "data": {
      "text/plain": [
       "'199812'"
      ]
     },
     "execution_count": 7,
     "metadata": {},
     "output_type": "execute_result"
    }
   ],
   "source": [
    "preWeek(201720,1000)"
   ]
  },
  {
   "cell_type": "code",
   "execution_count": 2,
   "metadata": {},
   "outputs": [
    {
     "name": "stdout",
     "output_type": "stream",
     "text": [
      "                       *                        \n",
      "                                                \n",
      "                      * *                       \n",
      "                                                \n",
      "                     *****                      \n",
      "                                                \n",
      "                    *     *                     \n",
      "                                                \n",
      "                   * *   * *                    \n",
      "                                                \n",
      "                  ***** *****                   \n",
      "                                                \n",
      "                 *           *                  \n",
      "                                                \n",
      "                * *         * *                 \n",
      "                                                \n",
      "               *****       *****                \n",
      "                                                \n",
      "              *     *     *     *               \n",
      "                                                \n",
      "             * *   * *   * *   * *              \n",
      "                                                \n",
      "            ***** ***** ***** *****             \n",
      "                                                \n",
      "           *                       *            \n",
      "                                                \n",
      "          * *                     * *           \n",
      "                                                \n",
      "         *****                   *****          \n",
      "                                                \n",
      "        *     *                 *     *         \n",
      "                                                \n",
      "       * *   * *               * *   * *        \n",
      "                                                \n",
      "      ***** *****             ***** *****       \n",
      "                                                \n",
      "     *           *           *           *      \n",
      "                                                \n",
      "    * *         * *         * *         * *     \n",
      "                                                \n",
      "   *****       *****       *****       *****    \n",
      "                                                \n",
      "  *     *     *     *     *     *     *     *   \n",
      "                                                \n",
      " * *   * *   * *   * *   * *   * *   * *   * *  \n",
      "                                                \n",
      "***** ***** ***** ***** ***** ***** ***** ***** \n",
      "                                                \n"
     ]
    }
   ],
   "source": [
    "# 출력 결과 저장할 리스트\n",
    "outBuffer = []\n",
    "\n",
    "# 공백으로 초기화\n",
    "for x in range(48):\n",
    "    temList = []\n",
    "    for y in range(48):\n",
    "        temList.append(\" \")\n",
    "    outBuffer.append(temList)\n",
    "\n",
    "def small_star(posX, posY):\n",
    "    for x in range(5):\n",
    "        for y in range(5):\n",
    "            if x == 2 and y == 0:\n",
    "                outBuffer[posX + x][posY + y] = \"*\"\n",
    "            elif y == 2 and x % 2 == 1:\n",
    "                outBuffer[posX + x][posY + y] = \"*\"\n",
    "            elif y == 4:\n",
    "                outBuffer[posX + x][posY + y] = \"*\"\n",
    "\n",
    "def medium_star(posX, posY):\n",
    "    small_star(posX + 3, posY)\n",
    "    small_star(posX, posY + 6)\n",
    "    small_star(posX + 6, posY + 6)\n",
    "    \n",
    "def large_star(posX, posY):\n",
    "    medium_star(posX + 6, posY)\n",
    "    medium_star(posX, posY + 12)\n",
    "    medium_star(posX + 12, posY + 12)\n",
    "    \n",
    "def print_buffer(buffer):\n",
    "    for x in range(len(buffer)):\n",
    "        for y in range(len(buffer)):\n",
    "            print(buffer[y][x], end = \"\")\n",
    "        print(\"\")\n",
    "\n",
    "large_star(12, 0)\n",
    "large_star(0, 24)\n",
    "large_star(24, 24)\n",
    "print_buffer(outBuffer)"
   ]
  },
  {
   "cell_type": "code",
   "execution_count": 3,
   "metadata": {},
   "outputs": [
    {
     "name": "stdout",
     "output_type": "stream",
     "text": [
      "0\n",
      "1\n",
      "2\n",
      "3\n",
      "4\n"
     ]
    }
   ],
   "source": [
    "for i in range(5):\n",
    "    print(i)"
   ]
  },
  {
   "cell_type": "code",
   "execution_count": 12,
   "metadata": {},
   "outputs": [],
   "source": [
    "def preWeek(yearWeek, preWeek):    # preWeek 이전 주차를 반환하는 함수\n",
    "    from isoweek import Week\n",
    "    yeardigit = 4  #만년 이후에는 자리수가 바뀔 수 있으니까...\n",
    "    inputYear = int(str(yearWeek)[:yeardigit]) #년도만 잘라서 저장\n",
    "    inputWeek = int(str(yearWeek)[yeardigit:]) #주차만 잘라서 저장\n",
    "    resultWeek = inputWeek - preWeek           #현 주차 - 뒤로 갈 주차 계산결과\n",
    "    \n",
    "    \n",
    "    while(resultWeek<=0):       # 주차가 0 이하라면\n",
    "        inputYear = inputYear-1    # 년도가 하나 줄어듭니다\n",
    "        calcWeek = Week.last_week_of_year(inputYear).week  #줄어든 년도의 총 주차수\n",
    "        resultWeek = calcWeek + resultWeek \n",
    "        #총 주차수에 resultWeek 을 더해줍니다. (0 또는 음수일테니까)\n",
    "        #더했는데도 0 또는 음수라면 양수가 될 때까지 반복됩니다.\n",
    "    \n",
    "    if(resultWeek<10):\n",
    "        resultWeek = \"0\"+str(resultWeek) #1자리수면 앞에 0을 붙여줌\n",
    "    \n",
    "    result = str(inputYear)+str(resultWeek) #년도와 주차를 문자열로 더해서 출력\n",
    "    \n",
    "    return result"
   ]
  },
  {
   "cell_type": "code",
   "execution_count": 4,
   "metadata": {},
   "outputs": [],
   "source": [
    "from isoweek import Week\n",
    "currYear = 2017\n",
    "Week.last_week_of_year(currYear).week\n",
    "\n",
    "def preWeek(inputYW,gapWeek):\n",
    "    inputYW = str(inputYW)\n",
    "    currYear = inputYW[:4]      #월, 주 나누어 알아보기\n",
    "    currWeek = inputYW[4:]\n",
    "    gapWeek = int(gapWeek)\n",
    "    \n",
    "    resultWeek = int(currWeek) - gapWeek\n",
    "    currYear = int(currYear)\n",
    "    \n",
    "    while(resultWeek <= 0):\n",
    "        \n",
    "        currYear -= 1\n",
    "        preYearLastWeek = Week.last_week_of_year(currYear).week\n",
    "        resultWeek += preYearLastWeek\n",
    "        \n",
    "    if (resultWeek < 10):\n",
    "        answer = str(currYear)+\"0\"+str(resultWeek)\n",
    "        \n",
    "    else:\n",
    "        answer = str(currYear)+str(resultWeek)\n",
    "    return(answer)"
   ]
  },
  {
   "cell_type": "code",
   "execution_count": 5,
   "metadata": {},
   "outputs": [
    {
     "data": {
      "text/plain": [
       "'201652'"
      ]
     },
     "execution_count": 5,
     "metadata": {},
     "output_type": "execute_result"
    }
   ],
   "source": [
    "preweek(201720,20)"
   ]
  },
  {
   "cell_type": "code",
   "execution_count": null,
   "metadata": {},
   "outputs": [],
   "source": []
  }
 ],
 "metadata": {
  "kernelspec": {
   "display_name": "Python 3",
   "language": "python",
   "name": "python3"
  },
  "language_info": {
   "codemirror_mode": {
    "name": "ipython",
    "version": 3
   },
   "file_extension": ".py",
   "mimetype": "text/x-python",
   "name": "python",
   "nbconvert_exporter": "python",
   "pygments_lexer": "ipython3",
   "version": "3.8.2"
  }
 },
 "nbformat": 4,
 "nbformat_minor": 4
}
