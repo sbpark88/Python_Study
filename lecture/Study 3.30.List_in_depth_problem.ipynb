{
 "cells": [
  {
   "cell_type": "markdown",
   "metadata": {},
   "source": [
    "# 몇 가지 심화문제\n"
   ]
  },
  {
   "cell_type": "markdown",
   "metadata": {},
   "source": [
    "### [문제1 난이도 2/10 - 이해 ] </br>\n",
    "\n",
    "\n",
    "scoreList = [70,60,55,75,95,90,80,80,85,100] </br>\n",
    "에서 평균구하는 문제를 for문 활용해서 풀어봅시다 </br>\n",
    "\n",
    "\n",
    "[힌트] </br>\n",
    "sum=0 </br> </br>\n",
    "\n",
    "sum = sum + scoreList[0] </br>\n",
    "sum = sum + scoreList[1] </br>\n",
    "sum = sum + scoreList[2] </br>\n",
    "sum = sum + scoreList[3] </br>\n",
    "......... </br>\n",
    "sum </br>\n",
    " </br>\n",
    "average = sum / len(scoreList) </br>\n",
    "average"
   ]
  },
  {
   "cell_type": "code",
   "execution_count": 7,
   "metadata": {},
   "outputs": [
    {
     "name": "stdout",
     "output_type": "stream",
     "text": [
      "평균은  79.0\n"
     ]
    }
   ],
   "source": [
    "scoreList = [70,60,55,75,95,90,80,80,85,100]\n",
    "\n",
    "scoreSum = 0\n",
    "scoreLength = len(scoreList)\n",
    "\n",
    "# 점수를 for문을 사용해 리스트 길이만큼 누적해서 합산.\n",
    "for i in range (0, scoreLength,):\n",
    "    scoreSum = scoreSum + scoreList[i]\n",
    "\n",
    "# 0으로 나누어지는 경우를 방지.\n",
    "if scoreLength != 0:\n",
    "    average = scoreSum / scoreLength\n",
    "    print(\"평균은 \",average)\n",
    "else:\n",
    "    print(\"리스트가 비어 있습니다.\")"
   ]
  },
  {
   "cell_type": "markdown",
   "metadata": {},
   "source": [
    "### [문제2 난이도 4/10 - 응용] </br>\n",
    "\n",
    "mathList = [20,20,40,40,30] </br>\n",
    "korList = [0,0,0,0,0] </br>\n",
    "musicList = [30,30,50,50,40] </br>\n",
    " </br>\n",
    "@ 중간고사 </br>\n",
    "midtermList = [ mathScore, koScore, musicScore ] </br>\n",
    "midtermList를  활용하여 전체 평균 및 각 과목별 평균을 출력하세요 </br>\n",
    " </br>\n",
    "[힌트] </br>\n",
    "@ 중간고사 및 과목별  총점 누적 변수 </br>\n",
    "totalSum = 0 </br>\n",
    "eachSum = 0 </br>\n",
    "#중간고사 리스트에서 각 과목 리스트 추출 </br>\n",
    "for i in range (0, len(midtermList) ): </br>\n",
    "    eachList = midtermList[i] </br>\n",
    "    # 각 과목 점수 리스트 계산 </br>\n",
    "    for j in range (0, len(eachList) ): </br>\n",
    " </br>\n",
    "mathAvg = 10 </br>\n",
    "korAvg = 10 </br>\n",
    "print( \" 수학점수: {} \\n 국어점수: {}  \". format(mathAvg, korAvg   ))"
   ]
  },
  {
   "cell_type": "code",
   "execution_count": 3,
   "metadata": {},
   "outputs": [
    {
     "name": "stdout",
     "output_type": "stream",
     "text": [
      "수학평균은 30.0\n",
      "국어평균은 0.0\n",
      "음악평균은 40.0\n",
      "전체평균은 23.333333333333332\n"
     ]
    }
   ],
   "source": [
    "# 각 리스트의 합은 그냥 sum() 함수를 이용. 딕셔너리 사용해보고 싶어서 딕셔너리 사용해봄.\n",
    "\n",
    "mathList = [20,20,40,40,30]\n",
    "korList = [0,0,0,0,0]\n",
    "musicList = [30,30,50,50,40]\n",
    "midtermList = [mathList, korList, musicList]\n",
    "\n",
    "midtermLength = len(midtermList)\n",
    "midtermAvg =[]    # 계산해서 담을 빈 평균 리스트 생성.\n",
    "\n",
    "for i in range(0,midtermLength,):\n",
    "    if len(midtermList[i]) == 0:    # 0으로 나누게 되는 경우를 방지.\n",
    "        midtermAvg.append(0)\n",
    "    else:    # midtermList의 i번째 리스트의 합을 그 길이로 나누어 madtermAvg 리스트에 과목 평균을 추가함.\n",
    "        midtermAvg.append((sum(midtermList[i]) / len(midtermList[i])))\n",
    "\n",
    "# 전체 평균 = 과목 평균의 합 / 과목의 수\n",
    "totalAvg = sum(midtermAvg) / midtermLength\n",
    "\n",
    "# 딕셔너리 생성. 생성 안 하고 그냥 바로 midtermAvg 리스트 인덱스 사용해도 되는데 그냥 만들어봄.\n",
    "scoreAvgDic = {\"수학평균\":midtermAvg[0],\"국어평균\":midtermAvg[1],\"음악평균\":midtermAvg[2],\"전체평균\":totalAvg}\n",
    "\n",
    "print(\"수학평균은 {}\\n\\\n",
    "국어평균은 {}\\n\\\n",
    "음악평균은 {}\\n\\\n",
    "전체평균은 {}\"\\\n",
    "      .format(scoreAvgDic[\"수학평균\"],scoreAvgDic[\"국어평균\"],scoreAvgDic[\"음악평균\"],scoreAvgDic[\"전체평균\"]))"
   ]
  },
  {
   "cell_type": "code",
   "execution_count": 4,
   "metadata": {},
   "outputs": [
    {
     "name": "stdout",
     "output_type": "stream",
     "text": [
      "수학평균은 30.0\n",
      "국어평균은 0.0\n",
      "음악평균은 40.0\n",
      "전체평균은 23.333333333333332\n"
     ]
    }
   ],
   "source": [
    "# 각 리스트의 합을 for문을 이용해 eachSum = eachSum + eachList[j]로 돌림. 결과적으로 이중 for문 사용.\n",
    "\n",
    "mathList = [20,20,40,40,30]\n",
    "korList = [0,0,0,0,0]\n",
    "musicList = [30,30,50,50,40]\n",
    "midtermList = [mathList, korList, musicList]\n",
    "\n",
    "totalSum = 0\n",
    "eachSum = 0\n",
    "midtermAvg = []    # 계산해서 담을 빈 평균 리스트 생성.\n",
    "\n",
    "for i in range(0,len(midtermList),):\n",
    "    eachList = midtermList[i]    # midtermList의 i번째 리스트를 eachList로 정의.\n",
    "    eachSum = 0    # 두 번째 j for문이 들어가기 전에 eachSum을 0으로 초기화.\n",
    "    for j in range(0,len(eachList),):\n",
    "        if len(eachList) == 0:    # 0으로 나누게 되는 경우를 방지.\n",
    "            midtermAvg.append(0)\n",
    "        else:    # j for문을 사용해 eachList의 값을 리스트 길이만큼 누적해서 합산.\n",
    "            eachSum = eachSum + eachList[j]  \n",
    "    # 두 번째 j for문이 끝나고 밖으로 나오면 i for문의 마지막에 j for문의 결과를 사용해 midterAvg 리스트에 과목 평균 추가함.\n",
    "    midtermAvg.append(eachSum / len(eachList))\n",
    "    \n",
    "# 전체 평균 = 과목 평균의 합 / 과목의 수\n",
    "totalAvg = sum(midtermAvg) / len(midtermList)\n",
    "\n",
    "print(\"수학평균은 {}\\n\\\n",
    "국어평균은 {}\\n\\\n",
    "음악평균은 {}\\n\\\n",
    "전체평균은 {}\"\\\n",
    "      .format(midtermAvg[0],midtermAvg[1],midtermAvg[2],totalAvg))"
   ]
  },
  {
   "cell_type": "markdown",
   "metadata": {},
   "source": [
    "### [문제3 난이도 4/10 - 응용 ] </br>\n",
    "\n",
    "kopo_customerdata.csv 의 \"TOTAL_AMOUNT\"  </br>\n",
    "컬럼 최대/최소값 모두 제외한 평균을 반복문을 활용하여 풀어봅시다."
   ]
  },
  {
   "cell_type": "code",
   "execution_count": 8,
   "metadata": {},
   "outputs": [
    {
     "data": {
      "text/plain": [
       "35218.95312635417"
      ]
     },
     "execution_count": 8,
     "metadata": {},
     "output_type": "execute_result"
    }
   ],
   "source": [
    "import pandas as pd \n",
    "customerData = pd.read_csv(\"/Users/saebyul/pywork/dataset/kopo_customerdata.csv\") \n",
    "customerTotalList = customerData[\"TOTAL_AMOUNT\"].tolist() \n",
    "\n",
    "# 리스트를 오름차순 정렬\n",
    "customerTotalList.sort()\n",
    "\n",
    "# 중복되는 최솟값, 최댓값을 리스트에서 제거\n",
    "customerTotalList.remove(min(customerTotalList))\n",
    "customerTotalList.remove(max(customerTotalList))\n",
    "\n",
    "# 중복되는 최솟값, 최댓값이 사라진 리스트의 평균을 구함\n",
    "customerLength = len(customerTotalList)\n",
    "customerSum = 0\n",
    "\n",
    "for i in range(0, customerLength,):\n",
    "    customerSum = customerSum + customerTotalList[i]\n",
    "\n",
    "if customerLength == 0:\n",
    "    average = 0\n",
    "else:\n",
    "    average = customerSum / customerLength\n",
    "average"
   ]
  },
  {
   "cell_type": "markdown",
   "metadata": {},
   "source": [
    "### [문제4 - 난이도 6/10  - 실전접근 ] </br>\n",
    "제품 담당자와 인터뷰를 해보니 </br>\n",
    "2018년도 이전 모델은 모델명 앞에 GA가 붙으면 </br>\n",
    "GAS건조기 EL이 붙으면 전기건조기로 붙는다고 하고 </br>\n",
    "2019년도 모델부터는 모델 끝2자리의 합이 짝수이면 </br>\n",
    "가스건조기 홀수이면 전기건조기라고 한다. </br>\n",
    " </br>\n",
    "다음 모델리스트에서 가스건조기는 \"GAS_\"를 전기건조기면\"ELEC_\"를 붙여보자! </br>\n",
    " </br>\n",
    "modelList =  </br>\n",
    "[\"2018_GAMODEL001\", </br>\n",
    " \"2016_GAMODEL002\", </br>\n",
    " \"2015_ELMODEL001\", </br>\n",
    " \"2020_MODEL041\", </br>\n",
    " \"2020_MODEL022\", </br>\n",
    " \"2020_MODEL027\", </br>\n",
    " \"2020_MODEL055\", </br>\n",
    " \"2020_MODEL023\"] </br>"
   ]
  },
  {
   "cell_type": "code",
   "execution_count": 1,
   "metadata": {},
   "outputs": [],
   "source": [
    "modelList = [\"2018_GAMODEL001\", \"2016_GAMODEL002\", \"2015_ELMODEL001\", \"2020_MODEL041\",\\\n",
    "              \"2020_MODEL022\", \"2020_MODEL027\", \"2020_MODEL055\", \"2020_MODEL023\"] \n",
    "\n",
    "splitter = \"_\"\n",
    "modelLength = len(modelList)\n",
    "splittedList = []\n",
    "preFixGas = \"GAS_\"\n",
    "preFixElec = \"ELEC_\""
   ]
  },
  {
   "cell_type": "code",
   "execution_count": 2,
   "metadata": {},
   "outputs": [
    {
     "data": {
      "text/plain": [
       "[['2018', 'GAMODEL001'],\n",
       " ['2016', 'GAMODEL002'],\n",
       " ['2015', 'ELMODEL001'],\n",
       " ['2020', 'MODEL041'],\n",
       " ['2020', 'MODEL022'],\n",
       " ['2020', 'MODEL027'],\n",
       " ['2020', 'MODEL055'],\n",
       " ['2020', 'MODEL023']]"
      ]
     },
     "execution_count": 2,
     "metadata": {},
     "output_type": "execute_result"
    }
   ],
   "source": [
    "# 리스트 자체를 split로 쪼갤 수 없다. 리스트의 인덱스 내의 문자열을 split로 쪼개야 하기 때문에,\n",
    "# 리스트 길이만큼 반복문 실행하여 년도와 모델명을 분리.\n",
    "for i in range(0,modelLength,):\n",
    "    splittedList.append(modelList[i].split(splitter))\n",
    "    \n",
    "splittedList    # 분리된 리스트 확인."
   ]
  },
  {
   "cell_type": "code",
   "execution_count": 3,
   "metadata": {},
   "outputs": [
    {
     "data": {
      "text/plain": [
       "[['2018', 'GAS_MODEL001'],\n",
       " ['2016', 'GAS_MODEL002'],\n",
       " ['2015', 'ELEC_MODELEC_001'],\n",
       " ['2020', 'ELEC_MODEL041'],\n",
       " ['2020', 'GAS_MODEL022'],\n",
       " ['2020', 'ELEC_MODEL027'],\n",
       " ['2020', 'GAS_MODEL055'],\n",
       " ['2020', 'ELEC_MODEL023']]"
      ]
     },
     "execution_count": 3,
     "metadata": {},
     "output_type": "execute_result"
    }
   ],
   "source": [
    "# 1. 2018년도 이전 모델의 리스트 찾기\n",
    "for i in range(0,modelLength,):\n",
    "    if splittedList[i][0] <= '2018':\n",
    "        # 2. GA로 시작하면 GAS_로 고치기, EL로 시작하면 ELEC_로 고치기\n",
    "        if splittedList[i][1][0:2] == 'GA':\n",
    "            splittedList[i][1] = splittedList[i][1].replace('GA','GAS_')\n",
    "        else:\n",
    "            splittedList[i][1] = splittedList[i][1].replace('EL','ELEC_')\n",
    "    # 3. 그 외의 년도(2019년도 이상) 모델의 리스트는 모델명 끝 2자리의 합이 짝수면 모델명 앞에 GAS_, 홀수면 ELEC_ 붙이기\n",
    "    else: # (모델넘버 끝에서 2번째 자릿수를 문자로 추출해 int 캐스팅 + 모델넘버 끝에서 1번째 자릿수를 문자로 추출해 int 캐스팅) % 2로 짝수 판단\n",
    "        if (int(splittedList[i][1][-2]) + int(splittedList[i][1][-1])) % 2 == 0:\n",
    "            splittedList[i][1] = preFixGas + splittedList[i][1]\n",
    "        else:\n",
    "            splittedList[i][1] = preFixElec + splittedList[i][1]\n",
    "            \n",
    "splittedList    # 정상적으로 모델명 수정되었는지 확인."
   ]
  },
  {
   "cell_type": "code",
   "execution_count": 4,
   "metadata": {},
   "outputs": [
    {
     "data": {
      "text/plain": [
       "['2018_GAS_MODEL001',\n",
       " '2016_GAS_MODEL002',\n",
       " '2015_ELEC_MODELEC_001',\n",
       " '2020_ELEC_MODEL041',\n",
       " '2020_GAS_MODEL022',\n",
       " '2020_ELEC_MODEL027',\n",
       " '2020_GAS_MODEL055',\n",
       " '2020_ELEC_MODEL023']"
      ]
     },
     "execution_count": 4,
     "metadata": {},
     "output_type": "execute_result"
    }
   ],
   "source": [
    "# 4. 모델명이 수정된 splittedList를 다시 modelList 형태로 합치기\n",
    "for i in range(0,modelLength,):\n",
    "    modelList[i] = splittedList[i][0] + splitter + splittedList[i][1]\n",
    "\n",
    "# 결과 확인\n",
    "modelList"
   ]
  }
 ],
 "metadata": {
  "kernelspec": {
   "display_name": "Python 3",
   "language": "python",
   "name": "python3"
  },
  "language_info": {
   "codemirror_mode": {
    "name": "ipython",
    "version": 3
   },
   "file_extension": ".py",
   "mimetype": "text/x-python",
   "name": "python",
   "nbconvert_exporter": "python",
   "pygments_lexer": "ipython3",
   "version": "3.8.2"
  }
 },
 "nbformat": 4,
 "nbformat_minor": 4
}
