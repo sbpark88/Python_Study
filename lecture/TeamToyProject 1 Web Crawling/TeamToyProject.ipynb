{
 "cells": [
  {
   "cell_type": "code",
   "execution_count": 3,
   "metadata": {},
   "outputs": [],
   "source": [
    "from PrintImport import PrintWebCrawling"
   ]
  },
  {
   "cell_type": "code",
   "execution_count": 4,
   "metadata": {},
   "outputs": [
    {
     "name": "stdout",
     "output_type": "stream",
     "text": [
      "import requests, bs4\n",
      "from selenium import webdriver\n",
      "from selenium.webdriver.common.keys import Keys\n",
      "driver_loc = \"/Applications/chromedriver\"\n",
      "\n",
      "options = webdriver.ChromeOptions()\n",
      "options.add_argument(\"window-size=1920x1080\")              # 대부분은 적용이 안 되는 것 같다.\n",
      "options.add_argument('headless')                           # 리눅스처럼 웹 화면 없는 경우에도 실행 가능.\n",
      "options.add_argument('disable-gpu')\n",
      "driver = webdriver.Chrome(driver_loc, options=options)\n",
      "driver.maximize_window()                                   # 이렇게 해주면 무조건 최대화 시킨다. 위에 픽셀보다 잘 먹힘.\n",
      "driver.implicitly_wait(3)                                  # 웹페이지 파싱 될 때까지 최대 3초 기다려줌.\n",
      "\n",
      "from selenium.webdriver.common.action_chains import ActionChains\n",
      "import time\n",
      "from selenium.webdriver.support import expected_conditions as EC\n",
      "from selenium.webdriver.common.by import By\n",
      "from selenium.webdriver.support.ui import WebDriverWait as wait\n",
      "\n",
      "from pandas.io.json import json_normalize                  # 그냥 pd.json_normalize를 사용하자.\n",
      "from lxml import html\n",
      "from urllib.request import Request, urlopen\n",
      "from urllib.parse import urlencode, quote_plus, unquote\n"
     ]
    }
   ],
   "source": [
    "PrintWebCrawling()"
   ]
  },
  {
   "cell_type": "code",
   "execution_count": 1,
   "metadata": {},
   "outputs": [],
   "source": [
    "import requests, bs4\n",
    "from selenium import webdriver\n",
    "from selenium.webdriver.common.keys import Keys\n",
    "driver_loc = \"./chromedriver\""
   ]
  },
  {
   "cell_type": "code",
   "execution_count": 2,
   "metadata": {},
   "outputs": [],
   "source": [
    "from selenium.webdriver.common.action_chains import ActionChains\n",
    "import time\n",
    "sleepTime = 3\n",
    "from selenium.webdriver.support import expected_conditions as EC\n",
    "from selenium.webdriver.common.by import By\n",
    "from selenium.webdriver.support.ui import WebDriverWait as wait"
   ]
  },
  {
   "cell_type": "code",
   "execution_count": 3,
   "metadata": {},
   "outputs": [],
   "source": [
    "options = webdriver.ChromeOptions()\n",
    "options.add_argument('windows-size = 1920x1080')             # 적용은 안 되지만 headless때 혹시라도 도움될까 싶어서...\n",
    "# options.add_argument('headless')                           # 리눅스처럼 웹 화면 없는 경우에도 실행 가능.\n",
    "# options.add_argument('disable-gpu')\n",
    "# options.add_argument(\"user-agent=Mozilla/5.0 (Macintosh; Intel Mac OS X 10_12_6) AppleWebKit/537.36 (KHTML, like Gecko) Chrome/61.0.3163.100 Safari/537.36\")\n",
    "\n",
    "driver = webdriver.Chrome(driver_loc, options=options)"
   ]
  },
  {
   "cell_type": "code",
   "execution_count": 4,
   "metadata": {},
   "outputs": [],
   "source": [
    "# 1. 홈페이지로 이동\n",
    "danawaUrl = 'http://danawa.com'\n",
    "driver.get(danawaUrl)"
   ]
  },
  {
   "cell_type": "code",
   "execution_count": 5,
   "metadata": {},
   "outputs": [],
   "source": [
    "# 2. 마우스 오버로 선택이 안 되고 클릭을 해야하기 때문에 분리. 메인 메뉴 클릭.\n",
    "mainMenu = '//*[@id=\"danawa_header\"]/div[2]/div/div[1]/a/span[2]'\n",
    "driver.find_element_by_xpath(mainMenu).click()\n",
    "time.sleep(sleepTime)"
   ]
  },
  {
   "cell_type": "code",
   "execution_count": 6,
   "metadata": {},
   "outputs": [],
   "source": [
    "# 3. 태블릿.모바일 > 스마트워치/밴드 클릭.\n",
    "subMenu = '//*[@id=\"sectionExplodeLayer\"]/div[1]/ul/li[3]/a'\n",
    "targetMenu = '//*[@id=\"categoryExplodeLayer12\"]/div[2]/div[2]/ul/li[1]/a'\n",
    "\n",
    "sub = driver.find_element_by_xpath(subMenu)\n",
    "target = driver.find_element_by_xpath(targetMenu)\n",
    "\n",
    "ActionChains(driver).move_to_element(sub).click(target).perform()\n",
    "time.sleep(sleepTime)"
   ]
  },
  {
   "cell_type": "code",
   "execution_count": 17,
   "metadata": {},
   "outputs": [],
   "source": [
    "# 4. 현재 페이지 소스 가져오기\n",
    "html = driver.page_source.encode('utf-8')\n",
    "\n",
    "bs = bs4.BeautifulSoup(html, 'html.parser')\n",
    "# bs"
   ]
  },
  {
   "cell_type": "code",
   "execution_count": 22,
   "metadata": {},
   "outputs": [],
   "source": [
    "# 상품명 구하기\n",
    "name = bs.select('div > div.prod_info > p > a')\n",
    "# name"
   ]
  },
  {
   "cell_type": "code",
   "execution_count": 57,
   "metadata": {},
   "outputs": [
    {
     "data": {
      "text/plain": [
       "'삼성전자 갤럭시 워치 46mm'"
      ]
     },
     "execution_count": 57,
     "metadata": {},
     "output_type": "execute_result"
    }
   ],
   "source": [
    "name[15].text.strip()    # 1 ~ 30 번까지 홈페이지 상품과 일치. 0번에는 14번 상품이 상품명이 조금 다르게 중복으로 들어가있음. (len(name) = 31)"
   ]
  },
  {
   "cell_type": "code",
   "execution_count": 58,
   "metadata": {},
   "outputs": [],
   "source": [
    "# 평점 구하기 / 별이 100분위로 나뉘어져있음. 4개 4.5개 5개 이런식이 아니라 점수가 93점이면 실제로 별 5칸을 100%로 두고 93%가 색칠된거임. 따라서 점수를 취득.\n",
    "rate = bs.select('div > div.prod_info > div.prod_sub_info > div > dl.meta_item.mt_comment > dd > div > div.point_num')\n",
    "# rate    # 마지막 30번 애플워치가 평점이나 상품평이 없어서 len 결과가 30으로 나옴. 실제로 0번은 의미 없는 데이터고, 1번부터 유효 데이터. 1 ~ 29번 상품과 일치. 30번은 데이터 없음."
   ]
  },
  {
   "cell_type": "code",
   "execution_count": 72,
   "metadata": {},
   "outputs": [
    {
     "data": {
      "text/plain": [
       "'93'"
      ]
     },
     "execution_count": 72,
     "metadata": {},
     "output_type": "execute_result"
    }
   ],
   "source": [
    "rate[1].text.replace('점','')"
   ]
  },
  {
   "cell_type": "code",
   "execution_count": 59,
   "metadata": {},
   "outputs": [],
   "source": [
    "# 상품평 건수 구하기\n",
    "review = bs.select('div > div.prod_info > div.prod_sub_info > div > dl.meta_item.mt_comment > dd > a > strong')\n",
    "# review    # 마지막 30번 애플워치가 평점이나 상품평이 없어서 len 결과가 30으로 나옴. 실제로 0번은 의미 없는 데이터고, 1번부터 유효 데이터. 1 ~ 29번 상품과 일치. 30번은 데이터 없음"
   ]
  },
  {
   "cell_type": "code",
   "execution_count": 63,
   "metadata": {},
   "outputs": [
    {
     "data": {
      "text/plain": [
       "'1274'"
      ]
     },
     "execution_count": 63,
     "metadata": {},
     "output_type": "execute_result"
    }
   ],
   "source": [
    "review[1].text.replace(',','')    # 천 단위 구분 기호 삭제처리."
   ]
  },
  {
   "cell_type": "code",
   "execution_count": 110,
   "metadata": {},
   "outputs": [
    {
     "data": {
      "text/plain": [
       "[['샤오미 미 밴드4', '93', '1274'],\n",
       " ['삼성전자 갤럭시 워치 액티브2 40mm 알루미늄 케이스', '97', '473'],\n",
       " ['삼성전자 갤럭시 워치 액티브2 44mm 스테인리스 스틸 케이스', '97', '330'],\n",
       " ['샤오미 화미 어메이즈핏 GTR 47mm', '94', '116'],\n",
       " ['삼성전자 갤럭시 워치 액티브', '96', '856'],\n",
       " ['샤오미 화미 어메이즈핏 GTS', '96', '242'],\n",
       " ['삼성전자 갤럭시 워치 액티브2 44mm 알루미늄 케이스', '96', '234'],\n",
       " ['삼성전자 갤럭시 핏', '94', '540'],\n",
       " ['APPLE 워치 시리즈5 44mm 스페이스 그레이 알루미늄 케이스', '98', '129'],\n",
       " ['샤오미 헬로우 스마트워치', '55', '106'],\n",
       " ['삼성전자 갤럭시 핏e', '89', '609'],\n",
       " ['삼성전자 갤럭시 워치 액티브2 40mm 스테인리스 스틸 케이스', '94', '120'],\n",
       " ['삼성전자 갤럭시 워치 액티브2 44mm 골프 에디션', '99', '129'],\n",
       " ['화웨이 워치 GT 2 46mm 클래식', '94', '84'],\n",
       " ['삼성전자 갤럭시 워치 46mm', '95', '1033'],\n",
       " ['APPLE 워치 시리즈5 44mm 실버 알루미늄 케이스', '98', '55'],\n",
       " ['화웨이 밴드 4', '85', '71'],\n",
       " ['APPLE 워치 시리즈5 40mm 스페이스 그레이 알루미늄 케이스', '95', '250'],\n",
       " ['APPLE 워치 시리즈5 40mm 실버 알루미늄 케이스', '95', '214'],\n",
       " ['샤오미 화미 어메이즈핏 빕 라이트', '90', '172'],\n",
       " ['프라임원 엑스핏 GTS', '76', '25'],\n",
       " ['APPLE 워치 시리즈5 나이키+ 44mm 스페이스 그레이 알루미늄 케이스', '92', '14'],\n",
       " ['핏빗 Charge 4', '96', '5'],\n",
       " ['APPLE 워치 시리즈5 44mm Cellular 스페이스 그레이 알루미늄 케이스', '100', '25'],\n",
       " ['삼성전자 갤럭시 워치 액티브2 40mm 골프 에디션', '95', '30'],\n",
       " ['샤오미 미 밴드3', '94', '5555'],\n",
       " ['샤오미 화미 어메이즈핏 T-Rex', '87', '3'],\n",
       " ['APPLE 워치 시리즈5 40mm 골드 알루미늄 케이스', '95', '212'],\n",
       " ['샤오미 화미 어메이즈핏 GTR 42mm', '98', '16'],\n",
       " ['APPLE 워치 시리즈5 40mm Cellular 골드 알루미늄 케이스', None, None]]"
      ]
     },
     "execution_count": 110,
     "metadata": {},
     "output_type": "execute_result"
    }
   ],
   "source": [
    "resultList = []\n",
    "\n",
    "nameLen = len(name)\n",
    "for i in range(1,nameLen):    # 0번에 리스트에 존재하지 않는 상품이 있음.\n",
    "    try:\n",
    "        eachName = name[i].text.strip()    # 상품명.\n",
    "    except Exception as e:\n",
    "        pass\n",
    "    try:\n",
    "        eachRate = rate[i].text.replace('점','')    # 평점.\n",
    "    except Exception as e:\n",
    "        pass\n",
    "    try:\n",
    "        eachReview = review[i].text.replace(',','')    # 상품평 건수.\n",
    "    except Exception as e:\n",
    "        pass\n",
    "    \n",
    "    resultList.append([eachName, eachRate, eachReview])\n",
    "    eachName = eachRate = eachReview = None    # None을 넣어야 맞는걸까? ''으로 넣어야 맞는걸까? None는 아예 값이 안 들어가고, '' 은 문자열이긴 한데 아무것도 없는 문자열로 들어간다.\n",
    "\n",
    "resultList    "
   ]
  },
  {
   "cell_type": "code",
   "execution_count": 14,
   "metadata": {},
   "outputs": [],
   "source": [
    "j = 0\n",
    "while(True):\n",
    "    try:\n",
    "        if ((j+1) % 10) == 0:      # 간격이 10이니까... 11 21 31 41\n",
    "            nextPage = driver.find_element_by_xpath('//*[@class=\"prod_num_nav\"]/div/a')\n",
    "            ActionChains(driver).move_to_element(nextPage).click().perform()\n",
    "        else:\n",
    "            nextPage = driver.find_element_by_xpath('//*[@class=\"prod_num_nav\"]/div/div/a[{}]'.format(j%10+1))\n",
    "            ActionChains(driver).move_to_element(nextPage).click().perform()\n",
    "        time.sleep(3)\n",
    "    except Exception as e:\n",
    "        break\n",
    "    j = j + 1"
   ]
  },
  {
   "cell_type": "code",
   "execution_count": 23,
   "metadata": {},
   "outputs": [
    {
     "name": "stdout",
     "output_type": "stream",
     "text": [
      "Message: no such element: Unable to locate element: {\"method\":\"xpath\",\"selector\":\"//*[@class=\"prod_num_nav\"]/div/div/a[2]\"}\n",
      "  (Session info: chrome=81.0.4044.138)\n",
      "\n"
     ]
    }
   ],
   "source": [
    "import requests, bs4\n",
    "from selenium import webdriver\n",
    "from selenium.webdriver.common.keys import Keys\n",
    "driver_loc = \"./chromedriver\"\n",
    "\n",
    "from selenium.webdriver.common.action_chains import ActionChains\n",
    "import time\n",
    "sleepTime = 1\n",
    "from selenium.webdriver.support import expected_conditions as EC\n",
    "from selenium.webdriver.common.by import By\n",
    "from selenium.webdriver.support.ui import WebDriverWait as wait\n",
    "\n",
    "options = webdriver.ChromeOptions()\n",
    "options.add_argument('windows-size = 1920x1080')             # 적용은 안 되지만 headless때 혹시라도 도움될까 싶어서...\n",
    "# options.add_argument('headless')                           # 리눅스처럼 웹 화면 없는 경우에도 실행 가능.\n",
    "# options.add_argument('disable-gpu')\n",
    "# options.add_argument(\"user-agent=Mozilla/5.0 (Macintosh; Intel Mac OS X 10_12_6) AppleWebKit/537.36 (KHTML, like Gecko) Chrome/61.0.3163.100 Safari/537.36\")\n",
    "\n",
    "driver = webdriver.Chrome(driver_loc, options=options)\n",
    "\n",
    "# 1. 홈페이지로 이동\n",
    "# danawaUrl = 'http://danawa.com'    # 랜덤한 시간에 광고가 떠서 확률적으로 메인 페이지에서 마우스가 이동해가며 누르면 광고를 누르고 들어가버린다...\n",
    "danawaUrl = 'http://prod.danawa.com/list/?cate=12228647'\n",
    "driver.get(danawaUrl)\n",
    "\n",
    "# # 2. 마우스 오버로 선택이 안 되고 클릭을 해야하기 때문에 분리. 메인 메뉴 클릭.\n",
    "# mainMenu = '//*[@id=\"danawa_header\"]/div[2]/div/div[1]/a/span[2]'\n",
    "# driver.find_element_by_xpath(mainMenu).click()\n",
    "# time.sleep(sleepTime)\n",
    "\n",
    "# # 3. 태블릿.모바일 > 스마트워치/밴드 클릭.\n",
    "# subMenu = '//*[@id=\"sectionExplodeLayer\"]/div[1]/ul/li[3]/a'\n",
    "# targetMenu = '//*[@id=\"categoryExplodeLayer12\"]/div[2]/div[2]/ul/li[1]/a'\n",
    "\n",
    "# sub = driver.find_element_by_xpath(subMenu)\n",
    "# target = driver.find_element_by_xpath(targetMenu)\n",
    "\n",
    "# ActionChains(driver).move_to_element(sub).click(target).perform()\n",
    "# time.sleep(sleepTime)\n",
    "\n",
    "resultList = []\n",
    "j = 1    # 페이지 정보.\n",
    "while(True):\n",
    "        \n",
    "    # 4. 현재 페이지 소스 가져오기.\n",
    "    html = driver.page_source.encode('utf-8')\n",
    "\n",
    "    bs = bs4.BeautifulSoup(html, 'html.parser')\n",
    "    # bs\n",
    "    \n",
    "    # 상품명 구하기\n",
    "    name = bs.select('div > div.prod_info > p > a')\n",
    "    \n",
    "    # 평점 구하기 / 별이 100분위로 나뉘어져있음. 4개 4.5개 5개 이런식이 아니라 점수가 93점이면 실제로 별 5칸을 100%로 두고 93%가 색칠된거임. 따라서 점수를 취득.\n",
    "    rate = bs.select('div > div.prod_info > div.prod_sub_info > div > dl.meta_item.mt_comment > dd > div > div.point_num')\n",
    "    # rate    # 마지막 30번 애플워치가 평점이나 상품평이 없어서 len 결과가 30으로 나옴. 실제로 0번은 의미 없는 데이터고, 1번부터 유효 데이터. 1 ~ 29번 상품과 일치. 30번은 데이터 없음.\n",
    "    \n",
    "    # 상품평 건수 구하기\n",
    "    review = bs.select('div > div.prod_info > div.prod_sub_info > div > dl.meta_item.mt_comment > dd > a > strong')\n",
    "\n",
    "    nameLen = len(name)\n",
    "    for i in range(0,nameLen):    # 0번에 리스트에 존재하지 않는 상품이 있음. (1페이지 한정) 에드리더가 뜨면 0번 상품이 잡히고 안 뜨면 이상하게 잡힌다...\n",
    "        if j == 1:\n",
    "            if i == 0:\n",
    "                continue          # 1페이지일 때 0번 리스트면 반복문을 다음으로 넘겨라.\n",
    "\n",
    "        # 상품명은 비어있는 데이터가 없지만, 평점이나 상품평 건수는 비어있는 데이터가 있다. 하지만 혹시 몰라 상품명도 모두 예외처리 함.\n",
    "        try:\n",
    "            eachName = name[i].text.strip()    # 상품명.\n",
    "        except Exception as e:\n",
    "            pass\n",
    "        try:\n",
    "            eachRate = rate[i].text.replace('점','')    # 평점.\n",
    "        except Exception as e:\n",
    "            pass\n",
    "        try:\n",
    "            eachReview = review[i].text.replace(',','')    # 상품평 건수.\n",
    "        except Exception as e:\n",
    "            pass\n",
    "        \n",
    "\n",
    "        resultList.append([eachName, eachRate, eachReview])\n",
    "        eachName = eachRate = eachReview = None    # None을 넣어야 맞는걸까? ''으로 넣어야 맞는걸까? None는 아예 값이 안 들어가고, '' 은 문자열이긴 한데 아무것도 없는 문자열로 들어간다.\n",
    "\n",
    "    # 5. 반복문 페이지 넘기기.\n",
    "    try:\n",
    "        if ((j+1) % 10) == 0:      # 간격이 10이니까... 11 21 31 41\n",
    "            nextPage = driver.find_element_by_xpath('//*[@class=\"prod_num_nav\"]/div/a')\n",
    "            ActionChains(driver).move_to_element(nextPage).click().perform()\n",
    "        else:\n",
    "            nextPage = driver.find_element_by_xpath('//*[@class=\"prod_num_nav\"]/div/div/a[{}]'.format(j%10+1))\n",
    "            ActionChains(driver).move_to_element(nextPage).click().perform()\n",
    "        time.sleep(sleepTime)\n",
    "    except Exception as e:\n",
    "        print(e)\n",
    "        break    \n",
    "        \n",
    "    j = j + 1    # 페이지 넘기기용 변수."
   ]
  },
  {
   "cell_type": "code",
   "execution_count": 24,
   "metadata": {},
   "outputs": [
    {
     "data": {
      "text/html": [
       "<div>\n",
       "<style scoped>\n",
       "    .dataframe tbody tr th:only-of-type {\n",
       "        vertical-align: middle;\n",
       "    }\n",
       "\n",
       "    .dataframe tbody tr th {\n",
       "        vertical-align: top;\n",
       "    }\n",
       "\n",
       "    .dataframe thead th {\n",
       "        text-align: right;\n",
       "    }\n",
       "</style>\n",
       "<table border=\"1\" class=\"dataframe\">\n",
       "  <thead>\n",
       "    <tr style=\"text-align: right;\">\n",
       "      <th></th>\n",
       "      <th>상품명</th>\n",
       "      <th>평점</th>\n",
       "      <th>평가수</th>\n",
       "    </tr>\n",
       "  </thead>\n",
       "  <tbody>\n",
       "    <tr>\n",
       "      <th>0</th>\n",
       "      <td>샤오미 미 밴드4</td>\n",
       "      <td>93</td>\n",
       "      <td>1274</td>\n",
       "    </tr>\n",
       "    <tr>\n",
       "      <th>1</th>\n",
       "      <td>삼성전자 갤럭시 워치 액티브2 40mm 알루미늄 케이스</td>\n",
       "      <td>97</td>\n",
       "      <td>473</td>\n",
       "    </tr>\n",
       "    <tr>\n",
       "      <th>2</th>\n",
       "      <td>삼성전자 갤럭시 워치 액티브2 44mm 스테인리스 스틸 케이스</td>\n",
       "      <td>97</td>\n",
       "      <td>330</td>\n",
       "    </tr>\n",
       "    <tr>\n",
       "      <th>3</th>\n",
       "      <td>샤오미 화미 어메이즈핏 GTR 47mm</td>\n",
       "      <td>94</td>\n",
       "      <td>116</td>\n",
       "    </tr>\n",
       "    <tr>\n",
       "      <th>4</th>\n",
       "      <td>삼성전자 갤럭시 워치 액티브</td>\n",
       "      <td>96</td>\n",
       "      <td>856</td>\n",
       "    </tr>\n",
       "    <tr>\n",
       "      <th>...</th>\n",
       "      <td>...</td>\n",
       "      <td>...</td>\n",
       "      <td>...</td>\n",
       "    </tr>\n",
       "    <tr>\n",
       "      <th>317</th>\n",
       "      <td>APPLE 워치 시리즈4 나이키+ 44mm Cellular 알루미늄 케이스</td>\n",
       "      <td>None</td>\n",
       "      <td>None</td>\n",
       "    </tr>\n",
       "    <tr>\n",
       "      <th>318</th>\n",
       "      <td>APPLE 워치 시리즈3 나이키+ 42mm 알루미늄 케이스</td>\n",
       "      <td>None</td>\n",
       "      <td>None</td>\n",
       "    </tr>\n",
       "    <tr>\n",
       "      <th>319</th>\n",
       "      <td>레노버 HW01</td>\n",
       "      <td>None</td>\n",
       "      <td>None</td>\n",
       "    </tr>\n",
       "    <tr>\n",
       "      <th>320</th>\n",
       "      <td>유니콘 SH-700T</td>\n",
       "      <td>None</td>\n",
       "      <td>None</td>\n",
       "    </tr>\n",
       "    <tr>\n",
       "      <th>321</th>\n",
       "      <td>삼성전자 기어S 3G</td>\n",
       "      <td>None</td>\n",
       "      <td>None</td>\n",
       "    </tr>\n",
       "  </tbody>\n",
       "</table>\n",
       "<p>322 rows × 3 columns</p>\n",
       "</div>"
      ],
      "text/plain": [
       "                                           상품명    평점   평가수\n",
       "0                                    샤오미 미 밴드4    93  1274\n",
       "1               삼성전자 갤럭시 워치 액티브2 40mm 알루미늄 케이스    97   473\n",
       "2           삼성전자 갤럭시 워치 액티브2 44mm 스테인리스 스틸 케이스    97   330\n",
       "3                        샤오미 화미 어메이즈핏 GTR 47mm    94   116\n",
       "4                              삼성전자 갤럭시 워치 액티브    96   856\n",
       "..                                         ...   ...   ...\n",
       "317  APPLE 워치 시리즈4 나이키+ 44mm Cellular 알루미늄 케이스  None  None\n",
       "318           APPLE 워치 시리즈3 나이키+ 42mm 알루미늄 케이스  None  None\n",
       "319                                   레노버 HW01  None  None\n",
       "320                                유니콘 SH-700T  None  None\n",
       "321                                삼성전자 기어S 3G  None  None\n",
       "\n",
       "[322 rows x 3 columns]"
      ]
     },
     "execution_count": 24,
     "metadata": {},
     "output_type": "execute_result"
    }
   ],
   "source": [
    "import pandas as pd\n",
    "\n",
    "resultDF = pd.DataFrame(resultList, columns=['상품명','평점','평가수'])\n",
    "resultDF"
   ]
  },
  {
   "cell_type": "code",
   "execution_count": 25,
   "metadata": {},
   "outputs": [],
   "source": [
    "resultDF.to_csv('test.csv', index=False)"
   ]
  },
  {
   "cell_type": "code",
   "execution_count": null,
   "metadata": {},
   "outputs": [],
   "source": []
  },
  {
   "cell_type": "markdown",
   "metadata": {},
   "source": [
    "### 마무리"
   ]
  },
  {
   "cell_type": "code",
   "execution_count": 40,
   "metadata": {},
   "outputs": [
    {
     "name": "stdout",
     "output_type": "stream",
     "text": [
      "Message: no such element: Unable to locate element: {\"method\":\"xpath\",\"selector\":\"//*[@class=\"prod_num_nav\"]/div/div/a[2]\"}\n",
      "  (Session info: chrome=81.0.4044.138)\n",
      "\n"
     ]
    }
   ],
   "source": [
    "import requests, bs4\n",
    "from selenium import webdriver\n",
    "from selenium.webdriver.common.keys import Keys\n",
    "driver_loc = \"./chromedriver\"\n",
    "\n",
    "from selenium.webdriver.common.action_chains import ActionChains\n",
    "import time\n",
    "sleepTime = 1\n",
    "from selenium.webdriver.support import expected_conditions as EC\n",
    "from selenium.webdriver.common.by import By\n",
    "from selenium.webdriver.support.ui import WebDriverWait as wait\n",
    "\n",
    "options = webdriver.ChromeOptions()\n",
    "options.add_argument('windows-size = 1920x1080')             # 적용은 안 되지만 headless때 혹시라도 도움될까 싶어서...\n",
    "# options.add_argument('headless')                           # 리눅스처럼 웹 화면 없는 경우에도 실행 가능.\n",
    "# options.add_argument('disable-gpu')\n",
    "# options.add_argument(\"user-agent=Mozilla/5.0 (Macintosh; Intel Mac OS X 10_12_6) AppleWebKit/537.36 (KHTML, like Gecko) Chrome/61.0.3163.100 Safari/537.36\")\n",
    "\n",
    "driver = webdriver.Chrome(driver_loc, options=options)\n",
    "\n",
    "# 1. 홈페이지로 이동\n",
    "# danawaUrl = 'http://danawa.com'    # 랜덤한 시간에 광고가 랜덤한 위치로 떠서 확률적으로 메인 페이지에서 마우스가 이동해가며 누르면 광고를 누르고 들어가버린다...\n",
    "                                     # 특히 크롤링을 반복하면 해당 브라우저에서는 확률이 더 올라가는 것 같음.\n",
    "danawaUrl = 'http://prod.danawa.com/list/?cate=12228647'\n",
    "driver.get(danawaUrl)\n",
    "\n",
    "# # 2. 마우스 오버로 선택이 안 되고 클릭을 해야하기 때문에 분리. 메인 메뉴 클릭.\n",
    "# mainMenu = '//*[@id=\"danawa_header\"]/div[2]/div/div[1]/a/span[2]'\n",
    "# driver.find_element_by_xpath(mainMenu).click()\n",
    "# time.sleep(sleepTime)\n",
    "\n",
    "# # 3. 태블릿.모바일 > 스마트워치/밴드 클릭.\n",
    "# subMenu = '//*[@id=\"sectionExplodeLayer\"]/div[1]/ul/li[3]/a'\n",
    "# targetMenu = '//*[@id=\"categoryExplodeLayer12\"]/div[2]/div[2]/ul/li[1]/a'\n",
    "\n",
    "# sub = driver.find_element_by_xpath(subMenu)\n",
    "# target = driver.find_element_by_xpath(targetMenu)\n",
    "\n",
    "# ActionChains(driver).move_to_element(sub).click(target).perform()\n",
    "# time.sleep(sleepTime)\n",
    "\n",
    "resultList = []\n",
    "j = 1    # 페이지 정보.\n",
    "while(True):\n",
    "        \n",
    "    # 4. 현재 페이지 소스 가져오기.\n",
    "    html = driver.page_source.encode('utf-8')\n",
    "\n",
    "    bs = bs4.BeautifulSoup(html, 'html.parser')\n",
    "    # bs\n",
    "    \n",
    "    # 상품명 구하기\n",
    "    name = bs.select('div > div.prod_info > p > a')\n",
    "    \n",
    "    # 평점 구하기 / 별이 100분위로 나뉘어져있음. 4개 4.5개 5개 이런식이 아니라 점수가 93점이면 실제로 별 5칸을 100%로 두고 93%가 색칠된거임. 따라서 점수를 취득.\n",
    "    rate = bs.select('div > div.prod_info > div.prod_sub_info > div > dl.meta_item.mt_comment > dd > div > div.point_num')\n",
    "    # rate    # 마지막 30번 애플워치가 평점이나 상품평이 없어서 len 결과가 30으로 나옴. 실제로 0번은 의미 없는 데이터고, 1번부터 유효 데이터. 1 ~ 29번 상품과 일치. 30번은 데이터 없음.\n",
    "    \n",
    "    # 상품평 건수 구하기\n",
    "    review = bs.select('div > div.prod_info > div.prod_sub_info > div > dl.meta_item.mt_comment > dd > a > strong')\n",
    "\n",
    "    nameLen = len(name)\n",
    "    for i in range(0,nameLen):    # 0번에 리스트에 존재하지 않는 상품이 있음. (1페이지 한정) 에드리더가 뜨면 0번 상품이 잡히고 안 뜨면 이상하게 잡힌다...\n",
    "        if j == 1:\n",
    "            if i == 0:\n",
    "                continue          # 1페이지일 때 0번 리스트면 반복문을 다음으로 넘겨라.\n",
    "\n",
    "        # 상품명은 비어있는 데이터가 없지만, 평점이나 상품평 건수는 비어있는 데이터가 있다. 하지만 혹시 몰라 상품명도 모두 예외처리 함.\n",
    "        try:\n",
    "            eachName = name[i].text.strip()    # 상품명.\n",
    "        except Exception as e:\n",
    "            pass\n",
    "        try:\n",
    "            eachRate = rate[i].text.replace('점','')    # 평점.\n",
    "        except Exception as e:\n",
    "            pass\n",
    "        try:\n",
    "            eachReview = review[i].text.replace(',','')    # 상품평 건수.\n",
    "        except Exception as e:\n",
    "            pass\n",
    "        \n",
    "\n",
    "        resultList.append([eachName, eachRate, eachReview])\n",
    "#         eachName = eachRate = eachReview = None    # None을 넣어야 맞는걸까? ''으로 넣어야 맞는걸까? None는 아예 값이 안 들어가고, '' 은 문자열이긴 한데 아무것도 없는 문자열로 들어간다.\n",
    "        eachName = eachRate = eachReview = ''\n",
    "        \n",
    "    # 5. 반복문 페이지 넘기기.\n",
    "    try:\n",
    "        if ((j+1) % 10) == 0:      # 간격이 10이니까... 11 21 31 41\n",
    "            nextPage = driver.find_element_by_xpath('//*[@class=\"prod_num_nav\"]/div/a')\n",
    "            ActionChains(driver).move_to_element(nextPage).click().perform()\n",
    "        else:\n",
    "            nextPage = driver.find_element_by_xpath('//*[@class=\"prod_num_nav\"]/div/div/a[{}]'.format(j%10+1))\n",
    "            ActionChains(driver).move_to_element(nextPage).click().perform()\n",
    "        time.sleep(sleepTime)\n",
    "    except Exception as e:\n",
    "        print(e)\n",
    "        break    \n",
    "        \n",
    "    j = j + 1    # 페이지 넘기기용 변수."
   ]
  },
  {
   "cell_type": "code",
   "execution_count": 41,
   "metadata": {},
   "outputs": [
    {
     "data": {
      "text/html": [
       "<div>\n",
       "<style scoped>\n",
       "    .dataframe tbody tr th:only-of-type {\n",
       "        vertical-align: middle;\n",
       "    }\n",
       "\n",
       "    .dataframe tbody tr th {\n",
       "        vertical-align: top;\n",
       "    }\n",
       "\n",
       "    .dataframe thead th {\n",
       "        text-align: right;\n",
       "    }\n",
       "</style>\n",
       "<table border=\"1\" class=\"dataframe\">\n",
       "  <thead>\n",
       "    <tr style=\"text-align: right;\">\n",
       "      <th></th>\n",
       "      <th>상품명</th>\n",
       "      <th>평점</th>\n",
       "      <th>평가수</th>\n",
       "    </tr>\n",
       "  </thead>\n",
       "  <tbody>\n",
       "    <tr>\n",
       "      <th>0</th>\n",
       "      <td>샤오미 미 밴드4</td>\n",
       "      <td>93</td>\n",
       "      <td>1274</td>\n",
       "    </tr>\n",
       "    <tr>\n",
       "      <th>1</th>\n",
       "      <td>삼성전자 갤럭시 워치 액티브2 40mm 알루미늄 케이스</td>\n",
       "      <td>97</td>\n",
       "      <td>473</td>\n",
       "    </tr>\n",
       "    <tr>\n",
       "      <th>2</th>\n",
       "      <td>삼성전자 갤럭시 워치 액티브2 44mm 스테인리스 스틸 케이스</td>\n",
       "      <td>97</td>\n",
       "      <td>330</td>\n",
       "    </tr>\n",
       "    <tr>\n",
       "      <th>3</th>\n",
       "      <td>샤오미 화미 어메이즈핏 GTR 47mm</td>\n",
       "      <td>94</td>\n",
       "      <td>116</td>\n",
       "    </tr>\n",
       "    <tr>\n",
       "      <th>4</th>\n",
       "      <td>삼성전자 갤럭시 워치 액티브</td>\n",
       "      <td>96</td>\n",
       "      <td>856</td>\n",
       "    </tr>\n",
       "    <tr>\n",
       "      <th>...</th>\n",
       "      <td>...</td>\n",
       "      <td>...</td>\n",
       "      <td>...</td>\n",
       "    </tr>\n",
       "    <tr>\n",
       "      <th>317</th>\n",
       "      <td>APPLE 워치 시리즈4 나이키+ 44mm Cellular 알루미늄 케이스</td>\n",
       "      <td></td>\n",
       "      <td></td>\n",
       "    </tr>\n",
       "    <tr>\n",
       "      <th>318</th>\n",
       "      <td>APPLE 워치 시리즈3 나이키+ 42mm 알루미늄 케이스</td>\n",
       "      <td></td>\n",
       "      <td></td>\n",
       "    </tr>\n",
       "    <tr>\n",
       "      <th>319</th>\n",
       "      <td>레노버 HW01</td>\n",
       "      <td></td>\n",
       "      <td></td>\n",
       "    </tr>\n",
       "    <tr>\n",
       "      <th>320</th>\n",
       "      <td>유니콘 SH-700T</td>\n",
       "      <td></td>\n",
       "      <td></td>\n",
       "    </tr>\n",
       "    <tr>\n",
       "      <th>321</th>\n",
       "      <td>삼성전자 기어S 3G</td>\n",
       "      <td></td>\n",
       "      <td></td>\n",
       "    </tr>\n",
       "  </tbody>\n",
       "</table>\n",
       "<p>322 rows × 3 columns</p>\n",
       "</div>"
      ],
      "text/plain": [
       "                                           상품명  평점   평가수\n",
       "0                                    샤오미 미 밴드4  93  1274\n",
       "1               삼성전자 갤럭시 워치 액티브2 40mm 알루미늄 케이스  97   473\n",
       "2           삼성전자 갤럭시 워치 액티브2 44mm 스테인리스 스틸 케이스  97   330\n",
       "3                        샤오미 화미 어메이즈핏 GTR 47mm  94   116\n",
       "4                              삼성전자 갤럭시 워치 액티브  96   856\n",
       "..                                         ...  ..   ...\n",
       "317  APPLE 워치 시리즈4 나이키+ 44mm Cellular 알루미늄 케이스          \n",
       "318           APPLE 워치 시리즈3 나이키+ 42mm 알루미늄 케이스          \n",
       "319                                   레노버 HW01          \n",
       "320                                유니콘 SH-700T          \n",
       "321                                삼성전자 기어S 3G          \n",
       "\n",
       "[322 rows x 3 columns]"
      ]
     },
     "execution_count": 41,
     "metadata": {},
     "output_type": "execute_result"
    }
   ],
   "source": [
    "import pandas as pd\n",
    "\n",
    "resultDF = pd.DataFrame(resultList, columns=['상품명','평점','평가수'])\n",
    "resultDF"
   ]
  },
  {
   "cell_type": "code",
   "execution_count": 42,
   "metadata": {},
   "outputs": [],
   "source": [
    "resultDF.to_csv('smartWatchUserRate.csv', index=False)"
   ]
  },
  {
   "cell_type": "code",
   "execution_count": 43,
   "metadata": {},
   "outputs": [
    {
     "data": {
      "text/plain": [
       "0                                      샤오미 미 밴드4\n",
       "1                 삼성전자 갤럭시 워치 액티브2 40mm 알루미늄 케이스\n",
       "2             삼성전자 갤럭시 워치 액티브2 44mm 스테인리스 스틸 케이스\n",
       "3                          샤오미 화미 어메이즈핏 GTR 47mm\n",
       "4                                삼성전자 갤럭시 워치 액티브\n",
       "                         ...                    \n",
       "317    APPLE 워치 시리즈4 나이키+ 44mm Cellular 알루미늄 케이스\n",
       "318             APPLE 워치 시리즈3 나이키+ 42mm 알루미늄 케이스\n",
       "319                                     레노버 HW01\n",
       "320                                  유니콘 SH-700T\n",
       "321                                  삼성전자 기어S 3G\n",
       "Name: 상품명, Length: 322, dtype: object"
      ]
     },
     "execution_count": 43,
     "metadata": {},
     "output_type": "execute_result"
    }
   ],
   "source": [
    "resultDF['상품명']"
   ]
  },
  {
   "cell_type": "code",
   "execution_count": 44,
   "metadata": {},
   "outputs": [],
   "source": [
    "# 아마존은...... 상품명을..... 워치가 애플처럼 개별 코드명이 있지 않으면 모든 데이터를 수작업으로 비교해서 매칭시켜줘야한다... 한글 상품명이라...효율이 떨어질 듯"
   ]
  },
  {
   "cell_type": "code",
   "execution_count": 45,
   "metadata": {},
   "outputs": [
    {
     "data": {
      "text/html": [
       "<div>\n",
       "<style scoped>\n",
       "    .dataframe tbody tr th:only-of-type {\n",
       "        vertical-align: middle;\n",
       "    }\n",
       "\n",
       "    .dataframe tbody tr th {\n",
       "        vertical-align: top;\n",
       "    }\n",
       "\n",
       "    .dataframe thead th {\n",
       "        text-align: right;\n",
       "    }\n",
       "</style>\n",
       "<table border=\"1\" class=\"dataframe\">\n",
       "  <thead>\n",
       "    <tr style=\"text-align: right;\">\n",
       "      <th></th>\n",
       "      <th>상품명</th>\n",
       "    </tr>\n",
       "  </thead>\n",
       "  <tbody>\n",
       "    <tr>\n",
       "      <th>0</th>\n",
       "      <td>샤오미 미 밴드4</td>\n",
       "    </tr>\n",
       "    <tr>\n",
       "      <th>1</th>\n",
       "      <td>삼성전자 갤럭시 워치 액티브2 40mm 알루미늄 케이스</td>\n",
       "    </tr>\n",
       "    <tr>\n",
       "      <th>2</th>\n",
       "      <td>삼성전자 갤럭시 워치 액티브2 44mm 스테인리스 스틸 케이스</td>\n",
       "    </tr>\n",
       "    <tr>\n",
       "      <th>3</th>\n",
       "      <td>샤오미 화미 어메이즈핏 GTR 47mm</td>\n",
       "    </tr>\n",
       "    <tr>\n",
       "      <th>4</th>\n",
       "      <td>삼성전자 갤럭시 워치 액티브</td>\n",
       "    </tr>\n",
       "    <tr>\n",
       "      <th>...</th>\n",
       "      <td>...</td>\n",
       "    </tr>\n",
       "    <tr>\n",
       "      <th>291</th>\n",
       "      <td>APPLE 워치 시리즈4 나이키+ 44mm Cellular 알루미늄 케이스</td>\n",
       "    </tr>\n",
       "    <tr>\n",
       "      <th>292</th>\n",
       "      <td>APPLE 워치 시리즈3 나이키+ 42mm 알루미늄 케이스</td>\n",
       "    </tr>\n",
       "    <tr>\n",
       "      <th>293</th>\n",
       "      <td>레노버 HW01</td>\n",
       "    </tr>\n",
       "    <tr>\n",
       "      <th>294</th>\n",
       "      <td>유니콘 SH-700T</td>\n",
       "    </tr>\n",
       "    <tr>\n",
       "      <th>295</th>\n",
       "      <td>삼성전자 기어S 3G</td>\n",
       "    </tr>\n",
       "  </tbody>\n",
       "</table>\n",
       "<p>296 rows × 1 columns</p>\n",
       "</div>"
      ],
      "text/plain": [
       "                                           상품명\n",
       "0                                    샤오미 미 밴드4\n",
       "1               삼성전자 갤럭시 워치 액티브2 40mm 알루미늄 케이스\n",
       "2           삼성전자 갤럭시 워치 액티브2 44mm 스테인리스 스틸 케이스\n",
       "3                        샤오미 화미 어메이즈핏 GTR 47mm\n",
       "4                              삼성전자 갤럭시 워치 액티브\n",
       "..                                         ...\n",
       "291  APPLE 워치 시리즈4 나이키+ 44mm Cellular 알루미늄 케이스\n",
       "292           APPLE 워치 시리즈3 나이키+ 42mm 알루미늄 케이스\n",
       "293                                   레노버 HW01\n",
       "294                                유니콘 SH-700T\n",
       "295                                삼성전자 기어S 3G\n",
       "\n",
       "[296 rows x 1 columns]"
      ]
     },
     "execution_count": 45,
     "metadata": {},
     "output_type": "execute_result"
    }
   ],
   "source": [
    "resultDF.loc[:,['상품명']].drop_duplicates()    # 중복 제거 해봤자 몇 개 안 없어진다."
   ]
  },
  {
   "cell_type": "code",
   "execution_count": 46,
   "metadata": {},
   "outputs": [],
   "source": [
    "# 모델명으로 조회를 해보려 하였으나... 커뮤니티에서 그에 해당하는 정확한 데이터 정보와 매칭을 시키려면...\n",
    "# 상품명의 띄워쓰기, 오타, 애칭, 한글 영어 섞어 쓰기 등 모든 것들을 분석해야한다... 이건... 수작업 처리가 아니라 빅데이터 학습으로 가야할 것 같은데?"
   ]
  },
  {
   "cell_type": "code",
   "execution_count": 47,
   "metadata": {},
   "outputs": [],
   "source": [
    "# 에누리쪽 평점이랑 합쳐보고 싶은데... 상품명이 다르다....."
   ]
  },
  {
   "cell_type": "code",
   "execution_count": null,
   "metadata": {},
   "outputs": [],
   "source": [
    "resultDF.loc[resultDF.평가수.astype(int) > 200]   # 상품평 수가 많은 것들을 조회해보려 했는데 처리가 안 되네... 반복문 돌려야 할 듯..."
   ]
  },
  {
   "cell_type": "code",
   "execution_count": null,
   "metadata": {},
   "outputs": [],
   "source": []
  },
  {
   "cell_type": "code",
   "execution_count": 1,
   "metadata": {},
   "outputs": [],
   "source": [
    "import requests, bs4\n",
    "from selenium import webdriver\n",
    "from selenium.webdriver.common.keys import Keys\n",
    "driver_loc = \"./chromedriver\"\n",
    "\n",
    "from selenium.webdriver.common.action_chains import ActionChains\n",
    "import time\n",
    "sleepTime = 1\n",
    "from selenium.webdriver.support import expected_conditions as EC\n",
    "from selenium.webdriver.common.by import By\n",
    "from selenium.webdriver.support.ui import WebDriverWait as wait\n",
    "\n",
    "options = webdriver.ChromeOptions()\n",
    "options.add_argument('windows-size = 1920x1080')             # 적용은 안 되지만 headless때 혹시라도 도움될까 싶어서...\n",
    "# options.add_argument('headless')                           # 리눅스처럼 웹 화면 없는 경우에도 실행 가능.\n",
    "# options.add_argument('disable-gpu')\n",
    "# options.add_argument(\"user-agent=Mozilla/5.0 (Macintosh; Intel Mac OS X 10_12_6) AppleWebKit/537.36 (KHTML, like Gecko) Chrome/61.0.3163.100 Safari/537.36\")\n",
    "\n",
    "driver = webdriver.Chrome(driver_loc, options=options)\n",
    "\n",
    "# 1. 홈페이지로 이동\n",
    "# danawaUrl = 'http://danawa.com'    # 랜덤한 시간에 광고가 랜덤한 위치로 떠서 확률적으로 메인 페이지에서 마우스가 이동해가며 누르면 광고를 누르고 들어가버린다...\n",
    "danawaUrl = 'http://prod.danawa.com/list/?cate=12228647'\n",
    "driver.get(danawaUrl)"
   ]
  },
  {
   "cell_type": "code",
   "execution_count": 2,
   "metadata": {},
   "outputs": [],
   "source": [
    "target = '//*[@id=\"dlMaker_simple\"]/dd/div[2]/button[1]'\n",
    "driver.find_element_by_xpath(target).click()\n",
    "time.sleep(sleepTime)"
   ]
  },
  {
   "cell_type": "code",
   "execution_count": 3,
   "metadata": {},
   "outputs": [],
   "source": [
    "html = driver.page_source.encode('utf-8')\n",
    "bs = bs4.BeautifulSoup(html, 'html.parser')"
   ]
  },
  {
   "cell_type": "markdown",
   "metadata": {},
   "source": [
    "### 수업 때 배운 범위 좁히기 하위분류로는 분류가 안 되고 에러가 발생함."
   ]
  },
  {
   "cell_type": "code",
   "execution_count": 4,
   "metadata": {},
   "outputs": [],
   "source": [
    "ulTags = bs.find_all(name = 'ul', attrs = {'id':'selectMaker_simple_priceCompare_A'})\n",
    "# ulTags"
   ]
  },
  {
   "cell_type": "code",
   "execution_count": 5,
   "metadata": {},
   "outputs": [
    {
     "ename": "AttributeError",
     "evalue": "ResultSet object has no attribute 'find_all'. You're probably treating a list of elements like a single element. Did you call find_all() when you meant to call find()?",
     "output_type": "error",
     "traceback": [
      "\u001b[0;31m---------------------------------------------------------------------------\u001b[0m",
      "\u001b[0;31mAttributeError\u001b[0m                            Traceback (most recent call last)",
      "\u001b[0;32m<ipython-input-5-db75c8049fa1>\u001b[0m in \u001b[0;36m<module>\u001b[0;34m\u001b[0m\n\u001b[0;32m----> 1\u001b[0;31m \u001b[0mlabelTags\u001b[0m \u001b[0;34m=\u001b[0m \u001b[0mulTags\u001b[0m\u001b[0;34m.\u001b[0m\u001b[0mfind_all\u001b[0m\u001b[0;34m(\u001b[0m\u001b[0mname\u001b[0m \u001b[0;34m=\u001b[0m \u001b[0;34m'label'\u001b[0m\u001b[0;34m)\u001b[0m\u001b[0;34m\u001b[0m\u001b[0;34m\u001b[0m\u001b[0m\n\u001b[0m",
      "\u001b[0;32m/Library/Frameworks/Python.framework/Versions/3.8/lib/python3.8/site-packages/bs4/element.py\u001b[0m in \u001b[0;36m__getattr__\u001b[0;34m(self, key)\u001b[0m\n\u001b[1;32m   2125\u001b[0m     \u001b[0;32mdef\u001b[0m \u001b[0m__getattr__\u001b[0m\u001b[0;34m(\u001b[0m\u001b[0mself\u001b[0m\u001b[0;34m,\u001b[0m \u001b[0mkey\u001b[0m\u001b[0;34m)\u001b[0m\u001b[0;34m:\u001b[0m\u001b[0;34m\u001b[0m\u001b[0;34m\u001b[0m\u001b[0m\n\u001b[1;32m   2126\u001b[0m         \u001b[0;34m\"\"\"Raise a helpful exception to explain a common code fix.\"\"\"\u001b[0m\u001b[0;34m\u001b[0m\u001b[0;34m\u001b[0m\u001b[0m\n\u001b[0;32m-> 2127\u001b[0;31m         raise AttributeError(\n\u001b[0m\u001b[1;32m   2128\u001b[0m             \u001b[0;34m\"ResultSet object has no attribute '%s'. You're probably treating a list of elements like a single element. Did you call find_all() when you meant to call find()?\"\u001b[0m \u001b[0;34m%\u001b[0m \u001b[0mkey\u001b[0m\u001b[0;34m\u001b[0m\u001b[0;34m\u001b[0m\u001b[0m\n\u001b[1;32m   2129\u001b[0m         )\n",
      "\u001b[0;31mAttributeError\u001b[0m: ResultSet object has no attribute 'find_all'. You're probably treating a list of elements like a single element. Did you call find_all() when you meant to call find()?"
     ]
    }
   ],
   "source": [
    "labelTags = ulTags.find_all(name = 'label')"
   ]
  },
  {
   "cell_type": "markdown",
   "metadata": {},
   "source": [
    "### 그래서 바로 label을 찾았더니 상세 검색이 아닌 상단의 5개 제조사만 나타남."
   ]
  },
  {
   "cell_type": "code",
   "execution_count": 6,
   "metadata": {},
   "outputs": [],
   "source": [
    "manufac = bs.find_all(name = 'label')"
   ]
  },
  {
   "cell_type": "code",
   "execution_count": 7,
   "metadata": {},
   "outputs": [
    {
     "data": {
      "text/plain": [
       "'label'"
      ]
     },
     "execution_count": 7,
     "metadata": {},
     "output_type": "execute_result"
    }
   ],
   "source": [
    "manufac[1].name"
   ]
  },
  {
   "cell_type": "code",
   "execution_count": 8,
   "metadata": {},
   "outputs": [
    {
     "data": {
      "text/plain": [
       "'샤오미'"
      ]
     },
     "execution_count": 8,
     "metadata": {},
     "output_type": "execute_result"
    }
   ],
   "source": [
    "manufac[1].text.strip()"
   ]
  },
  {
   "cell_type": "code",
   "execution_count": 9,
   "metadata": {},
   "outputs": [
    {
     "data": {
      "text/plain": [
       "{'title': 'APPLE'}"
      ]
     },
     "execution_count": 9,
     "metadata": {},
     "output_type": "execute_result"
    }
   ],
   "source": [
    "manufac[2].attrs"
   ]
  },
  {
   "cell_type": "code",
   "execution_count": 10,
   "metadata": {},
   "outputs": [
    {
     "data": {
      "text/plain": [
       "'화웨이'"
      ]
     },
     "execution_count": 10,
     "metadata": {},
     "output_type": "execute_result"
    }
   ],
   "source": [
    "manufac[4].attrs['title']    # 이건 더보기 하기 전 위에꺼만..."
   ]
  },
  {
   "cell_type": "markdown",
   "metadata": {},
   "source": [
    "### 그래서 다른 방법 시도"
   ]
  },
  {
   "cell_type": "code",
   "execution_count": 11,
   "metadata": {},
   "outputs": [
    {
     "data": {
      "text/plain": [
       "[<label title=\"나이키\"> <input data-attribute-name=\"제조사\" id=\"searchMaker27244\" name=\"searchMaker[]\" onclick=\"javascript:equalCheckSearchOption(this, 'searchMaker', ''); getProductList(1);\" type=\"checkbox\" value=\"27244\"/> 나이키\t</label>]"
      ]
     },
     "execution_count": 11,
     "metadata": {},
     "output_type": "execute_result"
    }
   ],
   "source": [
    "manufacturer = bs.select('#selectMaker_simple_priceCompare_A > li:nth-child(1) > label')\n",
    "manufacturer"
   ]
  },
  {
   "cell_type": "code",
   "execution_count": 12,
   "metadata": {},
   "outputs": [
    {
     "data": {
      "text/plain": [
       "[<label title=\"네이버랩스\"> <input data-attribute-name=\"제조사\" id=\"searchMaker115337\" name=\"searchMaker[]\" onclick=\"javascript:equalCheckSearchOption(this, 'searchMaker', ''); getProductList(1);\" type=\"checkbox\" value=\"115337\"/> 네이버랩스\t</label>]"
      ]
     },
     "execution_count": 12,
     "metadata": {},
     "output_type": "execute_result"
    }
   ],
   "source": [
    "manufacturer = bs.select('#selectMaker_simple_priceCompare_A > li:nth-child(2) > label')\n",
    "manufacturer"
   ]
  },
  {
   "cell_type": "code",
   "execution_count": 13,
   "metadata": {},
   "outputs": [
    {
     "data": {
      "text/plain": [
       "'네이버랩스'"
      ]
     },
     "execution_count": 13,
     "metadata": {},
     "output_type": "execute_result"
    }
   ],
   "source": [
    "manufacturer[0].text.strip()    # 이 방법은 child() 안의 숫자가 달라져 저기다 반복문을 돌리고 manufacturer[0]은 0번으로 고정."
   ]
  },
  {
   "cell_type": "code",
   "execution_count": 14,
   "metadata": {},
   "outputs": [
    {
     "data": {
      "text/plain": [
       "{'title': '네이버랩스'}"
      ]
     },
     "execution_count": 14,
     "metadata": {},
     "output_type": "execute_result"
    }
   ],
   "source": [
    "manufacturer[0].attrs"
   ]
  },
  {
   "cell_type": "code",
   "execution_count": null,
   "metadata": {},
   "outputs": [],
   "source": [
    "manufacturer = []\n",
    "k = 1\n",
    "while(True):\n",
    "    try:\n",
    "        eachTags = bs.select('#selectMaker_simple_priceCompare_A > li:nth-child({}) > label'.format(k))\n",
    "        eachFac = eachTags[0].attrs['title']\n",
    "        manufacturer.append(eachFac)\n",
    "    except Exception as e:\n",
    "        break\n",
    "    k = k + 1\n",
    "        \n",
    "# manufacturer"
   ]
  },
  {
   "cell_type": "code",
   "execution_count": null,
   "metadata": {},
   "outputs": [],
   "source": [
    "manufacturer = []\n",
    "for k in range(1,63):\n",
    "    eachTags = bs.select('#selectMaker_simple_priceCompare_A > li:nth-child({}) > label'.format(k))\n",
    "    eachFac = eachTags[0].text.strip()\n",
    "    manufacturer.append(eachFac)\n",
    "    \n",
    "# manufacturer"
   ]
  },
  {
   "cell_type": "code",
   "execution_count": null,
   "metadata": {},
   "outputs": [],
   "source": []
  },
  {
   "cell_type": "code",
   "execution_count": null,
   "metadata": {},
   "outputs": [],
   "source": []
  },
  {
   "cell_type": "code",
   "execution_count": null,
   "metadata": {},
   "outputs": [],
   "source": [
    "# # 2. 마우스 오버로 선택이 안 되고 클릭을 해야하기 때문에 분리. 메인 메뉴 클릭.\n",
    "# mainMenu = '//*[@id=\"danawa_header\"]/div[2]/div/div[1]/a/span[2]'\n",
    "# driver.find_element_by_xpath(mainMenu).click()\n",
    "# time.sleep(sleepTime)\n",
    "\n",
    "# # 3. 태블릿.모바일 > 스마트워치/밴드 클릭.\n",
    "# subMenu = '//*[@id=\"sectionExplodeLayer\"]/div[1]/ul/li[3]/a'\n",
    "# targetMenu = '//*[@id=\"categoryExplodeLayer12\"]/div[2]/div[2]/ul/li[1]/a'\n",
    "\n",
    "# sub = driver.find_element_by_xpath(subMenu)\n",
    "# target = driver.find_element_by_xpath(targetMenu)\n",
    "\n",
    "# ActionChains(driver).move_to_element(sub).click(target).perform()\n",
    "# time.sleep(sleepTime)"
   ]
  },
  {
   "cell_type": "code",
   "execution_count": null,
   "metadata": {},
   "outputs": [],
   "source": []
  },
  {
   "cell_type": "code",
   "execution_count": null,
   "metadata": {},
   "outputs": [],
   "source": [
    "# 1 페이지    크롬 XPath 복사 기능을 이용했을 때 언제는 div[4]고 언제는 div[5]고 확률적으로 변한다;;\n",
    "#productListArea > div.prod_num_nav > div > div > a.num.now_on\n",
    "//*[@id=\"productListArea\"]/div[4]/div/div/a[1]    # // 찾아라 * 아무거나 id=productListArea인 것[]로 문자열로 묶임 / 그 아래에 div 4번째에 / div 아래에 / div 아래에 / a 1번째\n",
    "//*[@id=\"productListArea\"]/div[5]/div/div/a[2]"
   ]
  },
  {
   "cell_type": "code",
   "execution_count": null,
   "metadata": {},
   "outputs": [],
   "source": [
    "# 2 페이지\n",
    "#productListArea > div.prod_num_nav > div > div > a:nth-child(2)\n",
    "//*[@id=\"productListArea\"]/div[4]/div/div/a[2]\n",
    "//*[@id=\"productListArea\"]/div[4]/div/div/a[2]"
   ]
  },
  {
   "cell_type": "code",
   "execution_count": null,
   "metadata": {},
   "outputs": [],
   "source": [
    "# 10 페이지\n",
    "#productListArea > div.prod_num_nav > div > div > a:nth-child(10)\n",
    "//*[@id=\"productListArea\"]/div[4]/div/div/a[10]"
   ]
  },
  {
   "cell_type": "code",
   "execution_count": null,
   "metadata": {},
   "outputs": [],
   "source": [
    "# 페이지 넘김\n",
    "#productListArea > div.prod_num_nav > div > a\n",
    "//*[@id=\"productListArea\"]/div[4]/div/a"
   ]
  },
  {
   "cell_type": "code",
   "execution_count": null,
   "metadata": {},
   "outputs": [],
   "source": [
    "# 11 페이지(마지막 페이지)\n",
    "#productListArea > div.prod_num_nav > div > div > a\n",
    "//*[@id=\"productListArea\"]/div[4]/div/div/a"
   ]
  },
  {
   "cell_type": "code",
   "execution_count": 9,
   "metadata": {},
   "outputs": [
    {
     "name": "stdout",
     "output_type": "stream",
     "text": [
      "1\n",
      "2\n",
      "3\n",
      "4\n",
      "5\n",
      "6\n",
      "7\n",
      "8\n",
      "9\n",
      "10\n",
      "1\n",
      "2\n",
      "3\n",
      "4\n",
      "5\n",
      "6\n",
      "7\n",
      "8\n",
      "9\n",
      "10\n"
     ]
    }
   ],
   "source": [
    "for j in range(20):\n",
    "    print(j%10+1)"
   ]
  }
 ],
 "metadata": {
  "kernelspec": {
   "display_name": "Python 3",
   "language": "python",
   "name": "python3"
  },
  "language_info": {
   "codemirror_mode": {
    "name": "ipython",
    "version": 3
   },
   "file_extension": ".py",
   "mimetype": "text/x-python",
   "name": "python",
   "nbconvert_exporter": "python",
   "pygments_lexer": "ipython3",
   "version": "3.8.2"
  }
 },
 "nbformat": 4,
 "nbformat_minor": 4
}
