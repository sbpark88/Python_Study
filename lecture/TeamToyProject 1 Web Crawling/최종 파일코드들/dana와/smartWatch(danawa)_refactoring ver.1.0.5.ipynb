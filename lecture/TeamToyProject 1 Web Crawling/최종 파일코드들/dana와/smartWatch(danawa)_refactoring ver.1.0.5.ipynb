{
 "cells": [
  {
   "cell_type": "code",
   "execution_count": 1,
   "metadata": {},
   "outputs": [],
   "source": [
    "# 1. 셀레니움 환경 구성\n",
    "\n",
    "# 라이브러리 선언\n",
    "from selenium import webdriver\n",
    "from selenium.webdriver.common.keys import Keys\n",
    "import bs4\n",
    "import pandas as pd\n",
    "import time\n",
    "sleepTime = 0.5\n",
    "\n",
    "# 드라이버 위치 설정\n",
    "# driver_loc = \"./chromedriver\"\n",
    "driver_loc = \"./chromedriver.exe\"\n",
    "\n",
    "# 드라이버 옵션 설정\n",
    "options = webdriver.ChromeOptions()\n",
    "# options.add_argument(\"window-size=2280x1440\") # 파이썬이 크롬창을 띄울 것인데 창 크기 선택\n",
    "# options.add_argument('headless')                           \n",
    "# options.add_argument('disable-gpu')\n",
    "# options.add_argument(\"user-agent=Mozilla/5.0 (Macintosh; Intel Mac OS X 10_12_6) AppleWebKit/537.36 (KHTML, like Gecko) Chrome/61.0.3163.100 Safari/537.36\")\n",
    "\n",
    "# 웹 드라이버 정의\n",
    "driver = webdriver.Chrome(driver_loc, options=options)\n",
    "\n",
    "\n",
    "\n",
    "# 2. 스마트밴드 상품 목록 페이지로 이동\n",
    "\n",
    "# 웹페이지 이동\n",
    "\n",
    "# 다나와 홈페이지로 이동\n",
    "danawaUrl = \"http://www.danawa.com/\"\n",
    "driver.get(danawaUrl)\n",
    "\n",
    "# 메인 메뉴 클릭\n",
    "catMainXpath = '//*[@id=\"danawa_header\"]/div[2]/div/div[1]/a/span[2]'\n",
    "catMainMenu = driver.find_element_by_xpath(catMainXpath)\n",
    "catMainMenu.click()\n",
    "time.sleep(sleepTime)\n",
    "\n",
    "# 태블릿/모바일 클릭\n",
    "catSubXpath = '//*[@id=\"sectionExplodeLayer\"]/div[1]/ul/li[3]/a'\n",
    "catSubMenu = driver.find_element_by_xpath(catSubXpath)\n",
    "catSubMenu.send_keys(Keys.ENTER)\n",
    "time.sleep(sleepTime)\n",
    "\n",
    "# 스마트워치 클릭 (.clikc()으로 이동시 플래시 광고가 뜨면 광고를 누르기 때문에 .send_keys로 이동)\n",
    "catTargetXpath = '//*[@id=\"categoryExplodeLayer12\"]/div[2]/div[2]/ul/li[2]/a'\n",
    "catTargetMenu = driver.find_element_by_xpath(catTargetXpath)\n",
    "catTargetMenu.send_keys(Keys.ENTER)\n",
    "time.sleep(sleepTime)\n",
    "\n",
    "\n",
    "\n",
    "\n",
    "# 3. 데이터 수집\n",
    "\n",
    "rowList = []\n",
    "colHeaderList = ['제품명','최저가','사이트주소']\n",
    "\n",
    "for i in range(0, 999):\n",
    "\n",
    "    try:\n",
    "        # 전체 상품 웹페이지 이동 설정\n",
    "        pageSelector = '#productListArea > div.prod_num_nav > div > div > a:nth-child(' + str(i + 1) + ')'\n",
    "        page = driver.find_element_by_css_selector(pageSelector)\n",
    "        page.click()\n",
    "        time.sleep(sleepTime)\n",
    "\n",
    "    except:\n",
    "        break\n",
    "\n",
    "    # 전체 상품 웹페이지 소스코드 변수에 저장\n",
    "    smartWatchHtml = driver.page_source\n",
    "\n",
    "    # 태그 정보만 추출하여 변수에 저장\n",
    "    bs = bs4.BeautifulSoup(smartWatchHtml, 'html.parser')\n",
    "    \n",
    "    # 상품명 구하기\n",
    "    productName = bs.select('div > div.prod_info > p > a')\n",
    "    productLen = len(productName)\n",
    "\n",
    "    # 상품 페이지에 확률적으로 보이지 않는 0번 상품이 존재하는 것을 처리\n",
    "    if productLen > 30:\n",
    "        startNum = 1\n",
    "        endNum = productLen\n",
    "    else:\n",
    "        startNum = 0\n",
    "        endNum = productLen \n",
    "\n",
    "    columnList = []\n",
    "    \n",
    "\n",
    "    for j in range(startNum, endNum):\n",
    "        nameTmp = productName[j-1].text.strip()\n",
    "        columnList.append(nameTmp)\n",
    "\n",
    "        # a href 태그의 name 속성명의 속성값이 productName인 것을 이용\n",
    "        driver.find_elements_by_name(\"productName\")[j-1].click()\n",
    "        time.sleep(sleepTime)\n",
    "        \n",
    "        # 탭 번호를 변수화\n",
    "        firstTab = driver.window_handles[0]\n",
    "        secondTab = driver.window_handles[1]\n",
    "\n",
    "        driver.switch_to.window(secondTab)\n",
    "        time.sleep(sleepTime)\n",
    "\n",
    "        # 개별 상품 웹페이지 소스코드 변수에 저장\n",
    "        eachBandHtml = driver.page_source\n",
    "\n",
    "        # 태그 정보만 추출하여 변수에 저장\n",
    "        bs = bs4.BeautifulSoup(eachBandHtml, 'html.parser')\n",
    "\n",
    "        \n",
    "        # 일시 품절을 제외하고 최저가와 구매 사이트 추출\n",
    "        if bs.find('tr', {'class':'lowest'}) != None:    # 일시 품절이 아닌 경우\n",
    "\n",
    "            # 최저가 추출\n",
    "            lowestPrice = bs.find('span', {'class':'lwst_prc'})\n",
    "            columnList.append(lowestPrice.find('em', {'class':'prc_c'}).text.replace(',',\"\"))\n",
    "\n",
    "            # 최저가 구매 사이트 추출\n",
    "            lowestSite = bs.find('tr', {'class':'lowest'})\n",
    "            columnList.append(lowestSite.find('a')['href'])\n",
    "\n",
    "        else:    # 일시 품절인 경우 빈 문자열 처리\n",
    "\n",
    "            outOfStock = bs.find('div',{'class':'lowest_area lowest_blank'})\n",
    "            columnList.append(outOfStock.find('strong', {'class':'pnt'}).text)\n",
    "            columnList.append('')\n",
    "\n",
    "        \n",
    "        # 상세 정보 테이블 추출\n",
    "        tableTag = bs.find('table', {'class':'spec_tbl'})\n",
    "        tbodyTag = tableTag.find('tbody')\n",
    "\n",
    "        # 상세 정보 테이블에서 스펙 이름 추출\n",
    "        tdTags = tbodyTag.findAll('td')\n",
    "        thTags = tbodyTag.findAll('th', {'class':'tit'})\n",
    "\n",
    " \n",
    "        for k in range(0, len(tdTags)):\n",
    "\n",
    "            if thTags[k].text != '':\n",
    "\n",
    "                # 첫 페이지, 첫 상품일 때만 스펙 이름을 컬럼헤더 리스트에 저장\n",
    "                if (j - 1) == 0 and i == 0:\n",
    "                    colHeaderList.append(thTags[k].text)\n",
    "                    \n",
    "                # 상세 정보 테이블에서 처음 값 중 제조사 이름만 추출 - '(제조사 웹 사이트 바로가기)' 제거\n",
    "                if k == 0:\n",
    "                    columnList.append(tdTags[k].text.strip().split(' ')[0])\n",
    "\n",
    "                # 상세 정보 테이블에서 그 외 모든 값 추출\n",
    "                else:    \n",
    "                    columnList.append(tdTags[k].text)\n",
    "                    \n",
    "                    # 전체 상품 중 15개 정도가 '인프라'가 2개가 존재해서 삭제하는 로직\n",
    "                    columnLen = len(columnList)\n",
    "                    if columnLen == 82:\n",
    "                        columnList.pop(8)\n",
    "\n",
    " \n",
    "\n",
    "        rowList.append(columnList)\n",
    "        columnList = []\n",
    "\n",
    "        \n",
    "        driver.close()\n",
    "        driver.switch_to.window(firstTab)\n",
    "\n",
    "        \n",
    "\n",
    "# 4. 데이터 정제\n",
    "\n",
    "## 연주차컬럼 정제. 20XX년 09월 -> 20XX09\n",
    "yearweekIndex = 4    # rowList[i][4] 가 연주차 정보를 저장\n",
    "\n",
    "totalProdcutLen = len(rowList)\n",
    "for i in range(0, totalProdcutLen):\n",
    "    rowList[i][yearweekIndex] = rowList[i][yearweekIndex].strip().replace('년 ','').replace('월','')\n",
    "    \n",
    "    \n",
    "    \n",
    "# 5. 데이터 저장\n",
    "smartWatch = pd.DataFrame(rowList, columns = colHeaderList)\n",
    "# smartWatch = pd.DataFrame(rowList)\n",
    "\n",
    "smartWatch.to_csv('./smartWatch(danawa)ver.1.0.5.csv', index=False, encoding='utf-8') "
   ]
  },
  {
   "cell_type": "code",
   "execution_count": 2,
   "metadata": {},
   "outputs": [],
   "source": [
    "import pandas as pd"
   ]
  },
  {
   "cell_type": "code",
   "execution_count": 3,
   "metadata": {},
   "outputs": [],
   "source": [
    "ddd = pd.read_csv('./smartWatch(danawa)ver.1.0.5.csv')"
   ]
  },
  {
   "cell_type": "code",
   "execution_count": 5,
   "metadata": {},
   "outputs": [],
   "source": [
    "ddd.to_csv('utf-8.csv', encoding='utf-8')"
   ]
  },
  {
   "cell_type": "code",
   "execution_count": null,
   "metadata": {},
   "outputs": [],
   "source": []
  },
  {
   "cell_type": "code",
   "execution_count": 48,
   "metadata": {},
   "outputs": [
    {
     "data": {
      "text/plain": [
       "'169000'"
      ]
     },
     "execution_count": 48,
     "metadata": {},
     "output_type": "execute_result"
    }
   ],
   "source": [
    "rowList[61][1]"
   ]
  },
  {
   "cell_type": "code",
   "execution_count": 23,
   "metadata": {},
   "outputs": [
    {
     "data": {
      "text/plain": [
       "81"
      ]
     },
     "execution_count": 23,
     "metadata": {},
     "output_type": "execute_result"
    }
   ],
   "source": [
    "len(rowList[61])"
   ]
  },
  {
   "cell_type": "code",
   "execution_count": 24,
   "metadata": {},
   "outputs": [
    {
     "data": {
      "text/plain": [
       "82"
      ]
     },
     "execution_count": 24,
     "metadata": {},
     "output_type": "execute_result"
    }
   ],
   "source": [
    "len(rowList[62])"
   ]
  },
  {
   "cell_type": "code",
   "execution_count": 66,
   "metadata": {},
   "outputs": [
    {
     "data": {
      "text/plain": [
       "'3G+블루투스'"
      ]
     },
     "execution_count": 66,
     "metadata": {},
     "output_type": "execute_result"
    }
   ],
   "source": [
    "rowList[62][8]"
   ]
  },
  {
   "cell_type": "code",
   "execution_count": null,
   "metadata": {},
   "outputs": [],
   "source": []
  },
  {
   "cell_type": "code",
   "execution_count": 27,
   "metadata": {},
   "outputs": [],
   "source": [
    "row61 = rowList[61]"
   ]
  },
  {
   "cell_type": "code",
   "execution_count": 28,
   "metadata": {},
   "outputs": [],
   "source": [
    "row62 = rowList[62]"
   ]
  },
  {
   "cell_type": "code",
   "execution_count": 29,
   "metadata": {},
   "outputs": [],
   "source": [
    "import pandas as pd"
   ]
  },
  {
   "cell_type": "code",
   "execution_count": 34,
   "metadata": {},
   "outputs": [
    {
     "data": {
      "text/html": [
       "<div>\n",
       "<style scoped>\n",
       "    .dataframe tbody tr th:only-of-type {\n",
       "        vertical-align: middle;\n",
       "    }\n",
       "\n",
       "    .dataframe tbody tr th {\n",
       "        vertical-align: top;\n",
       "    }\n",
       "\n",
       "    .dataframe thead th {\n",
       "        text-align: right;\n",
       "    }\n",
       "</style>\n",
       "<table border=\"1\" class=\"dataframe\">\n",
       "  <thead>\n",
       "    <tr style=\"text-align: right;\">\n",
       "      <th></th>\n",
       "      <th>0</th>\n",
       "    </tr>\n",
       "  </thead>\n",
       "  <tbody>\n",
       "    <tr>\n",
       "      <th>0</th>\n",
       "      <td>핏빗 Versa Lite</td>\n",
       "    </tr>\n",
       "    <tr>\n",
       "      <th>1</th>\n",
       "      <td>169000</td>\n",
       "    </tr>\n",
       "    <tr>\n",
       "      <th>2</th>\n",
       "      <td>http://prod.danawa.com/bridge/loadingBridge.ht...</td>\n",
       "    </tr>\n",
       "    <tr>\n",
       "      <th>3</th>\n",
       "      <td>핏빗</td>\n",
       "    </tr>\n",
       "    <tr>\n",
       "      <th>4</th>\n",
       "      <td>2019년 03월</td>\n",
       "    </tr>\n",
       "    <tr>\n",
       "      <th>...</th>\n",
       "      <td>...</td>\n",
       "    </tr>\n",
       "    <tr>\n",
       "      <th>76</th>\n",
       "      <td>5ATM</td>\n",
       "    </tr>\n",
       "    <tr>\n",
       "      <th>77</th>\n",
       "      <td></td>\n",
       "    </tr>\n",
       "    <tr>\n",
       "      <th>78</th>\n",
       "      <td></td>\n",
       "    </tr>\n",
       "    <tr>\n",
       "      <th>79</th>\n",
       "      <td>R-C-XRA-FB415 인증번호 확인</td>\n",
       "    </tr>\n",
       "    <tr>\n",
       "      <th>80</th>\n",
       "      <td>YU10296-18012 인증번호 확인</td>\n",
       "    </tr>\n",
       "  </tbody>\n",
       "</table>\n",
       "<p>81 rows × 1 columns</p>\n",
       "</div>"
      ],
      "text/plain": [
       "                                                    0\n",
       "0                                       핏빗 Versa Lite\n",
       "1                                              169000\n",
       "2   http://prod.danawa.com/bridge/loadingBridge.ht...\n",
       "3                                                  핏빗\n",
       "4                                          2019년 03월 \n",
       "..                                                ...\n",
       "76                                               5ATM\n",
       "77                                                   \n",
       "78                                                   \n",
       "79                              R-C-XRA-FB415 인증번호 확인\n",
       "80                              YU10296-18012 인증번호 확인\n",
       "\n",
       "[81 rows x 1 columns]"
      ]
     },
     "execution_count": 34,
     "metadata": {},
     "output_type": "execute_result"
    }
   ],
   "source": [
    "df61 = pd.DataFrame(row61)\n",
    "df61"
   ]
  },
  {
   "cell_type": "code",
   "execution_count": 35,
   "metadata": {},
   "outputs": [
    {
     "data": {
      "text/html": [
       "<div>\n",
       "<style scoped>\n",
       "    .dataframe tbody tr th:only-of-type {\n",
       "        vertical-align: middle;\n",
       "    }\n",
       "\n",
       "    .dataframe tbody tr th {\n",
       "        vertical-align: top;\n",
       "    }\n",
       "\n",
       "    .dataframe thead th {\n",
       "        text-align: right;\n",
       "    }\n",
       "</style>\n",
       "<table border=\"1\" class=\"dataframe\">\n",
       "  <thead>\n",
       "    <tr style=\"text-align: right;\">\n",
       "      <th></th>\n",
       "      <th>0</th>\n",
       "    </tr>\n",
       "  </thead>\n",
       "  <tbody>\n",
       "    <tr>\n",
       "      <th>0</th>\n",
       "      <td>KW88 Pro 3G</td>\n",
       "    </tr>\n",
       "    <tr>\n",
       "      <th>1</th>\n",
       "      <td>100280</td>\n",
       "    </tr>\n",
       "    <tr>\n",
       "      <th>2</th>\n",
       "      <td>http://prod.danawa.com/bridge/loadingBridge.ht...</td>\n",
       "    </tr>\n",
       "    <tr>\n",
       "      <th>3</th>\n",
       "      <td></td>\n",
       "    </tr>\n",
       "    <tr>\n",
       "      <th>4</th>\n",
       "      <td>2019년 06월</td>\n",
       "    </tr>\n",
       "    <tr>\n",
       "      <th>...</th>\n",
       "      <td>...</td>\n",
       "    </tr>\n",
       "    <tr>\n",
       "      <th>77</th>\n",
       "      <td></td>\n",
       "    </tr>\n",
       "    <tr>\n",
       "      <th>78</th>\n",
       "      <td></td>\n",
       "    </tr>\n",
       "    <tr>\n",
       "      <th>79</th>\n",
       "      <td></td>\n",
       "    </tr>\n",
       "    <tr>\n",
       "      <th>80</th>\n",
       "      <td>상세설명 / 판매 사이트 문의 인증번호 확인</td>\n",
       "    </tr>\n",
       "    <tr>\n",
       "      <th>81</th>\n",
       "      <td>상세설명 / 판매 사이트 문의 인증번호 확인</td>\n",
       "    </tr>\n",
       "  </tbody>\n",
       "</table>\n",
       "<p>82 rows × 1 columns</p>\n",
       "</div>"
      ],
      "text/plain": [
       "                                                    0\n",
       "0                                         KW88 Pro 3G\n",
       "1                                              100280\n",
       "2   http://prod.danawa.com/bridge/loadingBridge.ht...\n",
       "3                                                    \n",
       "4                                          2019년 06월 \n",
       "..                                                ...\n",
       "77                                                   \n",
       "78                                                   \n",
       "79                                                   \n",
       "80                           상세설명 / 판매 사이트 문의 인증번호 확인\n",
       "81                           상세설명 / 판매 사이트 문의 인증번호 확인\n",
       "\n",
       "[82 rows x 1 columns]"
      ]
     },
     "execution_count": 35,
     "metadata": {},
     "output_type": "execute_result"
    }
   ],
   "source": [
    "df62 = pd.DataFrame(row62)\n",
    "df62"
   ]
  },
  {
   "cell_type": "code",
   "execution_count": 39,
   "metadata": {},
   "outputs": [
    {
     "data": {
      "text/html": [
       "<div>\n",
       "<style scoped>\n",
       "    .dataframe tbody tr th:only-of-type {\n",
       "        vertical-align: middle;\n",
       "    }\n",
       "\n",
       "    .dataframe tbody tr th {\n",
       "        vertical-align: top;\n",
       "    }\n",
       "\n",
       "    .dataframe thead th {\n",
       "        text-align: right;\n",
       "    }\n",
       "</style>\n",
       "<table border=\"1\" class=\"dataframe\">\n",
       "  <thead>\n",
       "    <tr style=\"text-align: right;\">\n",
       "      <th></th>\n",
       "      <th>0</th>\n",
       "      <th>0</th>\n",
       "    </tr>\n",
       "  </thead>\n",
       "  <tbody>\n",
       "    <tr>\n",
       "      <th>0</th>\n",
       "      <td>핏빗 Versa Lite</td>\n",
       "      <td>KW88 Pro 3G</td>\n",
       "    </tr>\n",
       "    <tr>\n",
       "      <th>1</th>\n",
       "      <td>169000</td>\n",
       "      <td>100280</td>\n",
       "    </tr>\n",
       "    <tr>\n",
       "      <th>2</th>\n",
       "      <td>http://prod.danawa.com/bridge/loadingBridge.ht...</td>\n",
       "      <td>http://prod.danawa.com/bridge/loadingBridge.ht...</td>\n",
       "    </tr>\n",
       "    <tr>\n",
       "      <th>3</th>\n",
       "      <td>핏빗</td>\n",
       "      <td></td>\n",
       "    </tr>\n",
       "    <tr>\n",
       "      <th>4</th>\n",
       "      <td>2019년 03월</td>\n",
       "      <td>2019년 06월</td>\n",
       "    </tr>\n",
       "    <tr>\n",
       "      <th>...</th>\n",
       "      <td>...</td>\n",
       "      <td>...</td>\n",
       "    </tr>\n",
       "    <tr>\n",
       "      <th>77</th>\n",
       "      <td></td>\n",
       "      <td></td>\n",
       "    </tr>\n",
       "    <tr>\n",
       "      <th>78</th>\n",
       "      <td></td>\n",
       "      <td></td>\n",
       "    </tr>\n",
       "    <tr>\n",
       "      <th>79</th>\n",
       "      <td>R-C-XRA-FB415 인증번호 확인</td>\n",
       "      <td></td>\n",
       "    </tr>\n",
       "    <tr>\n",
       "      <th>80</th>\n",
       "      <td>YU10296-18012 인증번호 확인</td>\n",
       "      <td>상세설명 / 판매 사이트 문의 인증번호 확인</td>\n",
       "    </tr>\n",
       "    <tr>\n",
       "      <th>81</th>\n",
       "      <td>NaN</td>\n",
       "      <td>상세설명 / 판매 사이트 문의 인증번호 확인</td>\n",
       "    </tr>\n",
       "  </tbody>\n",
       "</table>\n",
       "<p>82 rows × 2 columns</p>\n",
       "</div>"
      ],
      "text/plain": [
       "                                                    0  \\\n",
       "0                                       핏빗 Versa Lite   \n",
       "1                                              169000   \n",
       "2   http://prod.danawa.com/bridge/loadingBridge.ht...   \n",
       "3                                                  핏빗   \n",
       "4                                          2019년 03월    \n",
       "..                                                ...   \n",
       "77                                                      \n",
       "78                                                      \n",
       "79                              R-C-XRA-FB415 인증번호 확인   \n",
       "80                              YU10296-18012 인증번호 확인   \n",
       "81                                                NaN   \n",
       "\n",
       "                                                    0  \n",
       "0                                         KW88 Pro 3G  \n",
       "1                                              100280  \n",
       "2   http://prod.danawa.com/bridge/loadingBridge.ht...  \n",
       "3                                                      \n",
       "4                                          2019년 06월   \n",
       "..                                                ...  \n",
       "77                                                     \n",
       "78                                                     \n",
       "79                                                     \n",
       "80                           상세설명 / 판매 사이트 문의 인증번호 확인  \n",
       "81                           상세설명 / 판매 사이트 문의 인증번호 확인  \n",
       "\n",
       "[82 rows x 2 columns]"
      ]
     },
     "execution_count": 39,
     "metadata": {},
     "output_type": "execute_result"
    }
   ],
   "source": [
    "dfTotal = pd.concat([df61,df62], axis=1)\n",
    "dfTotal"
   ]
  },
  {
   "cell_type": "code",
   "execution_count": 45,
   "metadata": {},
   "outputs": [
    {
     "data": {
      "text/plain": [
       "'v4.0'"
      ]
     },
     "execution_count": 45,
     "metadata": {},
     "output_type": "execute_result"
    }
   ],
   "source": [
    "rowList[61][8]"
   ]
  },
  {
   "cell_type": "code",
   "execution_count": 44,
   "metadata": {},
   "outputs": [
    {
     "data": {
      "text/plain": [
       "'3G+블루투스'"
      ]
     },
     "execution_count": 44,
     "metadata": {},
     "output_type": "execute_result"
    }
   ],
   "source": [
    "rowList[62][8]"
   ]
  },
  {
   "cell_type": "code",
   "execution_count": 46,
   "metadata": {},
   "outputs": [
    {
     "data": {
      "text/plain": [
       "''"
      ]
     },
     "execution_count": 46,
     "metadata": {},
     "output_type": "execute_result"
    }
   ],
   "source": [
    "rowList[62][9]"
   ]
  },
  {
   "cell_type": "code",
   "execution_count": 3,
   "metadata": {},
   "outputs": [],
   "source": [
    "# 4. 데이터 정제\n",
    "\n",
    "## 연주차컬럼 정제. 20XX년 09월 -> 20XX09\n",
    "yearweekIndex = 4    # rowList[i][4] 가 연주차 정보를 저장\n",
    "\n",
    "totalProdcutLen = len(rowList)\n",
    "for i in range(0, totalProdcutLen):\n",
    "    rowList[i][yearweekIndex] = rowList[i][yearweekIndex].strip().replace('년 ','').replace('월','')\n",
    "    \n",
    "    "
   ]
  },
  {
   "cell_type": "code",
   "execution_count": null,
   "metadata": {},
   "outputs": [],
   "source": [
    "len(colHeaderList"
   ]
  },
  {
   "cell_type": "code",
   "execution_count": 20,
   "metadata": {},
   "outputs": [
    {
     "name": "stdout",
     "output_type": "stream",
     "text": [
      "62 82\n",
      "68 82\n",
      "81 82\n",
      "113 82\n",
      "133 82\n",
      "137 82\n",
      "138 82\n",
      "141 82\n",
      "143 82\n",
      "145 82\n",
      "151 82\n",
      "180 82\n",
      "181 82\n",
      "189 82\n"
     ]
    },
    {
     "ename": "KeyboardInterrupt",
     "evalue": "",
     "output_type": "error",
     "traceback": [
      "\u001b[1;31m---------------------------------------------------------------------------\u001b[0m",
      "\u001b[1;31mKeyboardInterrupt\u001b[0m                         Traceback (most recent call last)",
      "\u001b[1;32m<ipython-input-20-8f3f8fabedfe>\u001b[0m in \u001b[0;36m<module>\u001b[1;34m\u001b[0m\n\u001b[0;32m     10\u001b[0m             \u001b[0mj\u001b[0m\u001b[1;33m+=\u001b[0m\u001b[1;36m1\u001b[0m\u001b[1;33m\u001b[0m\u001b[1;33m\u001b[0m\u001b[0m\n\u001b[0;32m     11\u001b[0m     \u001b[1;32mexcept\u001b[0m\u001b[1;33m:\u001b[0m\u001b[1;33m\u001b[0m\u001b[1;33m\u001b[0m\u001b[0m\n\u001b[1;32m---> 12\u001b[1;33m         \u001b[1;32mpass\u001b[0m\u001b[1;33m\u001b[0m\u001b[1;33m\u001b[0m\u001b[0m\n\u001b[0m",
      "\u001b[1;31mKeyboardInterrupt\u001b[0m: "
     ]
    }
   ],
   "source": [
    "i = 0\n",
    "j = 1\n",
    "while(True):\n",
    "    try:\n",
    "        if(len(rowList[i]) == 82):\n",
    "            print(i, len(rowList[i]))\n",
    "        i+=1\n",
    "        if (i+1) % 30 == 0:\n",
    "            print('----{}----'.format())\n",
    "            j+=1\n",
    "    except:\n",
    "        pass"
   ]
  },
  {
   "cell_type": "code",
   "execution_count": 13,
   "metadata": {},
   "outputs": [
    {
     "data": {
      "text/plain": [
       "['제품명', '최저가', '사이트주소']"
      ]
     },
     "execution_count": 13,
     "metadata": {},
     "output_type": "execute_result"
    }
   ],
   "source": [
    "colHeaderList"
   ]
  },
  {
   "cell_type": "code",
   "execution_count": null,
   "metadata": {},
   "outputs": [],
   "source": []
  },
  {
   "cell_type": "code",
   "execution_count": 4,
   "metadata": {},
   "outputs": [
    {
     "name": "stdout",
     "output_type": "stream",
     "text": [
      "1 lemfo LES2\n",
      "2 페블 스마트워치\n",
      "3 APPLE 워치 스포츠 38mm\n",
      "4 Withings 액티비티 팝\n",
      "5 Epson 런센스 Wristable SF-810B\n",
      "6 APPLE 워치 42mm, 해외구매\n",
      "7 King-Wear GV68\n",
      "8 iMacwear Sparta M7\n",
      "9 삼성전자 기어S2 3G\n",
      "10 U Watch U9\n",
      "11 나이키 나이키+ 스포츠워치 GPS (WM0072-077)\n",
      "12 샤오미 화미 어메이즈핏 GTR Lite 47mm\n",
      "13 삼성전자 갤럭시 워치 액티브2 40mm 언더아머 에디션\n",
      "14 APPLE 워치 시리즈4 나이키+ 40mm Cellular 알루미늄 케이스\n",
      "15 APPLE 워치 시리즈4 40mm Cellular 알루미늄 케이스\n",
      "16 APPLE 워치 시리즈4 나이키+ 44mm Cellular 알루미늄 케이스\n",
      "17 삼성전자 갤럭시 워치 42mm LTE, SKT\n",
      "18 APPLE 워치 시리즈3 나이키+ 42mm 알루미늄 케이스\n",
      "19 APPLE 워치 시리즈3 나이키+ 38mm 알루미늄 케이스\n",
      "20 유니콘 SH-700T\n",
      "21 삼성전자 기어S 3G\n"
     ]
    }
   ],
   "source": [
    "j = 1\n",
    "for i in range(startNum,endNum):\n",
    "    print(j, productName[i].text.strip())\n",
    "    j+=1"
   ]
  },
  {
   "cell_type": "code",
   "execution_count": null,
   "metadata": {},
   "outputs": [],
   "source": []
  },
  {
   "cell_type": "code",
   "execution_count": null,
   "metadata": {},
   "outputs": [],
   "source": []
  },
  {
   "cell_type": "code",
   "execution_count": null,
   "metadata": {},
   "outputs": [],
   "source": []
  },
  {
   "cell_type": "code",
   "execution_count": 2,
   "metadata": {},
   "outputs": [
    {
     "ename": "IndexError",
     "evalue": "list index out of range",
     "output_type": "error",
     "traceback": [
      "\u001b[1;31m---------------------------------------------------------------------------\u001b[0m",
      "\u001b[1;31mIndexError\u001b[0m                                Traceback (most recent call last)",
      "\u001b[1;32m<ipython-input-2-c9d968c2a82b>\u001b[0m in \u001b[0;36m<module>\u001b[1;34m\u001b[0m\n\u001b[0;32m     41\u001b[0m \u001b[1;33m\u001b[0m\u001b[0m\n\u001b[0;32m     42\u001b[0m         \u001b[1;31m# a href 태그의 name 속성명의 속성값이 productName인 것을 이용\u001b[0m\u001b[1;33m\u001b[0m\u001b[1;33m\u001b[0m\u001b[1;33m\u001b[0m\u001b[0m\n\u001b[1;32m---> 43\u001b[1;33m         \u001b[0mdriver\u001b[0m\u001b[1;33m.\u001b[0m\u001b[0mfind_elements_by_name\u001b[0m\u001b[1;33m(\u001b[0m\u001b[1;34m\"productName\"\u001b[0m\u001b[1;33m)\u001b[0m\u001b[1;33m[\u001b[0m\u001b[0mj\u001b[0m\u001b[1;33m-\u001b[0m\u001b[1;36m1\u001b[0m\u001b[1;33m]\u001b[0m\u001b[1;33m.\u001b[0m\u001b[0mclick\u001b[0m\u001b[1;33m(\u001b[0m\u001b[1;33m)\u001b[0m\u001b[1;33m\u001b[0m\u001b[1;33m\u001b[0m\u001b[0m\n\u001b[0m\u001b[0;32m     44\u001b[0m         \u001b[0mtime\u001b[0m\u001b[1;33m.\u001b[0m\u001b[0msleep\u001b[0m\u001b[1;33m(\u001b[0m\u001b[0msleepTime\u001b[0m\u001b[1;33m)\u001b[0m\u001b[1;33m\u001b[0m\u001b[1;33m\u001b[0m\u001b[0m\n\u001b[0;32m     45\u001b[0m \u001b[1;33m\u001b[0m\u001b[0m\n",
      "\u001b[1;31mIndexError\u001b[0m: list index out of range"
     ]
    }
   ],
   "source": [
    "    for j in range(startNum, endNum):\n",
    "        nameTmp = productName[j-1].text.strip()\n",
    "        columnList.append(nameTmp)\n",
    "\n",
    "        # a href 태그의 name 속성명의 속성값이 productName인 것을 이용\n",
    "        driver.find_elements_by_name(\"productName\")[j-1].click()\n",
    "        time.sleep(sleepTime)\n",
    "        \n",
    "        # 탭 번호를 변수화\n",
    "        firstTab = driver.window_handles[0]\n",
    "        secondTab = driver.window_handles[1]\n",
    "\n",
    "        driver.switch_to.window(secondTab)\n",
    "        time.sleep(sleepTime)\n",
    "\n",
    "        # 개별 상품 웹페이지 소스코드 변수에 저장\n",
    "        eachBandHtml = driver.page_source\n",
    "\n",
    "        # 태그 정보만 추출하여 변수에 저장\n",
    "        bs = bs4.BeautifulSoup(eachBandHtml, 'html.parser')\n",
    "\n",
    "        \n",
    "        # 일시 품절을 제외하고 최저가와 구매 사이트 추출\n",
    "        if bs.find('tr', {'class':'lowest'}) != None:    # 일시 품절이 아닌 경우\n",
    "\n",
    "            # 최저가 추출\n",
    "            lowestPrice = bs.find('span', {'class':'lwst_prc'})\n",
    "            columnList.append(lowestPrice.find('em', {'class':'prc_c'}).text.replace(',',\"\"))\n",
    "\n",
    "            # 최저가 구매 사이트 추출\n",
    "            lowestSite = bs.find('tr', {'class':'lowest'})\n",
    "            columnList.append(lowestSite.find('a')['href'])\n",
    "\n",
    "        else:    # 일시 품절인 경우 빈 문자열 처리\n",
    "\n",
    "            outOfStock = bs.find('div',{'class':'lowest_area lowest_blank'})\n",
    "            columnList.append(outOfStock.find('strong', {'class':'pnt'}).text)\n",
    "            columnList.append('')\n",
    "\n",
    "        \n",
    "        # 상세 정보 테이블 추출\n",
    "        tableTag = bs.find('table', {'class':'spec_tbl'})\n",
    "        tbodyTag = tableTag.find('tbody')\n",
    "\n",
    "        # 상세 정보 테이블에서 스펙 이름 추출\n",
    "        tdTags = tbodyTag.findAll('td')\n",
    "        thTags = tbodyTag.findAll('th', {'class':'tit'})\n",
    "\n",
    " \n",
    "        for k in range(0, len(tdTags)):\n",
    "\n",
    "            if thTags[k].text != '':\n",
    "\n",
    "                # 첫 페이지, 첫 상품일 때만 스펙 이름을 컬럼헤더 리스트에 저장\n",
    "                if (j - 1) == 0 and i == 0:\n",
    "                    colHeaderList.append(thTags[k].text)\n",
    "                    \n",
    "                # 상세 정보 테이블에서 처음 값 중 제조사 이름만 추출 - '(제조사 웹 사이트 바로가기)' 제거\n",
    "                if k == 0:\n",
    "                    columnList.append(tdTags[k].text.strip().split(' ')[0])\n",
    "\n",
    "                # 상세 정보 테이블에서 그 외 모든 값 추출\n",
    "                else:    \n",
    "                    columnList.append(tdTags[k].text)\n",
    "\n",
    " \n",
    "\n",
    "        rowList.append(columnList)\n",
    "        columnList = []\n",
    "\n",
    "        \n",
    "        driver.close()\n",
    "        driver.switch_to.window(firstTab)\n",
    "\n",
    "        \n",
    "        "
   ]
  },
  {
   "cell_type": "code",
   "execution_count": null,
   "metadata": {},
   "outputs": [],
   "source": []
  },
  {
   "cell_type": "code",
   "execution_count": null,
   "metadata": {},
   "outputs": [],
   "source": []
  },
  {
   "cell_type": "code",
   "execution_count": 3,
   "metadata": {},
   "outputs": [
    {
     "data": {
      "text/plain": [
       "30"
      ]
     },
     "execution_count": 3,
     "metadata": {},
     "output_type": "execute_result"
    }
   ],
   "source": [
    "len(rowList)"
   ]
  },
  {
   "cell_type": "code",
   "execution_count": 4,
   "metadata": {},
   "outputs": [
    {
     "data": {
      "text/plain": [
       "31"
      ]
     },
     "execution_count": 4,
     "metadata": {},
     "output_type": "execute_result"
    }
   ],
   "source": [
    "productLen"
   ]
  },
  {
   "cell_type": "code",
   "execution_count": 15,
   "metadata": {},
   "outputs": [],
   "source": [
    "startN = 1\n",
    "endN = productLen + 1"
   ]
  },
  {
   "cell_type": "code",
   "execution_count": 13,
   "metadata": {},
   "outputs": [],
   "source": [
    "startNum = 0\n",
    "endNum = productLen "
   ]
  },
  {
   "cell_type": "code",
   "execution_count": 16,
   "metadata": {},
   "outputs": [
    {
     "name": "stdout",
     "output_type": "stream",
     "text": [
      "2 삼성전자 갤럭시 워치 액티브2 40mm 알루미늄 케이스\n",
      "3 삼성전자 갤럭시 워치 액티브2 44mm 알루미늄 케이스\n",
      "4 APPLE 워치 시리즈5 44mm 스페이스 그레이 알루미늄 케이스\n",
      "5 삼성전자 갤럭시 워치 액티브2 44mm 스테인리스 스틸 케이스\n",
      "6 샤오미 화미 어메이즈핏 GTR 47mm\n",
      "7 샤오미 화미 어메이즈핏 GTS\n",
      "8 삼성전자 갤럭시 워치 액티브2 44mm 골프 에디션\n",
      "9 APPLE 워치 시리즈5 40mm 스페이스 그레이 알루미늄 케이스\n",
      "10 샤오미 헬로우 스마트워치\n",
      "11 화웨이 워치 GT 2 46mm 클래식\n",
      "12 삼성전자 갤럭시 워치 액티브\n",
      "13 삼성전자 갤럭시 워치 액티브2 40mm 스테인리스 스틸 케이스\n",
      "14 삼성전자 갤럭시 워치 46mm\n",
      "15 APPLE 워치 시리즈5 44mm Cellular 스페이스 그레이 알루미늄 케이스\n",
      "16 APPLE 워치 시리즈5 나이키+ 44mm 스페이스 그레이 알루미늄 케이스\n",
      "17 샤오미 화미 어메이즈핏 T-Rex\n",
      "18 APPLE 워치 시리즈5 40mm 실버 알루미늄 케이스\n",
      "19 APPLE 워치 시리즈5 44mm 실버 알루미늄 케이스\n",
      "20 샤오미 화미 어메이즈핏 빕 라이트\n",
      "21 삼성전자 갤럭시 워치 액티브2 40mm 골프 에디션\n",
      "22 프라임원 엑스핏 GTS\n",
      "23 APPLE 워치 시리즈3 38mm 알루미늄 케이스\n",
      "24 삼성전자 갤럭시 워치 액티브2 44mm 언더아머 에디션\n",
      "25 삼성전자 기어S3 클래식\n",
      "26 APPLE 워치 시리즈5 44mm Cellular 스페이스 블랙 스테인리스 스틸 케이스\n",
      "27 샤오미 화미 어메이즈핏 GTR 42mm\n",
      "28 APPLE 워치 시리즈5 40mm 골드 알루미늄 케이스\n",
      "29 레노버 워치 S\n",
      "30 샤오미 화미 어메이즈핏 빕\n",
      "31 APPLE 워치 시리즈3 42mm 알루미늄 케이스\n"
     ]
    },
    {
     "ename": "IndexError",
     "evalue": "list index out of range",
     "output_type": "error",
     "traceback": [
      "\u001b[1;31m---------------------------------------------------------------------------\u001b[0m",
      "\u001b[1;31mIndexError\u001b[0m                                Traceback (most recent call last)",
      "\u001b[1;32m<ipython-input-16-4f7cd993cf8d>\u001b[0m in \u001b[0;36m<module>\u001b[1;34m\u001b[0m\n\u001b[0;32m      1\u001b[0m \u001b[1;32mfor\u001b[0m \u001b[0mi\u001b[0m \u001b[1;32min\u001b[0m \u001b[0mrange\u001b[0m\u001b[1;33m(\u001b[0m\u001b[0mstartN\u001b[0m\u001b[1;33m,\u001b[0m\u001b[0mendN\u001b[0m\u001b[1;33m)\u001b[0m\u001b[1;33m:\u001b[0m\u001b[1;33m\u001b[0m\u001b[1;33m\u001b[0m\u001b[0m\n\u001b[1;32m----> 2\u001b[1;33m     \u001b[0mtestName\u001b[0m \u001b[1;33m=\u001b[0m \u001b[0mproductName\u001b[0m\u001b[1;33m[\u001b[0m\u001b[0mi\u001b[0m\u001b[1;33m]\u001b[0m\u001b[1;33m.\u001b[0m\u001b[0mtext\u001b[0m\u001b[1;33m.\u001b[0m\u001b[0mstrip\u001b[0m\u001b[1;33m(\u001b[0m\u001b[1;33m)\u001b[0m\u001b[1;33m\u001b[0m\u001b[1;33m\u001b[0m\u001b[0m\n\u001b[0m\u001b[0;32m      3\u001b[0m     \u001b[0mprint\u001b[0m\u001b[1;33m(\u001b[0m\u001b[0mi\u001b[0m\u001b[1;33m+\u001b[0m\u001b[1;36m1\u001b[0m\u001b[1;33m,\u001b[0m \u001b[0mtestName\u001b[0m\u001b[1;33m)\u001b[0m\u001b[1;33m\u001b[0m\u001b[1;33m\u001b[0m\u001b[0m\n",
      "\u001b[1;31mIndexError\u001b[0m: list index out of range"
     ]
    }
   ],
   "source": [
    "for i in range(startN,endN):\n",
    "    testName = productName[i].text.strip()\n",
    "    print(i+1, testName)"
   ]
  },
  {
   "cell_type": "code",
   "execution_count": null,
   "metadata": {},
   "outputs": [],
   "source": []
  },
  {
   "cell_type": "code",
   "execution_count": null,
   "metadata": {},
   "outputs": [],
   "source": []
  },
  {
   "cell_type": "code",
   "execution_count": null,
   "metadata": {},
   "outputs": [],
   "source": []
  },
  {
   "cell_type": "code",
   "execution_count": 2,
   "metadata": {},
   "outputs": [
    {
     "ename": "IndexError",
     "evalue": "list index out of range",
     "output_type": "error",
     "traceback": [
      "\u001b[1;31m---------------------------------------------------------------------------\u001b[0m",
      "\u001b[1;31mIndexError\u001b[0m                                Traceback (most recent call last)",
      "\u001b[1;32m<ipython-input-2-06c1dc56c038>\u001b[0m in \u001b[0;36m<module>\u001b[1;34m\u001b[0m\n\u001b[0;32m     41\u001b[0m \u001b[1;33m\u001b[0m\u001b[0m\n\u001b[0;32m     42\u001b[0m         \u001b[1;31m# a href 태그의 name 속성명의 속성값이 productName인 것을 이용\u001b[0m\u001b[1;33m\u001b[0m\u001b[1;33m\u001b[0m\u001b[1;33m\u001b[0m\u001b[0m\n\u001b[1;32m---> 43\u001b[1;33m         \u001b[0mdriver\u001b[0m\u001b[1;33m.\u001b[0m\u001b[0mfind_elements_by_name\u001b[0m\u001b[1;33m(\u001b[0m\u001b[1;34m\"productName\"\u001b[0m\u001b[1;33m)\u001b[0m\u001b[1;33m[\u001b[0m\u001b[0mj\u001b[0m\u001b[1;33m-\u001b[0m\u001b[1;36m1\u001b[0m\u001b[1;33m]\u001b[0m\u001b[1;33m.\u001b[0m\u001b[0mclick\u001b[0m\u001b[1;33m(\u001b[0m\u001b[1;33m)\u001b[0m\u001b[1;33m\u001b[0m\u001b[1;33m\u001b[0m\u001b[0m\n\u001b[0m\u001b[0;32m     44\u001b[0m         \u001b[0mtime\u001b[0m\u001b[1;33m.\u001b[0m\u001b[0msleep\u001b[0m\u001b[1;33m(\u001b[0m\u001b[0msleepTime\u001b[0m\u001b[1;33m)\u001b[0m\u001b[1;33m\u001b[0m\u001b[1;33m\u001b[0m\u001b[0m\n\u001b[0;32m     45\u001b[0m \u001b[1;33m\u001b[0m\u001b[0m\n",
      "\u001b[1;31mIndexError\u001b[0m: list index out of range"
     ]
    }
   ],
   "source": [
    "# 4. 데이터 정제\n",
    "\n",
    "## 연주차컬럼 정제. 20XX년 09월 -> 20XX09\n",
    "yearweekIndex = 4    # rowList[i][4] 가 연주차 정보를 저장\n",
    "\n",
    "totalProdcutLen = len(rowList)\n",
    "for i in range(0, totalProdcutLen):\n",
    "    rowList[i][yearweekIndex] = rowList[i][yearweekIndex].strip().replace('년 ','').replace('월','')\n",
    "    \n",
    "    \n",
    "    \n",
    "# 5. 데이터 저장\n",
    "smartWatch = pd.DataFrame(rowList, columns = colHeaderList)\n",
    "# smartWatch = pd.DataFrame(rowList)\n",
    "\n",
    "smartWatch.to_csv('./smartWatch(danawa)ver.1.0.2.csv', index=False) "
   ]
  },
  {
   "cell_type": "code",
   "execution_count": null,
   "metadata": {},
   "outputs": [],
   "source": []
  },
  {
   "cell_type": "code",
   "execution_count": null,
   "metadata": {},
   "outputs": [],
   "source": []
  },
  {
   "cell_type": "code",
   "execution_count": null,
   "metadata": {},
   "outputs": [],
   "source": []
  }
 ],
 "metadata": {
  "kernelspec": {
   "display_name": "Python 3",
   "language": "python",
   "name": "python3"
  },
  "language_info": {
   "codemirror_mode": {
    "name": "ipython",
    "version": 3
   },
   "file_extension": ".py",
   "mimetype": "text/x-python",
   "name": "python",
   "nbconvert_exporter": "python",
   "pygments_lexer": "ipython3",
   "version": "3.7.6"
  }
 },
 "nbformat": 4,
 "nbformat_minor": 4
}
