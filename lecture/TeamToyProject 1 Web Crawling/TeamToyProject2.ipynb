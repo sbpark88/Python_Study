{
 "cells": [
  {
   "cell_type": "code",
   "execution_count": 1,
   "metadata": {},
   "outputs": [],
   "source": [
    "import requests, bs4\n",
    "from selenium import webdriver\n",
    "from selenium.webdriver.common.keys import Keys\n",
    "driver_loc = \"./chromedriver\""
   ]
  },
  {
   "cell_type": "code",
   "execution_count": 2,
   "metadata": {},
   "outputs": [],
   "source": [
    "from selenium.webdriver.common.action_chains import ActionChains\n",
    "import time\n",
    "sleepTime = 1\n",
    "from selenium.webdriver.support import expected_conditions as EC\n",
    "from selenium.webdriver.common.by import By\n",
    "from selenium.webdriver.support.ui import WebDriverWait as wait"
   ]
  },
  {
   "cell_type": "code",
   "execution_count": 3,
   "metadata": {},
   "outputs": [],
   "source": [
    "options = webdriver.ChromeOptions()\n",
    "options.add_argument('windows-size = 1920x1080')             # 적용은 안 되지만 headless때 혹시라도 도움될까 싶어서...\n",
    "# options.add_argument('headless')                           # 리눅스처럼 웹 화면 없는 경우에도 실행 가능.\n",
    "# options.add_argument('disable-gpu')\n",
    "# options.add_argument(\"user-agent=Mozilla/5.0 (Macintosh; Intel Mac OS X 10_12_6) AppleWebKit/537.36 (KHTML, like Gecko) Chrome/61.0.3163.100 Safari/537.36\")\n",
    "\n",
    "driver = webdriver.Chrome(driver_loc, options=options)"
   ]
  },
  {
   "cell_type": "code",
   "execution_count": 4,
   "metadata": {},
   "outputs": [],
   "source": [
    "# 1. 홈페이지로 이동\n",
    "danawaUrl = 'http://www.enuri.com'\n",
    "driver.get(danawaUrl)\n",
    "\n",
    "# 2. 마우스 오버로 선택이 안 되고 클릭을 해야하기 때문에 분리. 메인 메뉴 클릭.\n",
    "mainMenu = '//*[@id=\"gnbMenu\"]/li[4]/a/em'\n",
    "driver.find_element_by_xpath(mainMenu).click()\n",
    "time.sleep(sleepTime)\n",
    "\n",
    "# 3. 스마트워치 > 스마트워치 > 전체상품 보기 클릭\n",
    "subMenu1 = '//*[@id=\"first_depth3\"]/li[7]'\n",
    "subMenu2 = '//*[@id=\"first_depth3\"]/li[7]/div/ul[2]/li[1]'\n",
    "targetMenu = '//*[@id=\"first_depth3\"]/li[7]/div/ul[2]/li[1]/ul/li/a'\n",
    "\n",
    "sub1 = driver.find_element_by_xpath(subMenu1)\n",
    "sub2 = driver.find_element_by_xpath(subMenu2)\n",
    "target = driver.find_element_by_xpath(targetMenu)\n",
    "\n",
    "ActionChains(driver).move_to_element(sub1).move_to_element(sub2).click(target).perform()\n",
    "time.sleep(sleepTime)"
   ]
  },
  {
   "cell_type": "code",
   "execution_count": 5,
   "metadata": {},
   "outputs": [],
   "source": [
    "# 4. 현재 페이지 소스 가져오기\n",
    "html = driver.page_source.encode('utf-8')\n",
    "\n",
    "bs = bs4.BeautifulSoup(html, 'html.parser')\n",
    "# bs"
   ]
  },
  {
   "cell_type": "code",
   "execution_count": 6,
   "metadata": {},
   "outputs": [],
   "source": [
    "# 상품명 구하기\n",
    "name = bs.select('#listBodyDiv > li > div.sp_title > strong')\n",
    "name  #modelno_39729557 > div.sp_title > strong > a"
   ]
  },
  {
   "cell_type": "code",
   "execution_count": 54,
   "metadata": {},
   "outputs": [
    {
     "data": {
      "text/plain": [
       "'삼성전자  갤럭시 워치 액티브2 44mm 스테인리스'"
      ]
     },
     "execution_count": 54,
     "metadata": {},
     "output_type": "execute_result"
    }
   ],
   "source": [
    "import re\n",
    "\n",
    "re.split('위 ',name[0].text)[1]"
   ]
  },
  {
   "cell_type": "code",
   "execution_count": 50,
   "metadata": {},
   "outputs": [
    {
     "data": {
      "text/plain": [
       "'삼성전자  갤럭시 워치 액티브2 44mm 스테인리스'"
      ]
     },
     "execution_count": 50,
     "metadata": {},
     "output_type": "execute_result"
    }
   ],
   "source": [
    "name[0].text.split('위 ')[1]"
   ]
  },
  {
   "cell_type": "code",
   "execution_count": 55,
   "metadata": {},
   "outputs": [],
   "source": [
    "preFix = '위 '\n",
    "nameList = []\n",
    "\n",
    "for product in name:\n",
    "    nameTmp = product.text.split('위 ')[1]\n",
    "    nameList.append(nameTmp)\n",
    "    \n",
    "# nameList"
   ]
  },
  {
   "cell_type": "code",
   "execution_count": 60,
   "metadata": {},
   "outputs": [],
   "source": [
    "# summary1 (무선랜, 화면크기, 블루투스, 내장OS)\n",
    "summary1 = bs.select('#listBodyDiv > li > div.info_area > div.info_detail > div:nth-child(2)')\n",
    "# summary1"
   ]
  },
  {
   "cell_type": "code",
   "execution_count": 63,
   "metadata": {},
   "outputs": [
    {
     "data": {
      "text/plain": [
       "'스마트워치|밴드교체형|무선랜(WiFi)|화면크기:1.4\"(해상도:360x360,슈퍼AM-OLED)|터치스크린|블루투스5.0|내장OS:타이젠|호환가능OS:안드로이드5.0,iOS9.0이상\\t'"
      ]
     },
     "execution_count": 63,
     "metadata": {},
     "output_type": "execute_result"
    }
   ],
   "source": [
    "summary1[0].text"
   ]
  },
  {
   "cell_type": "code",
   "execution_count": null,
   "metadata": {},
   "outputs": [],
   "source": []
  },
  {
   "cell_type": "code",
   "execution_count": 91,
   "metadata": {},
   "outputs": [],
   "source": [
    "specList = []\n",
    "\n",
    "if (summary1[0].text.find('무선랜') != -1):\n",
    "    wifi = 1\n",
    "    "
   ]
  },
  {
   "cell_type": "code",
   "execution_count": 91,
   "metadata": {},
   "outputs": [],
   "source": [
    "if (summary1[0].text.find('화면크기') != -1):\n",
    "    screen = 1"
   ]
  },
  {
   "cell_type": "code",
   "execution_count": 91,
   "metadata": {},
   "outputs": [],
   "source": [
    "summary1[0].text.find('블루투스') != -1"
   ]
  },
  {
   "cell_type": "code",
   "execution_count": 91,
   "metadata": {},
   "outputs": [],
   "source": [
    "summary1[0].text.find('내장OS') != -1"
   ]
  },
  {
   "cell_type": "code",
   "execution_count": null,
   "metadata": {},
   "outputs": [],
   "source": [
    "//*[@id=\"modelno_39729557\"]/div[3]/div[2]/div[1]/a[4]"
   ]
  },
  {
   "cell_type": "code",
   "execution_count": null,
   "metadata": {},
   "outputs": [],
   "source": [
    "//*[@id=\"modelno_39729557\"]/div[3]/div[2]/div[1]/text()[1]"
   ]
  },
  {
   "cell_type": "code",
   "execution_count": null,
   "metadata": {},
   "outputs": [],
   "source": [
    "wifi = []\n",
    "screen = []\n",
    "bluetooth = []\n",
    "os = []\n",
    "\n"
   ]
  },
  {
   "cell_type": "code",
   "execution_count": null,
   "metadata": {},
   "outputs": [],
   "source": []
  },
  {
   "cell_type": "code",
   "execution_count": 57,
   "metadata": {},
   "outputs": [],
   "source": [
    "# summary2\n",
    "'#listBodyDiv > li > div.info_area > div.info_detail > div:nth-child(3)'"
   ]
  },
  {
   "cell_type": "code",
   "execution_count": 3,
   "metadata": {},
   "outputs": [
    {
     "name": "stdout",
     "output_type": "stream",
     "text": [
      "Collecting selenium\n",
      "  Downloading selenium-3.141.0-py2.py3-none-any.whl (904 kB)\n",
      "Requirement already satisfied: urllib3 in c:\\users\\smart-13\\anaconda3\\lib\\site-packages (from selenium) (1.25.8)\n",
      "Installing collected packages: selenium\n",
      "Successfully installed selenium-3.141.0\n"
     ]
    }
   ],
   "source": [
    "!pip install selenium"
   ]
  }
 ],
 "metadata": {
  "kernelspec": {
   "display_name": "Python 3",
   "language": "python",
   "name": "python3"
  },
  "language_info": {
   "codemirror_mode": {
    "name": "ipython",
    "version": 3
   },
   "file_extension": ".py",
   "mimetype": "text/x-python",
   "name": "python",
   "nbconvert_exporter": "python",
   "pygments_lexer": "ipython3",
   "version": "3.7.6"
  }
 },
 "nbformat": 4,
 "nbformat_minor": 4
}
