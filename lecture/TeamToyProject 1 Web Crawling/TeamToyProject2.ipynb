{
 "cells": [
  {
   "cell_type": "code",
   "execution_count": 1,
   "metadata": {},
   "outputs": [],
   "source": [
    "import requests, bs4\n",
    "from selenium import webdriver\n",
    "from selenium.webdriver.common.keys import Keys\n",
    "driver_loc = \"./chromedriver\""
   ]
  },
  {
   "cell_type": "code",
   "execution_count": 2,
   "metadata": {},
   "outputs": [],
   "source": [
    "from selenium.webdriver.common.action_chains import ActionChains\n",
    "import time\n",
    "sleepTime = 1\n",
    "from selenium.webdriver.support import expected_conditions as EC\n",
    "from selenium.webdriver.common.by import By\n",
    "from selenium.webdriver.support.ui import WebDriverWait as wait"
   ]
  },
  {
   "cell_type": "code",
   "execution_count": 3,
   "metadata": {},
   "outputs": [],
   "source": [
    "options = webdriver.ChromeOptions()\n",
    "options.add_argument('windows-size = 1920x1080')             # 적용은 안 되지만 headless때 혹시라도 도움될까 싶어서...\n",
    "# options.add_argument('headless')                           # 리눅스처럼 웹 화면 없는 경우에도 실행 가능.\n",
    "# options.add_argument('disable-gpu')\n",
    "# options.add_argument(\"user-agent=Mozilla/5.0 (Macintosh; Intel Mac OS X 10_12_6) AppleWebKit/537.36 (KHTML, like Gecko) Chrome/61.0.3163.100 Safari/537.36\")\n",
    "\n",
    "driver = webdriver.Chrome(driver_loc, options=options)"
   ]
  },
  {
   "cell_type": "code",
   "execution_count": 4,
   "metadata": {},
   "outputs": [],
   "source": [
    "# 1. 홈페이지로 이동\n",
    "danawaUrl = 'http://www.enuri.com'\n",
    "driver.get(danawaUrl)\n",
    "\n",
    "# 2. 마우스 오버로 선택이 안 되고 클릭을 해야하기 때문에 분리. 메인 메뉴 클릭.\n",
    "mainMenu = '//*[@id=\"gnbMenu\"]/li[4]/a/em'\n",
    "driver.find_element_by_xpath(mainMenu).click()\n",
    "time.sleep(sleepTime)\n",
    "\n",
    "# 3. 스마트워치 > 스마트워치 > 전체상품 보기 클릭\n",
    "subMenu = '//*[@id=\"first_depth3\"]/li[7]'\n",
    "targetMenu = '//*[@id=\"first_depth3\"]/li[7]/div/ul[2]/li[1]'\n",
    "\n",
    "sub = driver.find_element_by_xpath(subMenu)\n",
    "target = driver.find_element_by_xpath(targetMenu)\n",
    "\n",
    "ActionChains(driver).move_to_element(sub).click(target).perform()\n",
    "time.sleep(sleepTime)\n",
    "\n",
    "# 가격비교 이동\n",
    "compareXpath = '//*[@id=\"tabsDiv\"]/li[2]/a'\n",
    "compareMenu = driver.find_element_by_xpath(compareXpath)\n",
    "compareMenu.click()\n",
    "time.sleep(sleepTime)\n",
    "\n",
    "# 90개씩 보기\n",
    "viewXpath = '//*[@id=\"pageGapSelDiv\"]/a'\n",
    "viewMenu = driver.find_element_by_xpath(viewXpath)\n",
    "viewMenu.click()\n",
    "time.sleep(sleepTime)\n",
    "\n",
    "ninetyXpath = '//*[@id=\"pageGapSelDiv\"]/ul/li[3]/a'\n",
    "ninetyMenu = driver.find_element_by_xpath(ninetyXpath)\n",
    "ninetyMenu.click()\n",
    "time.sleep(sleepTime)\n",
    "\n",
    "# 4. 현재 페이지 소스 가져오기\n",
    "html = driver.page_source.encode('utf-8')\n",
    "\n",
    "bs = bs4.BeautifulSoup(html, 'html.parser')\n",
    "# bs"
   ]
  },
  {
   "cell_type": "code",
   "execution_count": 5,
   "metadata": {},
   "outputs": [],
   "source": [
    "# 상품명 구하기\n",
    "name = bs.select('#listBodyDiv > li > div.sp_title > strong')\n",
    "# name    # 디버깅용."
   ]
  },
  {
   "cell_type": "code",
   "execution_count": 6,
   "metadata": {},
   "outputs": [],
   "source": [
    "preFix = '위 '\n",
    "nameList = []\n",
    "\n",
    "for product in name:\n",
    "    try:\n",
    "        nameTmp = product.text.split('위 ')[1]    # re.split('위 ',name[0].text)[1] 로 바꿀 수도 있음.\n",
    "        nameList.append(nameTmp)\n",
    "    except Exception as e:\n",
    "        nameTmp = product.text\n",
    "        nameList.append(nameTmp)\n",
    "    \n",
    "# nameList    # 디버깅용."
   ]
  },
  {
   "cell_type": "code",
   "execution_count": 7,
   "metadata": {},
   "outputs": [],
   "source": [
    "# summary1 (무선랜, 화면크기, 블루투스, 내장OS)\n",
    "summary1 = bs.select('#listBodyDiv > li > div.info_area > div.info_detail > div:nth-child(2)')\n",
    "# summary1"
   ]
  },
  {
   "cell_type": "code",
   "execution_count": 8,
   "metadata": {},
   "outputs": [
    {
     "data": {
      "text/plain": [
       "'스마트워치|밴드교체형|무선랜(WiFi)|화면크기:1.4\"(해상도:360x360,슈퍼AM-OLED)|터치스크린|블루투스5.0|내장OS:타이젠|호환가능OS:안드로이드5.0,iOS9.0이상\\t'"
      ]
     },
     "execution_count": 8,
     "metadata": {},
     "output_type": "execute_result"
    }
   ],
   "source": [
    "summary1[0].text"
   ]
  },
  {
   "cell_type": "markdown",
   "metadata": {},
   "source": [
    "# 액정 정보나 내장 OS 정보는 아래에는 나오지 않아서 위에서 긁어올까 싶어서 작성하다 중간에 멈췄는데요... 근데 정보 누락이 많아서 이걸 여기서 긁을지 다나와에서 긁어서 병합 하는걸 시도해볼지 생각해봅시다."
   ]
  },
  {
   "cell_type": "code",
   "execution_count": 91,
   "metadata": {},
   "outputs": [],
   "source": [
    "specList = []\n",
    "\n",
    "if (summary1[0].text.find('무선랜') != -1):\n",
    "    wifi = 1"
   ]
  },
  {
   "cell_type": "code",
   "execution_count": 91,
   "metadata": {},
   "outputs": [],
   "source": [
    "if (summary1[0].text.find('화면크기') != -1):\n",
    "    screen = 1"
   ]
  },
  {
   "cell_type": "code",
   "execution_count": 91,
   "metadata": {},
   "outputs": [],
   "source": [
    "summary1[0].text.find('블루투스') != -1"
   ]
  },
  {
   "cell_type": "code",
   "execution_count": 91,
   "metadata": {},
   "outputs": [],
   "source": [
    "summary1[0].text.find('내장OS') != -1"
   ]
  },
  {
   "cell_type": "code",
   "execution_count": null,
   "metadata": {},
   "outputs": [],
   "source": [
    "wifi = []\n",
    "screen = []\n",
    "bluetooth = []\n",
    "os = []\n",
    "\n"
   ]
  },
  {
   "cell_type": "code",
   "execution_count": null,
   "metadata": {},
   "outputs": [],
   "source": [
    "#modelno_39729557 > div.info_area > div.info_detail > div:nth-child(3)"
   ]
  },
  {
   "cell_type": "code",
   "execution_count": 9,
   "metadata": {},
   "outputs": [],
   "source": [
    "# summary2\n",
    "summary2 = bs.select('#listBodyDiv > li > div.info_area > div.info_detail > div:nth-child(3)')\n",
    "# summary2    # 디버깅용."
   ]
  },
  {
   "cell_type": "code",
   "execution_count": 10,
   "metadata": {},
   "outputs": [
    {
     "data": {
      "text/plain": [
       "'[하드웨어]|램:768M|4G내장|[수신알림+내용확인]|SNS,문자,전화|[건강관리]|스트레스모니터링|이동거리측정|달리기|사이클링|수영모니터링|심박측정|칼로리측정|운동정보기록|수면패턴분석|만보계|[부가기능]|다중언어|GPS|원격촬영|음성명령|화면테마설정|자이로센서|NFC|무선충전|생활방수(IP68)|[사용시간]|사용시간:평균 60시간,최대 131시간|[기타규격]|배터리일체형(330mAh)|재질:스테인리스스틸|무게:42g\\t'"
      ]
     },
     "execution_count": 10,
     "metadata": {},
     "output_type": "execute_result"
    }
   ],
   "source": [
    "summary2[0].text"
   ]
  },
  {
   "cell_type": "markdown",
   "metadata": {},
   "source": [
    "# 위에 이름은 90개 정확히 잘 긁어와지는데 여기는 빈 곳이 있어요. 이걸 비어있는데가 어디인지 매칭을 시켜줘서 none 처리 해서 90개 리스트 인덱스 맞춰서 담아야 할 것 같은데 try except를 어떻게 써야할지 고민해봐야 할 것 같아요. 담은 다음에 이 문자열을 잘 분리해서 '하드웨어', '수신알림+내용확인','건강관리' 이런거 분류하면 되지 않을까 싶어요."
   ]
  },
  {
   "cell_type": "code",
   "execution_count": 13,
   "metadata": {},
   "outputs": [
    {
     "ename": "SyntaxError",
     "evalue": "unexpected EOF while parsing (<ipython-input-13-fa697d0a4bfc>, line 6)",
     "output_type": "error",
     "traceback": [
      "\u001b[0;36m  File \u001b[0;32m\"<ipython-input-13-fa697d0a4bfc>\"\u001b[0;36m, line \u001b[0;32m6\u001b[0m\n\u001b[0;31m    summary2List.append(specsTmp)\u001b[0m\n\u001b[0m                                 ^\u001b[0m\n\u001b[0;31mSyntaxError\u001b[0m\u001b[0;31m:\u001b[0m unexpected EOF while parsing\n"
     ]
    }
   ],
   "source": [
    "summary2List = []\n",
    "\n",
    "for product in summary2:\n",
    "    try:\n",
    "        specsTmp = product.text\n",
    "        summary2List.append(specsTmp)"
   ]
  },
  {
   "cell_type": "code",
   "execution_count": 32,
   "metadata": {},
   "outputs": [
    {
     "data": {
      "text/plain": [
       "87"
      ]
     },
     "execution_count": 32,
     "metadata": {},
     "output_type": "execute_result"
    }
   ],
   "source": [
    "len(summary2)"
   ]
  },
  {
   "cell_type": "code",
   "execution_count": 31,
   "metadata": {},
   "outputs": [
    {
     "data": {
      "text/plain": [
       "<div class=\"summary\"><b>[하드웨어]</b><em>|</em><a class=\"dicLink att_txt_165799_0\" href=\"JavaScript:\">CPU</a>:1.15GHz,듀얼코어<em>|</em><a class=\"dicLink att_txt_165506_0\" href=\"JavaScript:\">램</a>:768M<em>|</em><a class=\"dicLink att_txt_165499_2\" href=\"JavaScript:\">4G내장</a><em>|</em><br/><b>[건강관리]</b><em>|</em>스트레스모니터링<em>|</em><a class=\"dicLink att_txt_193512_36\" href=\"JavaScript:\">호흡가이드</a><em>|</em>달리기<em>|</em>수영모니터링<em>|</em><a class=\"dicLink att_txt_193512_1\" href=\"JavaScript:\">심박측정</a><em>|</em><a class=\"dicLink att_txt_193512_2\" href=\"JavaScript:\">운동정보기록</a><em>|</em><a class=\"dicLink att_txt_193512_6\" href=\"JavaScript:\">수면패턴분석</a><em>|</em><br/><b>[부가기능]</b><em>|</em><a class=\"dicLink att_txt_198508_105\" href=\"JavaScript:\">심박센서</a><em>|</em>GPS<em>|</em>날씨<em>|</em>일정관리<em>|</em><a class=\"dicLink att_txt_198508_52\" href=\"JavaScript:\">자이로센서</a><em>|</em><a class=\"dicLink att_txt_198508_56\" href=\"JavaScript:\">NFC</a><em>|</em>고도센서<em>|</em>기압센서<em>|</em>속도계<em>|</em>스마트 캐디앱<em>|</em>그린맵<em>|</em>코스뷰<em>|</em>스코어카드<em>|</em>홀 자동 인식<em>|</em><a class=\"dicLink att_txt_198492_28\" href=\"JavaScript:\">생활방수(IP68)</a><em>|</em><a class=\"dicLink att_txt_198492_31\" href=\"JavaScript:\">방수(5ATM)</a><em>|</em><a class=\"dicLink att_txt_198497_0\" href=\"JavaScript:\">사용시간</a>:평균 80시간,최대 168시간<em>|</em>음악:16시간<em>|</em><br/><b>[기타규격]</b><em>|</em><a class=\"dicLink att_txt_165523_2\" href=\"JavaScript:\">배터리일체형</a>(472mAh)<em>|</em><a class=\"dicLink att_txt_165640_0\" href=\"JavaScript:\">색상</a>:실버<em>|</em><a class=\"dicLink att_txt_198495_0\" href=\"JavaScript:\">무게</a>:63g\t</div>"
      ]
     },
     "execution_count": 31,
     "metadata": {},
     "output_type": "execute_result"
    }
   ],
   "source": [
    "summary2[30]"
   ]
  },
  {
   "cell_type": "code",
   "execution_count": 3,
   "metadata": {},
   "outputs": [
    {
     "name": "stdout",
     "output_type": "stream",
     "text": [
      "Collecting selenium\n",
      "  Downloading selenium-3.141.0-py2.py3-none-any.whl (904 kB)\n",
      "Requirement already satisfied: urllib3 in c:\\users\\smart-13\\anaconda3\\lib\\site-packages (from selenium) (1.25.8)\n",
      "Installing collected packages: selenium\n",
      "Successfully installed selenium-3.141.0\n"
     ]
    }
   ],
   "source": [
    "!pip install selenium"
   ]
  }
 ],
 "metadata": {
  "kernelspec": {
   "display_name": "Python 3",
   "language": "python",
   "name": "python3"
  },
  "language_info": {
   "codemirror_mode": {
    "name": "ipython",
    "version": 3
   },
   "file_extension": ".py",
   "mimetype": "text/x-python",
   "name": "python",
   "nbconvert_exporter": "python",
   "pygments_lexer": "ipython3",
   "version": "3.8.2"
  }
 },
 "nbformat": 4,
 "nbformat_minor": 4
}
