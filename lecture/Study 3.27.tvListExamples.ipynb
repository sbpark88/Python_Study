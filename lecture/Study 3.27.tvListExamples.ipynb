{
 "cells": [
  {
   "cell_type": "markdown",
   "metadata": {},
   "source": [
    "# 목차\n",
    "## tvList 리스트를 활용하여 문자열 분리 및 처리\n",
    "## if문 이용해 성적 산출\n",
    "## for문 인덱싱 다양한 예제"
   ]
  },
  {
   "cell_type": "code",
   "execution_count": 10,
   "metadata": {},
   "outputs": [
    {
     "data": {
      "text/plain": [
       "['UN40EN001', 'UN40EN002', 'UN40EN003', 'UN40EN004']"
      ]
     },
     "execution_count": 10,
     "metadata": {},
     "output_type": "execute_result"
    }
   ],
   "source": [
    "preFix = 'UN40EN00'\n",
    "tvList2 = []\n",
    "\n",
    "for i in range (0, 4,):\n",
    "    tvList2.append(preFix + str(i+1))\n",
    "tvList2"
   ]
  },
  {
   "cell_type": "markdown",
   "metadata": {},
   "source": [
    "### tvList2 = [ 'UN40EN001', 'LEDTV_UN40EN002', 'LEDTV_LEDTV_UN40EN003’, ‘ledtv_UN40EN004’]\n",
    "### 리스트에서 LEDTV_가 한 개만 앞에 붙도록 하세요. (기존 문제 + 소문자 처리)"
   ]
  },
  {
   "cell_type": "code",
   "execution_count": 1,
   "metadata": {},
   "outputs": [],
   "source": [
    "tvList2 = ['UN40EN001','LEDTV_UN40EN002','LEDTV_LEDTV_UN40EN003','ledtv_UN40EN004']"
   ]
  },
  {
   "cell_type": "code",
   "execution_count": 2,
   "metadata": {},
   "outputs": [
    {
     "data": {
      "text/plain": [
       "['LEDTV_un40en001',\n",
       " 'LEDTV_ledtv_un40en002',\n",
       " 'LEDTV_ledtv_ledtv_un40en003',\n",
       " 'LEDTV_ledtv_un40en004']"
      ]
     },
     "execution_count": 2,
     "metadata": {},
     "output_type": "execute_result"
    }
   ],
   "source": [
    "preFix = \"LEDTV_\"\n",
    "\n",
    "for i in range (0,len(tvList2),):\n",
    "    tvList2[i] = tvList2[i].upper()    ## 다시 값 집어 넣는거 매우 중요! 바꿔서 출력만 할거면 필요 없지만 수정할거면 교체해야.\n",
    "    if tvList2[i].count(preFix) > 1:\n",
    "        tvList2[i] = tvList2[i].replace(preFix,\"\")    ## 다시 값 집어 넣는거 매우 중요!\n",
    "        tvList2[i] = preFix + tvList2[i]\n",
    "    elif tvList2[i].count(preFix) == 1:\n",
    "        pass\n",
    "    else:\n",
    "        tvList2[i] = preFix + tvList2[i]\n",
    "tvList2"
   ]
  },
  {
   "cell_type": "markdown",
   "metadata": {},
   "source": [
    "### nationList [‘A01’ , ‘한국’ , ‘A02’ , ‘미국’ , ‘A03’ , ‘프랑스’] 국가코드만 출력하세요"
   ]
  },
  {
   "cell_type": "code",
   "execution_count": 2,
   "metadata": {},
   "outputs": [
    {
     "data": {
      "text/plain": [
       "['A01', 'A02', 'A03']"
      ]
     },
     "execution_count": 2,
     "metadata": {},
     "output_type": "execute_result"
    }
   ],
   "source": [
    "nationList = ['A01' , '한국' , 'A02' , '미국' , 'A03' , '프랑스']\n",
    "answerList = []\n",
    "\n",
    "# 리스트로 출력\n",
    "for i in range(0, len(nationList), 2):    # % 연산자를 사용할 수도 있다. % 2 == 0 , % 2 == 1\n",
    "    answerList.append(nationList[i])\n",
    "answerList"
   ]
  },
  {
   "cell_type": "code",
   "execution_count": 3,
   "metadata": {},
   "outputs": [
    {
     "name": "stdout",
     "output_type": "stream",
     "text": [
      "A01\n",
      "A02\n",
      "A03\n"
     ]
    }
   ],
   "source": [
    "# 값으로 출력\n",
    "for i in range(0, len(nationList), 2):\n",
    "    print(nationList[i])"
   ]
  },
  {
   "cell_type": "markdown",
   "metadata": {},
   "source": [
    "### SCORE  변수를 80으로 선언 후, 90점이상 A, 80~90점 B, 이외 C 점수로 GRADE변수에 할당하는 프로그램을 구현하세요"
   ]
  },
  {
   "cell_type": "code",
   "execution_count": 7,
   "metadata": {},
   "outputs": [
    {
     "name": "stdout",
     "output_type": "stream",
     "text": [
      "점수는  B 입니다.\n"
     ]
    }
   ],
   "source": [
    "score = 80\n",
    "if score >= 90:\n",
    "    grade = 'A'\n",
    "elif score >= 80:\n",
    "    grade = 'B'\n",
    "else:\n",
    "    grade = 'C'\n",
    "    \n",
    "print(\"점수는 \", grade, \"입니다.\")"
   ]
  },
  {
   "cell_type": "code",
   "execution_count": 3,
   "metadata": {},
   "outputs": [
    {
     "name": "stdout",
     "output_type": "stream",
     "text": [
      "점수는 80 입니다.\n"
     ]
    }
   ],
   "source": []
  },
  {
   "cell_type": "code",
   "execution_count": 5,
   "metadata": {},
   "outputs": [
    {
     "name": "stdout",
     "output_type": "stream",
     "text": [
      "UN40EN001\n",
      "UN40EN002\n",
      "UN40EN003\n",
      "UN40EN004\n"
     ]
    }
   ],
   "source": [
    "tvList2 = ['UN40EN001', 'UN40EN002', 'UN40EN003', 'UN40EN004']\n",
    "for i in range(0, len(tvList2),):\n",
    "    print(tvList2[i])"
   ]
  },
  {
   "cell_type": "code",
   "execution_count": 4,
   "metadata": {},
   "outputs": [
    {
     "name": "stdout",
     "output_type": "stream",
     "text": [
      "A01\n",
      "A02\n",
      "A03\n"
     ]
    }
   ],
   "source": [
    "nationList = ['A01' , '한국' , 'A02' , '미국' , 'A03' , '프랑스']\n",
    "\n",
    "for i in range(0, len(nationList), 2): # for if 문을 통해 if문 안에 % 2 로 짝수를 판별하게 만들 수도 있다.\n",
    "    print(nationList[i])"
   ]
  },
  {
   "cell_type": "code",
   "execution_count": 9,
   "metadata": {},
   "outputs": [
    {
     "name": "stdout",
     "output_type": "stream",
     "text": [
      "UN40EN001\n",
      "UN40EN002\n",
      "UN40EN003\n",
      "UN40EN004\n"
     ]
    }
   ],
   "source": [
    "tvList2 = ['UN40EN001', 'UN40EN002', 'UN40EN003', 'UN40EN004']\n",
    "\n",
    "for i in range (0, len(tvList2),):\n",
    "    print(tvList2[i])"
   ]
  },
  {
   "cell_type": "code",
   "execution_count": 10,
   "metadata": {},
   "outputs": [],
   "source": [
    "testList = ['LEDtvFile1','LEDtvFile2','LEDtvFile3','LEDtvFile4']"
   ]
  },
  {
   "cell_type": "code",
   "execution_count": 12,
   "metadata": {},
   "outputs": [
    {
     "data": {
      "text/plain": [
       "['LEDtvFile1', 'LEDTVFile2', 'LEDtvFile3', 'LEDtvFile4']"
      ]
     },
     "execution_count": 12,
     "metadata": {},
     "output_type": "execute_result"
    }
   ],
   "source": [
    "testList[1] = testList[1].replace(\"tv\",\"TV\")\n",
    "testList"
   ]
  },
  {
   "cell_type": "code",
   "execution_count": 1,
   "metadata": {},
   "outputs": [],
   "source": [
    "positiveIntegerList = [0,1,2,3,4,5,\\\n",
    "    6,7,8,9,10,11,12,13,14,15,16,17,18,19,20]"
   ]
  },
  {
   "cell_type": "code",
   "execution_count": 2,
   "metadata": {},
   "outputs": [
    {
     "name": "stdout",
     "output_type": "stream",
     "text": [
      "0\n",
      "1\n",
      "2\n",
      "3\n",
      "4\n",
      "5\n",
      "6\n",
      "7\n",
      "8\n",
      "9\n",
      "10\n",
      "11\n",
      "12\n",
      "13\n",
      "14\n",
      "15\n",
      "16\n",
      "17\n",
      "18\n",
      "19\n",
      "20\n"
     ]
    }
   ],
   "source": [
    "for i in positiveIntegerList:    # for문의 범위를 이렇게 리스트 전체로 편하게 줄 수도 있다.\n",
    "    print(positiveIntegerList[i])    "
   ]
  },
  {
   "cell_type": "code",
   "execution_count": 3,
   "metadata": {},
   "outputs": [
    {
     "name": "stdout",
     "output_type": "stream",
     "text": [
      "[2, 3, 4, 5, 6]\n"
     ]
    }
   ],
   "source": [
    "print(positiveIntegerList[2:7])"
   ]
  },
  {
   "cell_type": "code",
   "execution_count": 4,
   "metadata": {},
   "outputs": [
    {
     "name": "stdout",
     "output_type": "stream",
     "text": [
      "2\n",
      "3\n",
      "4\n",
      "5\n",
      "6\n"
     ]
    }
   ],
   "source": [
    "for i in range (2,7,):\n",
    "    print(positiveIntegerList[i])"
   ]
  },
  {
   "cell_type": "code",
   "execution_count": 5,
   "metadata": {},
   "outputs": [
    {
     "name": "stdout",
     "output_type": "stream",
     "text": [
      "[2, 4, 6, 8]\n"
     ]
    }
   ],
   "source": [
    "print(positiveIntegerList[2:9:2])"
   ]
  },
  {
   "cell_type": "code",
   "execution_count": 6,
   "metadata": {},
   "outputs": [
    {
     "name": "stdout",
     "output_type": "stream",
     "text": [
      "2\n",
      "4\n",
      "6\n",
      "8\n"
     ]
    }
   ],
   "source": [
    "for i in range (2, 9, 2):\n",
    "    print(positiveIntegerList[i])"
   ]
  },
  {
   "cell_type": "code",
   "execution_count": 7,
   "metadata": {},
   "outputs": [
    {
     "name": "stdout",
     "output_type": "stream",
     "text": [
      "[2, 4, 6, 8, 10, 12, 14, 16, 18, 20]\n"
     ]
    }
   ],
   "source": [
    "print(positiveIntegerList[2::2])"
   ]
  },
  {
   "cell_type": "code",
   "execution_count": 9,
   "metadata": {},
   "outputs": [
    {
     "name": "stdout",
     "output_type": "stream",
     "text": [
      "[2, 5, 8, 11, 14, 17, 20]\n"
     ]
    }
   ],
   "source": [
    "print(positiveIntegerList[2::3])"
   ]
  },
  {
   "cell_type": "code",
   "execution_count": 10,
   "metadata": {},
   "outputs": [
    {
     "name": "stdout",
     "output_type": "stream",
     "text": [
      "2\n",
      "5\n",
      "8\n",
      "11\n",
      "14\n",
      "17\n",
      "20\n"
     ]
    }
   ],
   "source": [
    "for i in range (2, len(positiveIntegerList), 3):\n",
    "    print(positiveIntegerList[i])"
   ]
  }
 ],
 "metadata": {
  "kernelspec": {
   "display_name": "Python 3",
   "language": "python",
   "name": "python3"
  },
  "language_info": {
   "codemirror_mode": {
    "name": "ipython",
    "version": 3
   },
   "file_extension": ".py",
   "mimetype": "text/x-python",
   "name": "python",
   "nbconvert_exporter": "python",
   "pygments_lexer": "ipython3",
   "version": "3.8.2"
  }
 },
 "nbformat": 4,
 "nbformat_minor": 4
}
