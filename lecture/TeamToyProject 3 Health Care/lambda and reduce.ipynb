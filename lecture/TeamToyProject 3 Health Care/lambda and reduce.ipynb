{
 "cells": [
  {
   "cell_type": "code",
   "execution_count": 46,
   "metadata": {},
   "outputs": [
    {
     "data": {
      "text/plain": [
       "[0, 1, 4, 9, 16]"
      ]
     },
     "execution_count": 46,
     "metadata": {},
     "output_type": "execute_result"
    }
   ],
   "source": [
    "list(map(lambda x: x ** 2, range(5)))"
   ]
  },
  {
   "cell_type": "code",
   "execution_count": 58,
   "metadata": {},
   "outputs": [],
   "source": [
    "from functools import reduce"
   ]
  },
  {
   "cell_type": "code",
   "execution_count": 80,
   "metadata": {},
   "outputs": [],
   "source": [
    "def XandY(x, y):\n",
    "    print(\"x:{}    y:{}    x + y:{}\".format(x, y, x + y))\n",
    "    return x+y"
   ]
  },
  {
   "cell_type": "code",
   "execution_count": 81,
   "metadata": {},
   "outputs": [
    {
     "name": "stdout",
     "output_type": "stream",
     "text": [
      "x:0    y:1    x+y:1\n",
      "x:1    y:2    x+y:3\n",
      "x:3    y:3    x+y:6\n",
      "x:6    y:4    x+y:10\n"
     ]
    },
    {
     "data": {
      "text/plain": [
       "10"
      ]
     },
     "execution_count": 81,
     "metadata": {},
     "output_type": "execute_result"
    }
   ],
   "source": [
    "reduce(lambda x, y: XandY(x, y), [0, 1, 2, 3, 4])"
   ]
  },
  {
   "cell_type": "code",
   "execution_count": 82,
   "metadata": {},
   "outputs": [],
   "source": [
    "def YandX(y, x):\n",
    "    print(\"y:{}    x:{}    y + x:{}\".format(y, x, y + x))\n",
    "    return y + x"
   ]
  },
  {
   "cell_type": "code",
   "execution_count": 83,
   "metadata": {},
   "outputs": [
    {
     "name": "stdout",
     "output_type": "stream",
     "text": [
      "y:1    x:0    y+x:1\n",
      "y:2    x:1    y+x:3\n",
      "y:3    x:3    y+x:6\n",
      "y:4    x:6    y+x:10\n"
     ]
    },
    {
     "data": {
      "text/plain": [
       "10"
      ]
     },
     "execution_count": 83,
     "metadata": {},
     "output_type": "execute_result"
    }
   ],
   "source": [
    "reduce(lambda x, y: YandX(y, x), [0, 1, 2, 3, 4])"
   ]
  },
  {
   "cell_type": "code",
   "execution_count": 92,
   "metadata": {},
   "outputs": [],
   "source": [
    "def XandY(x, y):\n",
    "    print(\"x:{}    y:{}    x, y:{}, {}\".format(x, y, x, y))\n",
    "    return x, y"
   ]
  },
  {
   "cell_type": "code",
   "execution_count": 93,
   "metadata": {},
   "outputs": [
    {
     "name": "stdout",
     "output_type": "stream",
     "text": [
      "x:A    y:B    x, y:A, B\n",
      "x:('A', 'B')    y:C    x, y:('A', 'B'), C\n",
      "x:(('A', 'B'), 'C')    y:D    x, y:(('A', 'B'), 'C'), D\n",
      "x:((('A', 'B'), 'C'), 'D')    y:E    x, y:((('A', 'B'), 'C'), 'D'), E\n"
     ]
    },
    {
     "data": {
      "text/plain": [
       "(((('A', 'B'), 'C'), 'D'), 'E')"
      ]
     },
     "execution_count": 93,
     "metadata": {},
     "output_type": "execute_result"
    }
   ],
   "source": [
    "reduce(lambda x, y: XandY(x, y), ['A', 'B', 'C', 'D', 'E'])"
   ]
  },
  {
   "cell_type": "code",
   "execution_count": 94,
   "metadata": {},
   "outputs": [],
   "source": [
    "def YandX(y, x):\n",
    "    print(\"y:{}    x:{}    y, x:{}, {}\".format(y, x, y, x))\n",
    "    return y, x"
   ]
  },
  {
   "cell_type": "code",
   "execution_count": 95,
   "metadata": {},
   "outputs": [
    {
     "name": "stdout",
     "output_type": "stream",
     "text": [
      "y:B    x:A    y, x:B, A\n",
      "y:C    x:('B', 'A')    y, x:C, ('B', 'A')\n",
      "y:D    x:('C', ('B', 'A'))    y, x:D, ('C', ('B', 'A'))\n",
      "y:E    x:('D', ('C', ('B', 'A')))    y, x:E, ('D', ('C', ('B', 'A')))\n"
     ]
    },
    {
     "data": {
      "text/plain": [
       "('E', ('D', ('C', ('B', 'A'))))"
      ]
     },
     "execution_count": 95,
     "metadata": {},
     "output_type": "execute_result"
    }
   ],
   "source": [
    "reduce(lambda x, y: YandX(y, x), ['A', 'B', 'C', 'D', 'E'])"
   ]
  },
  {
   "cell_type": "code",
   "execution_count": null,
   "metadata": {},
   "outputs": [],
   "source": [
    "if any(\"문자열\" in each for each in 리스트):\n",
    "\n",
    "if thing in some_list: some_list.remove(thing):\n",
    " \n",
    "while thing in some_list:some_list.remove(thing)\n",
    "    \n",
    "is_not_thing = lambda x: x is not thing\n",
    "cleaned_list = filter(is_not_thing, some_list)\n",
    "\n",
    "cleaned_list = [ x for x in some_list if x is not thing ]\n",
    "\n",
    "for item in (x for x in some_list if x is not thing):\n",
    "    do_your_thing_with(item)"
   ]
  },
  {
   "cell_type": "code",
   "execution_count": null,
   "metadata": {},
   "outputs": [],
   "source": [
    "[each for each in targetList if targetWord in each]"
   ]
  }
 ],
 "metadata": {
  "kernelspec": {
   "display_name": "Python 3",
   "language": "python",
   "name": "python3"
  },
  "language_info": {
   "codemirror_mode": {
    "name": "ipython",
    "version": 3
   },
   "file_extension": ".py",
   "mimetype": "text/x-python",
   "name": "python",
   "nbconvert_exporter": "python",
   "pygments_lexer": "ipython3",
   "version": "3.7.6"
  }
 },
 "nbformat": 4,
 "nbformat_minor": 4
}
