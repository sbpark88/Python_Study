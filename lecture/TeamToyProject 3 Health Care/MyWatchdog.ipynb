{
 "cells": [
  {
   "cell_type": "code",
   "execution_count": 1,
   "metadata": {},
   "outputs": [],
   "source": [
    "import os\n",
    "import re\n",
    "\n",
    "from datetime import datetime\n",
    "from glob import glob\n",
    "import time"
   ]
  },
  {
   "cell_type": "code",
   "execution_count": 2,
   "metadata": {},
   "outputs": [],
   "source": [
    "# 캐시 파일 등은 제외하고 디렉토리만 리스트로 추출하는 함수\n",
    "def findDir(pwd):\n",
    "    directory = []\n",
    "    try:\n",
    "        totalDir = os.listdir(pwd)\n",
    "    except Exception as e:\n",
    "        print(e)\n",
    "        \n",
    "    for eachDir in totalDir:\n",
    "        fullDir = os.path.join(pwd, eachDir)\n",
    "        if os.path.isdir(fullDir):\n",
    "            directory.append(eachDir)\n",
    "\n",
    "    return directory\n",
    "\n",
    "# 입력 받은 디렉토리(pwd)와 그 하위 디렉토리 목록(subDir)을 입력 받아 경로를 merge 시켜 리스트로 반환\n",
    "def mergeSubDirList(pwd, subDir):\n",
    "    reDefinedDir = []\n",
    "    \n",
    "    for eachDir in subDir:\n",
    "        reDefinedDir.append(os.path.join(pwd, eachDir))\n",
    "    \n",
    "    return reDefinedDir\n",
    "\n",
    "# 대상 경로를 입력해주면 해당 경로의 하위의 하위 디렉토리까지 리스트로 반환\n",
    "def findTreeDir(pwd):\n",
    "    # 인풋 파라미터의 디렉토리 내의 디렉토리를 리스트로 만들어 병합\n",
    "    subDir = findDir(pwd)\n",
    "    subDirList = mergeSubDirList(pwd, subDir)\n",
    "    \n",
    "    # 위 디렉토리 리스트 내의 디렉토리를 다시 한 번 리스트로 만들어 병합\n",
    "    treeDirList = []\n",
    "    for each in subDirList:\n",
    "        subDirList = findDir(each)\n",
    "        treeDirList.append(mergeSubDirList(each, subDirList))\n",
    "\n",
    "    return treeDirList\n",
    "\n",
    "# 최신 디렉토리만 리스트로 반환\n",
    "def findLatest(categories, index):\n",
    "    result = []\n",
    "\n",
    "    for eachList in categories:\n",
    "        eachList.sort()\n",
    "        try:\n",
    "            result.append(eachList[-index])\n",
    "        except Exception as e:\n",
    "            result.append(eachList[0])\n",
    "            print(e)\n",
    "\n",
    "    return result\n",
    "\n",
    "# 입력 받은 디렉토리에서 CSV 파일만 전체 디렉토리 리스트로 추출\n",
    "def findCsv(pwd):\n",
    "    try:\n",
    "        fileList = os.listdir(pwd)\n",
    "        csvList = [file for file in fileList if (file.endswith(\".csv\")) \\\n",
    "                   and (file.split(\"\\\\\")[-1].split(\".\")[0] == \"com\")\\\n",
    "                    and (re.search(\"(food|breath|reward|hist|recommend)\", file) is None)]\n",
    "    except Exception as e:\n",
    "        print(e)\n",
    "    \n",
    "    return csvList\n",
    "\n",
    "# 입력 받은 디렉토리 내에 csv 파일을 찾아 전체 디렉토리를 리스트로 반환\n",
    "def findCsvDir(pwd):\n",
    "    # 디렉토리 내 csv 파일을 리스트로 반환\n",
    "    try:\n",
    "        csvList = findCsv(pwd)\n",
    "    except Exception as e:\n",
    "        print(e)\n",
    "    try:\n",
    "        csvPathList = mergeSubDirList(pwd, csvList)\n",
    "    except Exception as e:\n",
    "        print(e)\n",
    "\n",
    "    return csvPathList"
   ]
  },
  {
   "cell_type": "code",
   "execution_count": 35,
   "metadata": {},
   "outputs": [],
   "source": [
    "# CSV 로그 파일 생성\n",
    "\n",
    "import pandas as pd\n",
    "temp = pd.DataFrame(columns=['name','date'])\n",
    "temp.to_csv(\"watchdog.csv\",encoding='utf-8', index=False)"
   ]
  },
  {
   "cell_type": "code",
   "execution_count": 3,
   "metadata": {},
   "outputs": [
    {
     "data": {
      "text/plain": [
       "'/Users/saebyul/OneDrive - 한국폴리텍대학/gitStudy/Python_Study/lecture/TeamHealthCareProject'"
      ]
     },
     "execution_count": 3,
     "metadata": {},
     "output_type": "execute_result"
    }
   ],
   "source": [
    "pwd"
   ]
  },
  {
   "cell_type": "code",
   "execution_count": 7,
   "metadata": {},
   "outputs": [],
   "source": [
    "# 1. Data 디렉토리 설정\n",
    "baseDir = './HealthCare/'\n",
    "\n",
    "# 2. 유저별 전체 디렉토리 구조를 리스트로 추출\n",
    "usersDirList = findTreeDir(baseDir)\n",
    "\n",
    "# 3. 유저별 마지막 날짜의 디렉토리 리스트\n",
    "usersLatestPath = findLatest(usersDirList, 1)"
   ]
  },
  {
   "cell_type": "code",
   "execution_count": 9,
   "metadata": {},
   "outputs": [
    {
     "data": {
      "text/plain": [
       "['./HealthCare/hoseong/hoseong(200720)',\n",
       " './HealthCare/donghue/donghue(200717)',\n",
       " './HealthCare/shinee/shinee(200720)']"
      ]
     },
     "execution_count": 9,
     "metadata": {},
     "output_type": "execute_result"
    }
   ],
   "source": [
    "usersLatestPath"
   ]
  },
  {
   "cell_type": "code",
   "execution_count": null,
   "metadata": {},
   "outputs": [],
   "source": [
    "usersLatestPath[0]를 변수로..."
   ]
  },
  {
   "cell_type": "code",
   "execution_count": 25,
   "metadata": {},
   "outputs": [],
   "source": [
    "name, date = usersLatestPath[0].split(\"/\")[-1].split(\"(\")"
   ]
  },
  {
   "cell_type": "code",
   "execution_count": 26,
   "metadata": {},
   "outputs": [],
   "source": [
    "date = date.replace(\")\",\"\")"
   ]
  },
  {
   "cell_type": "code",
   "execution_count": 40,
   "metadata": {},
   "outputs": [],
   "source": [
    "logFileName = \"watchdog.csv\"\n",
    "readLogFile = pd.read_csv(logFileName, encoding = \"utf-8\")"
   ]
  },
  {
   "cell_type": "code",
   "execution_count": 46,
   "metadata": {},
   "outputs": [
    {
     "data": {
      "text/plain": [
       "1690422157570247286"
      ]
     },
     "execution_count": 46,
     "metadata": {},
     "output_type": "execute_result"
    }
   ],
   "source": [
    "hash(usersLatestPath[0])"
   ]
  },
  {
   "cell_type": "code",
   "execution_count": 60,
   "metadata": {},
   "outputs": [],
   "source": [
    "latestDataInfo = list(map(lambda x: x.replace(\")\",\"\")\n",
    "                                      .split(\"/\")[-1]\n",
    "                                      .split(\"(\"), usersLatestPath))"
   ]
  },
  {
   "cell_type": "code",
   "execution_count": 61,
   "metadata": {},
   "outputs": [
    {
     "data": {
      "text/plain": [
       "['hoseong', '200720']"
      ]
     },
     "execution_count": 61,
     "metadata": {},
     "output_type": "execute_result"
    }
   ],
   "source": [
    "latestDataInfo[0]"
   ]
  },
  {
   "cell_type": "code",
   "execution_count": 66,
   "metadata": {},
   "outputs": [
    {
     "name": "stdout",
     "output_type": "stream",
     "text": [
      "0 ['hoseong', '200720']\n",
      "1 ['donghue', '200717']\n",
      "2 ['shinee', '200720']\n"
     ]
    }
   ],
   "source": [
    "for idx, user in enumerate(latestDataInfo):\n",
    "        print(idx, user)"
   ]
  },
  {
   "cell_type": "code",
   "execution_count": 71,
   "metadata": {},
   "outputs": [
    {
     "data": {
      "text/plain": [
       "-1612638633440779728"
      ]
     },
     "execution_count": 71,
     "metadata": {},
     "output_type": "execute_result"
    }
   ],
   "source": [
    "hash(user[0])"
   ]
  },
  {
   "cell_type": "code",
   "execution_count": 73,
   "metadata": {},
   "outputs": [
    {
     "data": {
      "text/plain": [
       "4713512288932084673"
      ]
     },
     "execution_count": 73,
     "metadata": {},
     "output_type": "execute_result"
    }
   ],
   "source": [
    "hash(user[1])"
   ]
  },
  {
   "cell_type": "code",
   "execution_count": null,
   "metadata": {},
   "outputs": [],
   "source": []
  }
 ],
 "metadata": {
  "kernelspec": {
   "display_name": "Python 3",
   "language": "python",
   "name": "python3"
  },
  "language_info": {
   "codemirror_mode": {
    "name": "ipython",
    "version": 3
   },
   "file_extension": ".py",
   "mimetype": "text/x-python",
   "name": "python",
   "nbconvert_exporter": "python",
   "pygments_lexer": "ipython3",
   "version": "3.7.6"
  }
 },
 "nbformat": 4,
 "nbformat_minor": 4
}
