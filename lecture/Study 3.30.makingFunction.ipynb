{
 "cells": [
  {
   "cell_type": "markdown",
   "metadata": {},
   "source": [
    "# 목차\n",
    "### 함수 만들기 강의\n",
    "### 반올림, 올림, 내림 함수(자리수 옵션)\n",
    "### 리스트를 인수로 받아서 최대, 최솟값을 뺀 평균을 구하는 함수\n",
    "### 문자열로 구성된 리스트의 합계를 구하는 함수\n",
    "### 숫자로 구성된 리스트를 문자로 바꾸는 함수\n",
    "### 문자로 구성된 리스트를 정수로 바꾸는 함수\n",
    "### 문자로 구성된 리스트를 실수로 바꾸는 함수\n",
    "\n",
    "### for문에서 in range():와 in 리스트:의 차이점"
   ]
  },
  {
   "cell_type": "markdown",
   "metadata": {},
   "source": [
    "# 함수 만들기 강의"
   ]
  },
  {
   "cell_type": "code",
   "execution_count": 8,
   "metadata": {},
   "outputs": [],
   "source": [
    "target = 123.32113165131"
   ]
  },
  {
   "cell_type": "code",
   "execution_count": 9,
   "metadata": {},
   "outputs": [],
   "source": [
    "def roundFunction(inValue):\n",
    "    # 디버깅용 target = 123.32113165131\n",
    "    # step1: 입력값을 100을 곱한다.\n",
    "    step1 = inValue * 100\n",
    "    # step2: step1 결과에 0.5를 더한 후 int 캐스팅\n",
    "    step2 = int(step1 + 0.5)\n",
    "    # step3: 100으로 나눈다.\n",
    "    step3 = step2/100\n",
    "    return step3"
   ]
  },
  {
   "cell_type": "code",
   "execution_count": 10,
   "metadata": {},
   "outputs": [],
   "source": [
    "a = 123.4515568\n",
    "b = 3212364.22648\n",
    "c = 54.9013"
   ]
  },
  {
   "cell_type": "code",
   "execution_count": 11,
   "metadata": {},
   "outputs": [
    {
     "data": {
      "text/plain": [
       "123.45"
      ]
     },
     "execution_count": 11,
     "metadata": {},
     "output_type": "execute_result"
    }
   ],
   "source": [
    "aResult = roundFunction(a)\n",
    "aResult"
   ]
  },
  {
   "cell_type": "code",
   "execution_count": 12,
   "metadata": {},
   "outputs": [
    {
     "data": {
      "text/plain": [
       "3212364.23"
      ]
     },
     "execution_count": 12,
     "metadata": {},
     "output_type": "execute_result"
    }
   ],
   "source": [
    "bResult = roundFunction(b)\n",
    "bResult"
   ]
  },
  {
   "cell_type": "code",
   "execution_count": 13,
   "metadata": {},
   "outputs": [
    {
     "data": {
      "text/plain": [
       "54.9"
      ]
     },
     "execution_count": 13,
     "metadata": {},
     "output_type": "execute_result"
    }
   ],
   "source": [
    "cResult = roundFunction(c)\n",
    "cResult # 소숫점 둘째짜리까지 나오게 해보자"
   ]
  },
  {
   "cell_type": "markdown",
   "metadata": {},
   "source": [
    "### 입력값의 소수점 3자리 표시(내림)"
   ]
  },
  {
   "cell_type": "code",
   "execution_count": 14,
   "metadata": {},
   "outputs": [],
   "source": [
    "def roundDownFunction(inValue):\n",
    "    # step1: 입력값에 1000을 곱한다.\n",
    "    step1 = inValue * 1000\n",
    "    # step2: step1 결과에 int 캐스팅\n",
    "    step2 = int(step1)\n",
    "    # step3: step2를 1000으로 나눈다.\n",
    "    step3 = step2 / 1000\n",
    "    return step3"
   ]
  },
  {
   "cell_type": "code",
   "execution_count": 15,
   "metadata": {},
   "outputs": [
    {
     "data": {
      "text/plain": [
       "131.614"
      ]
     },
     "execution_count": 15,
     "metadata": {},
     "output_type": "execute_result"
    }
   ],
   "source": [
    "a = 131.61498463\n",
    "aResult = roundDownFunction(a)\n",
    "aResult"
   ]
  },
  {
   "cell_type": "markdown",
   "metadata": {},
   "source": [
    "### 심화) 자릿수를 2자리, 3자리 자유롭게 변환 가능한 로직 만들기"
   ]
  },
  {
   "cell_type": "code",
   "execution_count": 16,
   "metadata": {},
   "outputs": [],
   "source": [
    "# roundFunction, roundUpFunction, roundDownFunction"
   ]
  },
  {
   "cell_type": "markdown",
   "metadata": {},
   "source": [
    "### 반올림 함수"
   ]
  },
  {
   "cell_type": "code",
   "execution_count": 5,
   "metadata": {},
   "outputs": [],
   "source": [
    "def roundFunction(number,num_digits):\n",
    "    # step1: 입력값(inValue)에 반올림 해서 최종적으로 표시할 소숫점 자릿수(decimalPlace)를 곱한다.\n",
    "    # 일, 십, 백의자리수까지 나타내려면 num_digits에 -1, -2, -3을 넣으면 된다.\n",
    "    step1 = number * (10 ** num_digits)\n",
    "    # step2: step1 결과에 0.5를 더한 후 int로 캐스팅한다.\n",
    "    step2 = int(step1 + 0.5)\n",
    "    # step3: step2 결과를 step1에서 곱한 자릿수만큼 나눈다.\n",
    "    step3 = step2 / (10 ** num_digits)\n",
    "    return step3"
   ]
  },
  {
   "cell_type": "markdown",
   "metadata": {},
   "source": [
    "### 올림 함수"
   ]
  },
  {
   "cell_type": "code",
   "execution_count": 6,
   "metadata": {},
   "outputs": [],
   "source": [
    "def roundUpFunction(number,num_digits):\n",
    "    # step1: 입력값(inValue)에 올림 해서 최종적으로 표시할 소숫점 자릿수(decimalPlace)를 곱한다.\n",
    "    # 일, 십, 백의자리수까지 나타내려면 num_digits에 -1, -2, -3을 넣으면 된다.\n",
    "    step1 = number * (10 ** num_digits)\n",
    "    # step2: step1 결과에 0.9를 더한 후 int로 캐스팅한다.\n",
    "    step2 = int(step1 + 1)\n",
    "    # step3: step2 결과를 step1에서 곱한 자릿수만큼 나눈다.\n",
    "    step3 = step2 / (10 ** num_digits)\n",
    "    return step3"
   ]
  },
  {
   "cell_type": "markdown",
   "metadata": {},
   "source": [
    "### 내림 함수"
   ]
  },
  {
   "cell_type": "code",
   "execution_count": 7,
   "metadata": {},
   "outputs": [],
   "source": [
    "def roundDownFunction(number,num_digits):\n",
    "    # step1: 입력값(inValue)에 내림 해서 최종적으로 표시할 소숫점 자릿수(decimalPlace)를 곱한다.\n",
    "    # 일, 십, 백의자리수까지 나타내려면 num_digits에 -1, -2, -3을 넣으면 된다.\n",
    "    step1 = number * (10 ** num_digits)\n",
    "    # step2: step1 결과에 int 캐스팅한다.\n",
    "    step2 = int(step1)\n",
    "    # step3: step2 결과를 step1에서 곱한 자릿수만큼 나눈다.\n",
    "    step3 = step2 / (10 ** num_digits)\n",
    "    return step3"
   ]
  },
  {
   "cell_type": "code",
   "execution_count": 20,
   "metadata": {},
   "outputs": [],
   "source": [
    "# 테스트용 숫자\n",
    "number1 = 753615.10492\n",
    "number2 = 150181.05289"
   ]
  },
  {
   "cell_type": "code",
   "execution_count": 21,
   "metadata": {},
   "outputs": [],
   "source": [
    "# 반올림 검증\n",
    "number1round1th = roundFunction(number1,1)\n",
    "number1round2nd = roundFunction(number1,2)\n",
    "number1round3rd = roundFunction(number1,3)\n",
    "number2round1th = roundFunction(number2,1)\n",
    "number2round2nd = roundFunction(number2,2)\n",
    "number2round3rd = roundFunction(number2,3)"
   ]
  },
  {
   "cell_type": "code",
   "execution_count": 22,
   "metadata": {},
   "outputs": [
    {
     "name": "stdout",
     "output_type": "stream",
     "text": [
      "753615.10492 을 반올림해서 소숫점 첫째, 둘째, 셋째자리까지 나타내기\n",
      "753615.1\n",
      "753615.1\n",
      "753615.105\n",
      "\n",
      "150181.05289 을 반올림해서 소숫점 첫째, 둘째, 셋째자리까지 나타내기\n",
      "150181.1\n",
      "150181.05\n",
      "150181.053\n"
     ]
    }
   ],
   "source": [
    "                                                            # \\n개행 \\n개행 \\줄나눔\n",
    "print(\"{} 을 반올림해서 소숫점 첫째, 둘째, 셋째자리까지 나타내기\\n{}\\n{}\\n{}\\n\\n\\\n",
    "{} 을 반올림해서 소숫점 첫째, 둘째, 셋째자리까지 나타내기\\n{}\\n{}\\n{}\"\n",
    ".format(number1,number1round1th,number1round2nd,number1round3rd,\\\n",
    "        number2,number2round1th,number2round2nd,number2round3rd))"
   ]
  },
  {
   "cell_type": "code",
   "execution_count": 23,
   "metadata": {},
   "outputs": [],
   "source": [
    "# decimalPlace에 -1을 넣으면 1의자리, -2를 넣으면 10의자리 될까?\n",
    "number1round_1th = roundFunction(number1,-1)\n",
    "number1round_2nd = roundFunction(number1,-2)\n",
    "number1round_3rd = roundFunction(number1,-3)\n",
    "number2round_1th = roundFunction(number2,-1)\n",
    "number2round_2nd = roundFunction(number2,-2)\n",
    "number2round_3rd = roundFunction(number2,-3)"
   ]
  },
  {
   "cell_type": "code",
   "execution_count": 24,
   "metadata": {},
   "outputs": [
    {
     "name": "stdout",
     "output_type": "stream",
     "text": [
      "753615.10492 을 반올림해서 일, 십, 백의자리까지 나타내기\n",
      "753620.0\n",
      "753600.0\n",
      "754000.0\n",
      "\n",
      "150181.05289 을 반올림해서 일, 십, 백의자리까지 나타내기\n",
      "150180.0\n",
      "150200.0\n",
      "150000.0\n"
     ]
    }
   ],
   "source": [
    "print(\"{} 을 반올림해서 일, 십, 백의자리까지 나타내기\\n{}\\n{}\\n{}\\n\\n\\\n",
    "{} 을 반올림해서 일, 십, 백의자리까지 나타내기\\n{}\\n{}\\n{}\"\n",
    ".format(number1,number1round_1th,number1round_2nd,number1round_3rd,\\\n",
    "        number2,number2round_1th,number2round_2nd,number2round_3rd))"
   ]
  },
  {
   "cell_type": "code",
   "execution_count": 25,
   "metadata": {},
   "outputs": [],
   "source": [
    "# 올림 검증\n",
    "number1roundUp1th = roundUpFunction(number1,1)\n",
    "number1roundUp2nd = roundUpFunction(number1,2)\n",
    "number1roundUp3rd = roundUpFunction(number1,3)\n",
    "number2roundUp1th = roundUpFunction(number2,1)\n",
    "number2roundUp2nd = roundUpFunction(number2,2)\n",
    "number2roundUp3rd = roundUpFunction(number2,3)"
   ]
  },
  {
   "cell_type": "code",
   "execution_count": 26,
   "metadata": {},
   "outputs": [
    {
     "name": "stdout",
     "output_type": "stream",
     "text": [
      "753615.10492 을 올림해서 소숫점 첫째, 둘째, 셋째자리까지 나타내기\n",
      "753615.2\n",
      "753615.11\n",
      "753615.105\n",
      "\n",
      "150181.05289 을 올림해서 소숫점 첫째, 둘째, 셋째자리까지 나타내기\n",
      "150181.1\n",
      "150181.06\n",
      "150181.053\n"
     ]
    }
   ],
   "source": [
    "print(\"{} 을 올림해서 소숫점 첫째, 둘째, 셋째자리까지 나타내기\\n{}\\n{}\\n{}\\n\\n\\\n",
    "{} 을 올림해서 소숫점 첫째, 둘째, 셋째자리까지 나타내기\\n{}\\n{}\\n{}\"\n",
    ".format(number1,number1roundUp1th,number1roundUp2nd,number1roundUp3rd,\\\n",
    "        number2,number2roundUp1th,number2roundUp2nd,number2roundUp3rd))"
   ]
  },
  {
   "cell_type": "code",
   "execution_count": 27,
   "metadata": {},
   "outputs": [],
   "source": [
    "# 내림 검증\n",
    "number1roundDown1th = roundDownFunction(number1,1)\n",
    "number1roundDown2nd = roundDownFunction(number1,2)\n",
    "number1roundDown3rd = roundDownFunction(number1,3)\n",
    "number2roundDown1th = roundDownFunction(number2,1)\n",
    "number2roundDown2nd = roundDownFunction(number2,2)\n",
    "number2roundDown3rd = roundDownFunction(number2,3)"
   ]
  },
  {
   "cell_type": "code",
   "execution_count": 28,
   "metadata": {},
   "outputs": [
    {
     "name": "stdout",
     "output_type": "stream",
     "text": [
      "753615.10492 을 반올림해서 소숫점 첫째, 둘째, 셋째자리까지 나타내기\n",
      "753615.1\n",
      "753615.1\n",
      "753615.104\n",
      "\n",
      "150181.05289 을 반올림해서 소숫점 첫째, 둘째, 셋째자리까지 나타내기\n",
      "150181.0\n",
      "150181.05\n",
      "150181.052\n"
     ]
    }
   ],
   "source": [
    "print(\"{} 을 반올림해서 소숫점 첫째, 둘째, 셋째자리까지 나타내기\\n{}\\n{}\\n{}\\n\\n\\\n",
    "{} 을 반올림해서 소숫점 첫째, 둘째, 셋째자리까지 나타내기\\n{}\\n{}\\n{}\"\n",
    ".format(number1,number1roundDown1th,number1roundDown2nd,number1roundDown3rd,\\\n",
    "        number2,number2roundDown1th,number2roundDown2nd,number2roundDown3rd))"
   ]
  },
  {
   "cell_type": "markdown",
   "metadata": {},
   "source": [
    "### 리스트를 인수로 받아서 최대, 최솟값을 뺀 평균을 구하는 함수"
   ]
  },
  {
   "cell_type": "code",
   "execution_count": 1,
   "metadata": {},
   "outputs": [],
   "source": [
    "def averageWithotMinMax(inputList):\n",
    "    # 1. 입력된 리스트의 오름차순 정렬, 최솟값, 최댓값의 중복 개수를 정의.\n",
    "    inputList.sort()\n",
    "    minDup = inputList.count(min(inputList))\n",
    "    maxDup = inputList.count(max(inputList))\n",
    "\n",
    "    # 2. 중복되는 최솟값, 최댓값이 사라진 새 리스트 생성.\n",
    "    inputList = inputList[minDup : len(inputList) - maxDup]\n",
    "\n",
    "    # 3. 최솟값\n",
    "    if len(inputList) == 0:\n",
    "        average = 0\n",
    "    else:\n",
    "        average = sum(inputList) / len(inputList)\n",
    "    return average"
   ]
  },
  {
   "cell_type": "code",
   "execution_count": 3,
   "metadata": {},
   "outputs": [],
   "source": [
    "# 테스트용 리스트\n",
    "chaosList = [10,150,80,70,60,200,200,150,200,10,10,90,40,60,50,120,10,190]"
   ]
  },
  {
   "cell_type": "code",
   "execution_count": 4,
   "metadata": {},
   "outputs": [
    {
     "name": "stdout",
     "output_type": "stream",
     "text": [
      "96.36363636363636\n"
     ]
    }
   ],
   "source": [
    "result = averageWithotMinMax(chaosList)\n",
    "print(result)"
   ]
  },
  {
   "cell_type": "markdown",
   "metadata": {},
   "source": [
    "### 문자열로 구성된 리스트의 합계를 구하는 함수를 생성하세요.</br>\n",
    "testList = [\"11\",\"22\"]</br>\n",
    "answer = customerSumFunction(testList)</br>\n",
    "answer -> 33"
   ]
  },
  {
   "cell_type": "code",
   "execution_count": 18,
   "metadata": {},
   "outputs": [],
   "source": [
    "def stringNumberSum(inputList):\n",
    "    for i in range(0,len(inputList),):\n",
    "        inputList[i] = int(inputList[i])\n",
    "    return sum(inputList)"
   ]
  },
  {
   "cell_type": "code",
   "execution_count": 19,
   "metadata": {},
   "outputs": [],
   "source": [
    "# 테스트용 리스트\n",
    "chaosList = ['10', '150', '80', '70', '60', '200', '200', '150', '200', '10', '10', '90', '40', '60', '50', '120', '10', '190']"
   ]
  },
  {
   "cell_type": "code",
   "execution_count": 20,
   "metadata": {},
   "outputs": [
    {
     "data": {
      "text/plain": [
       "1700"
      ]
     },
     "execution_count": 20,
     "metadata": {},
     "output_type": "execute_result"
    }
   ],
   "source": [
    "result = stringNumberSum(chaosList)\n",
    "result"
   ]
  },
  {
   "cell_type": "code",
   "execution_count": 24,
   "metadata": {},
   "outputs": [],
   "source": [
    "def stringNumberAvg(inputList):\n",
    "    for i in range(0,len(inputList),):\n",
    "        inputList[i] = int(inputList[i])\n",
    "    return sum(inputList) / len(inputList)"
   ]
  },
  {
   "cell_type": "code",
   "execution_count": 25,
   "metadata": {},
   "outputs": [],
   "source": [
    "# 테스트용 리스트\n",
    "chaosList = ['10', '150', '80', '70', '60', '200', '200', '150', '200', '10', '10', '90', '40', '60', '50', '120', '10', '190']"
   ]
  },
  {
   "cell_type": "code",
   "execution_count": 26,
   "metadata": {},
   "outputs": [
    {
     "data": {
      "text/plain": [
       "94.44444444444444"
      ]
     },
     "execution_count": 26,
     "metadata": {},
     "output_type": "execute_result"
    }
   ],
   "source": [
    "result = stringNumberAvg(chaosList)\n",
    "result"
   ]
  },
  {
   "cell_type": "markdown",
   "metadata": {},
   "source": [
    "### 숫자로 구성된 리스트를 문자로 바꾸는 함수"
   ]
  },
  {
   "cell_type": "code",
   "execution_count": 27,
   "metadata": {},
   "outputs": [],
   "source": [
    "def numberToString(inputList):\n",
    "    for i in range(0,len(inputList),):\n",
    "        inputList[i] = str(inputList[i])\n",
    "    return inputList"
   ]
  },
  {
   "cell_type": "code",
   "execution_count": 28,
   "metadata": {},
   "outputs": [],
   "source": [
    "# 테스트용 리스트\n",
    "chaosList = [10,150,80,70,60,200,200,150,200,10,10,90,40,60,50,120,10,190]"
   ]
  },
  {
   "cell_type": "code",
   "execution_count": 29,
   "metadata": {},
   "outputs": [
    {
     "name": "stdout",
     "output_type": "stream",
     "text": [
      "['10', '150', '80', '70', '60', '200', '200', '150', '200', '10', '10', '90', '40', '60', '50', '120', '10', '190']\n"
     ]
    }
   ],
   "source": [
    "result = numberToString(chaosList)\n",
    "print(result)"
   ]
  },
  {
   "cell_type": "markdown",
   "metadata": {},
   "source": [
    "### 문자로 구성된 리스트를 정수로 바꾸는 함수"
   ]
  },
  {
   "cell_type": "code",
   "execution_count": 30,
   "metadata": {},
   "outputs": [],
   "source": [
    "def stringToInt(inputList):\n",
    "    for i in range(0,len(inputList),):\n",
    "        inputList[i] = int(inputList[i])\n",
    "    return inputList"
   ]
  },
  {
   "cell_type": "code",
   "execution_count": 31,
   "metadata": {},
   "outputs": [],
   "source": [
    "# 테스트용 리스트\n",
    "chaosList = ['10', '150', '80', '70', '60', '200', '200', '150', '200', '10', '10', '90', '40', '60', '50', '120', '10', '190']"
   ]
  },
  {
   "cell_type": "code",
   "execution_count": 32,
   "metadata": {},
   "outputs": [
    {
     "name": "stdout",
     "output_type": "stream",
     "text": [
      "[10, 150, 80, 70, 60, 200, 200, 150, 200, 10, 10, 90, 40, 60, 50, 120, 10, 190]\n"
     ]
    }
   ],
   "source": [
    "result = stringToInt(chaosList)\n",
    "print(result)"
   ]
  },
  {
   "cell_type": "markdown",
   "metadata": {},
   "source": [
    "### 문자로 구성된 리스트를 실수로 바꾸는 함수"
   ]
  },
  {
   "cell_type": "code",
   "execution_count": 11,
   "metadata": {},
   "outputs": [],
   "source": [
    "def stringToFloat(inputList):\n",
    "    for i in range(0,len(inputList),):\n",
    "        inputList[i] = float(inputList[i])\n",
    "    return inputList"
   ]
  },
  {
   "cell_type": "code",
   "execution_count": 9,
   "metadata": {},
   "outputs": [],
   "source": [
    "# 테스트용 리스트\n",
    "chaosList = ['10', '150', '80', '70', '60', '200', '200', '150', '200', '10', '10', '90', '40', '60', '50', '120', '10', '190']"
   ]
  },
  {
   "cell_type": "code",
   "execution_count": 10,
   "metadata": {},
   "outputs": [
    {
     "name": "stdout",
     "output_type": "stream",
     "text": [
      "[10.0, 150.0, 80.0, 70.0, 60.0, 200.0, 200.0, 150.0, 200.0, 10.0, 10.0, 90.0, 40.0, 60.0, 50.0, 120.0, 10.0, 190.0]\n"
     ]
    }
   ],
   "source": [
    "result = stringToDouble(chaosList)\n",
    "print(result)"
   ]
  },
  {
   "cell_type": "markdown",
   "metadata": {},
   "source": [
    "### for 문에서 in range():와 in 리스트:의 차이점."
   ]
  },
  {
   "cell_type": "code",
   "execution_count": 25,
   "metadata": {},
   "outputs": [
    {
     "name": "stdout",
     "output_type": "stream",
     "text": [
      "[['A', 'A', 'A'], ['A'], ['A', 'A', 'A'], ['A', 'A'], ['A', 'A', 'A', 'A', 'A']]\n"
     ]
    }
   ],
   "source": [
    "a = [3, 1, 3, 2, 5]    # 가로 크기를 저장한 리스트\n",
    "b = []    # 빈 리스트 생성\n",
    " \n",
    "for i in a:      # 가로 크기를 저장한 리스트로 반복 # 이건 리스트의 크기를 가져오는게 아니라 리스트의 값 자체를 가져온다.\n",
    "    line = []    # 안쪽 리스트로 사용할 빈 리스트 생성\n",
    "    for j in range(i):    # 리스트 a에 저장된 가로 크기만큼 반복\n",
    "        line.append(\"A\")\n",
    "    b.append(line)        # 리스트 b에 안쪽 리스트를 추가\n",
    " \n",
    "print(b)"
   ]
  },
  {
   "cell_type": "code",
   "execution_count": 5,
   "metadata": {},
   "outputs": [
    {
     "name": "stdout",
     "output_type": "stream",
     "text": [
      "[[], ['A'], ['A', 'A'], ['A', 'A', 'A'], ['A', 'A', 'A', 'A']]\n"
     ]
    }
   ],
   "source": [
    "a = [3, 1, 3, 2, 5]    # 가로 크기를 저장한 리스트\n",
    "b = []    # 빈 리스트 생성\n",
    " \n",
    "for i in range(0, len(a),):      # len(a)는 그냥 리스트의 길이를 반환하였고, range는 숫자 그대로 넣어버린다 0, 1, 2, 3,4 4\n",
    "    line = []    # 안쪽 리스트로 사용할 빈 리스트 생성\n",
    "    for j in range(i):    # 리스트 a에 저장된 가로 크기만큼 반복\n",
    "        line.append(\"A\")\n",
    "    b.append(line)        # 리스트 b에 안쪽 리스트를 추가\n",
    " \n",
    "print(b)"
   ]
  }
 ],
 "metadata": {
  "kernelspec": {
   "display_name": "Python 3",
   "language": "python",
   "name": "python3"
  },
  "language_info": {
   "codemirror_mode": {
    "name": "ipython",
    "version": 3
   },
   "file_extension": ".py",
   "mimetype": "text/x-python",
   "name": "python",
   "nbconvert_exporter": "python",
   "pygments_lexer": "ipython3",
   "version": "3.8.2"
  }
 },
 "nbformat": 4,
 "nbformat_minor": 4
}
