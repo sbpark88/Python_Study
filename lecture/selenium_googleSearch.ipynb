{
 "cells": [
  {
   "cell_type": "markdown",
   "metadata": {},
   "source": [
    "## 셀레니움 구글 검색"
   ]
  },
  {
   "cell_type": "code",
   "execution_count": 1,
   "metadata": {},
   "outputs": [],
   "source": [
    "import bs4,requests\n",
    "import pandas as pd\n",
    "from selenium import webdriver\n",
    "from selenium.webdriver.support.ui import WebDriverWait  # 페이지가 로딩될때까지 기다리는 기능\n",
    "from selenium.webdriver.support import expected_conditions as EC  # 페이지 로딩 조건 기능\n",
    "from selenium.webdriver.common.by import By\n",
    "from selenium.webdriver.common.keys import Keys"
   ]
  },
  {
   "cell_type": "code",
   "execution_count": 2,
   "metadata": {},
   "outputs": [],
   "source": [
    "driver_loc = \"/Applications/chromedriver\"\n",
    "options = webdriver.ChromeOptions()\n",
    "options.add_argument(\"window-size = 1920x1080\")\n",
    "driver = webdriver.Chrome(driver_loc, options=options)"
   ]
  },
  {
   "cell_type": "code",
   "execution_count": 3,
   "metadata": {},
   "outputs": [],
   "source": [
    "driver.get('https://www.google.com/')\n",
    "# driver.maximize_window() \n",
    "driver.implicitly_wait(2)"
   ]
  },
  {
   "cell_type": "code",
   "execution_count": 14,
   "metadata": {},
   "outputs": [],
   "source": [
    "googleSearchXpath = '//*[@id=\"tsf\"]/div[2]/div[1]/div[1]/div/div[2]/input'\n",
    "search = \"selenium\"\n",
    "driver.find_element_by_xpath(googleSearchXpath).send_keys(search)\n",
    "driver.find_element_by_xpath(googleSearchXpath).send_keys('\\ue007')\n",
    "# driver.find_element_by_xpath(googleSearchXpath).send_keys(Keys.ENTER)\n",
    "\n",
    "# driver.close()"
   ]
  },
  {
   "cell_type": "code",
   "execution_count": 4,
   "metadata": {},
   "outputs": [],
   "source": [
    "driver.close()"
   ]
  },
  {
   "cell_type": "markdown",
   "metadata": {},
   "source": [
    "### 포맷팅(formating)"
   ]
  },
  {
   "cell_type": "code",
   "execution_count": 15,
   "metadata": {},
   "outputs": [
    {
     "name": "stdout",
     "output_type": "stream",
     "text": [
      "4   12   hi   3.141590\n",
      "4   12   hi   3.14159\n"
     ]
    }
   ],
   "source": [
    "A = 4\n",
    "B = 12 \n",
    "C = 'hi'\n",
    "D = 3.14159\n",
    "\n",
    "print('%d   %d   %s   %f'  %(A,B,C,D))\n",
    "print('{}   {}   {}   {}'  .format(A,B,C,D))"
   ]
  },
  {
   "cell_type": "code",
   "execution_count": 17,
   "metadata": {},
   "outputs": [
    {
     "name": "stdout",
     "output_type": "stream",
     "text": [
      "'  4'\n",
      "'004'\n",
      "' 12'\n",
      "\n",
      "' hi'\n",
      "' hi'\n",
      "\n",
      "'3.141590'\n",
      "' 3.141590'\n",
      "'3.142'\n",
      "' 3.142'\n"
     ]
    }
   ],
   "source": [
    "A = 4\n",
    "B = 12 \n",
    "C = 'hi'\n",
    "D = 3.14159\n",
    "\n",
    "print(\"'%3d'\"   %A)    # 기본 공간을 3으로 셋팅. 그 공간에 A = 4를 넣음.    따라서 공백(2) + A(1) = 기본 공간 3이 된다.\n",
    "print(\"'%03d'\"  %A)    # 위에꺼에서 기본 공간의 나머지를 '0'으로 채운다. (0 이외의 숫자는 불가)\n",
    "print(\"'%3d'\"   %B)    # 기본 공간을 3으로 셋팅. 그 공간에 B = 12를 넣음.   따라서 공백(1) + A(2) = 기본 공간 3이 된다.\n",
    "print()\n",
    "print(\"'%3s'\"   %C)    # 기본 공간을 3으로 셋팅. 그 공간에 C = 'hi'를 넣음. 따라서 공백(1) + A(2) = 기본 공간 3이 된다.\n",
    "print(\"'%03s'\"  %C)    # 나머지 공간에 문자열을 채우는 것은 불가능. 0은 채워봤자 출력 안 됨. 따라서 의미 없음.\n",
    "print()\n",
    "print(\"'%8f'\"   %D)    # 3(1) + .(1) + .141590(6) = 기본 공간 8\n",
    "print(\"'%9f'\"   %D)    # 기본 공간이 9니 앞에 공백이 하나 생긴다.\n",
    "print(\"'%.3f'\"  %D)    # 3(1) + .(1) + .14(3) = 기본 공간 5 (소숫점 3자리까지 표기. 이하는 반올림 처리.)\n",
    "print(\"'%6.3f'\" %D)    # 기본 공간이 6이니 앞에 공백이 하나 생긴다. (전체 기본 공간은 6. 소숫점 3자리까지 표기.)"
   ]
  },
  {
   "cell_type": "code",
   "execution_count": 18,
   "metadata": {},
   "outputs": [
    {
     "name": "stdout",
     "output_type": "stream",
     "text": [
      "3.14159   4   12   hi\n"
     ]
    }
   ],
   "source": [
    "A = 4\n",
    "B = 12 \n",
    "C = 'hi'\n",
    "D = 3.14159\n",
    "\n",
    "print('{3}   {0}   {1}   {2}'  .format(A,B,C,D))    # 인덱싱 기능. D(=3.14159), A(=4), B(=12), C(='hi') 순으로 출력된다."
   ]
  },
  {
   "cell_type": "code",
   "execution_count": 19,
   "metadata": {},
   "outputs": [
    {
     "name": "stdout",
     "output_type": "stream",
     "text": [
      "'  4'\n",
      "'  4'\n",
      "'004'\n",
      "'4  '\n",
      "'400'\n",
      "\n",
      "' 12'\n",
      "'12 '\n",
      "\n",
      "' hi'\n",
      "'hi '\n",
      "\n",
      "'3.14159'\n",
      "' 3.14159'\n",
      "'3.14159 '\n",
      "\n",
      "'3.14159'\n",
      "'3.142'\n",
      "' 3.142'\n"
     ]
    }
   ],
   "source": [
    "A = 4\n",
    "B = 12 \n",
    "C = 'hi'\n",
    "D = 3.14159\n",
    "\n",
    "print(\"'{:3}'\"   .format(A))    # 오른쪽 정렬로 공간 3을 만듦. (기본 셋팅은 오른쪽 정렬)\n",
    "print(\"'{:>3}'\"  .format(A))    # 오른쪽 정렬로 공간 3을 만듦.\n",
    "print(\"'{:>03}'\" .format(A))    # 위에꺼에서 기본 공간의 나머지를 '0'으로 채운다. (0 이외의 숫자는 불가)\n",
    "print(\"'{:<3}'\"  .format(A))    # 왼쪽 정렬로 공간 3을 만듦.\n",
    "print(\"'{:<03}'\" .format(A))    # 위에꺼에서 기본 공간의 나머지를 '0'으로 채운다. (0 이외의 숫자는 불가)\n",
    "print()\n",
    "print(\"'{:>3}'\"  .format(B))    # 오른쪽 정렬로 공간 3을 만듦.\n",
    "print(\"'{:<3}'\"  .format(B))    # 왼쪽 정렬로 공간 3을 만듦.\n",
    "print()\n",
    "print(\"'{:>3}'\"  .format(C))    # 오른쪽 정렬로 공간 3을 만듦.\n",
    "print(\"'{:<3}'\"  .format(C))    # 왼쪽 정렬로 공간 3을 만듦.\n",
    "print()\n",
    "print(\"'{:>7}'\"  .format(D))    # 3(1) + .(1) + .14159(5) = 기본 공간 7\n",
    "print(\"'{:>8}'\"  .format(D))    # 오른쪽 정렬하고 기본 공간 8을 만드니 앞에 공백이 하나 생긴다.\n",
    "print(\"'{:<8}'\"  .format(D))    # 왼쪽 정렬하고 기본 공간 을를 만드니 뒤에 공백이 하나 생긴다.\n",
    "print()\n",
    "print(\"'{:>4}'\"  .format(D))    # 오픈쪽 정렬하고 기본 공간 4를 만들었으나 초과하므로 의미 없음.\n",
    "print(\"'{:>.4}'\" .format(D))    # 소수점 포함 기본 공간을 4로 제한. (숫자를 소수점 포함 4자리까지 표기. 이때는 .의 개수는 포함하지 않음.)\n",
    "                                # 단, 기본 공간은 3(1) + .(1) + .142(3) = 5다.\n",
    "print(\"'{:>6.4}'\".format(D))    # 오른쪽 정렬하고 기본 공간 6을 만드니 앞에 공백이 하나 생긴다."
   ]
  },
  {
   "cell_type": "code",
   "execution_count": null,
   "metadata": {},
   "outputs": [],
   "source": []
  },
  {
   "cell_type": "code",
   "execution_count": null,
   "metadata": {},
   "outputs": [],
   "source": []
  }
 ],
 "metadata": {
  "kernelspec": {
   "display_name": "Python 3",
   "language": "python",
   "name": "python3"
  },
  "language_info": {
   "codemirror_mode": {
    "name": "ipython",
    "version": 3
   },
   "file_extension": ".py",
   "mimetype": "text/x-python",
   "name": "python",
   "nbconvert_exporter": "python",
   "pygments_lexer": "ipython3",
   "version": "3.8.2"
  }
 },
 "nbformat": 4,
 "nbformat_minor": 4
}
