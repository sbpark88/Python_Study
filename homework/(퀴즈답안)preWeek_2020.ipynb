{
 "cells": [
  {
   "cell_type": "markdown",
   "metadata": {},
   "source": [
    "# 김민석"
   ]
  },
  {
   "cell_type": "code",
   "execution_count": null,
   "metadata": {},
   "outputs": [],
   "source": [
    "def preWeek(yearWeek, preWeek):    # preWeek 이전 주차를 반환하는 함수\n",
    "    from isoweek import Week\n",
    "    yeardigit = 4  #만년 이후에는 자리수가 바뀔 수 있으니까...\n",
    "    inputYear = int(str(yearWeek)[:yeardigit]) #년도만 잘라서 저장\n",
    "    inputWeek = int(str(yearWeek)[yeardigit:]) #주차만 잘라서 저장\n",
    "    resultWeek = inputWeek - preWeek           #현 주차 - 뒤로 갈 주차 계산결과\n",
    "    \n",
    "    \n",
    "    while(resultWeek<=0):       # 주차가 0 이하라면\n",
    "        inputYear = inputYear-1    # 년도가 하나 줄어듭니다\n",
    "        calcWeek = Week.last_week_of_year(inputYear).week  #줄어든 년도의 총 주차수\n",
    "        resultWeek = calcWeek + resultWeek \n",
    "        #총 주차수에 resultWeek 을 더해줍니다. (0 또는 음수일테니까)\n",
    "        #더했는데도 0 또는 음수라면 양수가 될 때까지 반복됩니다.\n",
    "    \n",
    "    if(resultWeek<10):\n",
    "        resultWeek = \"0\"+str(resultWeek) #1자리수면 앞에 0을 붙여줌\n",
    "    \n",
    "    result = str(inputYear)+str(resultWeek) #년도와 주차를 문자열로 더해서 출력\n",
    "    \n",
    "    return result\n",
    "\n",
    "def postWeek(yearWeek, postWeek):  #postWeek 이후 주차를 반환하는 함수\n",
    "    from isoweek import Week\n",
    "    yeardigit = 4  #만년 이후에는 자리수가 바뀔 수 있으니까...\n",
    "    inputYear = int(str(yearWeek)[:yeardigit]) #년도만 잘라서 저장\n",
    "    inputWeek = int(str(yearWeek)[yeardigit:]) #주차만 잘라서 저장\n",
    "    resultWeek = inputWeek + postWeek           #현 주차 + 뒤로 갈 주차 계산결과\n",
    "    calcWeek = Week.last_week_of_year(inputYear).week\n",
    "    \n",
    "    while(resultWeek>calcWeek):       # 주차가 넘어간다면\n",
    "        inputYear = inputYear+1    # 년도가 하나 늘어납니다\n",
    "        calcWeek = Week.last_week_of_year(inputYear).week  #늘어난 년도의 총 주차수\n",
    "        resultWeek = resultWeek - calcWeek\n",
    "        #resultWeek 에서 총 주차를 빼줍니다\n",
    "        #결과가 아직도 총 주차보다 크다면 작아질때까지계속 반복\n",
    "    \n",
    "    if(resultWeek<10):\n",
    "        resultWeek = \"0\"+str(resultWeek) #1자리수면 앞에 0을 붙여줌\n",
    "        \n",
    "    result = str(inputYear)+str(resultWeek) #년도와 주차를 문자열로 더해서 출력\n",
    "    \n",
    "    return result"
   ]
  },
  {
   "cell_type": "markdown",
   "metadata": {},
   "source": [
    "# 강병현"
   ]
  },
  {
   "cell_type": "code",
   "execution_count": null,
   "metadata": {},
   "outputs": [],
   "source": [
    "# 순서도URL: https://drive.google.com/file/d/1Hhr-evw0qj66vy42ce22zRfBx74olxaK/view?usp=sharing\n",
    "# 교수님 문제이해를 잘못하여 다시풀어서 재제출합니다...\n",
    "def preWeek(currYearWeek,beforeWeek):\n",
    "    from isoweek import Week\n",
    "    currYear = str(currYearWeek)[:4] # currYearWeek(연도+주차)에서 연도만 추출 \n",
    "    yearWeek = int(str(currYearWeek)[-2]+str(currYearWeek)[-1]) # currYearWeek(연도+주차)에서 주차만 추출\n",
    "    beforeWeek = int(beforeWeek)  # beforeweek 정수화\n",
    "    factor = 0  # factor는 두번째 elif 과거 연도 주차값 + 현재연도 주차값을 의미\n",
    "    if (yearWeek > beforeWeek): # 현재 주차값이 beforeWeek 보다 큰경우\n",
    "        preWeek = currYear + str(yearWeek-beforeWeek) #preWeek = 현재연도+주차(현재주차값-beforeWeek)\n",
    "    elif (yearWeek < beforeWeek): # 현재 주차값이 beforeWeek 보다 작은 경우\n",
    "        for i in range(0,beforeWeek):  # for문을 통해 과거년도 주차값을 누적\n",
    "            currYear = int(currYear) - 1   # 년도수 감소(-1년)\n",
    "            totalWeek = Week.last_week_of_year(currYear).week  # 감소된 년도수에 대한 주차값 생성\n",
    "            sumWeek = yearWeek + totalWeek + factor # 총 주차값: 감소년도주차값 + 현재년도주차값 + 누적된 주차값(초기값:0)\n",
    "            if (sumWeek > beforeWeek): # 총 주차값이 beforeWekk 주차값보다 클때\n",
    "                preWeek = str(currYear) + str((sumWeek)-beforeWeek)\n",
    "                break;\n",
    "            elif(sumWeek < beforeWeek): # 총 주차값이 beforeWekk 주차값보다 작을때\n",
    "                factor = totalWeek + factor # 누적된 주차값을 factor 변수에 저장\n",
    "            else:\n",
    "                preWeek = str(currYearWeek) + \"00\" # 주차값이 같은 경우밖에 안나오므로 끝에 \"00\"을 붙임\n",
    "    else:\n",
    "        preWeek = currYear + \"00\"  # 주차값이 같은 경우밖에 안나오므로 끝에 \"00\"을 붙임\n",
    "        \n",
    "    return preWeek"
   ]
  },
  {
   "cell_type": "markdown",
   "metadata": {},
   "source": [
    "# 이상민"
   ]
  },
  {
   "cell_type": "code",
   "execution_count": null,
   "metadata": {},
   "outputs": [],
   "source": [
    "from isoweek import Week\n",
    "\n",
    "        \n",
    "# 함수 변수 설정 nowYearWeek, minusWeek\n",
    "def yearWeekFunction(nowYearWeek, minusValue):\n",
    "    # 현재 연주차 정보를 연도와 주차로 나누고 정수로 형변환한다.\n",
    "    nowYearWeek = str(nowYearWeek)\n",
    "    currYear = int(nowYearWeek[:4])\n",
    "    currWeek = int(nowYearWeek[4:])\n",
    "    # 현재 주차에서 x주를 뺀 값을 지역변수로 저장한다\n",
    "    beforeWeek = currWeek - int(minusValue)\n",
    "    # x주 전 연도를 지역변수로 저장한다.\n",
    "    beforeYear = currYear\n",
    "    \n",
    "    #x주 전 주차가 양수가 될 때까지 다음 과정을 반복한다.\n",
    "    while beforeWeek <= 0:\n",
    "        #전년도 정보와 x주 전 주차를 각각 문자열로 형변환하여 저장한다.\n",
    "        beforeWeek = Week.last_week_of_year(beforeYear).week + beforeWeek\n",
    "        beforeYear = beforeYear - 1\n",
    "        \n",
    "    # return 값을 반환할 지역변수 설정\n",
    "    beforeYearWeek = \"\"\n",
    "    # 주차가 한자리 수일 경우 0을 붙일 변수 설정\n",
    "    weekOneDigit = \"0\"\n",
    "    beforeWeekLen = len(str(beforeWeek))\n",
    "    # 주차가 한자리 수인가?\n",
    "    if beforeWeekLen == 1:\n",
    "        # 그렇다면 주차에 0을 붙이고 합친다\n",
    "        beforeWeek = weekOneDigit + str(beforeWeek)\n",
    "        beforeYearWeek = str(beforeYear) + str(beforeWeek)\n",
    "    # 아니라면 그대로 합친다\n",
    "    else:\n",
    "        beforeYearWeek = str(beforeYear) + str(beforeWeek)\n",
    "    \n",
    "    return beforeYearWeek\n",
    "\n",
    "#디버깅용\n",
    "targetWeek = '201503'\n",
    "beforeXWeek = \"200\"\n",
    "yearWeekFunction(targetWeek, beforeXWeek)"
   ]
  },
  {
   "cell_type": "markdown",
   "metadata": {},
   "source": [
    "# 김재영"
   ]
  },
  {
   "cell_type": "code",
   "execution_count": 1,
   "metadata": {},
   "outputs": [],
   "source": [
    "# ISOWEEK 기준에 맞춰 특정연도에서 정해진 주차 만큼\n",
    "# 감한 연도 도출\n",
    "## 파라미터\n",
    "## YearAndWeek: YYYYWW\n",
    "## Week2: 감할 주차\n",
    "\n",
    "def preWeek(YearAndWeek, Week2): \n",
    "    from isoweek import Week #isoweek 불러오기\n",
    "    #변수 받아오기\n",
    "    if type(YearAndWeek) == int:  #type 변경(연도와 주차 구분 필요), 문자열로 변경\n",
    "        YearNum = str(YearAndWeek)\n",
    "    else:\n",
    "        YearNum = YearAndWeek\n",
    "\n",
    "    if type(Week2) == str:        #type 변경, 정수로 변경\n",
    "        WeekNum = int(Week2)\n",
    "    else:\n",
    "        WeekNum = Week2\n",
    "\n",
    "    \n",
    "    # YYYYWW -> YYYY, WW (연도와 주차로 분할)\n",
    "    YearNumY = YearNum[:-2]\n",
    "    YearNumW = YearNum[-2:]\n",
    "    \n",
    "    #정수로 변환\n",
    "    YearNumYI = int(YearNumY)\n",
    "    YearNumWI = int(YearNumW)\n",
    "    \n",
    "    #기존연도와 감한 주차 도출\n",
    "    OrigYear = Week.last_week_of_year(YearNumYI).week\n",
    "    CalYear = YearNumWI - WeekNum\n",
    "    \n",
    "    if CalYear < 0:                 ## (주차의 차이가 -일 경우)\n",
    "        i = 0\n",
    "\n",
    "        while CalYear < 0:\n",
    "            i = i + 1\n",
    "            DOrigYear = Week.last_week_of_year(YearNumYI-i).week\n",
    "            CalYear = DOrigYear + CalYear\n",
    "            PrinYears = YearNumYI - i\n",
    "            PrinWeeks = CalYear\n",
    "        \n",
    "    elif CalYear >= 0:             ## 기존 주차가 감할 주차보다 클경우\n",
    "        PrinYears = YearNumY\n",
    "        PrinWeeks = CalYear\n",
    "    \n",
    "    return str(PrinYears)+str(PrinWeeks) ##결과 반환"
   ]
  },
  {
   "cell_type": "markdown",
   "metadata": {},
   "source": [
    "# 임지원"
   ]
  },
  {
   "cell_type": "code",
   "execution_count": 3,
   "metadata": {},
   "outputs": [
    {
     "name": "stdout",
     "output_type": "stream",
     "text": [
      "201648\n",
      "201710\n",
      "201525\n"
     ]
    }
   ],
   "source": [
    "from isoweek import Week\n",
    "\n",
    "def preWeek(currYearWeek, prevWeek) :\n",
    "    currYear = str(currYearWeek)[0:4]\n",
    "    currWeek = str(currYearWeek)[4:]\n",
    "    \n",
    "    if int(currWeek) > int(prevWeek) :\n",
    "        weekly = str(int(currYear)) + str(int(currWeek) - int(prevWeek))\n",
    "    \n",
    "    elif int(currWeek) < int(prevWeek) :\n",
    "        for j in range (1, int(prevWeek)) :\n",
    "            if int(currWeek) + (52 * j) > int(prevWeek) :\n",
    "                lastWeek = Week.last_week_of_year(int(currYear) - j).week\n",
    "                weekly = str(int(currYear) - j) + str(lastWeek - 52 + (52 * j) + int(currWeek) - int(prevWeek))\n",
    "                break\n",
    "            \n",
    "    return weekly\n",
    "\n",
    "print(preWeek(\"201701\", 5))\n",
    "print(preWeek(201720, 10))\n",
    "print(preWeek(201720, \"100\"))"
   ]
  },
  {
   "cell_type": "markdown",
   "metadata": {},
   "source": [
    "# 황현빈"
   ]
  },
  {
   "cell_type": "code",
   "execution_count": 4,
   "metadata": {},
   "outputs": [],
   "source": [
    "from isoweek import Week\n",
    "\n",
    "def preWeek(inputYearWeek, past):\n",
    "\n",
    "# 문자형으로도 입력받을 수 있기 때문에 숫자형으로 형 변환\n",
    "    pastValue = int(past)\n",
    "    \n",
    "# 입력받은 값에서 연도값과와 주값을 추출하기 위해 문자열로 형 변환\n",
    "    yearWeekValue = str(inputYearWeek)\n",
    "    \n",
    "# 연도값과 주값을 추출하여 숫자형으로 형 변환\n",
    "    yearValue = int(yearWeekValue[0:4])\n",
    "    weekValue = int(yearWeekValue[4:])\n",
    "    \n",
    "# 입력받은 주 값에서 past 값만큼 빼서 결과 계산\n",
    "    outputWeek = weekValue - pastValue\n",
    "\n",
    "###### 오류1.디버깅시 주차보다 past값이 커지면 결과가 오류가남########\n",
    "###### 오류2.디버깅시 최종결과에서 주차가 10보다 작을경우 한자리수로만 나옴#######\n",
    "###### 오류1 조건문으로 작년 주차정보 최대값 받아서 해결... 과거값이 너무 크면 작년으로 가도 음수 \n",
    "######   ->>>>>반복조건문 사용해서 양수 될때까지 지난연도로 가보자\n",
    "###### 오류2 조건문으로 10보다 작을경우 앞에 0 붙이기\n",
    "\n",
    "# outputWeek가 음수일 경우 입력받은 입력받은 연도보다 지난해로 가서 계산\n",
    "    while(outputWeek <= 0):\n",
    "        yearValue = yearValue - 1\n",
    "        yesterYearWeek = Week.last_week_of_year(yearValue).week\n",
    "        outputWeek = yesterYearWeek + outputWeek\n",
    "\n",
    "# 최종 결과 출력시 주차정보가 10 미만일 경우 앞에 0을 붙인다.\n",
    "    if(len(str(outputWeek)) == 1):\n",
    "        outputWeek = '0' + str(outputWeek)\n",
    "    else:\n",
    "        pass\n",
    "\n",
    "# 최종 결과 출력시 문자로 출력하기 위해 형 변환\n",
    "    outputYearWeek = str(yearValue) + str(outputWeek)\n",
    "    \n",
    "    return outputYearWeek\n",
    "\n",
    "#preWeek(\"201701\", 5)\n",
    "#preWeek(201720, 10)\n",
    "#preWeek(201735, 31)\n",
    "#preWeek(201727, 31)\n",
    "#preWeek(201720, \"100\")"
   ]
  },
  {
   "cell_type": "markdown",
   "metadata": {},
   "source": [
    "# 송호성"
   ]
  },
  {
   "cell_type": "code",
   "execution_count": 5,
   "metadata": {},
   "outputs": [
    {
     "data": {
      "text/plain": [
       "'201525'"
      ]
     },
     "execution_count": 5,
     "metadata": {},
     "output_type": "execute_result"
    }
   ],
   "source": [
    "def preWeek (yearWeekValue, preNum):\n",
    "# isoweek라는 함수꾸러미에서 Week함수 가져오기\n",
    "    from isoweek import Week\n",
    "    preNum = int(preNum)\n",
    "#입력받은 년도+주차(ex.201720)에서 정수로 변환 후 2017.20으로 만든 후 정수화해서 소수점아래 날리기\n",
    "    year = int(int(yearWeekValue) /100) \n",
    "# year * 100 하면 201700이 되고 201720에서 빼면 그게 주차(20)\n",
    "    week = int(yearWeekValue) - year*100 \n",
    "\n",
    "# week에서 입력받은 preNum(ex.100)을 뺀 값이 0보다 커질 때 까지 반복\n",
    "    while week - preNum <=0:     \n",
    "        year = year - 1\n",
    "        currWeek = Week.last_week_of_year(year).week\n",
    "        week = week + currWeek\n",
    "# 결과\n",
    "    result = year*100 + week - preNum\n",
    "    resultStr = str(result)\n",
    "    return resultStr\n",
    "preWeek(\"201720\",100)"
   ]
  },
  {
   "cell_type": "markdown",
   "metadata": {},
   "source": [
    "# 한솔"
   ]
  },
  {
   "cell_type": "code",
   "execution_count": 6,
   "metadata": {},
   "outputs": [
    {
     "name": "stdout",
     "output_type": "stream",
     "text": [
      "201648\n",
      "201710\n",
      "201525\n",
      "201648\n",
      "201710\n",
      "201525\n",
      "201925\n"
     ]
    }
   ],
   "source": [
    "# 함수 기능: 숫자/문자 상관없이 입력한 주차(yearweek)에서 원하는만큼 주차수(minusWeek) 빼주는 함수\n",
    "def preweek(yearweek, minusWeek):\n",
    "    from isoweek import Week\n",
    "# isoweek을 활용 -> 기능 둘러보기 https://pypi.org/project/isoweek/\n",
    "# isoweek.Week(year, week)가 있음\n",
    "# operations 지원하는 것을 찾음\n",
    "\n",
    "# 1. 리스트 형태로 연도와 주차를 분리하기 위해 yearweek가 문자열이 아닌 경우 str로 캐스팅\n",
    "    if type(yearweek) != str:\n",
    "        yearweek = str(yearweek)\n",
    "    minusWeek = int(minusWeek)\n",
    "# 2. Week: 문자열은 지원 안 되는 것 확인함 -> int로 형변환 필요\n",
    "# 3. Week의 출력형인 yyyyWww에서 W를 제거 -> str으로 캐스팅 후 replace 사용\n",
    "# 4. 결과값인 result가 문자형으로 나와야 함 -> str으로 캐스팅\n",
    "    result = str(Week(int(yearweek[:4]), int(yearweek[-2:]) - minusWeek)).replace(\"W\",\"\")\n",
    "    return result\n",
    "\n",
    "print(preweek(\"201701\",5))\n",
    "print(preweek(201720,10))\n",
    "print(preweek(201720,\"100\"))\n",
    "\n",
    "##################################### 다른 방법 ###################\n",
    "\n",
    "# 함수 기능: 숫자/문자 상관없이 입력한 주차(yearweek)에서 원하는만큼 주차수(minusWeek) 빼주는 함수\n",
    "def preweek(yearweek, minusweek):\n",
    "    # 1. import Week\n",
    "    from isoweek import Week\n",
    "\n",
    "    # 2. yearweek부분을 year과 week로 나눠준 뒤 int로 캐스팅\n",
    "    year = int(str(yearweek)[:4])    # yearweek의 year부분\n",
    "    week = int(str(yearweek)[4:])    # yearweek의 week부분\n",
    "\n",
    "    # 3. minusweek int로 캐스팅\n",
    "    minusweek = int(minusweek)\n",
    "    weekGap = week - minusweek\n",
    "    # 4. weekGap이 0보다 큰 경우와 작거나 같은 부분으로 나누기\n",
    "    if weekGap > 0:\n",
    "        year = year\n",
    "        week = weekGap\n",
    "    # 5. weekGap이 0보다 커질 때까지 while문으로 year과 weekGap 바꿔주기\n",
    "    else:\n",
    "        while weekGap <= 0:\n",
    "            # 한 번 돌 때마다 year은 1씩 감소\n",
    "            year -=1\n",
    "            # 감소한 1년의 주차만큼 weekGap을 증가시킴\n",
    "            weekGap += Week.last_week_of_year(year).week\n",
    "    result = str(year) + str(weekGap)\n",
    "    return result\n",
    "\n",
    "print(preweek(\"201701\",5))\n",
    "print(preweek(201720,10))\n",
    "print(preweek(201720,\"100\"))\n",
    "print(preweek(202120,\"100\"))"
   ]
  },
  {
   "cell_type": "markdown",
   "metadata": {},
   "source": [
    "# 김형준"
   ]
  },
  {
   "cell_type": "code",
   "execution_count": 7,
   "metadata": {},
   "outputs": [
    {
     "name": "stdout",
     "output_type": "stream",
     "text": [
      "201648\n",
      "201710\n",
      "201525\n",
      "201705\n"
     ]
    }
   ],
   "source": [
    "def preWeek(targetYearWeek, targetPre):\n",
    "\n",
    "    from isoweek import Week\n",
    "    targetYearWeek = str(targetYearWeek)  #int는 슬라이싱이 안 되어서 문자로 강제 형변환\n",
    "    targetYear = int(targetYearWeek[:-2]) #5자리 이상의 년도에서도 작동하도록 -2로 인덱싱 (주차 수는 52나 53로 두자리가 최대이므로)\n",
    "    targetWeek = int(targetYearWeek[-2:]) # 그러나 isoweek에서 입력 가능한 연도의 최대값이 정해져 있는듯...\n",
    "    targetPre = int(targetPre)\n",
    "\n",
    "    sumWeeks = 0\n",
    "    \n",
    "        #해당 연도에서 커버 가능하므로 연도는 불변\n",
    "    if targetWeek > targetPre:  #등호가 들어가지 않은 이유: 같을 경우 0주차가 되므로 전년도로 넘겨야함.\n",
    "        ccdWeek = targetWeek - targetPre   #ccd: calculated\n",
    "        ccdYear = targetYear    \n",
    "    else:\n",
    "        #로직의 핵심. targetWeek와 isoweek함수에 따른 \"전년도 이하\"의 주차수를 합해서 targetPre와 비교\n",
    "        #ex. (201720,100): 20주(2017) + 52주(2016) + 53주(2015) = 125주에서 100을 빠꾸하면 25주가 남는다.\n",
    "        while (targetWeek + sumWeeks <= targetPre):\n",
    "            targetYear = targetYear - 1  #차감해나갈 주차 수는 당해년도가 아닌 전년도이하이므로 targetYear에서 1씩 차감해간다.\n",
    "                                         #while문이 작동하는 동안 targetYear를 새로 선언해야 반영됨.\n",
    "            sumWeeks = sumWeeks + Week.last_week_of_year(targetYear).week  \n",
    "            ccdYear = targetYear   #위에서 targetYear를 하나씩 차감했기 때문에 이 값이 곧 ccdYear\n",
    "            ccdWeek = targetWeek + sumWeeks - targetPre \n",
    "\n",
    "    if ccdWeek >= 10:\n",
    "        result = str(ccdYear) + str(ccdWeek)  #두 항을 나란히 합치기 위해 str로 강제 형변환\n",
    "    else:\n",
    "        ccdWeek = \"0\" + str(ccdWeek)         #ccdWeek가 한자리인 경우 앞에 0을 붙임\n",
    "        result = str(ccdYear) + str(ccdWeek)\n",
    "        \n",
    "    return result\n",
    "\n",
    "print(preWeek(\"201701\",5))\n",
    "print(preWeek(201720,10))\n",
    "print(preWeek(201720,\"100\"))\n",
    "print(preWeek(201720,15))  #ccdWeek가 한자리인 경우"
   ]
  },
  {
   "cell_type": "markdown",
   "metadata": {},
   "source": [
    "# 박종환"
   ]
  },
  {
   "cell_type": "code",
   "execution_count": 9,
   "metadata": {},
   "outputs": [],
   "source": [
    "\n",
    "# 다이어그램 주소 : https://bit.ly/2w5c7px\n",
    "\n",
    "# 내용 : 기준이 되는 년도주차 정보와 과거로 돌아갈 주차를 입력 받아 계산한다.\n",
    "# 파라미터 : fromWeeks, weeksAgo (int 타입, str 타입 무관하게 입력 받음)\n",
    "# 목적 : i.e (201704,20) 2017년 4주차로부터 20주 전은 언제인가를 계산할 수 있다.\n",
    "\n",
    "# Step 0: isoweek 모듈을 불러온다.\n",
    "# Step 1: 입력 받은 년도주차 정보와 과거주 정보를 문자 캐스팅 해서 분리한 다음 계산을 위해 다시 int 캐스팅.\n",
    "# Step 2: 과거 년도로 돌아가지 않는 경우를 분리하여 계산.\n",
    "# Step 3: 주차 자릿수가 1자리로 줄어드는 경우에 대한 보정 로직.\n",
    "# Step 4: 과거 년도로 돌아가는 경우를 분리하여 계산.\n",
    "# Step 5: 1년 더 과거로 가야할 지 계산. 조건을 만족하지 않을 때까지 1년씩 과거로 이동.\n",
    "# Step 6: 위 Step 3.에서 했던 보정을 동일하게 적용하여 결과 산출.\n",
    "# Step 7: 최종 결과 result 값을 반환.\n",
    "\n",
    "# cf. Step 3 은 if문 없이 str(inputWeeks - weeksAgo).zfill(2)로 자릿수 보정 가능. Step 7도 마찬가지.\n",
    "\n",
    "def preWeek(fromWeek,weeksAgo):\n",
    "    #fromWeek = 201720\n",
    "    #weeksAgo = 100 # 10이면 201710, 20이면 201652, 21이면 201651, 71이면 201601, 72면 201553, 124면 201501\n",
    "                    # 125면 201452, 176이면 201401, 177이면 201352, 228이면 201301, 229면 201252, 1000이면 199812\n",
    "                    # 가 나오면 된다.\n",
    "\n",
    "    # Step 0. isoweek 모듈을 불러온다.\n",
    "    from isoweek import Week\n",
    "    # Step 1. 년도, 주차 분리를 위해 문자 캐스팅 해서 분리한 다음 모든 변수 int 캐스팅\n",
    "    inputYear = int(str(fromWeek)[:4])\n",
    "    inputWeeks = int(str(fromWeek)[4:])\n",
    "    weeksAgo = int(weeksAgo)\n",
    "    maxWeeks = Week.last_week_of_year(inputYear).week\n",
    "\n",
    "    # Step 2. 기준 주차 > 과거로 돌아가려는 주 인가? (년도가 바뀌지 않는 경우임.)\n",
    "    if inputWeeks - weeksAgo > 0:\n",
    "        # Step 3. (기준 주차 - 과거 주) >= 10이면 연도와 (기준 주차 - 과거 주)를 문자열 캐스팅 한 다음 더한다.\n",
    "        if inputWeeks - weeksAgo >= 10:\n",
    "            result = str(inputYear) + str(inputWeeks - weeksAgo)\n",
    "        else: # Step 3.1 계산한 주차가 한자리수로 작아질 경우 앞에 0을 붙여서 보정한다.\n",
    "            result = str(inputYear) + \"0\" + str(inputWeeks - weeksAgo)\n",
    "\n",
    "    # Step 4. 과거 년도로 가는 경우.\n",
    "    else:\n",
    "        remainWeeks = weeksAgo - inputWeeks    # 마이너스 인덱싱 타임머신 여행할 횟수 계산.\n",
    "        inputYear -= 1    # inputWeeks만큼 빼고 1년 전으로 이동했으니 -1년을 해주고 시작.\n",
    "        maxWeeks = Week.last_week_of_year(inputYear).week    # 해당 년도에 주차가 몇이나 되는지 확인.\n",
    "\n",
    "        while remainWeeks >= maxWeeks:   # Step 5. 과거로 돌아갈 횟수가 해당 년도 주차보다 더 크다면 1년 더 과거로 이동.\n",
    "            remainWeeks -= maxWeeks\n",
    "            inputYear -= 1\n",
    "            maxWeeks = Week.last_week_of_year(inputYear).week\n",
    "        else:\n",
    "            pass\n",
    "\n",
    "        maxWeeks -= remainWeeks    # 과거로 이동이 끝난 주차가 계산됨.\n",
    "\n",
    "        # Step 6. Step 3.1 에서 했던 주차 자릿수 보정을 동일하게 해준다.\n",
    "        if maxWeeks >= 10:\n",
    "                result = str(inputYear) + str(maxWeeks)\n",
    "        else:\n",
    "            result = str(inputYear) + \"0\" + str(maxWeeks)\n",
    "    \n",
    "    # Step 7. 최종 결과 반환\n",
    "    return result"
   ]
  },
  {
   "cell_type": "markdown",
   "metadata": {},
   "source": [
    "# 박정근"
   ]
  },
  {
   "cell_type": "code",
   "execution_count": 10,
   "metadata": {},
   "outputs": [
    {
     "name": "stdout",
     "output_type": "stream",
     "text": [
      "201525\n"
     ]
    }
   ],
   "source": [
    "from isoweek import Week\n",
    "\n",
    "def yearCalculater(invalue,option):\n",
    "    invalue=int(invalue)\n",
    "    option=int(option)\n",
    "    currYear=int(invalue/100)\n",
    "    #print(currYear)\n",
    "    weekValue=int(invalue)-int(currYear*100)\n",
    "    #print(weekValue)\n",
    "    lastWeekYear = Week.last_week_of_year(currYear).week\n",
    "    #print(lastWeekYear)\n",
    "    leg=int(option/lastWeekYear)\n",
    "    #print(leg)\n",
    "    currYear2 = currYear-(1+(1*leg))\n",
    "    Sum=0 \n",
    "    Sumation=0\n",
    "    for i in range(0,2+(1*leg)):\n",
    "        lastWeekYear2 = Week.last_week_of_year(currYear-(1*i)).week\n",
    "        Sum= (Sum+lastWeekYear2)\n",
    "        Sumation=(Sumation+lastWeekYear)\n",
    "\n",
    "    if option> weekValue and Sum == Sumation:\n",
    "        answer1=(weekValue+lastWeekYear+(lastWeekYear*leg))-option\n",
    "        outValue1=print(str(currYear2)+str(answer1))       \n",
    "        return outValue1\n",
    "    elif option>weekValue and Sum != Sumation:\n",
    "        lastWeekYearDiff = Sum-Sumation\n",
    "        answer3=(weekValue+lastWeekYear+(lastWeekYear*leg)+lastWeekYearDiff)-option\n",
    "        outValue2=print(str(currYear2)+str(answer3))              \n",
    "        return outValue2\n",
    "    elif option <= weekValue:\n",
    "        answer2=(weekValue-option)\n",
    "        outValue3=print(str(currYear)+str(answer2))\n",
    "        return outValue3\n",
    "    else:\n",
    "        pass\n",
    "    \n",
    "yearCalculater(201720,'100')"
   ]
  },
  {
   "cell_type": "markdown",
   "metadata": {},
   "source": [
    "# 주신이"
   ]
  },
  {
   "cell_type": "code",
   "execution_count": 11,
   "metadata": {},
   "outputs": [],
   "source": [
    "# 함수설명: inValue에 년도주차(예.201720-2017년도 20주차) 값을 입력했을 때, option 값만큼의 전 주차의 년도주차 구하기\n",
    "# 입력파라미터: inValue와 option 모두 문자형, 숫자형 입력 가능\n",
    "\n",
    "def yearWeekFunction(inValue, option):\n",
    "    inValue = int(inValue) # 문자형으로 입력해도 정수(숫자)로 인식\n",
    "    option = int(option) # 문자형으로 입력해도 정수(숫자)로 인식\n",
    "    from isoweek import Week #주 단위 불러오기\n",
    "    #inValue = 201720\n",
    "    inValueStr = str(inValue) #입력값을 우선 문자열로 인식\n",
    "    inValueYear = inValueStr[0:4] #입력값에서 년도만 뽑아내기\n",
    "    inValueYearInt = int(inValueYear) #뽑아낸 년도를 정수(숫자)로 인식\n",
    "    inValueWeek = inValueStr[4:] # 입력값에서 몇주차인지 뽑아내기 \n",
    "    inValueWeekInt = int(inValueWeek) # 뽑아낸 주차를 정수(숫자)로 인식\n",
    "    emptyList =[] #나중에 결과값을 담을 리스트 생성 for 인덱스 활용\n",
    "    for i in range(1, inValueYearInt+1): # 1년~입력값 년도까지 반복문\n",
    "        inValueYearInt = i \n",
    "        lastWeek = Week.last_week_of_year(inValueYearInt).week #해당년도의 총 주차 수 구하기 \n",
    "        lastWeekStr = str(lastWeek) #총 주차를 문자열로 인식\n",
    "        for j in range(1, lastWeek+1): # 1주차~해당년도 끝 주차까지 반복문\n",
    "            week = j\n",
    "            weekStr = str(week)\n",
    "            inValueYearStr = str(inValueYearInt)\n",
    "            if (j < 10): #주차수가 10이하일때, 앞에 0을 붙이기 위한 조건문(예.9주차 -> 09)\n",
    "                YearWeek = inValueYearStr + \"0\" + weekStr #년도+주차 형식으로 만들어내기\n",
    "            else: # 10주차 이상은 그 값 그대로 입력\n",
    "                YearWeek = inValueYearStr + weekStr #년도+주차 형식으로 만들어낸 문자열\n",
    "            YearWeekInt = int(YearWeek) # 최종값인YearWeek 문자열이기 때문에 intValue(숫자)를 인식하기 위해 숫자형태로 변환\n",
    "            emptyList.append(YearWeekInt) # 리스트에 값 담기\n",
    "    findIndex = emptyList.index(inValue) # 리스트에서 입력한 값이 몇번째에 있는지 찾기\n",
    "    #option = 5\n",
    "    result = findIndex - option # 찾은 인덱스에서 option 만큼 빼주면 그 만큼의 전 주차가 언제인지 그 인덱스를 알수 있음\n",
    "    resultYearWeek = emptyList[result] #해당 인덱스의 년도주차 구하기\n",
    "    resultYearWeekStr = str(resultYearWeek) #그 값을 문자열로 나타내기\n",
    "    return resultYearWeekStr"
   ]
  },
  {
   "cell_type": "markdown",
   "metadata": {},
   "source": [
    "# 김보현"
   ]
  },
  {
   "cell_type": "code",
   "execution_count": 12,
   "metadata": {},
   "outputs": [],
   "source": [
    "from isoweek import Week\n",
    "\n",
    "def preWeek(YearWeek,minusWeek):\n",
    "# YearWeek에서 연도와 주차를 분리하기 위해 문자열으로 형변환\n",
    "    YearWeek = str(YearWeek)\n",
    "# YearWeek의 연도와 주를 분리\n",
    "    year = YearWeek[0:4]\n",
    "    week = YearWeek[4:]\n",
    "# 주차 계산을 위해 숫자로 형변환   \n",
    "    minusWeek = int(minusWeek)\n",
    "    week = int(week)\n",
    "    year = int(year) \n",
    "    lastWeek = week - minusWeek\n",
    "\n",
    "#  minusWeek > week = -LastWeek : 이 경우 지난 연도로 돌아가서 지난 연도의 주차값을 더해 lastWeek를 양수로 만듦\n",
    "    while(lastWeek <= 0):\n",
    "        year = year - 1\n",
    "        lastYearWeek = Week.last_week_of_year(year).week\n",
    "        lastWeek = lastYearWeek + lastWeek\n",
    "\n",
    "# 숫자 연산이 되지 않도록 연도와 주차를 문자열로 형변환       \n",
    "# 출력시 주차가 한자리 수인경우 앞에 0을 붙임      \n",
    "    year = str(year)\n",
    "    lastWeek = str(lastWeek)\n",
    "    if (int(lastWeek)) < 10:\n",
    "        FinalYearWeek = year + \"0\" + lastWeek\n",
    "\n",
    "    else:\n",
    "        FinalYearWeek = year + lastWeek\n",
    "\n",
    "    return(FinalYearWeek)\n",
    "\n",
    "# preWeek(\"201701\",5)\n",
    "# '201648'\n",
    "# preWeek(201720,10)\n",
    "# '201710'\n",
    "# preWeek(201720,\"100\")\n",
    "# '201525'"
   ]
  },
  {
   "cell_type": "markdown",
   "metadata": {},
   "source": [
    "# 오성훈"
   ]
  },
  {
   "cell_type": "code",
   "execution_count": 190,
   "metadata": {},
   "outputs": [
    {
     "name": "stdout",
     "output_type": "stream",
     "text": [
      "20152\n"
     ]
    }
   ],
   "source": [
    "from isoweek import Week\n",
    "\n",
    "# yearweek - week 함수 생성\n",
    "def preweek(YWNum, WeekNum):\n",
    "    \n",
    "    # 변수 선언\n",
    "    YWNum = str(YWNum)\n",
    "    WeekNum = int(WeekNum)\n",
    "    \n",
    "    # YWNum에서 year과 week 을 인식하기 위해 각 변수를 지정해줌  \n",
    "    year = int(YWNum[:4])\n",
    "    week = int(YWNum[4:])\n",
    "    \n",
    "    \n",
    "    # YWNum에서 주차수를 빼기 위함 \n",
    "    week = week - WeekNum   \n",
    "    \n",
    "    \n",
    "    # YWNum에서 주차수가 0이하면 연도를 - 해주고 난 뒤 해당 연도의 총 주차수를 연도와 더해줌\n",
    "    while(week <= 0):     \n",
    "        year -= 1         \n",
    "        week = week + int(Week.last_week_of_year(year).week)  \n",
    "\n",
    "    YWNum = str(year) + str(week)\n",
    "\n",
    "    return YWNum\n",
    "\n",
    "print(preweek(201720, 123))   # 결과 값 = 201553"
   ]
  },
  {
   "cell_type": "markdown",
   "metadata": {},
   "source": [
    "# 한유리"
   ]
  },
  {
   "cell_type": "code",
   "execution_count": 188,
   "metadata": {},
   "outputs": [],
   "source": [
    "from isoweek import Week\n",
    "currYear = 2017\n",
    "Week.last_week_of_year(currYear).week\n",
    "\n",
    "def preWeek(inputYW,gapWeek):\n",
    "    inputYW = str(inputYW)\n",
    "    currYear = inputYW[:4]      #월, 주 나누어 알아보기\n",
    "    currWeek = inputYW[4:]\n",
    "    gapWeek = int(gapWeek)\n",
    "    \n",
    "    resultWeek = int(currWeek) - gapWeek\n",
    "    currYear = int(currYear)\n",
    "    \n",
    "    while(resultWeek <= 0):\n",
    "        \n",
    "        currYear -= 1\n",
    "        preYearLastWeek = Week.last_week_of_year(currYear).week\n",
    "        resultWeek += preYearLastWeek\n",
    "        \n",
    "    if (resultWeek < 10):\n",
    "        answer = str(currYear)+\"0\"+str(resultWeek)\n",
    "        \n",
    "    else:\n",
    "        answer = str(currYear)+str(resultWeek)\n",
    "    return(answer)"
   ]
  },
  {
   "cell_type": "code",
   "execution_count": 189,
   "metadata": {},
   "outputs": [
    {
     "data": {
      "text/plain": [
       "'201502'"
      ]
     },
     "execution_count": 189,
     "metadata": {},
     "output_type": "execute_result"
    }
   ],
   "source": [
    "preWeek(201720,123)"
   ]
  },
  {
   "cell_type": "markdown",
   "metadata": {},
   "source": [
    "#  풀이"
   ]
  },
  {
   "cell_type": "code",
   "execution_count": 197,
   "metadata": {},
   "outputs": [],
   "source": [
    "inputYearWeek = 201720\n",
    "GapWeek = 100"
   ]
  },
  {
   "cell_type": "code",
   "execution_count": 198,
   "metadata": {},
   "outputs": [],
   "source": [
    "# 1. 타입 통합\n",
    "inputYearWeek = str(inputYearWeek)\n",
    "GapWeek = int(GapWeek)\n",
    "# 2. 주차 분리 및 숫자계산 준비\n",
    "currYear = int(inputYearWeek[:4])\n",
    "currWeek = int(inputYearWeek[4:])"
   ]
  },
  {
   "cell_type": "code",
   "execution_count": 199,
   "metadata": {},
   "outputs": [],
   "source": [
    "# 주차 차이 계산 (현재주차 - 뺄 주차)\n",
    "weekDiff = currWeek - GapWeek "
   ]
  },
  {
   "cell_type": "code",
   "execution_count": 200,
   "metadata": {},
   "outputs": [],
   "source": [
    "# 더 빼야할 주차가 없을때까지 과거년도 보상 로직 수행 (이외에는 바로 정답)\n",
    "while(weekDiff <= 0):\n",
    "    currYear = currYear - 1 # 연도 빼기\n",
    "    lastWeek = Week.last_week_of_year(currYear).week\n",
    "    weekDiff = weekDiff + lastWeek"
   ]
  },
  {
   "cell_type": "code",
   "execution_count": 201,
   "metadata": {},
   "outputs": [],
   "source": [
    "if (weekDiff < 10):\n",
    "    answer = str(currYear) + \"0\" + str(weekDiff)\n",
    "else:\n",
    "    answer = str(currYear) + str(weekDiff)"
   ]
  },
  {
   "cell_type": "code",
   "execution_count": 202,
   "metadata": {},
   "outputs": [
    {
     "data": {
      "text/plain": [
       "'201525'"
      ]
     },
     "execution_count": 202,
     "metadata": {},
     "output_type": "execute_result"
    }
   ],
   "source": [
    "answer"
   ]
  },
  {
   "cell_type": "code",
   "execution_count": 247,
   "metadata": {},
   "outputs": [],
   "source": [
    "yearweek = 201720\n",
    "minusWeek = 100\n",
    "\n",
    "# 1. 타입 통합\n",
    "inputYearWeek = str(inputYearWeek)\n",
    "GapWeek = int(GapWeek)\n",
    "# 2. 주차 분리 및 숫자계산 준비\n",
    "currYear = int(inputYearWeek[:4])\n",
    "currWeek = int(inputYearWeek[4:])\n",
    "isoAnswer = str(Week(currYear, currWeek) - minusWeek)"
   ]
  },
  {
   "cell_type": "code",
   "execution_count": 250,
   "metadata": {},
   "outputs": [
    {
     "data": {
      "text/plain": [
       "isoweek.Week(2016, 51)"
      ]
     },
     "execution_count": 250,
     "metadata": {},
     "output_type": "execute_result"
    }
   ],
   "source": [
    "Week(2017,1) - 2"
   ]
  },
  {
   "cell_type": "code",
   "execution_count": 248,
   "metadata": {},
   "outputs": [
    {
     "data": {
      "text/plain": [
       "'2015W25'"
      ]
     },
     "execution_count": 248,
     "metadata": {},
     "output_type": "execute_result"
    }
   ],
   "source": [
    "isoAnswer"
   ]
  },
  {
   "cell_type": "code",
   "execution_count": 252,
   "metadata": {},
   "outputs": [
    {
     "ename": "TypeError",
     "evalue": "toordinal() missing 1 required positional argument: 'self'",
     "output_type": "error",
     "traceback": [
      "\u001b[1;31m---------------------------------------------------------------------------\u001b[0m",
      "\u001b[1;31mTypeError\u001b[0m                                 Traceback (most recent call last)",
      "\u001b[1;32m<ipython-input-252-a64b0fb50c87>\u001b[0m in \u001b[0;36m<module>\u001b[1;34m\u001b[0m\n\u001b[1;32m----> 1\u001b[1;33m \u001b[0mWeek\u001b[0m\u001b[1;33m.\u001b[0m\u001b[0mtoordinal\u001b[0m\u001b[1;33m(\u001b[0m\u001b[1;33m)\u001b[0m\u001b[1;33m\u001b[0m\u001b[1;33m\u001b[0m\u001b[0m\n\u001b[0m",
      "\u001b[1;31mTypeError\u001b[0m: toordinal() missing 1 required positional argument: 'self'"
     ]
    }
   ],
   "source": [
    "Week.toordinal()"
   ]
  },
  {
   "cell_type": "code",
   "execution_count": null,
   "metadata": {},
   "outputs": [],
   "source": []
  }
 ],
 "metadata": {
  "kernelspec": {
   "display_name": "Python 3",
   "language": "python",
   "name": "python3"
  },
  "language_info": {
   "codemirror_mode": {
    "name": "ipython",
    "version": 3
   },
   "file_extension": ".py",
   "mimetype": "text/x-python",
   "name": "python",
   "nbconvert_exporter": "python",
   "pygments_lexer": "ipython3",
   "version": "3.8.2"
  }
 },
 "nbformat": 4,
 "nbformat_minor": 4
}
