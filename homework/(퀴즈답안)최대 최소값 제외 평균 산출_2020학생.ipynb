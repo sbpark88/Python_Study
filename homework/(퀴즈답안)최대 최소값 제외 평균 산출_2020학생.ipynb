{
 "cells": [
  {
   "cell_type": "code",
   "execution_count": 13,
   "metadata": {},
   "outputs": [
    {
     "data": {
      "text/plain": [
       "'C:\\\\Users\\\\kopo\\\\devcode\\\\homework'"
      ]
     },
     "execution_count": 13,
     "metadata": {},
     "output_type": "execute_result"
    }
   ],
   "source": [
    "pwd"
   ]
  },
  {
   "cell_type": "code",
   "execution_count": 15,
   "metadata": {},
   "outputs": [],
   "source": [
    "tt ='C:\\\\Users\\\\kopo\\\\devcode\\\\homework'"
   ]
  },
  {
   "cell_type": "code",
   "execution_count": 16,
   "metadata": {},
   "outputs": [
    {
     "ename": "SyntaxError",
     "evalue": "EOL while scanning string literal (<ipython-input-16-ff03d42843ac>, line 1)",
     "output_type": "error",
     "traceback": [
      "\u001b[1;36m  File \u001b[1;32m\"<ipython-input-16-ff03d42843ac>\"\u001b[1;36m, line \u001b[1;32m1\u001b[0m\n\u001b[1;33m    tt.replace(\"\\\\\",\"\\\")\u001b[0m\n\u001b[1;37m                        ^\u001b[0m\n\u001b[1;31mSyntaxError\u001b[0m\u001b[1;31m:\u001b[0m EOL while scanning string literal\n"
     ]
    }
   ],
   "source": [
    "tt.replace(\"\\\\\",\"\\\")"
   ]
  },
  {
   "cell_type": "markdown",
   "metadata": {},
   "source": [
    "### 여러답안 중 한개"
   ]
  },
  {
   "cell_type": "code",
   "execution_count": 2,
   "metadata": {},
   "outputs": [
    {
     "name": "stdout",
     "output_type": "stream",
     "text": [
      "383 ms ± 38.1 ms per loop (mean ± std. dev. of 7 runs, 1 loop each)\n"
     ]
    }
   ],
   "source": [
    "%%timeit\n",
    "import pandas as pd\n",
    "customerData = pd.read_csv(\"../dataset/kopo_customerdata.csv\")\n",
    "customerTotalList = customerData[\"TOTAL_AMOUNT\"].tolist()\n",
    "\n",
    "# 최대값 최소값\n",
    "minValue = min(customerTotalList)\n",
    "maxValue = max(customerTotalList)\n",
    "\n",
    "# 최대값 최소값 개수\n",
    "minValueCnt = customerTotalList.count(minValue)\n",
    "maxValueCnt = customerTotalList.count(maxValue)\n",
    "\n",
    "# 평균\n",
    "answerSum = sum(customerTotalList) - (minValue*minValueCnt) - (maxValue*maxValueCnt) \n",
    "answerCnt = len(customerTotalList) - minValueCnt - maxValueCnt\n",
    "\n",
    "answerSum/answerCnt"
   ]
  },
  {
   "cell_type": "markdown",
   "metadata": {},
   "source": [
    "### 배우지 않은 부분으로 풀어낸 답안중 한개"
   ]
  },
  {
   "cell_type": "code",
   "execution_count": 1,
   "metadata": {},
   "outputs": [
    {
     "name": "stdout",
     "output_type": "stream",
     "text": [
      "1.83 s ± 99 ms per loop (mean ± std. dev. of 7 runs, 1 loop each)\n"
     ]
    }
   ],
   "source": [
    "%%timeit\n",
    "\n",
    "import pandas as pd\n",
    "\n",
    "customerData = pd.read_csv(\"../dataset/kopo_customerdata.csv\")\n",
    "customerTotalList = customerData[\"TOTAL_AMOUNT\"].tolist()\n",
    "\n",
    "maximum = max(customerTotalList)                         # 최댓값을 정의.\n",
    "minimum = min(customerTotalList)                         # 최솟값을 정의.\n",
    "\n",
    "while customerTotalList.count(maximum) > 0:\n",
    "    customerTotalList.remove(maximum)\n",
    "\n",
    "while customerTotalList.count(minimum) > 0:\n",
    "    customerTotalList.remove(minimum)\n",
    "\n",
    "# print(sum(customerTotalList)/len(customerTotalList))"
   ]
  },
  {
   "cell_type": "markdown",
   "metadata": {},
   "source": [
    "### 송호성 (정렬과 인덱스를 활용한 풀이방법)"
   ]
  },
  {
   "cell_type": "code",
   "execution_count": 10,
   "metadata": {},
   "outputs": [
    {
     "name": "stdout",
     "output_type": "stream",
     "text": [
      "3103500\n"
     ]
    },
    {
     "data": {
      "text/plain": [
       "35248.91490376756"
      ]
     },
     "execution_count": 10,
     "metadata": {},
     "output_type": "execute_result"
    }
   ],
   "source": [
    "import pandas as pd\n",
    "\n",
    "customerData = pd.read_csv(\"../dataset/kopo_customerdata.csv\")\n",
    "customerTotalList = customerData[\"TOTAL_AMOUNT\"].tolist()\n",
    "\n",
    "customerTotalList.sort()\n",
    "\n",
    "\n",
    "# 리스트 최대값 최소값\n",
    "totalListMax = max(customerTotalList)\n",
    "totalListMin = min(customerTotalList)\n",
    "\n",
    "# 최대값 최소값 수\n",
    "totalMaxCount = customerTotalList.count(totalListMax) \n",
    "totalMinCount = customerTotalList.count(totalListMin)\n",
    "print(totalListMax)\n",
    "\n",
    "customerTotalList[:totalMinCount] = []            # 반복문 while for 이용가능\n",
    "customerTotalList[-totalMaxCount:]=[]\n",
    "avg = sum(customerTotalList) / len(customerTotalList)\n",
    "avg"
   ]
  },
  {
   "cell_type": "markdown",
   "metadata": {},
   "source": [
    "### 전상훈"
   ]
  },
  {
   "cell_type": "code",
   "execution_count": 3,
   "metadata": {},
   "outputs": [
    {
     "data": {
      "text/plain": [
       "35248.91490376756"
      ]
     },
     "execution_count": 3,
     "metadata": {},
     "output_type": "execute_result"
    }
   ],
   "source": [
    "# 35248.91490376756\n",
    "\n",
    "# --------------------------------------------------------------\n",
    "%%timeit\n",
    "import pandas as pd\n",
    "customerData = pd.read_csv(\"../dataset/kopo_customerdata.csv\")\n",
    "customerTotalList = customerData[\"TOTAL_AMOUNT\"].tolist()\n",
    "customerTotalList.sort()\n",
    "minvalue = min(customerTotalList)\n",
    "maxvalue = max(customerTotalList)\n",
    "lenvalue = len(customerTotalList)\n",
    "minvaluecount = customerTotalList.count(minvalue)\n",
    "maxvaluecount = customerTotalList.count(maxvalue)\n",
    "relist = customerTotalList[minvaluecount:lenvalue-maxvaluecount]\n",
    "average = sum(relist)/len(relist)\n",
    "average"
   ]
  },
  {
   "cell_type": "markdown",
   "metadata": {},
   "source": [
    "### 이상민"
   ]
  },
  {
   "cell_type": "code",
   "execution_count": 8,
   "metadata": {},
   "outputs": [
    {
     "name": "stdout",
     "output_type": "stream",
     "text": [
      "35248.91490376756\n"
     ]
    }
   ],
   "source": [
    "import pandas as pd\n",
    "\n",
    "# 파일 읽어오기\n",
    "customerData = pd.read_csv(\"../dataset/kopo_customerdata.csv\")\n",
    "\n",
    "# TOTAL_AMOUNT 컬럼만 불러오기\n",
    "customerTotalList = customerData[\"TOTAL_AMOUNT\"].tolist()\n",
    "\n",
    "# 오름차순으로 분류. 최솟값과 최댓값 중복 여부 확인\n",
    "customerTotalList.sort()\n",
    "# print(customerTotalList)\n",
    "\n",
    "# 최대값, 최소값 저장\n",
    "Max_customerTotalList = max(customerTotalList)\n",
    "Min_customerTotalList = min(customerTotalList)\n",
    "\n",
    "# 최대값, 최소값에 해당하는 데이터의 수\n",
    "Count_Max_customerTotalList = customerTotalList.count(max(customerTotalList))\n",
    "Count_Min_customerTotalList = customerTotalList.count(min(customerTotalList))\n",
    "\n",
    "# 평균 구하기\n",
    "Sum_customerTotalList = sum(customerTotalList) - (Max_customerTotalList * Count_Max_customerTotalList + Min_customerTotalList * Count_Min_customerTotalList)\n",
    "Length_customerTotalList = len(customerTotalList) - (Count_Max_customerTotalList + Count_Min_customerTotalList)\n",
    "\n",
    "Average = Sum_customerTotalList / Length_customerTotalList\n",
    "print(Average)"
   ]
  },
  {
   "cell_type": "markdown",
   "metadata": {},
   "source": [
    "### 윤수현"
   ]
  },
  {
   "cell_type": "code",
   "execution_count": 6,
   "metadata": {},
   "outputs": [
    {
     "name": "stdout",
     "output_type": "stream",
     "text": [
      "10565615500\n",
      "299743\n",
      "35248.91490376756\n"
     ]
    }
   ],
   "source": [
    "import pandas as pd\n",
    "customerData = pd.read_csv(\"../dataset/kopo_customerdata.csv\")\n",
    "customerTotalList = customerData[\"TOTAL_AMOUNT\"].tolist()\n",
    "customerTotalList.sort()\n",
    "mxcusTotalList = max(customerTotalList)\n",
    "mncusTotalList = min(customerTotalList)\n",
    "scusTotalList = sum(customerTotalList)\n",
    "final = scusTotalList - mxcusTotalList - mncusTotalList\n",
    "print(final)\n",
    "mxcusToTal = customerTotalList.count(mxcusTotalList)\n",
    "mncusToTal = customerTotalList.count(mncusTotalList)\n",
    "lcusTotalList = len(customerTotalList)\n",
    "finish = lcusTotalList - mxcusToTal - mncusToTal\n",
    "print(finish)\n",
    "average = final / finish\n",
    "print(average)"
   ]
  },
  {
   "cell_type": "markdown",
   "metadata": {},
   "source": [
    "### 김성중"
   ]
  },
  {
   "cell_type": "code",
   "execution_count": 5,
   "metadata": {},
   "outputs": [
    {
     "data": {
      "text/plain": [
       "35259.1511423081"
      ]
     },
     "execution_count": 5,
     "metadata": {},
     "output_type": "execute_result"
    }
   ],
   "source": [
    "import pandas as pd\n",
    "customerData = pd.read_csv(\"../dataset/kopo_customerdata.csv\")\n",
    "customerTotalList = customerData[\"TOTAL_AMOUNT\"].tolist()\n",
    "customerTotalList\n",
    "customerTotalList.sort()\n",
    "customerMin=min(customerTotalList)\n",
    "customerMax=max(customerTotalList)\n",
    "while customerMin==min(customerTotalList):\n",
    "    customerTotalList.remove(min(customerTotalList))\n",
    "while customerMin==max(customerTotalList):\n",
    "    customerTotalList.remove(max(customerTotalList))\n",
    "customerTotalList\n",
    "sum(customerTotalList)/len(customerTotalList)\n",
    "# 35259.1511423081"
   ]
  },
  {
   "cell_type": "markdown",
   "metadata": {},
   "source": [
    "### 최정희"
   ]
  },
  {
   "cell_type": "code",
   "execution_count": 2,
   "metadata": {},
   "outputs": [
    {
     "name": "stdout",
     "output_type": "stream",
     "text": [
      "0\n",
      "3103500\n",
      "256\n",
      "1\n",
      "300000\n",
      "10568719000\n",
      "10565615500\n",
      "299743\n",
      "35248.91490376756\n"
     ]
    }
   ],
   "source": [
    "import pandas as pd\n",
    "customerData = pd.read_csv(\"../dataset/kopo_customerdata.csv\")\n",
    "customerTotalList = customerData[\"TOTAL_AMOUNT\"].tolist()\n",
    "customerTotalList\n",
    "customerTotalList.sort(reverse = False)\n",
    "mintl = min(customerTotalList)\n",
    "print(mintl)\n",
    "maxtl = max(customerTotalList)\n",
    "print(maxtl)\n",
    "mintlNum = customerTotalList.count(mintl)\n",
    "print(mintlNum)\n",
    "maxtlNum = customerTotalList.count(maxtl)\n",
    "print(maxtlNum)\n",
    "tlNum = len(customerTotalList)\n",
    "print(tlNum)\n",
    "tlSum = sum(customerTotalList)\n",
    "print(tlSum)\n",
    "totalsum = tlSum-(mintl*mintlNum)-(maxtl*maxtlNum)\n",
    "totalnum = tlNum-mintlNum-maxtlNum\n",
    "print(totalsum)\n",
    "print(totalnum)\n",
    "average = totalsum/totalnum\n",
    "print(average)\n",
    "\n",
    "# 35248.91490376756"
   ]
  },
  {
   "cell_type": "markdown",
   "metadata": {},
   "source": [
    "### 송재성"
   ]
  },
  {
   "cell_type": "code",
   "execution_count": 2,
   "metadata": {},
   "outputs": [
    {
     "name": "stdout",
     "output_type": "stream",
     "text": [
      "35248.91490376756\n"
     ]
    }
   ],
   "source": [
    "import pandas as pd\n",
    "customerData = pd.read_csv(\"../dataset/kopo_customerdata.csv\")\n",
    "customerTotalList = customerData[\"TOTAL_AMOUNT\"].tolist()\n",
    "\n",
    "customerTotalList.sort(reverse=False)\n",
    "maxNumber = customerTotalList.count(max(customerTotalList)) # 최대값 개수\n",
    "minNumber = customerTotalList.count(min(customerTotalList)) # 최소값 개수\n",
    "\n",
    "maximum = max(customerTotalList) #최대값\n",
    "minimum = min(customerTotalList) #최소값\n",
    "\n",
    "print((sum(customerTotalList)-maximum*maxNumber-minimum*minNumber) / (len(customerTotalList)-maxNumber-minNumber))\n",
    "# 총 데이터 합 - 최대값의 합 - 최소값의 합 / 총 데이터 수 - 최대값의 수 - 최소값의 수\n",
    "\n",
    "# 정답 : 35248.91490376756"
   ]
  },
  {
   "cell_type": "markdown",
   "metadata": {},
   "source": [
    "### 임지원"
   ]
  },
  {
   "cell_type": "code",
   "execution_count": 5,
   "metadata": {},
   "outputs": [
    {
     "name": "stdout",
     "output_type": "stream",
     "text": [
      "35248.91490376756\n"
     ]
    }
   ],
   "source": [
    "import pandas as pd\n",
    "\n",
    "customerData = pd.read_csv(\"../dataset/kopo_customerdata.csv\")\n",
    "\n",
    "customerTotalList = customerData[\"TOTAL_AMOUNT\"].tolist()\n",
    "\n",
    "customerTotalList.sort()\n",
    "\n",
    "Min = min(customerTotalList)\n",
    "Max = max(customerTotalList)\n",
    "\n",
    "countMin = customerTotalList.count(min(customerTotalList))\n",
    "countMax = customerTotalList.count(max(customerTotalList))\n",
    "\n",
    "avg = (sum(customerTotalList) - (Min + Max)) / (len(customerTotalList) - (countMin + countMax))\n",
    "print(avg)\n",
    "\n",
    "# -> 답 : 35248.91490376756"
   ]
  },
  {
   "cell_type": "markdown",
   "metadata": {},
   "source": [
    "### 김보현"
   ]
  },
  {
   "cell_type": "code",
   "execution_count": 7,
   "metadata": {},
   "outputs": [
    {
     "name": "stdout",
     "output_type": "stream",
     "text": [
      "35248.91490376756\n"
     ]
    }
   ],
   "source": [
    "import pandas as pd\n",
    "customerData = pd.read_csv(\"../dataset/kopo_customerdata.csv\")\n",
    "customerTotallist = customerData[\"TOTAL_AMOUNT\"].tolist()\n",
    "MaxV = max(customerTotallist)\n",
    "MinV = min(customerTotallist)\n",
    "MaxC = customerTotallist.count(MaxV)\n",
    "MinC = customerTotallist.count(MinV)\n",
    "\n",
    "sumArrange = sum(customerTotallist) - MaxV*MaxC - MinV*MinV\n",
    "lenArrange = len(customerTotallist) - MaxC - MinC\n",
    "avr = sumArrange / lenArrange\n",
    "\n",
    "print(avr)\n",
    "# 35248.91490376756"
   ]
  },
  {
   "cell_type": "markdown",
   "metadata": {},
   "source": [
    "### 김형준"
   ]
  },
  {
   "cell_type": "code",
   "execution_count": 3,
   "metadata": {},
   "outputs": [
    {
     "name": "stdout",
     "output_type": "stream",
     "text": [
      "300000\n",
      "256 1\n",
      "299743\n",
      "10565615500\n",
      "35248.91490376756\n"
     ]
    }
   ],
   "source": [
    "import pandas as pd\n",
    "customerData = pd.read_csv(\"../dataset/kopo_customerdata.csv\")\n",
    "customerTotallist = customerData[\"TOTAL_AMOUNT\"].tolist()\n",
    "customerTotallist.sort()\n",
    "Len = len(customerTotallist)\n",
    "print(Len)\n",
    "\n",
    "cntMin = customerTotallist.count(min(customerTotallist))\n",
    "cntMax = customerTotallist.count(max(customerTotallist))\n",
    "print(cntMin,cntMax)\n",
    "\n",
    "customerTotallist = customerTotallist[cntMin:(Len - cntMax)]\n",
    "N = len(customerTotallist)\n",
    "print(N)\n",
    "\n",
    "Sum = sum(customerTotallist)\n",
    "print(Sum)\n",
    "\n",
    "average = Sum / N\n",
    "print(average)\n",
    "\n",
    "# 35248.91490376756"
   ]
  },
  {
   "cell_type": "markdown",
   "metadata": {},
   "source": [
    "### 박종환"
   ]
  },
  {
   "cell_type": "code",
   "execution_count": 9,
   "metadata": {},
   "outputs": [
    {
     "name": "stdout",
     "output_type": "stream",
     "text": [
      "300000\n",
      "256 1\n",
      "299743\n",
      "10565615500\n",
      "35248.91490376756\n"
     ]
    }
   ],
   "source": [
    "import pandas as pd\n",
    "customerData = pd.read_csv(\"../dataset/kopo_customerdata.csv\")\n",
    "customerTotallist = customerData[\"TOTAL_AMOUNT\"].tolist()\n",
    "customerTotallist.sort()\n",
    "Len = len(customerTotallist)\n",
    "print(Len)\n",
    "\n",
    "cntMin = customerTotallist.count(min(customerTotallist))\n",
    "cntMax = customerTotallist.count(max(customerTotallist))\n",
    "print(cntMin,cntMax)\n",
    "\n",
    "customerTotallist = customerTotallist[cntMin:(Len - cntMax)]\n",
    "N = len(customerTotallist)\n",
    "print(N)\n",
    "\n",
    "Sum = sum(customerTotallist)\n",
    "print(Sum)\n",
    "\n",
    "average = Sum / N\n",
    "print(average)"
   ]
  },
  {
   "cell_type": "markdown",
   "metadata": {},
   "source": [
    "### 황현빈"
   ]
  },
  {
   "cell_type": "code",
   "execution_count": 10,
   "metadata": {},
   "outputs": [
    {
     "name": "stdout",
     "output_type": "stream",
     "text": [
      "35248.91490376756\n"
     ]
    }
   ],
   "source": [
    "customerTotalList.sort(reverse = False)\n",
    "maxValue = max(customerTotalList)\n",
    "minValue = min(customerTotalList)\n",
    "\n",
    "maxCount = customerTotalList.count(maxValue)\n",
    "minCount = customerTotalList.count(minValue)\n",
    "\n",
    "removesum = sum(customerTotalList) - maxValue*maxCount - minValue*minCount\n",
    "removelen = len(customerTotalList) - maxCount - minCount\n",
    "\n",
    "average = removesum / removelen\n",
    "\n",
    "print(average)\n"
   ]
  },
  {
   "cell_type": "markdown",
   "metadata": {},
   "source": [
    "### 김동휘"
   ]
  },
  {
   "cell_type": "code",
   "execution_count": 15,
   "metadata": {},
   "outputs": [
    {
     "name": "stdout",
     "output_type": "stream",
     "text": [
      "0\n",
      "3103500\n",
      "300000\n",
      "0 0\n",
      "35248.91490376756\n"
     ]
    }
   ],
   "source": [
    "# 답: 35248.91490376756\n",
    "\n",
    "# 코드 \n",
    "import pandas as pd\n",
    "customData = pd.read_csv(\"../dataset/kopo_customerdata.csv\")\n",
    "TotalList = customData[\"TOTAL_AMOUNT\"].tolist()\n",
    "#리스트 정렬 및 확인\n",
    "TotalList.sort(reverse=False)\n",
    "# print(TotalList)\n",
    "print(min(TotalList)) #최솟값\n",
    "print(max(TotalList)) #최댓값\n",
    "CountMin = TotalList.count(min(TotalList))  #최솟값 개수\n",
    "CountMax = TotalList.count(max(TotalList))  #최댔값 개수\n",
    "#print(CountMin,CountMax)\n",
    "#TotalList의 요소 개수\n",
    "TotalLen = len(TotalList)   \n",
    "print(TotalLen)\n",
    "#최댓값과 최솟값 모두 뺀 list\n",
    "ATotalList = TotalList[(CountMin):(TotalLen - CountMax)]\n",
    "ATotalList\n",
    "# 최댓값과 최솟값 빠진거 확인 \n",
    "A = ATotalList.count(CountMin)\n",
    "B = ATotalList.count(CountMax)\n",
    "print(A,B)\n",
    "#최댓값, 최솟값 뺀 평균구하기\n",
    "average = sum(ATotalList) / len(ATotalList)\n",
    "# print(ATotalList)\n",
    "print(average)"
   ]
  },
  {
   "cell_type": "markdown",
   "metadata": {},
   "source": [
    "### 김재영"
   ]
  },
  {
   "cell_type": "code",
   "execution_count": 16,
   "metadata": {},
   "outputs": [
    {
     "name": "stdout",
     "output_type": "stream",
     "text": [
      "3103500\n",
      "0\n",
      "1\n",
      "256\n",
      "2441300\n",
      "600\n",
      "35248.91490376756\n"
     ]
    }
   ],
   "source": [
    "customerData = pd.read_csv(\"../dataset/kopo_customerdata.csv\")\n",
    "customerData = customerData[\"TOTAL_AMOUNT\"].tolist()\n",
    "\n",
    "customerData.sort() #내림차순 정렬\n",
    "\n",
    "MaxData = max(customerData) #최대값 확인\n",
    "MinData = min(customerData) #최소값 확인\n",
    "CMaxData = customerData.count(MaxData) #최대값 중복값 확인, 갯수확인\n",
    "CMinData = customerData.count(MinData) #최소값 중복값 확인, 갯수확인\n",
    "\n",
    "#전체 데이터 확인\n",
    "print(MaxData)\n",
    "print(MinData)\n",
    "print(CMaxData)\n",
    "print(CMinData)\n",
    "\n",
    "#데이터 정제\n",
    "\n",
    "#최대값 정제\n",
    "customerData.pop()          #최대값은 1개 가장 마지막 값 제거\n",
    "MaxDataC = max(customerData)\n",
    "print(MaxDataC)             #새로운 최대값 재확인\n",
    "\n",
    "#최소값 정제\n",
    "del customerData[:256]      #최소값 중복 256개 제거\n",
    "customerData.count(MinData) #최소값 제거 확인, 갯수 0개면 제거완료\n",
    "MinDataC = min(customerData) \n",
    "print(MinDataC)             #새로운 최소값 재확인\n",
    "\n",
    "AverCustomerData = sum(customerData)/len(customerData) #평균 도출\n",
    "print(AverCustomerData)\n",
    "\n",
    "# 35248.91490376756"
   ]
  },
  {
   "cell_type": "markdown",
   "metadata": {},
   "source": [
    "### 오성훈"
   ]
  },
  {
   "cell_type": "code",
   "execution_count": 21,
   "metadata": {},
   "outputs": [
    {
     "name": "stdout",
     "output_type": "stream",
     "text": [
      "35248.91490376756\n"
     ]
    }
   ],
   "source": [
    "import pandas as pd  \n",
    "test = pd.read_csv(\"../dataset/kopo_customerdata.csv\") \n",
    "testTotalList = test[\"TOTAL_AMOUNT\"].tolist()  \n",
    "maxnumber = max(testTotalList) \n",
    "# 최대값 (3103500)  \n",
    "minnumber = min(testTotalList) \n",
    "# 최소값 (0)         \n",
    "le = len(testTotalList)            \n",
    "# TOTAL_AMOUNT 의 데이터 총 개수 300000개 \n",
    "ma = testTotalList.count(3103500)  \n",
    "# 최대값 총 데이터 개수 1개 \n",
    "mi = testTotalList.count(0)        \n",
    "# 최소값 총 데이터 개수 256개 \n",
    "left = le - ma - mi               \n",
    "# 총 데이터 개수에서 최대값과 최소값을 뺀 나머지 데이터의 개수 (299743개)  \n",
    "a= sum(testTotalList)-(maxnumber * ma + minnumber * mi)  \n",
    "# 총 데이터의 합계에서 최대값과 최소값을 뺀 결과  10565615500  \n",
    "average = a / left  \n",
    "# 최대값과 최소값을 뺀 나머지의 평균 값  \n",
    "print(average)"
   ]
  },
  {
   "cell_type": "markdown",
   "metadata": {},
   "source": [
    "### 김민석"
   ]
  },
  {
   "cell_type": "code",
   "execution_count": 29,
   "metadata": {},
   "outputs": [
    {
     "name": "stdout",
     "output_type": "stream",
     "text": [
      "35248.91490376756\n"
     ]
    }
   ],
   "source": [
    "customerData = pd.read_csv(\"../dataset/kopo_customerdata.csv\") \n",
    "customerTotalList = customerData[\"TOTAL_AMOUNT\"].tolist() \n",
    "customerTotalList.sort() \n",
    "mincount = customerTotalList.count(min(customerTotalList)) \n",
    "maxcount = customerTotalList.count(max(customerTotalList)) \n",
    "customerTotalList[len(customerTotalList)-maxcount:] = [] \n",
    "customerTotalList[:mincount] = [] \n",
    "if(len(customerTotalList)==0):     \n",
    "    average = 0 \n",
    "else:     \n",
    "    average = sum(customerTotalList)/len(customerTotalList) \n",
    "print(average)"
   ]
  },
  {
   "cell_type": "markdown",
   "metadata": {},
   "source": [
    "### 강병현"
   ]
  },
  {
   "cell_type": "code",
   "execution_count": 30,
   "metadata": {},
   "outputs": [
    {
     "name": "stdout",
     "output_type": "stream",
     "text": [
      "minimum: 0\n",
      "maximum: 3103500\n",
      "count of minimum value: 256\n",
      "count of maximum value: 1\n",
      "length of List: 300000\n",
      "average of customer total list: 35248.91490376756\n"
     ]
    }
   ],
   "source": [
    "import pandas as pd  \n",
    "customerData = pd.read_csv(\"../datasets/kopo_customerdata.csv\") \n",
    "customerTotalList = customerData[\"TOTAL_AMOUNT\"].tolist()  \n",
    "minData = min(customerTotalList) \n",
    "print(\"minimum:\", minData) \n",
    "maxData = max(customerTotalList) \n",
    "print(\"maximum:\", maxData)  \n",
    "a = customerTotalList.count(minData) \n",
    "print(\"count of minimum value:\", a) \n",
    "b = customerTotalList.count(maxData) \n",
    "print(\"count of maximum value:\", b) \n",
    "c = len(customerTotalList) \n",
    "print(\"length of List:\", c)  \n",
    "averageData = (sum(customerTotalList) - (minData*a) - (maxData*b))/(c-a-b) \n",
    "print(\"average of customer total list:\", averageData)  #average of customer total list: 35248.91490376756"
   ]
  },
  {
   "cell_type": "markdown",
   "metadata": {},
   "source": [
    "### 손채린 (최소 최대값 뺸 케이스! 코드 깔끔함)"
   ]
  },
  {
   "cell_type": "code",
   "execution_count": 28,
   "metadata": {},
   "outputs": [
    {
     "name": "stdout",
     "output_type": "stream",
     "text": [
      "35218.95312635417\n"
     ]
    }
   ],
   "source": [
    "import pandas as pd \n",
    "customerData = pd.read_csv(\"../dataset/kopo_customerdata.csv\") \n",
    "customerTotalList = customerData[\"TOTAL_AMOUNT\"].tolist() \n",
    "customerTotalList \n",
    "customerTotalList.sort(reverse = False)  \n",
    "# print(customerTotalList) \n",
    "customerTotalList.remove(min(customerTotalList)) \n",
    "customerTotalList.remove(max(customerTotalList)) \n",
    "average = sum(customerTotalList)/len(customerTotalList) \n",
    "print(average) \n",
    "# / 답은 35218.95312635417"
   ]
  },
  {
   "cell_type": "markdown",
   "metadata": {},
   "source": [
    "### 전상훈 김민석 한유리 한솔 이상민 박정근 답 제출"
   ]
  }
 ],
 "metadata": {
  "kernelspec": {
   "display_name": "Python 3",
   "language": "python",
   "name": "python3"
  },
  "language_info": {
   "codemirror_mode": {
    "name": "ipython",
    "version": 3
   },
   "file_extension": ".py",
   "mimetype": "text/x-python",
   "name": "python",
   "nbconvert_exporter": "python",
   "pygments_lexer": "ipython3",
   "version": "3.8.2"
  }
 },
 "nbformat": 4,
 "nbformat_minor": 4
}
