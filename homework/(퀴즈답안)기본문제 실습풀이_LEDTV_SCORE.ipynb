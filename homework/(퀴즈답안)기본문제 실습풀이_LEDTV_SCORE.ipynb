{
 "cells": [
  {
   "cell_type": "code",
   "execution_count": 19,
   "metadata": {},
   "outputs": [
    {
     "data": {
      "text/plain": [
       "'C:\\\\Users\\\\kopo\\\\devcode\\\\Session12 - Python Key grammar'"
      ]
     },
     "execution_count": 19,
     "metadata": {},
     "output_type": "execute_result"
    }
   ],
   "source": [
    "pwd"
   ]
  },
  {
   "cell_type": "markdown",
   "metadata": {},
   "source": [
    "# 담당자와 인터뷰 후 꼭 진행한다"
   ]
  },
  {
   "cell_type": "markdown",
   "metadata": {},
   "source": [
    "### 체크포인트\n",
    "### 디버깅, if -> else 채우기, 응용은 풀다보면 생김"
   ]
  },
  {
   "cell_type": "markdown",
   "metadata": {},
   "source": [
    "# 1. 문제1"
   ]
  },
  {
   "cell_type": "raw",
   "metadata": {},
   "source": [
    "tvList2 = [ 'UN40EN001', 'LEDTV_UN40EN002', 'LEDTV_LEDTV_UN40EN003’, ‘ledtv_UN40EN004’]\n",
    "리스트에서 LEDTV_가 한 개만 앞에 붙도록 하세요\n",
    "\n",
    "(기존 문제 + 소문자 처리)"
   ]
  },
  {
   "cell_type": "markdown",
   "metadata": {},
   "source": [
    "### for if 문 활용"
   ]
  },
  {
   "cell_type": "code",
   "execution_count": null,
   "metadata": {},
   "outputs": [],
   "source": [
    "tvList2 = [\"UN40EN001\", \"LEDTV_UN40EN002\",\\\n",
    "         \"LEDTV_LEDTV_UN40EN003\", \"ledtv_UN40EN004\"]\n",
    "preFix = \"LEDTV_\"\n",
    "\n",
    "for i in range(0,len(tvList2)):\n",
    "    tvList2[i] = tvList2[i].upper()\n",
    "    if (tvList2[i].count(preFix) >= 2):\n",
    "        tvList2[i] = tvList2[i].replace(preFix,\"\")\n",
    "        tvList2[i] = preFix + tvList2[i]\n",
    "    elif (tvList2[i].count(preFix) == 1):\n",
    "        pass\n",
    "    else :\n",
    "        tvList2[i] = preFix + tvList2[i]\n",
    "\n",
    "print(tvList2)"
   ]
  },
  {
   "cell_type": "markdown",
   "metadata": {},
   "source": [
    "### 패턴 찾기"
   ]
  },
  {
   "cell_type": "code",
   "execution_count": 11,
   "metadata": {},
   "outputs": [
    {
     "data": {
      "text/plain": [
       "['LEDTV_UN40EN001', 'LEDTV_UN40EN002', 'LEDTV_UN40EN003', 'LEDTV_UN40EN004']"
      ]
     },
     "execution_count": 11,
     "metadata": {},
     "output_type": "execute_result"
    }
   ],
   "source": [
    "tvList2 = ['UN40EN001','LEDTV_UN40EN002','LEDTV_LEDTV_UN40EN003','ledtv_UN40EN004']\n",
    "splitter = \"UN\"\n",
    "for i in range(0,len(tvList2)):\n",
    "    tvList3 = tvList2[i].split(splitter)  \n",
    "    tvList2[i] = \"LEDTV_UN\" + tvList3[1]\n",
    "tvList2"
   ]
  },
  {
   "cell_type": "markdown",
   "metadata": {},
   "source": [
    "### 마이너스 인덱스 활용"
   ]
  },
  {
   "cell_type": "code",
   "execution_count": 15,
   "metadata": {},
   "outputs": [
    {
     "data": {
      "text/plain": [
       "['LEDTV_UN40EN001', 'LEDTV_UN40EN002', 'LEDTV_UN40EN003', 'LEDTV_UN40EN004']"
      ]
     },
     "execution_count": 15,
     "metadata": {},
     "output_type": "execute_result"
    }
   ],
   "source": [
    "tvList2 = ['UN40EN001', 'LEDTV_UN40EN002', 'ledtv_LEDTV_UN40EN003', 'ledtv_UN40EN004']\n",
    "preFix = \"LEDTV_\"\n",
    "\n",
    "for i in range (0,len(tvList2)):\n",
    "    tvList2[i] = preFix + tvList2[i].split(\"_\")[-1]\n",
    "tvList2"
   ]
  },
  {
   "cell_type": "markdown",
   "metadata": {},
   "source": [
    "# 문제2"
   ]
  },
  {
   "cell_type": "raw",
   "metadata": {},
   "source": [
    "nationList [‘A01’ , ‘한국’ , ‘A02’ , ‘미국’ , ‘A03’ , ‘프랑스’]\n",
    " 국가코드만 출력하세요"
   ]
  },
  {
   "cell_type": "code",
   "execution_count": 16,
   "metadata": {},
   "outputs": [
    {
     "name": "stdout",
     "output_type": "stream",
     "text": [
      "한국\n",
      "미국\n",
      "프랑스\n"
     ]
    }
   ],
   "source": [
    "nationList = ['A01','한국','A02','미국','A03','프랑스']\n",
    "preFix = \"A\"\n",
    "for i in range(0,len(nationList)):\n",
    "\n",
    "    if nationList[i].count(preFix) == 0:\n",
    "        print(nationList[i])\n",
    "    else:\n",
    "        pass"
   ]
  },
  {
   "cell_type": "markdown",
   "metadata": {},
   "source": [
    "# 문제3"
   ]
  },
  {
   "cell_type": "raw",
   "metadata": {},
   "source": [
    "SCORE  변수를 80으로 선언 후\n",
    "90점이상 A, 80~89점 B, 이외 C 점수로\n",
    "GRADE변수에 할당하는 프로그램을 구현하세요"
   ]
  },
  {
   "cell_type": "code",
   "execution_count": null,
   "metadata": {},
   "outputs": [],
   "source": [
    "score = 80\n",
    "if score >= 90:\n",
    "    GRADE = \"A\"\n",
    "elif (score >= 80):\n",
    "    GRADE = \"B\"\n",
    "else:\n",
    "    GRADE = \"C\"\n",
    "print(GRADE)"
   ]
  }
 ],
 "metadata": {
  "kernelspec": {
   "display_name": "Python 3",
   "language": "python",
   "name": "python3"
  },
  "language_info": {
   "codemirror_mode": {
    "name": "ipython",
    "version": 3
   },
   "file_extension": ".py",
   "mimetype": "text/x-python",
   "name": "python",
   "nbconvert_exporter": "python",
   "pygments_lexer": "ipython3",
   "version": "3.8.2"
  }
 },
 "nbformat": 4,
 "nbformat_minor": 4
}
