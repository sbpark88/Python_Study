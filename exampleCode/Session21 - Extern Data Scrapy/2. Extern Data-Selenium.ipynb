{
 "cells": [
  {
   "cell_type": "markdown",
   "metadata": {},
   "source": [
    "# 5. Selenium 활용한 웹 브라우저"
   ]
  },
  {
   "cell_type": "code",
   "execution_count": 1,
   "metadata": {},
   "outputs": [],
   "source": [
    "# from selenium import webdriver\n",
    "# from bs4 import BeautifulSoup\n",
    "# import os\n",
    "# from os.path import join, dirname\n",
    "\n",
    "# if os.name == 'nt':\n",
    "#     os_name = 'nt'\n",
    "# elif os.name == 'mac':\n",
    "#     os_name = 'mac'\n",
    "# else:\n",
    "#     os_name = 'linux'\n",
    "\n",
    "# if os_name == 'nt':\n",
    "#     dirver_loc = \"d:/chromedriver/chromedriver.exe\"\n",
    "# else:\n",
    "#     dirver_loc = \"/home/download/chromedriver/chromedriver.exe\""
   ]
  },
  {
   "cell_type": "markdown",
   "metadata": {},
   "source": [
    "### 1. 라이브러리 선언 및 드라이버 설정"
   ]
  },
  {
   "cell_type": "code",
   "execution_count": 25,
   "metadata": {},
   "outputs": [],
   "source": [
    "# 라이브러리 선언\n",
    "from selenium import webdriver\n",
    "\n",
    "# 드라이버 위치 설정\n",
    "driver_loc = \"d:/chromedriver/chromedriver.exe\"\n",
    "\n",
    "# 드라이버 옵션 설정\n",
    "options = webdriver.ChromeOptions()\n",
    "options.add_argument(\"window-size=1920x1080\")\n",
    "\n",
    "# 헤드리스 설정 시 리눅스 같이 웹화면 없는경우에도 웹페이지 실행가능함\n",
    "# options.add_argument('headless’)\n",
    "# options.add_argument(\"disable-gpu\")\n",
    "# 웹 드라이버 정의\n",
    "driver = webdriver.Chrome(driver_loc, options=options)"
   ]
  },
  {
   "cell_type": "markdown",
   "metadata": {},
   "source": [
    "### 2. 웹페이지 이동"
   ]
  },
  {
   "cell_type": "code",
   "execution_count": 36,
   "metadata": {},
   "outputs": [
    {
     "data": {
      "text/plain": [
       "'https://sparkkorea.com/'"
      ]
     },
     "execution_count": 36,
     "metadata": {},
     "output_type": "execute_result"
    }
   ],
   "source": [
    "# URL 정의\n",
    "baseUrl = \"https://sparkkorea.com\"\n",
    "\n",
    "# URL 이동\n",
    "driver.get(baseUrl)\n",
    "\n",
    "# 현재 URL 정보 \n",
    "driver.current_url"
   ]
  },
  {
   "cell_type": "markdown",
   "metadata": {},
   "source": [
    "### 3. 원하는 요소 탐색방법"
   ]
  },
  {
   "cell_type": "markdown",
   "metadata": {},
   "source": [
    "웹 페이지에서 원하는 요소 선택 (우클릭 후 검사) 이후 소스코드 영역에서 우클릭 후 COPY X PATH\n",
    "(* 클래스 속성으로 등으로도 접근가능)"
   ]
  },
  {
   "cell_type": "markdown",
   "metadata": {},
   "source": [
    "### 4. 액션 취하기 (키 입력)"
   ]
  },
  {
   "cell_type": "code",
   "execution_count": 72,
   "metadata": {},
   "outputs": [],
   "source": [
    "from selenium.webdriver.common.keys import Keys\n",
    "\n",
    "# URL 정의\n",
    "googleUrl = 'https://www.google.co.kr'\n",
    "# URL 이동\n",
    "driver.get(googleUrl)\n",
    "# 요소 탐색\n",
    "searchPath = '//*[@id=\"tsf\"]/div[2]/div[1]/div[1]/div/div[2]/input'\n",
    "driver.find_element_by_xpath(searchPath).send_keys(\"selenium wiki\")\n",
    "driver.find_element_by_xpath(searchPath).send_keys(Keys.ENTER)"
   ]
  },
  {
   "cell_type": "markdown",
   "metadata": {},
   "source": [
    "### 4. 액션 취하기 (클릭)"
   ]
  },
  {
   "cell_type": "code",
   "execution_count": 76,
   "metadata": {},
   "outputs": [],
   "source": [
    "# URL 정의\n",
    "sparkUrl = 'https://sparkkorea.com'\n",
    "\n",
    "# URL 이동\n",
    "driver.implicitly_wait(3)\n",
    "driver.get(sparkUrl)\n",
    "\n",
    "quizBtnXpath = '//*[@id=\"menu-item-382\"]/a'\n",
    "driver.find_element_by_xpath(quizBtnXpath).click()"
   ]
  },
  {
   "cell_type": "markdown",
   "metadata": {},
   "source": [
    "### 5. 웹 페이지 소스 가져오기"
   ]
  },
  {
   "cell_type": "code",
   "execution_count": 78,
   "metadata": {},
   "outputs": [],
   "source": [
    "# 현재 페이지 소스 가져오기\n",
    "html = driver.page_source\n",
    "\n",
    "import bs4\n",
    "# BeautifulSoup로 페이지 소스 파싱\n",
    "bs = bs4.BeautifulSoup(html,\"html.parser\")"
   ]
  },
  {
   "cell_type": "code",
   "execution_count": 79,
   "metadata": {},
   "outputs": [],
   "source": []
  },
  {
   "cell_type": "markdown",
   "metadata": {},
   "source": [
    "# 액션 고급"
   ]
  },
  {
   "cell_type": "code",
   "execution_count": 299,
   "metadata": {},
   "outputs": [],
   "source": [
    "import time\n",
    "from selenium.webdriver.support import expected_conditions as EC\n",
    "from selenium.webdriver.common.by import By\n",
    "from selenium.webdriver.support.ui import WebDriverWait as wait\n",
    "\n",
    "# URL 정의\n",
    "sparkUrl = 'http://www.coupang.com'\n",
    "\n",
    "# URL 이동\n",
    "driver.get(sparkUrl)\n",
    "time.sleep(1)"
   ]
  },
  {
   "cell_type": "code",
   "execution_count": 311,
   "metadata": {},
   "outputs": [],
   "source": [
    "from selenium.webdriver.common.action_chains import ActionChains\n",
    "coupangUrl = 'http://www.coupang.com'\n",
    "driver.get(coupangUrl)\n",
    "\n",
    "# 카테고리 메뉴 (카테고리 -> 채소 )\n",
    "mainMenu = '//*[@id=\"header\"]/div/a'\n",
    "subMenu = '//*[@id=\"gnbAnalytics\"]/ul[1]/li[4]/a'\n",
    "\n",
    "main = driver.find_element_by_xpath(mainMenu)\n",
    "sub = driver.find_element_by_xpath(subMenu)\n",
    "\n",
    "# 메인 이동 후 클릭\n",
    "ActionChains(driver).move_to_element(main).click(sub).perform()"
   ]
  },
  {
   "cell_type": "code",
   "execution_count": 309,
   "metadata": {},
   "outputs": [],
   "source": [
    "mainMenu = '//*[@id=\"header\"]/div/a'\n",
    "subMenu = '//*[@id=\"gnbAnalytics\"]/ul[1]/li[4]/a'\n",
    "subMenu2 = '//*[@id=\"gnbAnalytics\"]/ul[1]/li[4]/div/div/ul/li[6]/a'\n",
    "targetMenu = '//*[@id=\"gnbAnalytics\"]/ul[1]/li[4]/div/div/ul/li[6]/div/ul/li[6]/a'\n",
    "main = driver.find_element_by_xpath(mainMenu)\n",
    "sub = driver.find_element_by_xpath(subMenu)\n",
    "sub2 = driver.find_element_by_xpath(subMenu2)\n",
    "target = driver.find_element_by_xpath(targetMenu)\n",
    "ActionChains(driver).move_to_element(main).move_to_element(sub).move_to_element(sub2).click(target).perform()"
   ]
  },
  {
   "cell_type": "markdown",
   "metadata": {},
   "source": [
    "### [실습] [selenium 활용] sparkkorea.com 사이트내 \n",
    "퀴즈 페이지 에서\n",
    "스파크 퀴즈  퀴즈이름 및 링크정보를 스크랩 하세요"
   ]
  },
  {
   "cell_type": "markdown",
   "metadata": {},
   "source": [
    "### 6. 데이터 저장"
   ]
  },
  {
   "cell_type": "code",
   "execution_count": 97,
   "metadata": {},
   "outputs": [],
   "source": [
    "# csv 파일로 저장\n",
    "finalResult.to_csv(\"./link_scraping_result.csv\",encoding=\"ms949\", index=False)"
   ]
  },
  {
   "cell_type": "markdown",
   "metadata": {},
   "source": [
    "# 참조. 메일전송 자동화"
   ]
  },
  {
   "cell_type": "markdown",
   "metadata": {},
   "source": [
    "[필수] 사전준비 GMAIL 앱 비밀번호 생성"
   ]
  },
  {
   "cell_type": "markdown",
   "metadata": {},
   "source": [
    "### 1. 메일 전송 라이브러리 선언"
   ]
  },
  {
   "cell_type": "code",
   "execution_count": 112,
   "metadata": {},
   "outputs": [],
   "source": [
    "# SMTP 프로토콜 로드\n",
    "import smtplib\n",
    "\n",
    "# 이메일을 간단하게 보낼수 있는 라이브러리 로드\n",
    "from email.message import EmailMessage"
   ]
  },
  {
   "cell_type": "code",
   "execution_count": 113,
   "metadata": {},
   "outputs": [],
   "source": [
    "# import pickle\n",
    "# pw = \"password\"    \n",
    "# pickle.dump(pw, open(\"pw.pickle\", 'wb'))\n",
    "# pw = pickle.load(open('pw.pickle', 'rb'))"
   ]
  },
  {
   "cell_type": "code",
   "execution_count": 290,
   "metadata": {},
   "outputs": [
    {
     "data": {
      "text/plain": [
       "(235, b'2.7.0 Accepted')"
      ]
     },
     "execution_count": 290,
     "metadata": {},
     "output_type": "execute_result"
    }
   ],
   "source": [
    "# GMAIL 메일 설정\n",
    "smtp_gmail = smtplib.SMTP('smtp.gmail.com', 587)\n",
    "\n",
    "# 서버 연결을 설정하는 단계\n",
    "smtp_gmail.ehlo()\n",
    " \n",
    "# 연결을 암호화\n",
    "smtp_gmail.starttls()\n",
    " \n",
    "#로그인 아이디 / 앱 비밀번호\n",
    "# userid = \"xxxxxxxx\"\n",
    "# userpw = \"xxxxxxxxxxxxxxxx\"\n",
    "smtp_gmail.login(userid, userpw)"
   ]
  },
  {
   "cell_type": "markdown",
   "metadata": {},
   "source": [
    "### 3. 수신자 목록 정의 및 불러오기"
   ]
  },
  {
   "cell_type": "code",
   "execution_count": 115,
   "metadata": {},
   "outputs": [],
   "source": [
    "# 저장된 csv 파일 불러오기\n",
    "# emaillist = pd.read_csv(\"./emailaddress.csv\", encoding='ms949')\n",
    "# emaillist\n",
    "# 이메일 주소정보 리스트 변환\n",
    "# to = emaillist['이메일'].tolist()\n",
    "# to\n",
    "\n",
    "to = [\"haiteam@kopo.ac.kr\", \"haiteam@naver.com\"]"
   ]
  },
  {
   "cell_type": "markdown",
   "metadata": {},
   "source": [
    "### 4. 메일전송"
   ]
  },
  {
   "cell_type": "code",
   "execution_count": 120,
   "metadata": {},
   "outputs": [],
   "source": [
    "msg=EmailMessage()\n",
    " \n",
    "# 제목 입력\n",
    "msg['Subject']=\"퀴즈 정보\"\n",
    " \n",
    "# 내용 입력\n",
    "msg.set_content(\"퀴즈정보\")\n",
    " \n",
    "# 보내는 사람\n",
    "msg['From']='haiteamm@gmail.com'\n",
    " \n",
    "# 받는 사람\n",
    "msg['To'] = \",\".join(to)\n",
    "\n",
    "# 첨부파일 추가\n",
    "file='0318_오후2.png'\n",
    "fp = open(file,'rb')\n",
    "file_data=fp.read()\n",
    "msg.add_attachment(file_data,\n",
    "                   maintype='text',\n",
    "                   subtype='plain',\n",
    "                   filename=file)\n",
    "file2='link_scraping_result.csv'\n",
    "fp = open(file,'rb')\n",
    "file_data=fp.read()\n",
    "msg.add_attachment(file_data,\n",
    "                   maintype='text',\n",
    "                   subtype='plain',\n",
    "                   filename=file2)\n",
    "# 메일 전송\n",
    "smtp_gmail.send_message(msg)\n",
    "smtp_gmail.close()"
   ]
  },
  {
   "cell_type": "markdown",
   "metadata": {},
   "source": [
    "# 참조. 프로젝트 실습"
   ]
  },
  {
   "cell_type": "markdown",
   "metadata": {},
   "source": [
    "### 2.크롬 브라우저 설정"
   ]
  },
  {
   "cell_type": "markdown",
   "metadata": {},
   "source": [
    "### 3. 네이버 로그인"
   ]
  },
  {
   "cell_type": "markdown",
   "metadata": {},
   "source": [
    "### 4. 카페 접속"
   ]
  },
  {
   "cell_type": "markdown",
   "metadata": {},
   "source": [
    "### 5. 검색어 타입 및 프레임 전환"
   ]
  },
  {
   "cell_type": "markdown",
   "metadata": {},
   "source": [
    "### 6. 페이지 크롤링"
   ]
  },
  {
   "cell_type": "markdown",
   "metadata": {},
   "source": [
    "# [실습] 쿠팡 셀레니움 실습"
   ]
  }
 ],
 "metadata": {
  "kernelspec": {
   "display_name": "Python 3",
   "language": "python",
   "name": "python3"
  },
  "language_info": {
   "codemirror_mode": {
    "name": "ipython",
    "version": 3
   },
   "file_extension": ".py",
   "mimetype": "text/x-python",
   "name": "python",
   "nbconvert_exporter": "python",
   "pygments_lexer": "ipython3",
   "version": "3.7.6"
  }
 },
 "nbformat": 4,
 "nbformat_minor": 4
}
