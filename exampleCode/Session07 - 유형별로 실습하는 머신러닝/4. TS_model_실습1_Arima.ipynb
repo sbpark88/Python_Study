{
 "cells": [
  {
   "cell_type": "code",
   "execution_count": 1,
   "metadata": {},
   "outputs": [],
   "source": [
    "import pandas as pd\n",
    "from pandas import datetime\n",
    "from sqlalchemy import create_engine \n",
    "from statsmodels.tsa.arima_model import ARIMA\n",
    "from matplotlib import pyplot as plt\n",
    "from sklearn.metrics import mean_squared_error\n",
    "from sklearn.metrics import mean_absolute_error"
   ]
  },
  {
   "cell_type": "markdown",
   "metadata": {},
   "source": [
    "### 1. 데이터불러오기"
   ]
  },
  {
   "cell_type": "code",
   "execution_count": 2,
   "metadata": {},
   "outputs": [
    {
     "data": {
      "text/html": [
       "<div>\n",
       "<style scoped>\n",
       "    .dataframe tbody tr th:only-of-type {\n",
       "        vertical-align: middle;\n",
       "    }\n",
       "\n",
       "    .dataframe tbody tr th {\n",
       "        vertical-align: top;\n",
       "    }\n",
       "\n",
       "    .dataframe thead th {\n",
       "        text-align: right;\n",
       "    }\n",
       "</style>\n",
       "<table border=\"1\" class=\"dataframe\">\n",
       "  <thead>\n",
       "    <tr style=\"text-align: right;\">\n",
       "      <th></th>\n",
       "      <th>REGIONID</th>\n",
       "      <th>PRODUCTGROUP</th>\n",
       "      <th>PRODUCT</th>\n",
       "      <th>ITEM</th>\n",
       "      <th>YEARWEEK</th>\n",
       "      <th>YEAR</th>\n",
       "      <th>WEEK</th>\n",
       "      <th>QTY</th>\n",
       "      <th>HOLIDAY</th>\n",
       "      <th>HCLUS</th>\n",
       "      <th>PROMOTION</th>\n",
       "      <th>PRO_PERCENT</th>\n",
       "    </tr>\n",
       "  </thead>\n",
       "  <tbody>\n",
       "    <tr>\n",
       "      <td>0</td>\n",
       "      <td>A01</td>\n",
       "      <td>PG01</td>\n",
       "      <td>P01</td>\n",
       "      <td>ITEM001</td>\n",
       "      <td>201538</td>\n",
       "      <td>2015</td>\n",
       "      <td>38</td>\n",
       "      <td>1</td>\n",
       "      <td>N</td>\n",
       "      <td>4</td>\n",
       "      <td>N</td>\n",
       "      <td>0.0</td>\n",
       "    </tr>\n",
       "    <tr>\n",
       "      <td>1</td>\n",
       "      <td>A01</td>\n",
       "      <td>PG01</td>\n",
       "      <td>P01</td>\n",
       "      <td>ITEM001</td>\n",
       "      <td>201548</td>\n",
       "      <td>2015</td>\n",
       "      <td>48</td>\n",
       "      <td>1</td>\n",
       "      <td>Y</td>\n",
       "      <td>0</td>\n",
       "      <td>N</td>\n",
       "      <td>0.0</td>\n",
       "    </tr>\n",
       "    <tr>\n",
       "      <td>2</td>\n",
       "      <td>A01</td>\n",
       "      <td>PG01</td>\n",
       "      <td>P01</td>\n",
       "      <td>ITEM001</td>\n",
       "      <td>201549</td>\n",
       "      <td>2015</td>\n",
       "      <td>49</td>\n",
       "      <td>2</td>\n",
       "      <td>Y</td>\n",
       "      <td>0</td>\n",
       "      <td>N</td>\n",
       "      <td>0.0</td>\n",
       "    </tr>\n",
       "    <tr>\n",
       "      <td>3</td>\n",
       "      <td>A01</td>\n",
       "      <td>PG01</td>\n",
       "      <td>P01</td>\n",
       "      <td>ITEM002</td>\n",
       "      <td>201526</td>\n",
       "      <td>2015</td>\n",
       "      <td>26</td>\n",
       "      <td>1</td>\n",
       "      <td>Y</td>\n",
       "      <td>1</td>\n",
       "      <td>N</td>\n",
       "      <td>0.0</td>\n",
       "    </tr>\n",
       "    <tr>\n",
       "      <td>4</td>\n",
       "      <td>A01</td>\n",
       "      <td>PG01</td>\n",
       "      <td>P01</td>\n",
       "      <td>ITEM002</td>\n",
       "      <td>201532</td>\n",
       "      <td>2015</td>\n",
       "      <td>32</td>\n",
       "      <td>1</td>\n",
       "      <td>N</td>\n",
       "      <td>4</td>\n",
       "      <td>N</td>\n",
       "      <td>0.0</td>\n",
       "    </tr>\n",
       "  </tbody>\n",
       "</table>\n",
       "</div>"
      ],
      "text/plain": [
       "  REGIONID PRODUCTGROUP PRODUCT     ITEM  YEARWEEK  YEAR  WEEK  QTY HOLIDAY  \\\n",
       "0      A01         PG01     P01  ITEM001    201538  2015    38    1       N   \n",
       "1      A01         PG01     P01  ITEM001    201548  2015    48    1       Y   \n",
       "2      A01         PG01     P01  ITEM001    201549  2015    49    2       Y   \n",
       "3      A01         PG01     P01  ITEM002    201526  2015    26    1       Y   \n",
       "4      A01         PG01     P01  ITEM002    201532  2015    32    1       N   \n",
       "\n",
       "   HCLUS PROMOTION  PRO_PERCENT  \n",
       "0      4         N          0.0  \n",
       "1      0         N          0.0  \n",
       "2      0         N          0.0  \n",
       "3      1         N          0.0  \n",
       "4      4         N          0.0  "
      ]
     },
     "execution_count": 2,
     "metadata": {},
     "output_type": "execute_result"
    }
   ],
   "source": [
    "#CSV 파일 불러오기\n",
    "customerData = pd.read_csv('KOPO_DECISION_TREE_ALL_NEW.csv')\n",
    "# 컬럼해더 재정의\n",
    "customerData.columns = customerData.columns.str.upper()\n",
    "# 데이터 VIEW\n",
    "customerData.head()"
   ]
  },
  {
   "cell_type": "markdown",
   "metadata": {},
   "source": [
    "### 2. 데이터 필터 및 정렬"
   ]
  },
  {
   "cell_type": "code",
   "execution_count": 3,
   "metadata": {},
   "outputs": [],
   "source": [
    "# 컬럼삭제\n",
    "del(customerData[\"HCLUS\"])"
   ]
  },
  {
   "cell_type": "code",
   "execution_count": 4,
   "metadata": {},
   "outputs": [],
   "source": [
    "# 오름차순정렬\n",
    "customerData.sort_values([\"REGIONID\",\"PRODUCTGROUP\",\"PRODUCT\",\"ITEM\",\"YEARWEEK\"], ascending=True,inplace=True)\n",
    "#인덱스 초기화\n",
    "customerData.reset_index(drop=True,inplace=True)"
   ]
  },
  {
   "cell_type": "code",
   "execution_count": 5,
   "metadata": {},
   "outputs": [],
   "source": [
    "#뉴메릭 타입으로 변환\n",
    "a = {\"HOLIDAY\" : {\"Y\" : 1 , \"N\" : 0}}\n",
    "customerData.replace(a,inplace =True)"
   ]
  },
  {
   "cell_type": "code",
   "execution_count": 6,
   "metadata": {},
   "outputs": [],
   "source": [
    "datafullyearweek = 146\n",
    "#그룹바이 필터  -- 146주가 다포함된 데이터만 추출\n",
    "#그룹바이 끝날때마다 그룹이 되어 인덱스가 변하기때문에 reset_index를 항상해줘야함\n",
    "customerData1=customerData.groupby(by = [\"REGIONID\",\"PRODUCTGROUP\",\"PRODUCT\",\"ITEM\"]).filter(lambda x: x[\"YEARWEEK\"].count()==datafullyearweek).reset_index(drop=True)"
   ]
  },
  {
   "cell_type": "code",
   "execution_count": 7,
   "metadata": {},
   "outputs": [],
   "source": [
    "#53주차 제거\n",
    "customerData1 = customerData1[customerData1[\"WEEK\"] != 53].reset_index(drop =True)"
   ]
  },
  {
   "cell_type": "code",
   "execution_count": 8,
   "metadata": {},
   "outputs": [],
   "source": [
    "# 상관계수 0.5 이상의 데이터 추출\n",
    "customerData2=customerData1.groupby(by = [\"REGIONID\",\"PRODUCTGROUP\",\"PRODUCT\",\"ITEM\"]).\\\n",
    "              filter(lambda x: x[\"QTY\"].corr(x[\"PRO_PERCENT\"]) >= 0.5 and x[\"QTY\"].corr(x[\"HOLIDAY\"]) >= 0.5).reset_index(drop=True)"
   ]
  },
  {
   "cell_type": "markdown",
   "metadata": {},
   "source": [
    "### 3. 머신러닝 Arima 적용"
   ]
  },
  {
   "cell_type": "code",
   "execution_count": 9,
   "metadata": {},
   "outputs": [],
   "source": [
    "planyearweek = 201700\n",
    "def sub_function(data):\n",
    "    #그룹바이 다음에 바로 apply(sub_function)이 들어갈거기때문에 맨첫줄에 reset_index \n",
    "    data.reset_index(inplace=True,drop=True)\n",
    "    ########################################2017년기준으로 train ,test 데이터 분리##\n",
    "    trainData = data[data[\"YEARWEEK\"].astype(int)<planyearweek].reset_index(drop = True)\n",
    "    testData = data[data[\"YEARWEEK\"].astype(int)>=planyearweek].reset_index(drop = True)\n",
    "    test = testData[\"QTY\"].values\n",
    "    train = trainData[\"QTY\"].values\n",
    "    history = [x for x in train]\n",
    "    fcstARIMA = list()\n",
    "    #################ARIMA 모델적용 ################\n",
    "    for t in range(len(test)):\n",
    "        model = ARIMA(history, order=(4,1,0))\n",
    "        model_fit = model.fit(disp=0)\n",
    "        output = model_fit.forecast()\n",
    "        yhat = output[0]\n",
    "        fcstARIMA.append(yhat)\n",
    "        obs = test[t]\n",
    "        history.append(obs)\n",
    "    testData[\"PREDICT\"] = fcstARIMA\n",
    "    return testData"
   ]
  },
  {
   "cell_type": "code",
   "execution_count": 10,
   "metadata": {},
   "outputs": [],
   "source": [
    "# arima는 feature값이 없으므로 예측 fit적용할때 예측할 갯수를 주지만 feature이있는 머신러닝 ex)decisiontree,linearRegression같은경우는\n",
    "# 예측fit적용시 testData를 넣어준다."
   ]
  },
  {
   "cell_type": "code",
   "execution_count": 11,
   "metadata": {},
   "outputs": [
    {
     "name": "stderr",
     "output_type": "stream",
     "text": [
      "C:\\Users\\kopo\\Anaconda3\\lib\\site-packages\\statsmodels\\base\\model.py:512: ConvergenceWarning: Maximum Likelihood optimization failed to converge. Check mle_retvals\n",
      "  \"Check mle_retvals\", ConvergenceWarning)\n"
     ]
    }
   ],
   "source": [
    "newcustomerData = customerData1.groupby([\"REGIONID\",\"PRODUCTGROUP\",\"PRODUCT\",\"ITEM\"]).apply(sub_function).reset_index(drop=True)"
   ]
  },
  {
   "cell_type": "code",
   "execution_count": 12,
   "metadata": {
    "scrolled": true
   },
   "outputs": [],
   "source": [
    "#예측값들이 list형태로되어있어 타입변환\n",
    "newcustomerData[\"PREDICT\"] = newcustomerData[\"PREDICT\"].astype(float)"
   ]
  },
  {
   "cell_type": "code",
   "execution_count": 13,
   "metadata": {
    "scrolled": true
   },
   "outputs": [
    {
     "data": {
      "text/html": [
       "<div>\n",
       "<style scoped>\n",
       "    .dataframe tbody tr th:only-of-type {\n",
       "        vertical-align: middle;\n",
       "    }\n",
       "\n",
       "    .dataframe tbody tr th {\n",
       "        vertical-align: top;\n",
       "    }\n",
       "\n",
       "    .dataframe thead th {\n",
       "        text-align: right;\n",
       "    }\n",
       "</style>\n",
       "<table border=\"1\" class=\"dataframe\">\n",
       "  <thead>\n",
       "    <tr style=\"text-align: right;\">\n",
       "      <th></th>\n",
       "      <th>REGIONID</th>\n",
       "      <th>PRODUCTGROUP</th>\n",
       "      <th>PRODUCT</th>\n",
       "      <th>ITEM</th>\n",
       "      <th>YEARWEEK</th>\n",
       "      <th>YEAR</th>\n",
       "      <th>WEEK</th>\n",
       "      <th>QTY</th>\n",
       "      <th>HOLIDAY</th>\n",
       "      <th>PROMOTION</th>\n",
       "      <th>PRO_PERCENT</th>\n",
       "      <th>PREDICT</th>\n",
       "    </tr>\n",
       "  </thead>\n",
       "  <tbody>\n",
       "    <tr>\n",
       "      <td>0</td>\n",
       "      <td>A01</td>\n",
       "      <td>PG02</td>\n",
       "      <td>P03</td>\n",
       "      <td>ITEM043</td>\n",
       "      <td>201701</td>\n",
       "      <td>2017</td>\n",
       "      <td>1</td>\n",
       "      <td>470</td>\n",
       "      <td>1</td>\n",
       "      <td>Y</td>\n",
       "      <td>0.240964</td>\n",
       "      <td>727.338587</td>\n",
       "    </tr>\n",
       "    <tr>\n",
       "      <td>1</td>\n",
       "      <td>A01</td>\n",
       "      <td>PG02</td>\n",
       "      <td>P03</td>\n",
       "      <td>ITEM043</td>\n",
       "      <td>201702</td>\n",
       "      <td>2017</td>\n",
       "      <td>2</td>\n",
       "      <td>293</td>\n",
       "      <td>0</td>\n",
       "      <td>Y</td>\n",
       "      <td>0.240964</td>\n",
       "      <td>386.363252</td>\n",
       "    </tr>\n",
       "    <tr>\n",
       "      <td>2</td>\n",
       "      <td>A01</td>\n",
       "      <td>PG02</td>\n",
       "      <td>P03</td>\n",
       "      <td>ITEM043</td>\n",
       "      <td>201703</td>\n",
       "      <td>2017</td>\n",
       "      <td>3</td>\n",
       "      <td>285</td>\n",
       "      <td>1</td>\n",
       "      <td>Y</td>\n",
       "      <td>0.201205</td>\n",
       "      <td>351.491261</td>\n",
       "    </tr>\n",
       "    <tr>\n",
       "      <td>3</td>\n",
       "      <td>A01</td>\n",
       "      <td>PG02</td>\n",
       "      <td>P03</td>\n",
       "      <td>ITEM043</td>\n",
       "      <td>201704</td>\n",
       "      <td>2017</td>\n",
       "      <td>4</td>\n",
       "      <td>304</td>\n",
       "      <td>0</td>\n",
       "      <td>Y</td>\n",
       "      <td>0.201205</td>\n",
       "      <td>286.519540</td>\n",
       "    </tr>\n",
       "    <tr>\n",
       "      <td>4</td>\n",
       "      <td>A01</td>\n",
       "      <td>PG02</td>\n",
       "      <td>P03</td>\n",
       "      <td>ITEM043</td>\n",
       "      <td>201705</td>\n",
       "      <td>2017</td>\n",
       "      <td>5</td>\n",
       "      <td>366</td>\n",
       "      <td>0</td>\n",
       "      <td>Y</td>\n",
       "      <td>0.320482</td>\n",
       "      <td>302.658041</td>\n",
       "    </tr>\n",
       "    <tr>\n",
       "      <td>...</td>\n",
       "      <td>...</td>\n",
       "      <td>...</td>\n",
       "      <td>...</td>\n",
       "      <td>...</td>\n",
       "      <td>...</td>\n",
       "      <td>...</td>\n",
       "      <td>...</td>\n",
       "      <td>...</td>\n",
       "      <td>...</td>\n",
       "      <td>...</td>\n",
       "      <td>...</td>\n",
       "      <td>...</td>\n",
       "    </tr>\n",
       "    <tr>\n",
       "      <td>2127</td>\n",
       "      <td>A01</td>\n",
       "      <td>PG05</td>\n",
       "      <td>P15</td>\n",
       "      <td>ITEM376</td>\n",
       "      <td>201737</td>\n",
       "      <td>2017</td>\n",
       "      <td>37</td>\n",
       "      <td>226</td>\n",
       "      <td>0</td>\n",
       "      <td>Y</td>\n",
       "      <td>0.271214</td>\n",
       "      <td>212.787674</td>\n",
       "    </tr>\n",
       "    <tr>\n",
       "      <td>2128</td>\n",
       "      <td>A01</td>\n",
       "      <td>PG05</td>\n",
       "      <td>P15</td>\n",
       "      <td>ITEM376</td>\n",
       "      <td>201738</td>\n",
       "      <td>2017</td>\n",
       "      <td>38</td>\n",
       "      <td>218</td>\n",
       "      <td>0</td>\n",
       "      <td>Y</td>\n",
       "      <td>0.271214</td>\n",
       "      <td>234.312806</td>\n",
       "    </tr>\n",
       "    <tr>\n",
       "      <td>2129</td>\n",
       "      <td>A01</td>\n",
       "      <td>PG05</td>\n",
       "      <td>P15</td>\n",
       "      <td>ITEM376</td>\n",
       "      <td>201739</td>\n",
       "      <td>2017</td>\n",
       "      <td>39</td>\n",
       "      <td>151</td>\n",
       "      <td>0</td>\n",
       "      <td>Y</td>\n",
       "      <td>0.245307</td>\n",
       "      <td>224.835843</td>\n",
       "    </tr>\n",
       "    <tr>\n",
       "      <td>2130</td>\n",
       "      <td>A01</td>\n",
       "      <td>PG05</td>\n",
       "      <td>P15</td>\n",
       "      <td>ITEM376</td>\n",
       "      <td>201740</td>\n",
       "      <td>2017</td>\n",
       "      <td>40</td>\n",
       "      <td>220</td>\n",
       "      <td>0</td>\n",
       "      <td>Y</td>\n",
       "      <td>0.245307</td>\n",
       "      <td>156.430390</td>\n",
       "    </tr>\n",
       "    <tr>\n",
       "      <td>2131</td>\n",
       "      <td>A01</td>\n",
       "      <td>PG05</td>\n",
       "      <td>P15</td>\n",
       "      <td>ITEM376</td>\n",
       "      <td>201741</td>\n",
       "      <td>2017</td>\n",
       "      <td>41</td>\n",
       "      <td>226</td>\n",
       "      <td>1</td>\n",
       "      <td>Y</td>\n",
       "      <td>0.245307</td>\n",
       "      <td>259.337406</td>\n",
       "    </tr>\n",
       "  </tbody>\n",
       "</table>\n",
       "<p>2132 rows × 12 columns</p>\n",
       "</div>"
      ],
      "text/plain": [
       "     REGIONID PRODUCTGROUP PRODUCT     ITEM  YEARWEEK  YEAR  WEEK  QTY  \\\n",
       "0         A01         PG02     P03  ITEM043    201701  2017     1  470   \n",
       "1         A01         PG02     P03  ITEM043    201702  2017     2  293   \n",
       "2         A01         PG02     P03  ITEM043    201703  2017     3  285   \n",
       "3         A01         PG02     P03  ITEM043    201704  2017     4  304   \n",
       "4         A01         PG02     P03  ITEM043    201705  2017     5  366   \n",
       "...       ...          ...     ...      ...       ...   ...   ...  ...   \n",
       "2127      A01         PG05     P15  ITEM376    201737  2017    37  226   \n",
       "2128      A01         PG05     P15  ITEM376    201738  2017    38  218   \n",
       "2129      A01         PG05     P15  ITEM376    201739  2017    39  151   \n",
       "2130      A01         PG05     P15  ITEM376    201740  2017    40  220   \n",
       "2131      A01         PG05     P15  ITEM376    201741  2017    41  226   \n",
       "\n",
       "      HOLIDAY PROMOTION  PRO_PERCENT     PREDICT  \n",
       "0           1         Y     0.240964  727.338587  \n",
       "1           0         Y     0.240964  386.363252  \n",
       "2           1         Y     0.201205  351.491261  \n",
       "3           0         Y     0.201205  286.519540  \n",
       "4           0         Y     0.320482  302.658041  \n",
       "...       ...       ...          ...         ...  \n",
       "2127        0         Y     0.271214  212.787674  \n",
       "2128        0         Y     0.271214  234.312806  \n",
       "2129        0         Y     0.245307  224.835843  \n",
       "2130        0         Y     0.245307  156.430390  \n",
       "2131        1         Y     0.245307  259.337406  \n",
       "\n",
       "[2132 rows x 12 columns]"
      ]
     },
     "execution_count": 13,
     "metadata": {},
     "output_type": "execute_result"
    }
   ],
   "source": [
    "newcustomerData"
   ]
  },
  {
   "cell_type": "markdown",
   "metadata": {},
   "source": [
    "### 4. 그룹바이 디버깅 시각화"
   ]
  },
  {
   "cell_type": "code",
   "execution_count": 14,
   "metadata": {},
   "outputs": [],
   "source": [
    "groupNewcustomerData = newcustomerData.groupby([\"REGIONID\",\"PRODUCTGROUP\",\"PRODUCT\",\"ITEM\"])"
   ]
  },
  {
   "cell_type": "code",
   "execution_count": 15,
   "metadata": {},
   "outputs": [
    {
     "data": {
      "text/plain": [
       "52"
      ]
     },
     "execution_count": 15,
     "metadata": {},
     "output_type": "execute_result"
    }
   ],
   "source": [
    "len(groupNewcustomerData)"
   ]
  },
  {
   "cell_type": "code",
   "execution_count": 16,
   "metadata": {},
   "outputs": [],
   "source": [
    "#14개의 그룹중 첫번째 그룹을 가져옴\n",
    "eachGroup = groupNewcustomerData.get_group(list(groupNewcustomerData.groups)[0])"
   ]
  },
  {
   "cell_type": "code",
   "execution_count": 17,
   "metadata": {},
   "outputs": [
    {
     "data": {
      "text/plain": [
       "[<matplotlib.lines.Line2D at 0x20195e3ba88>]"
      ]
     },
     "execution_count": 17,
     "metadata": {},
     "output_type": "execute_result"
    },
    {
     "data": {
      "image/png": "[encoded data removed]",
      "text/plain": [
       "<Figure size 432x288 with 1 Axes>"
      ]
     },
     "metadata": {
      "needs_background": "light"
     },
     "output_type": "display_data"
    }
   ],
   "source": [
    "#실제값과 예측값 시각화 비교\n",
    "plt.plot(eachGroup['YEARWEEK'],eachGroup['QTY'])\n",
    "plt.plot(eachGroup['YEARWEEK'],eachGroup['PREDICT'])"
   ]
  },
  {
   "cell_type": "markdown",
   "metadata": {},
   "source": [
    "### 5. 정확도 측정"
   ]
  },
  {
   "cell_type": "code",
   "execution_count": 18,
   "metadata": {},
   "outputs": [
    {
     "data": {
      "text/plain": [
       "16306.625872012004"
      ]
     },
     "execution_count": 18,
     "metadata": {},
     "output_type": "execute_result"
    }
   ],
   "source": [
    "mean_squared_error(newcustomerData['QTY'], newcustomerData['PREDICT'])\n"
   ]
  },
  {
   "cell_type": "code",
   "execution_count": 19,
   "metadata": {},
   "outputs": [
    {
     "data": {
      "text/plain": [
       "62.264991667932655"
      ]
     },
     "execution_count": 19,
     "metadata": {},
     "output_type": "execute_result"
    }
   ],
   "source": [
    "mean_absolute_error(newcustomerData['QTY'], newcustomerData['PREDICT'])"
   ]
  },
  {
   "cell_type": "markdown",
   "metadata": {},
   "source": [
    "### 6. 데이터 CSV파일로 내보내기"
   ]
  },
  {
   "cell_type": "code",
   "execution_count": 20,
   "metadata": {},
   "outputs": [],
   "source": [
    "#new_customerData.to_csv('arima.csv',index = False)"
   ]
  }
 ],
 "metadata": {
  "kernelspec": {
   "display_name": "Python 3",
   "language": "python",
   "name": "python3"
  },
  "language_info": {
   "codemirror_mode": {
    "name": "ipython",
    "version": 3
   },
   "file_extension": ".py",
   "mimetype": "text/x-python",
   "name": "python",
   "nbconvert_exporter": "python",
   "pygments_lexer": "ipython3",
   "version": "3.7.4"
  }
 },
 "nbformat": 4,
 "nbformat_minor": 4
}
